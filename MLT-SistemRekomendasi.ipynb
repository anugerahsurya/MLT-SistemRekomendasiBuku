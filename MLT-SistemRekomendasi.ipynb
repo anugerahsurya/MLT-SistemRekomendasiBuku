{
 "cells": [
  {
   "cell_type": "markdown",
   "metadata": {},
   "source": [
    "# 0. Import Library"
   ]
  },
  {
   "cell_type": "code",
   "execution_count": null,
   "metadata": {
    "execution": {
     "iopub.execute_input": "2025-06-05T17:59:30.097846Z",
     "iopub.status.busy": "2025-06-05T17:59:30.097353Z",
     "iopub.status.idle": "2025-06-05T17:59:30.929193Z",
     "shell.execute_reply": "2025-06-05T17:59:30.928655Z",
     "shell.execute_reply.started": "2025-06-05T17:59:30.097824Z"
    },
    "trusted": true
   },
   "outputs": [],
   "source": [
    "import numpy as np\n",
    "import pandas as pd\n",
    "import random\n",
    "\n",
    "from zipfile import ZipFile\n",
    "import tensorflow as tf\n",
    "from tensorflow import keras\n",
    "from tensorflow.keras import layers, regularizers, Model\n",
    "\n",
    "from pathlib import Path\n",
    "import matplotlib.pyplot as plt\n",
    "\n",
    "import re\n",
    "from sklearn.feature_extraction.text import TfidfVectorizer\n",
    "from sklearn.metrics.pairwise import cosine_similarity\n",
    "\n",
    "from sklearn.metrics import mean_squared_error, root_mean_squared_error\n",
    "import optuna\n",
    "from catboost import CatBoostRegressor"
   ]
  },
  {
   "cell_type": "markdown",
   "metadata": {},
   "source": [
    "# 1. Business Understanding"
   ]
  },
  {
   "cell_type": "markdown",
   "metadata": {},
   "source": [
    "# 2. Data Understanding"
   ]
  },
  {
   "cell_type": "markdown",
   "metadata": {},
   "source": [
    "## 2.1 Load Data dan Cetak Atribut Tabel"
   ]
  },
  {
   "cell_type": "code",
   "execution_count": 7,
   "metadata": {
    "execution": {
     "iopub.execute_input": "2025-06-05T17:59:34.149407Z",
     "iopub.status.busy": "2025-06-05T17:59:34.148602Z",
     "iopub.status.idle": "2025-06-05T17:59:38.181451Z",
     "shell.execute_reply": "2025-06-05T17:59:38.180662Z",
     "shell.execute_reply.started": "2025-06-05T17:59:34.149367Z"
    },
    "trusted": true
   },
   "outputs": [
    {
     "name": "stderr",
     "output_type": "stream",
     "text": [
      "/tmp/ipykernel_35/3745290253.py:2: DtypeWarning: Columns (3) have mixed types. Specify dtype option on import or set low_memory=False.\n",
      "  dataBuku = pd.read_csv(\"/kaggle/input/book-reccomendation-dataset/Data/Books.csv\")\n"
     ]
    },
    {
     "name": "stdout",
     "output_type": "stream",
     "text": [
      "<class 'pandas.core.frame.DataFrame'>\n",
      "RangeIndex: 278858 entries, 0 to 278857\n",
      "Data columns (total 3 columns):\n",
      " #   Column    Non-Null Count   Dtype  \n",
      "---  ------    --------------   -----  \n",
      " 0   User-ID   278858 non-null  int64  \n",
      " 1   Location  278858 non-null  object \n",
      " 2   Age       168096 non-null  float64\n",
      "dtypes: float64(1), int64(1), object(1)\n",
      "memory usage: 6.4+ MB\n",
      "<class 'pandas.core.frame.DataFrame'>\n",
      "RangeIndex: 271360 entries, 0 to 271359\n",
      "Data columns (total 8 columns):\n",
      " #   Column               Non-Null Count   Dtype \n",
      "---  ------               --------------   ----- \n",
      " 0   ISBN                 271360 non-null  object\n",
      " 1   Book-Title           271360 non-null  object\n",
      " 2   Book-Author          271358 non-null  object\n",
      " 3   Year-Of-Publication  271360 non-null  object\n",
      " 4   Publisher            271358 non-null  object\n",
      " 5   Image-URL-S          271360 non-null  object\n",
      " 6   Image-URL-M          271360 non-null  object\n",
      " 7   Image-URL-L          271357 non-null  object\n",
      "dtypes: object(8)\n",
      "memory usage: 16.6+ MB\n",
      "<class 'pandas.core.frame.DataFrame'>\n",
      "RangeIndex: 1149780 entries, 0 to 1149779\n",
      "Data columns (total 3 columns):\n",
      " #   Column       Non-Null Count    Dtype \n",
      "---  ------       --------------    ----- \n",
      " 0   User-ID      1149780 non-null  int64 \n",
      " 1   ISBN         1149780 non-null  object\n",
      " 2   Book-Rating  1149780 non-null  int64 \n",
      "dtypes: int64(2), object(1)\n",
      "memory usage: 26.3+ MB\n"
     ]
    }
   ],
   "source": [
    "dataUser = pd.read_csv(\"/kaggle/input/book-reccomendation-dataset/Data/Users.csv\")\n",
    "dataBuku = pd.read_csv(\"/kaggle/input/book-reccomendation-dataset/Data/Books.csv\")\n",
    "dataRating = pd.read_csv(\"/kaggle/input/book-reccomendation-dataset/Data/Ratings.csv\")\n",
    "\n",
    "dataUser.info()\n",
    "dataBuku.info()\n",
    "dataRating.info()"
   ]
  },
  {
   "cell_type": "markdown",
   "metadata": {},
   "source": [
    "## 2.2 Identifikasi Karakteristik Data dan Cetak Ringkasan Statistik"
   ]
  },
  {
   "cell_type": "code",
   "execution_count": 8,
   "metadata": {
    "execution": {
     "iopub.execute_input": "2025-06-05T17:59:38.757182Z",
     "iopub.status.busy": "2025-06-05T17:59:38.756497Z",
     "iopub.status.idle": "2025-06-05T17:59:38.834889Z",
     "shell.execute_reply": "2025-06-05T17:59:38.834181Z",
     "shell.execute_reply.started": "2025-06-05T17:59:38.757157Z"
    },
    "trusted": true
   },
   "outputs": [
    {
     "name": "stdout",
     "output_type": "stream",
     "text": [
      "Banyak User :  278858\n",
      "Banyak Buku :  271360\n",
      "Banyak User yang Memberi Rating :  105283\n"
     ]
    }
   ],
   "source": [
    "dataUser = dataUser.rename(columns={\n",
    "    'User-ID': 'userID'\n",
    "})\n",
    "dataRating = dataRating.rename(columns={\n",
    "    'User-ID': 'userID'\n",
    "})\n",
    "\n",
    "print('Banyak User : ', len(dataUser.userID.unique()))\n",
    "print('Banyak Buku : ', len(dataBuku.ISBN.unique()))\n",
    "print('Banyak User yang Memberi Rating : ', len(dataRating.userID.unique()))"
   ]
  },
  {
   "cell_type": "markdown",
   "metadata": {},
   "source": [
    "## 2.3 Identifikasi Ringkasan Statistik Data"
   ]
  },
  {
   "cell_type": "markdown",
   "metadata": {},
   "source": [
    "### 2.3.1 Ringkasan Statistik Dataset Books"
   ]
  },
  {
   "cell_type": "code",
   "execution_count": 9,
   "metadata": {
    "execution": {
     "iopub.execute_input": "2025-06-05T17:59:42.283831Z",
     "iopub.status.busy": "2025-06-05T17:59:42.283099Z",
     "iopub.status.idle": "2025-06-05T17:59:42.622741Z",
     "shell.execute_reply": "2025-06-05T17:59:42.622017Z",
     "shell.execute_reply.started": "2025-06-05T17:59:42.283808Z"
    },
    "trusted": true
   },
   "outputs": [
    {
     "data": {
      "text/html": [
       "<div>\n",
       "<style scoped>\n",
       "    .dataframe tbody tr th:only-of-type {\n",
       "        vertical-align: middle;\n",
       "    }\n",
       "\n",
       "    .dataframe tbody tr th {\n",
       "        vertical-align: top;\n",
       "    }\n",
       "\n",
       "    .dataframe thead th {\n",
       "        text-align: right;\n",
       "    }\n",
       "</style>\n",
       "<table border=\"1\" class=\"dataframe\">\n",
       "  <thead>\n",
       "    <tr style=\"text-align: right;\">\n",
       "      <th></th>\n",
       "      <th>Book-Title</th>\n",
       "      <th>Book-Author</th>\n",
       "      <th>Year-Of-Publication</th>\n",
       "      <th>Publisher</th>\n",
       "    </tr>\n",
       "  </thead>\n",
       "  <tbody>\n",
       "    <tr>\n",
       "      <th>count</th>\n",
       "      <td>271360</td>\n",
       "      <td>271358</td>\n",
       "      <td>271360</td>\n",
       "      <td>271358</td>\n",
       "    </tr>\n",
       "    <tr>\n",
       "      <th>unique</th>\n",
       "      <td>242135</td>\n",
       "      <td>102022</td>\n",
       "      <td>202</td>\n",
       "      <td>16807</td>\n",
       "    </tr>\n",
       "    <tr>\n",
       "      <th>top</th>\n",
       "      <td>Selected Poems</td>\n",
       "      <td>Agatha Christie</td>\n",
       "      <td>2002</td>\n",
       "      <td>Harlequin</td>\n",
       "    </tr>\n",
       "    <tr>\n",
       "      <th>freq</th>\n",
       "      <td>27</td>\n",
       "      <td>632</td>\n",
       "      <td>13903</td>\n",
       "      <td>7535</td>\n",
       "    </tr>\n",
       "  </tbody>\n",
       "</table>\n",
       "</div>"
      ],
      "text/plain": [
       "            Book-Title      Book-Author  Year-Of-Publication  Publisher\n",
       "count           271360           271358               271360     271358\n",
       "unique          242135           102022                  202      16807\n",
       "top     Selected Poems  Agatha Christie                 2002  Harlequin\n",
       "freq                27              632                13903       7535"
      ]
     },
     "execution_count": 9,
     "metadata": {},
     "output_type": "execute_result"
    }
   ],
   "source": [
    "dataBuku.drop(columns=['Image-URL-S','Image-URL-M','Image-URL-L','ISBN']).describe(include='all')"
   ]
  },
  {
   "cell_type": "markdown",
   "metadata": {},
   "source": [
    "### 2.3.2 Ringkasan Statistik Dataset Ratings"
   ]
  },
  {
   "cell_type": "code",
   "execution_count": 11,
   "metadata": {
    "execution": {
     "iopub.execute_input": "2025-06-05T17:59:49.668794Z",
     "iopub.status.busy": "2025-06-05T17:59:49.668532Z",
     "iopub.status.idle": "2025-06-05T17:59:50.149358Z",
     "shell.execute_reply": "2025-06-05T17:59:50.148629Z",
     "shell.execute_reply.started": "2025-06-05T17:59:49.668776Z"
    },
    "trusted": true
   },
   "outputs": [
    {
     "name": "stderr",
     "output_type": "stream",
     "text": [
      "/usr/local/lib/python3.11/dist-packages/pandas/io/formats/format.py:1458: RuntimeWarning: invalid value encountered in greater\n",
      "  has_large_values = (abs_vals > 1e6).any()\n",
      "/usr/local/lib/python3.11/dist-packages/pandas/io/formats/format.py:1459: RuntimeWarning: invalid value encountered in less\n",
      "  has_small_values = ((abs_vals < 10 ** (-self.digits)) & (abs_vals > 0)).any()\n",
      "/usr/local/lib/python3.11/dist-packages/pandas/io/formats/format.py:1459: RuntimeWarning: invalid value encountered in greater\n",
      "  has_small_values = ((abs_vals < 10 ** (-self.digits)) & (abs_vals > 0)).any()\n"
     ]
    },
    {
     "data": {
      "text/html": [
       "<div>\n",
       "<style scoped>\n",
       "    .dataframe tbody tr th:only-of-type {\n",
       "        vertical-align: middle;\n",
       "    }\n",
       "\n",
       "    .dataframe tbody tr th {\n",
       "        vertical-align: top;\n",
       "    }\n",
       "\n",
       "    .dataframe thead th {\n",
       "        text-align: right;\n",
       "    }\n",
       "</style>\n",
       "<table border=\"1\" class=\"dataframe\">\n",
       "  <thead>\n",
       "    <tr style=\"text-align: right;\">\n",
       "      <th></th>\n",
       "      <th>ISBN</th>\n",
       "      <th>Book-Rating</th>\n",
       "    </tr>\n",
       "  </thead>\n",
       "  <tbody>\n",
       "    <tr>\n",
       "      <th>count</th>\n",
       "      <td>1149780</td>\n",
       "      <td>1.149780e+06</td>\n",
       "    </tr>\n",
       "    <tr>\n",
       "      <th>unique</th>\n",
       "      <td>340556</td>\n",
       "      <td>NaN</td>\n",
       "    </tr>\n",
       "    <tr>\n",
       "      <th>top</th>\n",
       "      <td>0971880107</td>\n",
       "      <td>NaN</td>\n",
       "    </tr>\n",
       "    <tr>\n",
       "      <th>freq</th>\n",
       "      <td>2502</td>\n",
       "      <td>NaN</td>\n",
       "    </tr>\n",
       "    <tr>\n",
       "      <th>mean</th>\n",
       "      <td>NaN</td>\n",
       "      <td>2.866950e+00</td>\n",
       "    </tr>\n",
       "    <tr>\n",
       "      <th>std</th>\n",
       "      <td>NaN</td>\n",
       "      <td>3.854184e+00</td>\n",
       "    </tr>\n",
       "    <tr>\n",
       "      <th>min</th>\n",
       "      <td>NaN</td>\n",
       "      <td>0.000000e+00</td>\n",
       "    </tr>\n",
       "    <tr>\n",
       "      <th>25%</th>\n",
       "      <td>NaN</td>\n",
       "      <td>0.000000e+00</td>\n",
       "    </tr>\n",
       "    <tr>\n",
       "      <th>50%</th>\n",
       "      <td>NaN</td>\n",
       "      <td>0.000000e+00</td>\n",
       "    </tr>\n",
       "    <tr>\n",
       "      <th>75%</th>\n",
       "      <td>NaN</td>\n",
       "      <td>7.000000e+00</td>\n",
       "    </tr>\n",
       "    <tr>\n",
       "      <th>max</th>\n",
       "      <td>NaN</td>\n",
       "      <td>1.000000e+01</td>\n",
       "    </tr>\n",
       "  </tbody>\n",
       "</table>\n",
       "</div>"
      ],
      "text/plain": [
       "              ISBN   Book-Rating\n",
       "count      1149780  1.149780e+06\n",
       "unique      340556           NaN\n",
       "top     0971880107           NaN\n",
       "freq          2502           NaN\n",
       "mean           NaN  2.866950e+00\n",
       "std            NaN  3.854184e+00\n",
       "min            NaN  0.000000e+00\n",
       "25%            NaN  0.000000e+00\n",
       "50%            NaN  0.000000e+00\n",
       "75%            NaN  7.000000e+00\n",
       "max            NaN  1.000000e+01"
      ]
     },
     "execution_count": 11,
     "metadata": {},
     "output_type": "execute_result"
    }
   ],
   "source": [
    "dataRating.drop(columns=['userID']).describe(include='all')"
   ]
  },
  {
   "cell_type": "markdown",
   "metadata": {},
   "source": [
    "### 2.3.3 Ringkasan Statistik Dataset Users"
   ]
  },
  {
   "cell_type": "code",
   "execution_count": 12,
   "metadata": {
    "execution": {
     "iopub.execute_input": "2025-06-05T17:59:57.926687Z",
     "iopub.status.busy": "2025-06-05T17:59:57.926439Z",
     "iopub.status.idle": "2025-06-05T17:59:58.012510Z",
     "shell.execute_reply": "2025-06-05T17:59:58.011811Z",
     "shell.execute_reply.started": "2025-06-05T17:59:57.926671Z"
    },
    "trusted": true
   },
   "outputs": [
    {
     "name": "stderr",
     "output_type": "stream",
     "text": [
      "/usr/local/lib/python3.11/dist-packages/pandas/io/formats/format.py:1458: RuntimeWarning: invalid value encountered in greater\n",
      "  has_large_values = (abs_vals > 1e6).any()\n",
      "/usr/local/lib/python3.11/dist-packages/pandas/io/formats/format.py:1459: RuntimeWarning: invalid value encountered in less\n",
      "  has_small_values = ((abs_vals < 10 ** (-self.digits)) & (abs_vals > 0)).any()\n",
      "/usr/local/lib/python3.11/dist-packages/pandas/io/formats/format.py:1459: RuntimeWarning: invalid value encountered in greater\n",
      "  has_small_values = ((abs_vals < 10 ** (-self.digits)) & (abs_vals > 0)).any()\n"
     ]
    },
    {
     "data": {
      "text/html": [
       "<div>\n",
       "<style scoped>\n",
       "    .dataframe tbody tr th:only-of-type {\n",
       "        vertical-align: middle;\n",
       "    }\n",
       "\n",
       "    .dataframe tbody tr th {\n",
       "        vertical-align: top;\n",
       "    }\n",
       "\n",
       "    .dataframe thead th {\n",
       "        text-align: right;\n",
       "    }\n",
       "</style>\n",
       "<table border=\"1\" class=\"dataframe\">\n",
       "  <thead>\n",
       "    <tr style=\"text-align: right;\">\n",
       "      <th></th>\n",
       "      <th>Location</th>\n",
       "      <th>Age</th>\n",
       "    </tr>\n",
       "  </thead>\n",
       "  <tbody>\n",
       "    <tr>\n",
       "      <th>count</th>\n",
       "      <td>278858</td>\n",
       "      <td>168096.000000</td>\n",
       "    </tr>\n",
       "    <tr>\n",
       "      <th>unique</th>\n",
       "      <td>57339</td>\n",
       "      <td>NaN</td>\n",
       "    </tr>\n",
       "    <tr>\n",
       "      <th>top</th>\n",
       "      <td>london, england, united kingdom</td>\n",
       "      <td>NaN</td>\n",
       "    </tr>\n",
       "    <tr>\n",
       "      <th>freq</th>\n",
       "      <td>2506</td>\n",
       "      <td>NaN</td>\n",
       "    </tr>\n",
       "    <tr>\n",
       "      <th>mean</th>\n",
       "      <td>NaN</td>\n",
       "      <td>34.751434</td>\n",
       "    </tr>\n",
       "    <tr>\n",
       "      <th>std</th>\n",
       "      <td>NaN</td>\n",
       "      <td>14.428097</td>\n",
       "    </tr>\n",
       "    <tr>\n",
       "      <th>min</th>\n",
       "      <td>NaN</td>\n",
       "      <td>0.000000</td>\n",
       "    </tr>\n",
       "    <tr>\n",
       "      <th>25%</th>\n",
       "      <td>NaN</td>\n",
       "      <td>24.000000</td>\n",
       "    </tr>\n",
       "    <tr>\n",
       "      <th>50%</th>\n",
       "      <td>NaN</td>\n",
       "      <td>32.000000</td>\n",
       "    </tr>\n",
       "    <tr>\n",
       "      <th>75%</th>\n",
       "      <td>NaN</td>\n",
       "      <td>44.000000</td>\n",
       "    </tr>\n",
       "    <tr>\n",
       "      <th>max</th>\n",
       "      <td>NaN</td>\n",
       "      <td>244.000000</td>\n",
       "    </tr>\n",
       "  </tbody>\n",
       "</table>\n",
       "</div>"
      ],
      "text/plain": [
       "                               Location            Age\n",
       "count                            278858  168096.000000\n",
       "unique                            57339            NaN\n",
       "top     london, england, united kingdom            NaN\n",
       "freq                               2506            NaN\n",
       "mean                                NaN      34.751434\n",
       "std                                 NaN      14.428097\n",
       "min                                 NaN       0.000000\n",
       "25%                                 NaN      24.000000\n",
       "50%                                 NaN      32.000000\n",
       "75%                                 NaN      44.000000\n",
       "max                                 NaN     244.000000"
      ]
     },
     "execution_count": 12,
     "metadata": {},
     "output_type": "execute_result"
    }
   ],
   "source": [
    "dataUser.drop(columns=['userID']).describe(include='all')"
   ]
  },
  {
   "cell_type": "markdown",
   "metadata": {},
   "source": [
    "## 2.4 Pengecekan Missing Value"
   ]
  },
  {
   "cell_type": "code",
   "execution_count": 13,
   "metadata": {
    "execution": {
     "iopub.execute_input": "2025-06-05T18:00:07.238263Z",
     "iopub.status.busy": "2025-06-05T18:00:07.237869Z",
     "iopub.status.idle": "2025-06-05T18:00:07.276385Z",
     "shell.execute_reply": "2025-06-05T18:00:07.275550Z",
     "shell.execute_reply.started": "2025-06-05T18:00:07.238236Z"
    },
    "trusted": true
   },
   "outputs": [
    {
     "data": {
      "text/plain": [
       "userID           0\n",
       "Location         0\n",
       "Age         110762\n",
       "dtype: int64"
      ]
     },
     "execution_count": 13,
     "metadata": {},
     "output_type": "execute_result"
    }
   ],
   "source": [
    "dataUser.isnull().sum()"
   ]
  },
  {
   "cell_type": "markdown",
   "metadata": {},
   "source": [
    "**Penjelasan :**\n",
    "\n",
    "Pada dataset Buku terlihat terdapat missing value pada data yaitu pada kolom Age. Hal ini menunjukkan diperlukan perlakuan agar tidak mengganggu analisis selanjutnya."
   ]
  },
  {
   "cell_type": "code",
   "execution_count": 14,
   "metadata": {
    "execution": {
     "iopub.execute_input": "2025-06-05T18:00:11.661583Z",
     "iopub.status.busy": "2025-06-05T18:00:11.660846Z",
     "iopub.status.idle": "2025-06-05T18:00:11.761354Z",
     "shell.execute_reply": "2025-06-05T18:00:11.760742Z",
     "shell.execute_reply.started": "2025-06-05T18:00:11.661558Z"
    },
    "trusted": true
   },
   "outputs": [
    {
     "data": {
      "text/plain": [
       "ISBN                   0\n",
       "Book-Title             0\n",
       "Book-Author            2\n",
       "Year-Of-Publication    0\n",
       "Publisher              2\n",
       "Image-URL-S            0\n",
       "Image-URL-M            0\n",
       "Image-URL-L            3\n",
       "dtype: int64"
      ]
     },
     "execution_count": 14,
     "metadata": {},
     "output_type": "execute_result"
    }
   ],
   "source": [
    "dataBuku.isnull().sum()"
   ]
  },
  {
   "cell_type": "markdown",
   "metadata": {},
   "source": [
    "**Penjelasan :**\n",
    "\n",
    "Pada dataset Buku terlihat terdapat missing value pada data yaitu pada kolom Book-Author, Publisher, dan Image-URL-L. Hal ini menunjukkan diperlukan perlakuan agar tidak mengganggu analisis selanjutnya."
   ]
  },
  {
   "cell_type": "code",
   "execution_count": 15,
   "metadata": {
    "execution": {
     "iopub.execute_input": "2025-06-05T18:00:15.458241Z",
     "iopub.status.busy": "2025-06-05T18:00:15.457700Z",
     "iopub.status.idle": "2025-06-05T18:00:15.522110Z",
     "shell.execute_reply": "2025-06-05T18:00:15.521502Z",
     "shell.execute_reply.started": "2025-06-05T18:00:15.458195Z"
    },
    "trusted": true
   },
   "outputs": [
    {
     "data": {
      "text/plain": [
       "userID         0\n",
       "ISBN           0\n",
       "Book-Rating    0\n",
       "dtype: int64"
      ]
     },
     "execution_count": 15,
     "metadata": {},
     "output_type": "execute_result"
    }
   ],
   "source": [
    "dataRating.isnull().sum()"
   ]
  },
  {
   "cell_type": "markdown",
   "metadata": {},
   "source": [
    "**Penjelasan :**\n",
    "\n",
    "Pada dataset rating terlihat tidak terdapat missing value pada data."
   ]
  },
  {
   "cell_type": "markdown",
   "metadata": {},
   "source": [
    "# 3. Data Preparation"
   ]
  },
  {
   "cell_type": "markdown",
   "metadata": {},
   "source": [
    "## 3.1 Join Tabel"
   ]
  },
  {
   "cell_type": "code",
   "execution_count": 16,
   "metadata": {
    "execution": {
     "iopub.execute_input": "2025-06-05T18:00:18.674294Z",
     "iopub.status.busy": "2025-06-05T18:00:18.673784Z",
     "iopub.status.idle": "2025-06-05T18:00:19.651731Z",
     "shell.execute_reply": "2025-06-05T18:00:19.651152Z",
     "shell.execute_reply.started": "2025-06-05T18:00:18.674270Z"
    },
    "trusted": true
   },
   "outputs": [],
   "source": [
    "# Gabungkan Data Rating dengan Data User untuk memperoleh dataset rating beserta atribut usernya\n",
    "dataRatingUser = pd.merge(dataRating, dataUser, on='userID', how='left')\n",
    "# Gabungkan dataset sebelumnya dengan dataset buku untuk memperoleh keterangan buku yang diberi rating\n",
    "dataset = pd.merge(dataRatingUser, dataBuku, on='ISBN', how='left')"
   ]
  },
  {
   "cell_type": "code",
   "execution_count": 17,
   "metadata": {
    "execution": {
     "iopub.execute_input": "2025-06-05T18:00:21.890466Z",
     "iopub.status.busy": "2025-06-05T18:00:21.889873Z",
     "iopub.status.idle": "2025-06-05T18:00:23.044402Z",
     "shell.execute_reply": "2025-06-05T18:00:23.043680Z",
     "shell.execute_reply.started": "2025-06-05T18:00:21.890442Z"
    },
    "trusted": true
   },
   "outputs": [
    {
     "name": "stdout",
     "output_type": "stream",
     "text": [
      "<class 'pandas.core.frame.DataFrame'>\n",
      "RangeIndex: 1149780 entries, 0 to 1149779\n",
      "Data columns (total 12 columns):\n",
      " #   Column               Non-Null Count    Dtype  \n",
      "---  ------               --------------    -----  \n",
      " 0   userID               1149780 non-null  int64  \n",
      " 1   ISBN                 1149780 non-null  object \n",
      " 2   Book-Rating          1149780 non-null  int64  \n",
      " 3   Location             1149780 non-null  object \n",
      " 4   Age                  840288 non-null   float64\n",
      " 5   Book-Title           1031136 non-null  object \n",
      " 6   Book-Author          1031134 non-null  object \n",
      " 7   Year-Of-Publication  1031136 non-null  object \n",
      " 8   Publisher            1031134 non-null  object \n",
      " 9   Image-URL-S          1031136 non-null  object \n",
      " 10  Image-URL-M          1031136 non-null  object \n",
      " 11  Image-URL-L          1031132 non-null  object \n",
      "dtypes: float64(1), int64(2), object(9)\n",
      "memory usage: 105.3+ MB\n"
     ]
    },
    {
     "data": {
      "text/plain": [
       "userID                      0\n",
       "ISBN                        0\n",
       "Book-Rating                 0\n",
       "Location                    0\n",
       "Age                    309492\n",
       "Book-Title             118644\n",
       "Book-Author            118646\n",
       "Year-Of-Publication    118644\n",
       "Publisher              118646\n",
       "Image-URL-S            118644\n",
       "Image-URL-M            118644\n",
       "Image-URL-L            118648\n",
       "dtype: int64"
      ]
     },
     "execution_count": 17,
     "metadata": {},
     "output_type": "execute_result"
    }
   ],
   "source": [
    "dataset.info()\n",
    "dataset.isnull().sum()"
   ]
  },
  {
   "cell_type": "markdown",
   "metadata": {},
   "source": [
    "## 3.2 Eliminasi Observasi dengan Missing Value"
   ]
  },
  {
   "cell_type": "code",
   "execution_count": 18,
   "metadata": {
    "execution": {
     "iopub.execute_input": "2025-06-05T18:00:27.061408Z",
     "iopub.status.busy": "2025-06-05T18:00:27.060696Z",
     "iopub.status.idle": "2025-06-05T18:00:27.750919Z",
     "shell.execute_reply": "2025-06-05T18:00:27.750107Z",
     "shell.execute_reply.started": "2025-06-05T18:00:27.061378Z"
    },
    "trusted": true
   },
   "outputs": [],
   "source": [
    "dataFinal = dataset.dropna()"
   ]
  },
  {
   "cell_type": "markdown",
   "metadata": {},
   "source": [
    "**Penjelasan :**\n",
    "\n",
    "Setelah proses joining table, data missing value yang masih ada diberi perlakuan berupa Eliminasi Observasi. Hal ini bertujuan untuk tidak memberikan bias pada data jika dilakukan imputasi. Bias dapat muncul karena jumlah missing value yang cukup besar, sehingga berisiko jika diimputasi."
   ]
  },
  {
   "cell_type": "markdown",
   "metadata": {},
   "source": [
    "### 3.3.1 Preprocessing untuk Content Based Filtering"
   ]
  },
  {
   "cell_type": "code",
   "execution_count": null,
   "metadata": {
    "execution": {
     "iopub.execute_input": "2025-05-22T05:50:34.522310Z",
     "iopub.status.busy": "2025-05-22T05:50:34.522100Z",
     "iopub.status.idle": "2025-05-22T05:50:37.439468Z",
     "shell.execute_reply": "2025-05-22T05:50:37.438925Z",
     "shell.execute_reply.started": "2025-05-22T05:50:34.522294Z"
    },
    "trusted": true
   },
   "outputs": [
    {
     "name": "stderr",
     "output_type": "stream",
     "text": [
      "/tmp/ipykernel_15195/3961848135.py:2: SettingWithCopyWarning: \n",
      "A value is trying to be set on a copy of a slice from a DataFrame.\n",
      "Try using .loc[row_indexer,col_indexer] = value instead\n",
      "\n",
      "See the caveats in the documentation: https://pandas.pydata.org/pandas-docs/stable/user_guide/indexing.html#returning-a-view-versus-a-copy\n",
      "  dataFinal['AtributBuku'] = dataFinal['Book-Title'] + ' ' + dataFinal['Book-Author'] + ' ' + dataFinal['Year-Of-Publication'].astype(str)\n",
      "/tmp/ipykernel_15195/3961848135.py:12: SettingWithCopyWarning: \n",
      "A value is trying to be set on a copy of a slice from a DataFrame.\n",
      "Try using .loc[row_indexer,col_indexer] = value instead\n",
      "\n",
      "See the caveats in the documentation: https://pandas.pydata.org/pandas-docs/stable/user_guide/indexing.html#returning-a-view-versus-a-copy\n",
      "  dataFinal['AtributBuku'] = dataFinal['AtributBuku'].apply(preprocess_text)\n"
     ]
    }
   ],
   "source": [
    "# Membentuk Variabel Baru yang menangkap atribut dari Buku\n",
    "dataFinal['AtributBuku'] = dataFinal['Book-Title'] + ' ' + dataFinal['Book-Author'] + ' ' + dataFinal['Year-Of-Publication'].astype(str)\n",
    "\n",
    "# Preprocessing: Convert to lowercase, remove punctuation\n",
    "def preprocess_text(text):\n",
    "    # Convert to lowercase\n",
    "    text = text.lower()\n",
    "    # Remove punctuation\n",
    "    text = re.sub(r'[^\\w\\s]', '', text)\n",
    "    return text\n",
    "\n",
    "dataFinal['AtributBuku'] = dataFinal['AtributBuku'].apply(preprocess_text)\n",
    "\n",
    "# Undersampling untuk Reduksi Dataset\n",
    "dataBaru = dataFinal.dropna(subset=['AtributBuku']).sample(n=90000, random_state=42).reset_index(drop=True)\n",
    "# Buat dataframe baru berisi data unik dari AtributBuku\n",
    "dataBaru = dataBaru.drop_duplicates(subset='AtributBuku').reset_index(drop=False)\n",
    "\n",
    "# Membentuk Matriks Term Frequency - Inverse Document Frequency\n",
    "tfidf = TfidfVectorizer(stop_words='english')\n",
    "tfidf_matrix = tfidf.fit_transform(dataBaru['AtributBuku'])"
   ]
  },
  {
   "cell_type": "markdown",
   "metadata": {},
   "source": [
    "### 3.3.2 Preprocessing untuk Colaborative Filtering"
   ]
  },
  {
   "cell_type": "code",
   "execution_count": 19,
   "metadata": {
    "execution": {
     "iopub.execute_input": "2025-06-05T18:00:35.516564Z",
     "iopub.status.busy": "2025-06-05T18:00:35.516030Z",
     "iopub.status.idle": "2025-06-05T18:00:35.950050Z",
     "shell.execute_reply": "2025-06-05T18:00:35.949280Z",
     "shell.execute_reply.started": "2025-06-05T18:00:35.516542Z"
    },
    "trusted": true
   },
   "outputs": [
    {
     "name": "stderr",
     "output_type": "stream",
     "text": [
      "/tmp/ipykernel_35/3581592387.py:12: SettingWithCopyWarning: \n",
      "A value is trying to be set on a copy of a slice from a DataFrame.\n",
      "Try using .loc[row_indexer,col_indexer] = value instead\n",
      "\n",
      "See the caveats in the documentation: https://pandas.pydata.org/pandas-docs/stable/user_guide/indexing.html#returning-a-view-versus-a-copy\n",
      "  dataFinal['user_encoded'] = dataFinal['userID'].map(user_to_user_encoded)\n",
      "/tmp/ipykernel_35/3581592387.py:13: SettingWithCopyWarning: \n",
      "A value is trying to be set on a copy of a slice from a DataFrame.\n",
      "Try using .loc[row_indexer,col_indexer] = value instead\n",
      "\n",
      "See the caveats in the documentation: https://pandas.pydata.org/pandas-docs/stable/user_guide/indexing.html#returning-a-view-versus-a-copy\n",
      "  dataFinal['ISBN_encoded'] = dataFinal['ISBN'].map(buku_to_ids_encoded)\n"
     ]
    },
    {
     "name": "stdout",
     "output_type": "stream",
     "text": [
      "Jumlah User: 53887, Jumlah Buku: 228995, Min Rating: 0.0, Max Rating: 10.0\n"
     ]
    },
    {
     "name": "stderr",
     "output_type": "stream",
     "text": [
      "/tmp/ipykernel_35/3581592387.py:24: SettingWithCopyWarning: \n",
      "A value is trying to be set on a copy of a slice from a DataFrame.\n",
      "Try using .loc[row_indexer,col_indexer] = value instead\n",
      "\n",
      "See the caveats in the documentation: https://pandas.pydata.org/pandas-docs/stable/user_guide/indexing.html#returning-a-view-versus-a-copy\n",
      "  dataFinal['user_encoded'] = dataFinal['user_encoded'].astype(np.int32)\n",
      "/tmp/ipykernel_35/3581592387.py:25: SettingWithCopyWarning: \n",
      "A value is trying to be set on a copy of a slice from a DataFrame.\n",
      "Try using .loc[row_indexer,col_indexer] = value instead\n",
      "\n",
      "See the caveats in the documentation: https://pandas.pydata.org/pandas-docs/stable/user_guide/indexing.html#returning-a-view-versus-a-copy\n",
      "  dataFinal['ISBN_encoded'] = dataFinal['ISBN_encoded'].astype(np.int32)\n",
      "/tmp/ipykernel_35/3581592387.py:28: SettingWithCopyWarning: \n",
      "A value is trying to be set on a copy of a slice from a DataFrame.\n",
      "Try using .loc[row_indexer,col_indexer] = value instead\n",
      "\n",
      "See the caveats in the documentation: https://pandas.pydata.org/pandas-docs/stable/user_guide/indexing.html#returning-a-view-versus-a-copy\n",
      "  dataFinal['Book-Rating'] = dataFinal['Book-Rating'].astype(np.float32)\n"
     ]
    }
   ],
   "source": [
    "# Mengubah userID menjadi list unik\n",
    "user_ids = dataFinal['userID'].unique().tolist()\n",
    "user_to_user_encoded = {x: i for i, x in enumerate(user_ids)}\n",
    "user_encoded_to_user = {i: x for i, x in enumerate(user_ids)}\n",
    "\n",
    "# Mengubah ISBN menjadi list unik\n",
    "buku_ids = dataFinal['ISBN'].unique().tolist()\n",
    "buku_to_ids_encoded = {x: i for i, x in enumerate(buku_ids)}\n",
    "ids_to_buku_encoded = {i: x for i, x in enumerate(buku_ids)}\n",
    "\n",
    "# Melakukan encoding ke dataframe\n",
    "dataFinal['user_encoded'] = dataFinal['userID'].map(user_to_user_encoded)\n",
    "dataFinal['ISBN_encoded'] = dataFinal['ISBN'].map(buku_to_ids_encoded)\n",
    "\n",
    "# Cek apakah ada yang gagal di-encode\n",
    "if dataFinal[['user_encoded', 'ISBN_encoded']].isnull().values.any():\n",
    "    print(\"🚨 Ada userID atau ISBN yang tidak berhasil di-encode!\")\n",
    "    print(\"Jumlah user_encoded NaN:\", dataFinal['user_encoded'].isnull().sum())\n",
    "    print(\"Jumlah ISBN_encoded NaN:\", dataFinal['ISBN_encoded'].isnull().sum())\n",
    "    # Bisa drop baris NaN atau isi dengan nilai default\n",
    "    dataFinal = dataFinal.dropna(subset=['user_encoded', 'ISBN_encoded'])\n",
    "\n",
    "# Convert ke integer untuk keperluan input model embedding\n",
    "dataFinal['user_encoded'] = dataFinal['user_encoded'].astype(np.int32)\n",
    "dataFinal['ISBN_encoded'] = dataFinal['ISBN_encoded'].astype(np.int32)\n",
    "\n",
    "# Konversi rating ke float32\n",
    "dataFinal['Book-Rating'] = dataFinal['Book-Rating'].astype(np.float32)\n",
    "\n",
    "# Info statistik\n",
    "num_users = len(user_to_user_encoded)\n",
    "num_items = len(ids_to_buku_encoded)\n",
    "min_rating = dataFinal['Book-Rating'].min()\n",
    "max_rating = dataFinal['Book-Rating'].max()\n",
    "\n",
    "print(f'Jumlah User: {num_users}, Jumlah Buku: {num_items}, Min Rating: {min_rating}, Max Rating: {max_rating}')"
   ]
  },
  {
   "cell_type": "code",
   "execution_count": 20,
   "metadata": {
    "execution": {
     "iopub.execute_input": "2025-06-05T18:00:40.276675Z",
     "iopub.status.busy": "2025-06-05T18:00:40.276405Z",
     "iopub.status.idle": "2025-06-05T18:00:41.021127Z",
     "shell.execute_reply": "2025-06-05T18:00:41.020556Z",
     "shell.execute_reply.started": "2025-06-05T18:00:40.276656Z"
    },
    "trusted": true
   },
   "outputs": [],
   "source": [
    "# Mengacak dataset\n",
    "df = dataFinal.sample(frac=1, random_state=42)\n",
    "df\n",
    "\n",
    "# Membuat variabel x untuk mencocokkan data user dan resto menjadi satu value\n",
    "x = df[['user_encoded', 'ISBN_encoded']].values\n",
    " \n",
    "# Membuat variabel y untuk membuat rating dari hasil \n",
    "y = df['Book-Rating'].apply(lambda x: (x - min_rating) / (max_rating - min_rating)).values\n",
    " \n",
    "# Membagi menjadi 80% data train dan 20% data validasi\n",
    "train_indices = int(0.8 * df.shape[0])\n",
    "x_train, x_val, y_train, y_val = (\n",
    "    x[:train_indices],\n",
    "    x[train_indices:],\n",
    "    y[:train_indices],\n",
    "    y[train_indices:]\n",
    ")"
   ]
  },
  {
   "cell_type": "markdown",
   "metadata": {},
   "source": [
    "# 4. Modelling"
   ]
  },
  {
   "cell_type": "markdown",
   "metadata": {},
   "source": [
    "## 4.1 Content Based Filtering"
   ]
  },
  {
   "cell_type": "markdown",
   "metadata": {},
   "source": [
    "### 4.1.1 Membentuk Matriks Cosine Similarity"
   ]
  },
  {
   "cell_type": "code",
   "execution_count": 17,
   "metadata": {
    "execution": {
     "iopub.execute_input": "2025-05-22T05:50:39.285974Z",
     "iopub.status.busy": "2025-05-22T05:50:39.285722Z",
     "iopub.status.idle": "2025-05-22T05:50:41.463212Z",
     "shell.execute_reply": "2025-05-22T05:50:41.462431Z",
     "shell.execute_reply.started": "2025-05-22T05:50:39.285952Z"
    },
    "trusted": true
   },
   "outputs": [],
   "source": [
    "cosine_sim = cosine_similarity(tfidf_matrix, dense_output=False)\n"
   ]
  },
  {
   "cell_type": "markdown",
   "metadata": {},
   "source": [
    "### 4.1.2 Pendefinisian Fungsi Rekomendasi Produk"
   ]
  },
  {
   "cell_type": "code",
   "execution_count": 18,
   "metadata": {
    "execution": {
     "iopub.execute_input": "2025-05-22T05:50:41.464238Z",
     "iopub.status.busy": "2025-05-22T05:50:41.463984Z",
     "iopub.status.idle": "2025-05-22T05:50:41.470387Z",
     "shell.execute_reply": "2025-05-22T05:50:41.469718Z",
     "shell.execute_reply.started": "2025-05-22T05:50:41.464218Z"
    },
    "trusted": true
   },
   "outputs": [],
   "source": [
    "def recommend(book_title, cosine_sim=cosine_sim, jmlbuku = 5):\n",
    "    print(f\"Menampilkan Rekomendasi Buku yang sesuai dengan '{book_title}' ...\")\n",
    "    \n",
    "    matches = dataBaru[dataBaru['Book-Title'] == book_title]\n",
    "    if matches.empty:\n",
    "        return f\"Tidak ditemukan judul: {book_title}\"\n",
    "    \n",
    "    # matches.index sudah 0..n-1, cocok untuk cosine_sim\n",
    "    idx = matches.index[0]\n",
    "\n",
    "    sim_scores_row = cosine_sim[idx].toarray().flatten()\n",
    "\n",
    "    sim_scores = list(enumerate(sim_scores_row))\n",
    "    sim_scores = sorted(sim_scores, key=lambda x: x[1], reverse=True)\n",
    "    sim_scores = sim_scores[1:jmlbuku+1]  # skip buku itu sendiri\n",
    "\n",
    "    book_indices = [i[0] for i in sim_scores]\n",
    "    scores = [i[1] for i in sim_scores]\n",
    "\n",
    "    result = dataBaru.iloc[book_indices][['Book-Title', 'Book-Author', 'Publisher', 'Year-Of-Publication']].copy()\n",
    "    result['similarity_score'] = scores\n",
    "\n",
    "    return result.reset_index(drop=True)\n"
   ]
  },
  {
   "cell_type": "code",
   "execution_count": 19,
   "metadata": {
    "execution": {
     "iopub.execute_input": "2025-05-22T05:50:41.471472Z",
     "iopub.status.busy": "2025-05-22T05:50:41.471153Z",
     "iopub.status.idle": "2025-05-22T05:50:41.547772Z",
     "shell.execute_reply": "2025-05-22T05:50:41.547048Z",
     "shell.execute_reply.started": "2025-05-22T05:50:41.471449Z"
    },
    "trusted": true
   },
   "outputs": [
    {
     "name": "stdout",
     "output_type": "stream",
     "text": [
      "Menampilkan Rekomendasi Buku yang sesuai dengan 'Life in the Rainforests (Life in the Series)' ...\n"
     ]
    },
    {
     "data": {
      "text/html": [
       "<div>\n",
       "<style scoped>\n",
       "    .dataframe tbody tr th:only-of-type {\n",
       "        vertical-align: middle;\n",
       "    }\n",
       "\n",
       "    .dataframe tbody tr th {\n",
       "        vertical-align: top;\n",
       "    }\n",
       "\n",
       "    .dataframe thead th {\n",
       "        text-align: right;\n",
       "    }\n",
       "</style>\n",
       "<table border=\"1\" class=\"dataframe\">\n",
       "  <thead>\n",
       "    <tr style=\"text-align: right;\">\n",
       "      <th></th>\n",
       "      <th>Book-Title</th>\n",
       "      <th>Book-Author</th>\n",
       "      <th>Publisher</th>\n",
       "      <th>Year-Of-Publication</th>\n",
       "      <th>similarity_score</th>\n",
       "    </tr>\n",
       "  </thead>\n",
       "  <tbody>\n",
       "    <tr>\n",
       "      <th>0</th>\n",
       "      <td>Life 101 : Everything We Wish We Had Learned A...</td>\n",
       "      <td>Peter McWilliams</td>\n",
       "      <td>Prelude Press</td>\n",
       "      <td>1997</td>\n",
       "      <td>0.295976</td>\n",
       "    </tr>\n",
       "    <tr>\n",
       "      <th>1</th>\n",
       "      <td>Life 101: Everything We Wish We Had Learned Ab...</td>\n",
       "      <td>Peter McWilliams</td>\n",
       "      <td>Prelude Press</td>\n",
       "      <td>1994</td>\n",
       "      <td>0.283014</td>\n",
       "    </tr>\n",
       "    <tr>\n",
       "      <th>2</th>\n",
       "      <td>Once in Every Life</td>\n",
       "      <td>Kristin Hannah</td>\n",
       "      <td>Ballantine Books</td>\n",
       "      <td>1993</td>\n",
       "      <td>0.261591</td>\n",
       "    </tr>\n",
       "    <tr>\n",
       "      <th>3</th>\n",
       "      <td>LIFE AFTER GOD : LIFE AFTER GOD</td>\n",
       "      <td>Douglas Coupland</td>\n",
       "      <td>Washington Square Press</td>\n",
       "      <td>1995</td>\n",
       "      <td>0.248410</td>\n",
       "    </tr>\n",
       "    <tr>\n",
       "      <th>4</th>\n",
       "      <td>Life Out There: The Truth Of- And Search For- ...</td>\n",
       "      <td>Michael White</td>\n",
       "      <td>Ecco Press</td>\n",
       "      <td>1999</td>\n",
       "      <td>0.246720</td>\n",
       "    </tr>\n",
       "  </tbody>\n",
       "</table>\n",
       "</div>"
      ],
      "text/plain": [
       "                                          Book-Title       Book-Author  \\\n",
       "0  Life 101 : Everything We Wish We Had Learned A...  Peter McWilliams   \n",
       "1  Life 101: Everything We Wish We Had Learned Ab...  Peter McWilliams   \n",
       "2                                 Once in Every Life    Kristin Hannah   \n",
       "3                    LIFE AFTER GOD : LIFE AFTER GOD  Douglas Coupland   \n",
       "4  Life Out There: The Truth Of- And Search For- ...     Michael White   \n",
       "\n",
       "                 Publisher Year-Of-Publication  similarity_score  \n",
       "0            Prelude Press                1997          0.295976  \n",
       "1            Prelude Press                1994          0.283014  \n",
       "2         Ballantine Books                1993          0.261591  \n",
       "3  Washington Square Press                1995          0.248410  \n",
       "4               Ecco Press                1999          0.246720  "
      ]
     },
     "execution_count": 19,
     "metadata": {},
     "output_type": "execute_result"
    }
   ],
   "source": [
    "recommend(dataBaru['Book-Title'].dropna().sample(1).iloc[0])\n"
   ]
  },
  {
   "cell_type": "markdown",
   "metadata": {},
   "source": [
    "**Penjelasan :**\n",
    "\n",
    "Terlihat bahwa sistem rekomendasi yang dibangun dengan Content Based Filtering dapat mengembalikan buku yang memiliki karakteristik mirip dengan inputan yang diberikan. Pada pengujian tersebut, diberikan judul 'Life in the Rainforests (Life in the Series)' yang digunakan sebagai input ke fungsi. Terlihat bahwa fungsi mengembalikan 5 buku yang memiliki similarity tertinggi dengan judul sebelumnya. Terlihat pada Gambar 4, Nilai cosine similarity tertinggi yaitu 0,29 pada buku berjudul Life 101 : Everything We Wish We Had Learned A yang ditulis oleh author Peter McWilliams. Kesamaan judul ini dapat menjadi penyebab buku tersebut menjadi hasil kembalian fungsi. "
   ]
  },
  {
   "cell_type": "markdown",
   "metadata": {},
   "source": [
    "## 4.2 Collaborative Filtering"
   ]
  },
  {
   "cell_type": "markdown",
   "metadata": {},
   "source": [
    "### 4.2.1 Pendefinisian Model RecommenderNet (Neural Colaborative Filtering)"
   ]
  },
  {
   "cell_type": "code",
   "execution_count": 21,
   "metadata": {
    "execution": {
     "iopub.execute_input": "2025-06-05T18:00:55.338358Z",
     "iopub.status.busy": "2025-06-05T18:00:55.337797Z",
     "iopub.status.idle": "2025-06-05T18:00:55.345763Z",
     "shell.execute_reply": "2025-06-05T18:00:55.345093Z",
     "shell.execute_reply.started": "2025-06-05T18:00:55.338335Z"
    },
    "trusted": true
   },
   "outputs": [],
   "source": [
    "class RecommenderNet(Model):\n",
    "\n",
    "    def __init__(self, num_users, num_buku, embedding_size, dropout_rate=0.3, **kwargs):\n",
    "        super(RecommenderNet, self).__init__(**kwargs)\n",
    "        self.num_users = num_users\n",
    "        self.num_buku = num_buku\n",
    "        self.embedding_size = embedding_size\n",
    "        self.dropout_rate = dropout_rate\n",
    "\n",
    "        # User Embedding Layer\n",
    "        self.user_embedding = layers.Embedding(\n",
    "            input_dim=num_users,\n",
    "            output_dim=embedding_size,\n",
    "            embeddings_initializer='he_normal',\n",
    "            embeddings_regularizer=regularizers.l2(1e-6)\n",
    "        )\n",
    "        self.user_bias = layers.Embedding(input_dim=num_users, output_dim=1)\n",
    "\n",
    "        # Item Embedding Layer\n",
    "        self.buku_embedding = layers.Embedding(\n",
    "            input_dim=num_buku,\n",
    "            output_dim=embedding_size,\n",
    "            embeddings_initializer='he_normal',\n",
    "            embeddings_regularizer=regularizers.l2(1e-6)\n",
    "        )\n",
    "        self.buku_bias = layers.Embedding(input_dim=num_buku, output_dim=1)\n",
    "\n",
    "        # Dropout Layer\n",
    "        self.dropout = layers.Dropout(dropout_rate)\n",
    "\n",
    "        # Fully Connected Layer\n",
    "        self.fc1 = layers.Dense(embedding_size, activation='relu')\n",
    "        self.batch_norm = layers.BatchNormalization()\n",
    "        self.fc2 = layers.Dense(1, activation='sigmoid')\n",
    "\n",
    "    def call(self, inputs):\n",
    "        # Extract user and item embeddings\n",
    "        user_vector = self.user_embedding(inputs[:, 0])\n",
    "        user_bias = self.user_bias(inputs[:, 0])\n",
    "        buku_vector = self.buku_embedding(inputs[:, 1])\n",
    "        buku_bias = self.buku_bias(inputs[:, 1])\n",
    "\n",
    "        # Normalize embeddings\n",
    "        user_vector = tf.nn.l2_normalize(user_vector, axis=1)\n",
    "        buku_vector = tf.nn.l2_normalize(buku_vector, axis=1)\n",
    "\n",
    "        # Compute dot product\n",
    "        dot_product = tf.reduce_sum(user_vector * buku_vector, axis=1, keepdims=True)\n",
    "\n",
    "        # Add biases\n",
    "        x = dot_product + user_bias + buku_bias\n",
    "\n",
    "        # Apply dropout and dense layers\n",
    "        x = self.dropout(x)\n",
    "        x = self.fc1(x)\n",
    "        x = self.batch_norm(x)\n",
    "        x = self.fc2(x)\n",
    "\n",
    "        return x"
   ]
  },
  {
   "cell_type": "code",
   "execution_count": 22,
   "metadata": {
    "execution": {
     "iopub.execute_input": "2025-06-05T18:01:02.427711Z",
     "iopub.status.busy": "2025-06-05T18:01:02.427181Z",
     "iopub.status.idle": "2025-06-05T18:01:03.579734Z",
     "shell.execute_reply": "2025-06-05T18:01:03.578933Z",
     "shell.execute_reply.started": "2025-06-05T18:01:02.427691Z"
    },
    "trusted": true
   },
   "outputs": [
    {
     "name": "stderr",
     "output_type": "stream",
     "text": [
      "I0000 00:00:1749146463.524635      35 gpu_device.cc:2022] Created device /job:localhost/replica:0/task:0/device:GPU:0 with 15513 MB memory:  -> device: 0, name: Tesla P100-PCIE-16GB, pci bus id: 0000:00:04.0, compute capability: 6.0\n"
     ]
    }
   ],
   "source": [
    "model = RecommenderNet(num_users, num_items, 1024) # inisialisasi model\n",
    " \n",
    "model.compile(\n",
    "    optimizer=tf.keras.optimizers.Adam(learning_rate=1e-5),\n",
    "    loss='mse',\n",
    "    metrics=[tf.keras.metrics.RootMeanSquaredError(name='rmse')]\n",
    ")"
   ]
  },
  {
   "cell_type": "markdown",
   "metadata": {},
   "source": [
    "### 4.2.2 Pelatihan Model Rekomendasi"
   ]
  },
  {
   "cell_type": "code",
   "execution_count": 23,
   "metadata": {
    "execution": {
     "iopub.execute_input": "2025-06-05T18:01:11.878989Z",
     "iopub.status.busy": "2025-06-05T18:01:11.878530Z",
     "iopub.status.idle": "2025-06-05T18:04:14.275857Z",
     "shell.execute_reply": "2025-06-05T18:04:14.274907Z",
     "shell.execute_reply.started": "2025-06-05T18:01:11.878967Z"
    },
    "trusted": true
   },
   "outputs": [
    {
     "name": "stdout",
     "output_type": "stream",
     "text": [
      "Epoch 1/10\n"
     ]
    },
    {
     "name": "stderr",
     "output_type": "stream",
     "text": [
      "/usr/local/lib/python3.11/dist-packages/tensorflow/python/framework/indexed_slices.py:446: UserWarning: Converting sparse IndexedSlices to a dense Tensor with 234490880 elements. This may consume a large amount of memory.\n",
      "  warnings.warn(\n",
      "WARNING: All log messages before absl::InitializeLog() is called are written to STDERR\n",
      "I0000 00:00:1749146477.235438     101 service.cc:148] XLA service 0x7e6d1400b610 initialized for platform CUDA (this does not guarantee that XLA will be used). Devices:\n",
      "I0000 00:00:1749146477.235966     101 service.cc:156]   StreamExecutor device (0): Tesla P100-PCIE-16GB, Compute Capability 6.0\n",
      "I0000 00:00:1749146477.528145     101 cuda_dnn.cc:529] Loaded cuDNN version 90300\n"
     ]
    },
    {
     "name": "stdout",
     "output_type": "stream",
     "text": [
      "\u001b[1m  3/589\u001b[0m \u001b[37m━━━━━━━━━━━━━━━━━━━━\u001b[0m \u001b[1m17s\u001b[0m 30ms/step - loss: 0.2034 - rmse: 0.4465  "
     ]
    },
    {
     "name": "stderr",
     "output_type": "stream",
     "text": [
      "I0000 00:00:1749146478.554651     101 device_compiler.h:188] Compiled cluster using XLA!  This line is logged at most once for the lifetime of the process.\n"
     ]
    },
    {
     "name": "stdout",
     "output_type": "stream",
     "text": [
      "\u001b[1m589/589\u001b[0m \u001b[32m━━━━━━━━━━━━━━━━━━━━\u001b[0m\u001b[37m\u001b[0m \u001b[1m26s\u001b[0m 33ms/step - loss: 0.1937 - rmse: 0.4355 - val_loss: 0.1681 - val_rmse: 0.4054\n",
      "Epoch 2/10\n",
      "\u001b[1m589/589\u001b[0m \u001b[32m━━━━━━━━━━━━━━━━━━━━\u001b[0m\u001b[37m\u001b[0m \u001b[1m17s\u001b[0m 29ms/step - loss: 0.1631 - rmse: 0.3992 - val_loss: 0.1548 - val_rmse: 0.3890\n",
      "Epoch 3/10\n",
      "\u001b[1m589/589\u001b[0m \u001b[32m━━━━━━━━━━━━━━━━━━━━\u001b[0m\u001b[37m\u001b[0m \u001b[1m17s\u001b[0m 29ms/step - loss: 0.1475 - rmse: 0.3797 - val_loss: 0.1524 - val_rmse: 0.3862\n",
      "Epoch 4/10\n",
      "\u001b[1m589/589\u001b[0m \u001b[32m━━━━━━━━━━━━━━━━━━━━\u001b[0m\u001b[37m\u001b[0m \u001b[1m17s\u001b[0m 29ms/step - loss: 0.1315 - rmse: 0.3583 - val_loss: 0.1515 - val_rmse: 0.3852\n",
      "Epoch 5/10\n",
      "\u001b[1m589/589\u001b[0m \u001b[32m━━━━━━━━━━━━━━━━━━━━\u001b[0m\u001b[37m\u001b[0m \u001b[1m17s\u001b[0m 30ms/step - loss: 0.1079 - rmse: 0.3238 - val_loss: 0.1509 - val_rmse: 0.3846\n",
      "Epoch 6/10\n",
      "\u001b[1m589/589\u001b[0m \u001b[32m━━━━━━━━━━━━━━━━━━━━\u001b[0m\u001b[37m\u001b[0m \u001b[1m17s\u001b[0m 29ms/step - loss: 0.0800 - rmse: 0.2775 - val_loss: 0.1502 - val_rmse: 0.3837\n",
      "Epoch 7/10\n",
      "\u001b[1m589/589\u001b[0m \u001b[32m━━━━━━━━━━━━━━━━━━━━\u001b[0m\u001b[37m\u001b[0m \u001b[1m17s\u001b[0m 29ms/step - loss: 0.0567 - rmse: 0.2319 - val_loss: 0.1488 - val_rmse: 0.3819\n",
      "Epoch 8/10\n",
      "\u001b[1m589/589\u001b[0m \u001b[32m━━━━━━━━━━━━━━━━━━━━\u001b[0m\u001b[37m\u001b[0m \u001b[1m17s\u001b[0m 29ms/step - loss: 0.0401 - rmse: 0.1931 - val_loss: 0.1469 - val_rmse: 0.3796\n",
      "Epoch 9/10\n",
      "\u001b[1m589/589\u001b[0m \u001b[32m━━━━━━━━━━━━━━━━━━━━\u001b[0m\u001b[37m\u001b[0m \u001b[1m17s\u001b[0m 30ms/step - loss: 0.0288 - rmse: 0.1612 - val_loss: 0.1451 - val_rmse: 0.3773\n",
      "Epoch 10/10\n",
      "\u001b[1m589/589\u001b[0m \u001b[32m━━━━━━━━━━━━━━━━━━━━\u001b[0m\u001b[37m\u001b[0m \u001b[1m17s\u001b[0m 29ms/step - loss: 0.0213 - rmse: 0.1364 - val_loss: 0.1436 - val_rmse: 0.3754\n"
     ]
    }
   ],
   "source": [
    "# Memulai training\n",
    " \n",
    "history = model.fit(\n",
    "    x = x_train,\n",
    "    y = y_train,\n",
    "    batch_size = 1024,\n",
    "    epochs = 10,\n",
    "    validation_data = (x_val, y_val)\n",
    ")"
   ]
  },
  {
   "cell_type": "markdown",
   "metadata": {},
   "source": [
    "### 4.2.3 Visualisasi Hasil Pelatihan"
   ]
  },
  {
   "cell_type": "code",
   "execution_count": 24,
   "metadata": {
    "execution": {
     "iopub.execute_input": "2025-06-05T18:04:14.278248Z",
     "iopub.status.busy": "2025-06-05T18:04:14.277632Z",
     "iopub.status.idle": "2025-06-05T18:04:14.503054Z",
     "shell.execute_reply": "2025-06-05T18:04:14.502257Z",
     "shell.execute_reply.started": "2025-06-05T18:04:14.278220Z"
    },
    "trusted": true
   },
   "outputs": [
    {
     "data": {
      "image/png": "[encoded data removed]",
      "text/plain": [
       "<Figure size 640x480 with 1 Axes>"
      ]
     },
     "metadata": {},
     "output_type": "display_data"
    }
   ],
   "source": [
    "plt.plot(history.history['rmse'])\n",
    "plt.plot(history.history['val_rmse'])\n",
    "plt.title('model_metrics')\n",
    "plt.ylabel('Root Mean Squared Error')\n",
    "plt.xlabel('epoch')\n",
    "plt.legend(['train', 'test'], loc='upper left')\n",
    "plt.show()"
   ]
  },
  {
   "cell_type": "markdown",
   "metadata": {},
   "source": [
    "**Penjelasan :**\n",
    "\n",
    "Terlihat bahwa model yang dibangun cenderung overfitting. Hal ini dilihat dar nilai evaluasi pada data uji dan data latih yang cukup besar Gap nya setelah beberapa epoch. "
   ]
  },
  {
   "cell_type": "markdown",
   "metadata": {},
   "source": [
    "### 4.2.4 Merekomendasikan Buku"
   ]
  },
  {
   "cell_type": "code",
   "execution_count": 26,
   "metadata": {
    "execution": {
     "iopub.execute_input": "2025-06-05T18:04:30.485688Z",
     "iopub.status.busy": "2025-06-05T18:04:30.484939Z",
     "iopub.status.idle": "2025-06-05T18:04:41.604096Z",
     "shell.execute_reply": "2025-06-05T18:04:41.603494Z",
     "shell.execute_reply.started": "2025-06-05T18:04:30.485662Z"
    },
    "trusted": true
   },
   "outputs": [
    {
     "name": "stdout",
     "output_type": "stream",
     "text": [
      "Memberikan Rekomendasi untuk User :  276727\n",
      "\u001b[1m7157/7157\u001b[0m \u001b[32m━━━━━━━━━━━━━━━━━━━━\u001b[0m\u001b[37m\u001b[0m \u001b[1m8s\u001b[0m 1ms/step\n"
     ]
    },
    {
     "data": {
      "text/html": [
       "<div>\n",
       "<style scoped>\n",
       "    .dataframe tbody tr th:only-of-type {\n",
       "        vertical-align: middle;\n",
       "    }\n",
       "\n",
       "    .dataframe tbody tr th {\n",
       "        vertical-align: top;\n",
       "    }\n",
       "\n",
       "    .dataframe thead th {\n",
       "        text-align: right;\n",
       "    }\n",
       "</style>\n",
       "<table border=\"1\" class=\"dataframe\">\n",
       "  <thead>\n",
       "    <tr style=\"text-align: right;\">\n",
       "      <th></th>\n",
       "      <th>ISBN</th>\n",
       "      <th>Book-Title</th>\n",
       "      <th>Book-Author</th>\n",
       "      <th>Year-Of-Publication</th>\n",
       "      <th>Publisher</th>\n",
       "      <th>Image-URL-S</th>\n",
       "      <th>Image-URL-M</th>\n",
       "      <th>Image-URL-L</th>\n",
       "      <th>Predicted_Score</th>\n",
       "    </tr>\n",
       "  </thead>\n",
       "  <tbody>\n",
       "    <tr>\n",
       "      <th>69529</th>\n",
       "      <td>0553088467</td>\n",
       "      <td>Femmes Fatal</td>\n",
       "      <td>Dorothy Cannell</td>\n",
       "      <td>1992</td>\n",
       "      <td>Bantam Dell Pub Group</td>\n",
       "      <td>http://images.amazon.com/images/P/0553088467.0...</td>\n",
       "      <td>http://images.amazon.com/images/P/0553088467.0...</td>\n",
       "      <td>http://images.amazon.com/images/P/0553088467.0...</td>\n",
       "      <td>0.648713</td>\n",
       "    </tr>\n",
       "    <tr>\n",
       "      <th>106194</th>\n",
       "      <td>0131725866</td>\n",
       "      <td>Contemporary sociological theory: Continuing t...</td>\n",
       "      <td>Ruth A Wallace</td>\n",
       "      <td>1991</td>\n",
       "      <td>Prentice Hall</td>\n",
       "      <td>http://images.amazon.com/images/P/0131725866.0...</td>\n",
       "      <td>http://images.amazon.com/images/P/0131725866.0...</td>\n",
       "      <td>http://images.amazon.com/images/P/0131725866.0...</td>\n",
       "      <td>0.629912</td>\n",
       "    </tr>\n",
       "    <tr>\n",
       "      <th>131014</th>\n",
       "      <td>0413577503</td>\n",
       "      <td>Beiderbecke Affair</td>\n",
       "      <td>A. Plater</td>\n",
       "      <td>1996</td>\n",
       "      <td>Methuen Publishing Ltd</td>\n",
       "      <td>http://images.amazon.com/images/P/0413577503.0...</td>\n",
       "      <td>http://images.amazon.com/images/P/0413577503.0...</td>\n",
       "      <td>http://images.amazon.com/images/P/0413577503.0...</td>\n",
       "      <td>0.629111</td>\n",
       "    </tr>\n",
       "    <tr>\n",
       "      <th>186313</th>\n",
       "      <td>0802417620</td>\n",
       "      <td>Daughter of the Plain Folk</td>\n",
       "      <td>S. Earl Dubbel</td>\n",
       "      <td>1975</td>\n",
       "      <td>Moody Press</td>\n",
       "      <td>http://images.amazon.com/images/P/0802417620.0...</td>\n",
       "      <td>http://images.amazon.com/images/P/0802417620.0...</td>\n",
       "      <td>http://images.amazon.com/images/P/0802417620.0...</td>\n",
       "      <td>0.620917</td>\n",
       "    </tr>\n",
       "    <tr>\n",
       "      <th>267563</th>\n",
       "      <td>0399128204</td>\n",
       "      <td>The Seduction of Peter S</td>\n",
       "      <td>Lawrence Sanders</td>\n",
       "      <td>1985</td>\n",
       "      <td>Putnam Publishing Group</td>\n",
       "      <td>http://images.amazon.com/images/P/0399128204.0...</td>\n",
       "      <td>http://images.amazon.com/images/P/0399128204.0...</td>\n",
       "      <td>http://images.amazon.com/images/P/0399128204.0...</td>\n",
       "      <td>0.619105</td>\n",
       "    </tr>\n",
       "  </tbody>\n",
       "</table>\n",
       "</div>"
      ],
      "text/plain": [
       "              ISBN                                         Book-Title  \\\n",
       "69529   0553088467                                       Femmes Fatal   \n",
       "106194  0131725866  Contemporary sociological theory: Continuing t...   \n",
       "131014  0413577503                                 Beiderbecke Affair   \n",
       "186313  0802417620                         Daughter of the Plain Folk   \n",
       "267563  0399128204                           The Seduction of Peter S   \n",
       "\n",
       "             Book-Author Year-Of-Publication                Publisher  \\\n",
       "69529    Dorothy Cannell                1992    Bantam Dell Pub Group   \n",
       "106194    Ruth A Wallace                1991            Prentice Hall   \n",
       "131014         A. Plater                1996   Methuen Publishing Ltd   \n",
       "186313    S. Earl Dubbel                1975              Moody Press   \n",
       "267563  Lawrence Sanders                1985  Putnam Publishing Group   \n",
       "\n",
       "                                              Image-URL-S  \\\n",
       "69529   http://images.amazon.com/images/P/0553088467.0...   \n",
       "106194  http://images.amazon.com/images/P/0131725866.0...   \n",
       "131014  http://images.amazon.com/images/P/0413577503.0...   \n",
       "186313  http://images.amazon.com/images/P/0802417620.0...   \n",
       "267563  http://images.amazon.com/images/P/0399128204.0...   \n",
       "\n",
       "                                              Image-URL-M  \\\n",
       "69529   http://images.amazon.com/images/P/0553088467.0...   \n",
       "106194  http://images.amazon.com/images/P/0131725866.0...   \n",
       "131014  http://images.amazon.com/images/P/0413577503.0...   \n",
       "186313  http://images.amazon.com/images/P/0802417620.0...   \n",
       "267563  http://images.amazon.com/images/P/0399128204.0...   \n",
       "\n",
       "                                              Image-URL-L  Predicted_Score  \n",
       "69529   http://images.amazon.com/images/P/0553088467.0...         0.648713  \n",
       "106194  http://images.amazon.com/images/P/0131725866.0...         0.629912  \n",
       "131014  http://images.amazon.com/images/P/0413577503.0...         0.629111  \n",
       "186313  http://images.amazon.com/images/P/0802417620.0...         0.620917  \n",
       "267563  http://images.amazon.com/images/P/0399128204.0...         0.619105  "
      ]
     },
     "metadata": {},
     "output_type": "display_data"
    }
   ],
   "source": [
    "def recommend_books_for_user(model, user_id_asli, data, buku_df, user_to_user_encoded, buku_to_ids_encoded, ids_to_buku_encoded, top_n=10):\n",
    "    # Cek apakah user_id valid\n",
    "    if user_id_asli not in user_to_user_encoded:\n",
    "        print(\"User ID tidak ditemukan.\")\n",
    "        return []\n",
    "\n",
    "    user_encoded = user_to_user_encoded[user_id_asli]\n",
    "    buku_user_sudah_rating = data[data['userID'] == user_id_asli]['ISBN'].tolist()\n",
    "    buku_user_sudah_encoded = [buku_to_ids_encoded[buku] for buku in buku_user_sudah_rating]\n",
    "\n",
    "    # Semua buku yang belum diberi rating oleh user\n",
    "    buku_tidak_dirating = list(set(buku_to_ids_encoded.values()) - set(buku_user_sudah_encoded))\n",
    "    user_encoded_array = np.full(len(buku_tidak_dirating), user_encoded)\n",
    "    \n",
    "    # Membuat data pasangan user-buku\n",
    "    input_pairs = np.array(list(zip(user_encoded_array, buku_tidak_dirating)))\n",
    "\n",
    "    # Prediksi skor\n",
    "    ratings = model.predict(input_pairs).flatten()\n",
    "    \n",
    "    # Ambil top-N\n",
    "    top_indices = ratings.argsort()[-top_n:][::-1]\n",
    "    top_buku_encoded = [buku_tidak_dirating[i] for i in top_indices]\n",
    "    top_buku_isbn = [ids_to_buku_encoded[i] for i in top_buku_encoded]\n",
    "\n",
    "    # Gabungkan dengan info buku (jika ada dataframe buku_df)\n",
    "    rekomendasi = buku_df[buku_df['ISBN'].isin(top_buku_isbn)].copy() if buku_df is not None else pd.DataFrame({'ISBN': top_buku_isbn})\n",
    "    rekomendasi['Predicted_Score'] = ratings[top_indices]\n",
    "    \n",
    "    return rekomendasi.sort_values(by='Predicted_Score', ascending=False)\n",
    "\n",
    "# Menampilkan 5 userID unik pertama dari data\n",
    "sample_user_ids = dataFinal['userID'].unique()[:5]\n",
    "user_id_sample = sample_user_ids[0]  # atau pilih indeks lain\n",
    "print('Memberikan Rekomendasi untuk User : ',user_id_sample)\n",
    "\n",
    "# Contoh penggunaan:\n",
    "rekomendasi_df = recommend_books_for_user(model, user_id_asli=user_id_sample, data=dataFinal, buku_df=dataBuku,\n",
    "    user_to_user_encoded=user_to_user_encoded,\n",
    "    buku_to_ids_encoded=buku_to_ids_encoded,\n",
    "    ids_to_buku_encoded=ids_to_buku_encoded,\n",
    "    top_n=5)\n",
    "\n",
    "# Tampilkan hasil\n",
    "display(rekomendasi_df)\n"
   ]
  },
  {
   "cell_type": "markdown",
   "metadata": {},
   "source": [
    "**Penjelasan :**\n",
    "\n",
    "Berdasarkan pengujian yang dilakukan terhadap sistem rekomendasi yang dibangun dengan RecommenderNet, terlihat bahwa sistem dapat mengembalikan daftar Buku melalui karakteristik buku disertai prediksi rating yang telah distandardisasi."
   ]
  },
  {
   "cell_type": "markdown",
   "metadata": {},
   "source": [
    "## 4.3.1 Pendefinisian Model Rekomendasi dengan Catboost"
   ]
  },
  {
   "cell_type": "code",
   "execution_count": 26,
   "metadata": {
    "execution": {
     "iopub.execute_input": "2025-05-22T05:53:55.932176Z",
     "iopub.status.busy": "2025-05-22T05:53:55.931942Z",
     "iopub.status.idle": "2025-05-22T05:53:55.938341Z",
     "shell.execute_reply": "2025-05-22T05:53:55.937683Z",
     "shell.execute_reply.started": "2025-05-22T05:53:55.932160Z"
    },
    "trusted": true
   },
   "outputs": [],
   "source": [
    "def sistemRekomendasiCatboost(x_train, y_train, x_val, y_val, n_trials=10, random_state=42):\n",
    "    def objective(trial):\n",
    "        params = {\n",
    "            'iterations': trial.suggest_int('iterations', 100, 1000),\n",
    "            'learning_rate': trial.suggest_float('learning_rate', 0.01, 0.3, log=True),\n",
    "            'l2_leaf_reg': trial.suggest_float('l2_leaf_reg', 1, 10),\n",
    "            'random_state': random_state,\n",
    "            'verbose': 0\n",
    "        }\n",
    "\n",
    "        model = CatBoostRegressor(**params)\n",
    "        model.fit(x_train, y_train)\n",
    "        y_pred = model.predict(x_val)\n",
    "        rmse = root_mean_squared_error(y_val, y_pred)\n",
    "        return rmse\n",
    "\n",
    "    # Optimasi dengan Optuna\n",
    "    study = optuna.create_study(direction='minimize')\n",
    "    study.optimize(objective, n_trials=n_trials)\n",
    "\n",
    "    print(\"Best Parameters:\", study.best_params)\n",
    "    print(\"Best RMSE:\", study.best_value)\n",
    "\n",
    "    # Latih ulang model terbaik\n",
    "    best_params = study.best_params\n",
    "\n",
    "    best_model = CatBoostRegressor(**best_params)\n",
    "    best_model.fit(x_train, y_train)\n",
    "\n",
    "    return best_model, study\n"
   ]
  },
  {
   "cell_type": "markdown",
   "metadata": {},
   "source": [
    "### 4.3.2 Rekomendasi Buku"
   ]
  },
  {
   "cell_type": "code",
   "execution_count": 30,
   "metadata": {
    "execution": {
     "iopub.execute_input": "2025-05-22T05:53:55.939187Z",
     "iopub.status.busy": "2025-05-22T05:53:55.939014Z",
     "iopub.status.idle": "2025-05-22T05:53:55.958823Z",
     "shell.execute_reply": "2025-05-22T05:53:55.958187Z",
     "shell.execute_reply.started": "2025-05-22T05:53:55.939166Z"
    },
    "trusted": true
   },
   "outputs": [],
   "source": [
    "def recommend_books_cb(\n",
    "    model, \n",
    "    user_id_asli, \n",
    "    data, \n",
    "    buku_df, \n",
    "    user_to_user_encoded, \n",
    "    buku_to_ids_encoded, \n",
    "    ids_to_buku_encoded, \n",
    "    top_n=5\n",
    "):\n",
    "    if user_id_asli not in user_to_user_encoded:\n",
    "        return pd.DataFrame()\n",
    "\n",
    "    user_enc = user_to_user_encoded[user_id_asli]\n",
    "    all_buku_encoded = list(buku_to_ids_encoded.values())\n",
    "\n",
    "    # Buat kombinasi user_encoded dengan semua buku_encoded\n",
    "    user_buku_pairs = np.array([[user_enc, buku_enc] for buku_enc in all_buku_encoded])\n",
    "\n",
    "    # Prediksi rating\n",
    "    pred_ratings = model.predict(user_buku_pairs)\n",
    "\n",
    "    # Ambil top_n hasil\n",
    "    top_indices = np.argsort(pred_ratings)[::-1][:top_n]\n",
    "    top_buku_encoded = [all_buku_encoded[i] for i in top_indices]\n",
    "\n",
    "    top_isbns = [ids_to_buku_encoded[enc] for enc in top_buku_encoded]\n",
    "    top_pred_scores = pred_ratings[top_indices]\n",
    "\n",
    "    # Buat DataFrame hasil rekomendasi\n",
    "    recommendations = pd.DataFrame({\n",
    "        'ISBN': top_isbns,\n",
    "        'predicted_rating': top_pred_scores\n",
    "    })\n",
    "\n",
    "    # Merge dengan buku_df untuk menambahkan informasi buku\n",
    "    buku_info_cols = ['ISBN', 'Book-Title', 'Book-Author', 'Publisher', 'Year-Of-Publication']\n",
    "    final_df = recommendations.merge(buku_df[buku_info_cols], on='ISBN', how='left')\n",
    "\n",
    "    return final_df\n"
   ]
  },
  {
   "cell_type": "markdown",
   "metadata": {},
   "source": [
    "### 4.3.3 Pengujian Sistem Rekomendasi"
   ]
  },
  {
   "cell_type": "code",
   "execution_count": 28,
   "metadata": {
    "execution": {
     "iopub.execute_input": "2025-05-22T05:53:55.960002Z",
     "iopub.status.busy": "2025-05-22T05:53:55.959736Z",
     "iopub.status.idle": "2025-05-22T05:56:22.355425Z",
     "shell.execute_reply": "2025-05-22T05:56:22.354742Z",
     "shell.execute_reply.started": "2025-05-22T05:53:55.959981Z"
    },
    "trusted": true
   },
   "outputs": [
    {
     "name": "stderr",
     "output_type": "stream",
     "text": [
      "[I 2025-06-05 12:14:30,303] A new study created in memory with name: no-name-e128ad1c-bb11-464a-a4e5-de2030b7a3ad\n",
      "[I 2025-06-05 12:14:42,913] Trial 0 finished with value: 0.3796866466243356 and parameters: {'iterations': 345, 'learning_rate': 0.0226625105006579, 'l2_leaf_reg': 4.955792512126149}. Best is trial 0 with value: 0.3796866466243356.\n",
      "[I 2025-06-05 12:15:03,042] Trial 1 finished with value: 0.3763531349989974 and parameters: {'iterations': 555, 'learning_rate': 0.05150404871098737, 'l2_leaf_reg': 2.38454003589604}. Best is trial 1 with value: 0.3763531349989974.\n",
      "[I 2025-06-05 12:15:33,097] Trial 2 finished with value: 0.378612522344225 and parameters: {'iterations': 805, 'learning_rate': 0.01546825116828125, 'l2_leaf_reg': 2.119195737814583}. Best is trial 1 with value: 0.3763531349989974.\n",
      "[I 2025-06-05 12:15:44,480] Trial 3 finished with value: 0.37801265602098183 and parameters: {'iterations': 283, 'learning_rate': 0.05609723075903076, 'l2_leaf_reg': 6.0635939275679505}. Best is trial 1 with value: 0.3763531349989974.\n",
      "[I 2025-06-05 12:16:06,687] Trial 4 finished with value: 0.37416850201595 and parameters: {'iterations': 519, 'learning_rate': 0.1844464136719036, 'l2_leaf_reg': 6.752485483360803}. Best is trial 4 with value: 0.37416850201595.\n",
      "[I 2025-06-05 12:16:25,219] Trial 5 finished with value: 0.3804686358309719 and parameters: {'iterations': 554, 'learning_rate': 0.010260123323847695, 'l2_leaf_reg': 8.484102696827977}. Best is trial 4 with value: 0.37416850201595.\n",
      "[I 2025-06-05 12:16:41,315] Trial 6 finished with value: 0.37613936472323367 and parameters: {'iterations': 477, 'learning_rate': 0.0660042055915143, 'l2_leaf_reg': 1.0651610489664949}. Best is trial 4 with value: 0.37416850201595.\n",
      "[I 2025-06-05 12:17:14,909] Trial 7 finished with value: 0.377215981365933 and parameters: {'iterations': 952, 'learning_rate': 0.021781482932943665, 'l2_leaf_reg': 7.880609907422507}. Best is trial 4 with value: 0.37416850201595.\n",
      "[I 2025-06-05 12:17:29,237] Trial 8 finished with value: 0.38073505928007595 and parameters: {'iterations': 421, 'learning_rate': 0.01192101124338059, 'l2_leaf_reg': 2.5098562472824875}. Best is trial 4 with value: 0.37416850201595.\n",
      "[I 2025-06-05 12:18:06,903] Trial 9 finished with value: 0.37711659399728403 and parameters: {'iterations': 999, 'learning_rate': 0.02169962539620001, 'l2_leaf_reg': 9.384286752323389}. Best is trial 4 with value: 0.37416850201595.\n"
     ]
    },
    {
     "name": "stdout",
     "output_type": "stream",
     "text": [
      "Best Parameters: {'iterations': 519, 'learning_rate': 0.1844464136719036, 'l2_leaf_reg': 6.752485483360803}\n",
      "Best RMSE: 0.37416850201595\n",
      "0:\tlearn: 0.3850927\ttotal: 50.1ms\tremaining: 25.9s\n",
      "1:\tlearn: 0.3842042\ttotal: 94.3ms\tremaining: 24.4s\n",
      "2:\tlearn: 0.3839225\ttotal: 134ms\tremaining: 23.1s\n",
      "3:\tlearn: 0.3832600\ttotal: 178ms\tremaining: 23s\n",
      "4:\tlearn: 0.3830814\ttotal: 222ms\tremaining: 22.8s\n",
      "5:\tlearn: 0.3826959\ttotal: 262ms\tremaining: 22.4s\n",
      "6:\tlearn: 0.3824208\ttotal: 299ms\tremaining: 21.9s\n",
      "7:\tlearn: 0.3823195\ttotal: 328ms\tremaining: 21s\n",
      "8:\tlearn: 0.3822269\ttotal: 358ms\tremaining: 20.3s\n",
      "9:\tlearn: 0.3819327\ttotal: 393ms\tremaining: 20s\n",
      "10:\tlearn: 0.3817111\ttotal: 429ms\tremaining: 19.8s\n",
      "11:\tlearn: 0.3815748\ttotal: 465ms\tremaining: 19.6s\n",
      "12:\tlearn: 0.3813527\ttotal: 502ms\tremaining: 19.5s\n",
      "13:\tlearn: 0.3812849\ttotal: 538ms\tremaining: 19.4s\n",
      "14:\tlearn: 0.3811304\ttotal: 573ms\tremaining: 19.2s\n",
      "15:\tlearn: 0.3809814\ttotal: 614ms\tremaining: 19.3s\n",
      "16:\tlearn: 0.3808185\ttotal: 648ms\tremaining: 19.1s\n",
      "17:\tlearn: 0.3807554\ttotal: 690ms\tremaining: 19.2s\n",
      "18:\tlearn: 0.3806446\ttotal: 733ms\tremaining: 19.3s\n",
      "19:\tlearn: 0.3805639\ttotal: 778ms\tremaining: 19.4s\n",
      "20:\tlearn: 0.3804642\ttotal: 818ms\tremaining: 19.4s\n",
      "21:\tlearn: 0.3804096\ttotal: 854ms\tremaining: 19.3s\n",
      "22:\tlearn: 0.3803445\ttotal: 883ms\tremaining: 19s\n",
      "23:\tlearn: 0.3801696\ttotal: 923ms\tremaining: 19s\n",
      "24:\tlearn: 0.3800826\ttotal: 961ms\tremaining: 19s\n",
      "25:\tlearn: 0.3799637\ttotal: 995ms\tremaining: 18.9s\n",
      "26:\tlearn: 0.3798696\ttotal: 1.02s\tremaining: 18.7s\n",
      "27:\tlearn: 0.3797925\ttotal: 1.06s\tremaining: 18.6s\n",
      "28:\tlearn: 0.3796717\ttotal: 1.09s\tremaining: 18.4s\n",
      "29:\tlearn: 0.3795661\ttotal: 1.13s\tremaining: 18.4s\n",
      "30:\tlearn: 0.3795284\ttotal: 1.16s\tremaining: 18.2s\n",
      "31:\tlearn: 0.3794653\ttotal: 1.19s\tremaining: 18.1s\n",
      "32:\tlearn: 0.3793874\ttotal: 1.22s\tremaining: 18s\n",
      "33:\tlearn: 0.3793368\ttotal: 1.26s\tremaining: 17.9s\n",
      "34:\tlearn: 0.3793040\ttotal: 1.29s\tremaining: 17.8s\n",
      "35:\tlearn: 0.3792310\ttotal: 1.32s\tremaining: 17.7s\n",
      "36:\tlearn: 0.3791858\ttotal: 1.36s\tremaining: 17.7s\n",
      "37:\tlearn: 0.3791261\ttotal: 1.39s\tremaining: 17.6s\n",
      "38:\tlearn: 0.3790847\ttotal: 1.42s\tremaining: 17.5s\n",
      "39:\tlearn: 0.3790438\ttotal: 1.45s\tremaining: 17.4s\n",
      "40:\tlearn: 0.3790064\ttotal: 1.49s\tremaining: 17.4s\n",
      "41:\tlearn: 0.3788994\ttotal: 1.53s\tremaining: 17.3s\n",
      "42:\tlearn: 0.3788312\ttotal: 1.57s\tremaining: 17.3s\n",
      "43:\tlearn: 0.3787428\ttotal: 1.6s\tremaining: 17.3s\n",
      "44:\tlearn: 0.3786819\ttotal: 1.63s\tremaining: 17.2s\n",
      "45:\tlearn: 0.3786228\ttotal: 1.67s\tremaining: 17.1s\n",
      "46:\tlearn: 0.3785603\ttotal: 1.7s\tremaining: 17.1s\n",
      "47:\tlearn: 0.3785097\ttotal: 1.73s\tremaining: 17s\n",
      "48:\tlearn: 0.3783934\ttotal: 1.77s\tremaining: 17s\n",
      "49:\tlearn: 0.3783601\ttotal: 1.8s\tremaining: 16.9s\n",
      "50:\tlearn: 0.3783447\ttotal: 1.83s\tremaining: 16.8s\n",
      "51:\tlearn: 0.3782678\ttotal: 1.87s\tremaining: 16.8s\n",
      "52:\tlearn: 0.3782172\ttotal: 1.9s\tremaining: 16.7s\n",
      "53:\tlearn: 0.3781966\ttotal: 1.93s\tremaining: 16.7s\n",
      "54:\tlearn: 0.3781442\ttotal: 1.97s\tremaining: 16.6s\n",
      "55:\tlearn: 0.3780870\ttotal: 2s\tremaining: 16.6s\n",
      "56:\tlearn: 0.3780659\ttotal: 2.03s\tremaining: 16.5s\n",
      "57:\tlearn: 0.3780052\ttotal: 2.07s\tremaining: 16.4s\n",
      "58:\tlearn: 0.3779785\ttotal: 2.1s\tremaining: 16.4s\n",
      "59:\tlearn: 0.3779201\ttotal: 2.14s\tremaining: 16.4s\n",
      "60:\tlearn: 0.3778710\ttotal: 2.18s\tremaining: 16.4s\n",
      "61:\tlearn: 0.3778368\ttotal: 2.21s\tremaining: 16.3s\n",
      "62:\tlearn: 0.3777924\ttotal: 2.25s\tremaining: 16.3s\n",
      "63:\tlearn: 0.3777325\ttotal: 2.28s\tremaining: 16.2s\n",
      "64:\tlearn: 0.3777061\ttotal: 2.31s\tremaining: 16.1s\n",
      "65:\tlearn: 0.3776841\ttotal: 2.34s\tremaining: 16.1s\n",
      "66:\tlearn: 0.3776254\ttotal: 2.38s\tremaining: 16s\n",
      "67:\tlearn: 0.3775891\ttotal: 2.41s\tremaining: 16s\n",
      "68:\tlearn: 0.3775250\ttotal: 2.45s\tremaining: 16s\n",
      "69:\tlearn: 0.3774855\ttotal: 2.48s\tremaining: 15.9s\n",
      "70:\tlearn: 0.3774394\ttotal: 2.53s\tremaining: 15.9s\n",
      "71:\tlearn: 0.3774130\ttotal: 2.56s\tremaining: 15.9s\n",
      "72:\tlearn: 0.3773207\ttotal: 2.61s\tremaining: 16s\n",
      "73:\tlearn: 0.3772671\ttotal: 2.65s\tremaining: 16s\n",
      "74:\tlearn: 0.3772047\ttotal: 2.69s\tremaining: 16s\n",
      "75:\tlearn: 0.3771852\ttotal: 2.74s\tremaining: 16s\n",
      "76:\tlearn: 0.3771418\ttotal: 2.78s\tremaining: 16s\n",
      "77:\tlearn: 0.3770983\ttotal: 2.82s\tremaining: 15.9s\n",
      "78:\tlearn: 0.3770263\ttotal: 2.86s\tremaining: 15.9s\n",
      "79:\tlearn: 0.3769778\ttotal: 2.9s\tremaining: 15.9s\n",
      "80:\tlearn: 0.3769136\ttotal: 2.94s\tremaining: 15.9s\n",
      "81:\tlearn: 0.3768928\ttotal: 2.98s\tremaining: 15.9s\n",
      "82:\tlearn: 0.3768781\ttotal: 3.01s\tremaining: 15.8s\n",
      "83:\tlearn: 0.3768504\ttotal: 3.05s\tremaining: 15.8s\n",
      "84:\tlearn: 0.3768354\ttotal: 3.08s\tremaining: 15.7s\n",
      "85:\tlearn: 0.3768081\ttotal: 3.11s\tremaining: 15.7s\n",
      "86:\tlearn: 0.3767754\ttotal: 3.15s\tremaining: 15.6s\n",
      "87:\tlearn: 0.3767428\ttotal: 3.18s\tremaining: 15.6s\n",
      "88:\tlearn: 0.3767159\ttotal: 3.21s\tremaining: 15.5s\n",
      "89:\tlearn: 0.3766798\ttotal: 3.26s\tremaining: 15.5s\n",
      "90:\tlearn: 0.3766681\ttotal: 3.3s\tremaining: 15.5s\n",
      "91:\tlearn: 0.3766579\ttotal: 3.33s\tremaining: 15.5s\n",
      "92:\tlearn: 0.3766286\ttotal: 3.38s\tremaining: 15.5s\n",
      "93:\tlearn: 0.3765916\ttotal: 3.43s\tremaining: 15.5s\n",
      "94:\tlearn: 0.3765459\ttotal: 3.47s\tremaining: 15.5s\n",
      "95:\tlearn: 0.3765013\ttotal: 3.51s\tremaining: 15.5s\n",
      "96:\tlearn: 0.3764391\ttotal: 3.55s\tremaining: 15.4s\n",
      "97:\tlearn: 0.3764100\ttotal: 3.59s\tremaining: 15.4s\n",
      "98:\tlearn: 0.3763947\ttotal: 3.63s\tremaining: 15.4s\n",
      "99:\tlearn: 0.3763680\ttotal: 3.67s\tremaining: 15.4s\n",
      "100:\tlearn: 0.3763179\ttotal: 3.71s\tremaining: 15.4s\n",
      "101:\tlearn: 0.3762694\ttotal: 3.75s\tremaining: 15.3s\n",
      "102:\tlearn: 0.3762602\ttotal: 3.78s\tremaining: 15.3s\n",
      "103:\tlearn: 0.3762082\ttotal: 3.82s\tremaining: 15.3s\n",
      "104:\tlearn: 0.3761694\ttotal: 3.86s\tremaining: 15.2s\n",
      "105:\tlearn: 0.3761215\ttotal: 3.9s\tremaining: 15.2s\n",
      "106:\tlearn: 0.3761078\ttotal: 3.93s\tremaining: 15.1s\n",
      "107:\tlearn: 0.3760837\ttotal: 3.96s\tremaining: 15.1s\n",
      "108:\tlearn: 0.3760376\ttotal: 3.99s\tremaining: 15s\n",
      "109:\tlearn: 0.3760171\ttotal: 4.03s\tremaining: 15s\n",
      "110:\tlearn: 0.3759869\ttotal: 4.05s\tremaining: 14.9s\n",
      "111:\tlearn: 0.3759363\ttotal: 4.09s\tremaining: 14.9s\n",
      "112:\tlearn: 0.3759248\ttotal: 4.11s\tremaining: 14.8s\n",
      "113:\tlearn: 0.3759149\ttotal: 4.14s\tremaining: 14.7s\n",
      "114:\tlearn: 0.3758990\ttotal: 4.17s\tremaining: 14.6s\n",
      "115:\tlearn: 0.3758668\ttotal: 4.2s\tremaining: 14.6s\n",
      "116:\tlearn: 0.3758276\ttotal: 4.24s\tremaining: 14.6s\n",
      "117:\tlearn: 0.3757875\ttotal: 4.27s\tremaining: 14.5s\n",
      "118:\tlearn: 0.3757572\ttotal: 4.3s\tremaining: 14.5s\n",
      "119:\tlearn: 0.3757492\ttotal: 4.33s\tremaining: 14.4s\n",
      "120:\tlearn: 0.3757317\ttotal: 4.36s\tremaining: 14.3s\n",
      "121:\tlearn: 0.3757035\ttotal: 4.39s\tremaining: 14.3s\n",
      "122:\tlearn: 0.3756750\ttotal: 4.42s\tremaining: 14.2s\n",
      "123:\tlearn: 0.3756487\ttotal: 4.46s\tremaining: 14.2s\n",
      "124:\tlearn: 0.3756391\ttotal: 4.49s\tremaining: 14.2s\n",
      "125:\tlearn: 0.3756175\ttotal: 4.53s\tremaining: 14.1s\n",
      "126:\tlearn: 0.3755994\ttotal: 4.56s\tremaining: 14.1s\n",
      "127:\tlearn: 0.3755745\ttotal: 4.59s\tremaining: 14s\n",
      "128:\tlearn: 0.3755430\ttotal: 4.63s\tremaining: 14s\n",
      "129:\tlearn: 0.3755164\ttotal: 4.66s\tremaining: 14s\n",
      "130:\tlearn: 0.3754916\ttotal: 4.69s\tremaining: 13.9s\n",
      "131:\tlearn: 0.3754561\ttotal: 4.72s\tremaining: 13.9s\n",
      "132:\tlearn: 0.3754472\ttotal: 4.75s\tremaining: 13.8s\n",
      "133:\tlearn: 0.3754069\ttotal: 4.78s\tremaining: 13.7s\n",
      "134:\tlearn: 0.3754019\ttotal: 4.8s\tremaining: 13.7s\n",
      "135:\tlearn: 0.3753859\ttotal: 4.84s\tremaining: 13.6s\n",
      "136:\tlearn: 0.3753590\ttotal: 4.88s\tremaining: 13.6s\n",
      "137:\tlearn: 0.3753322\ttotal: 4.91s\tremaining: 13.6s\n",
      "138:\tlearn: 0.3753119\ttotal: 4.95s\tremaining: 13.5s\n",
      "139:\tlearn: 0.3752902\ttotal: 4.99s\tremaining: 13.5s\n",
      "140:\tlearn: 0.3752691\ttotal: 5.04s\tremaining: 13.5s\n",
      "141:\tlearn: 0.3752466\ttotal: 5.07s\tremaining: 13.5s\n",
      "142:\tlearn: 0.3752295\ttotal: 5.11s\tremaining: 13.4s\n",
      "143:\tlearn: 0.3751985\ttotal: 5.15s\tremaining: 13.4s\n",
      "144:\tlearn: 0.3751849\ttotal: 5.18s\tremaining: 13.4s\n",
      "145:\tlearn: 0.3751661\ttotal: 5.22s\tremaining: 13.3s\n",
      "146:\tlearn: 0.3751430\ttotal: 5.26s\tremaining: 13.3s\n",
      "147:\tlearn: 0.3751324\ttotal: 5.3s\tremaining: 13.3s\n",
      "148:\tlearn: 0.3751006\ttotal: 5.33s\tremaining: 13.2s\n",
      "149:\tlearn: 0.3750856\ttotal: 5.36s\tremaining: 13.2s\n",
      "150:\tlearn: 0.3750701\ttotal: 5.4s\tremaining: 13.2s\n",
      "151:\tlearn: 0.3750405\ttotal: 5.43s\tremaining: 13.1s\n",
      "152:\tlearn: 0.3750128\ttotal: 5.46s\tremaining: 13.1s\n",
      "153:\tlearn: 0.3749970\ttotal: 5.5s\tremaining: 13s\n",
      "154:\tlearn: 0.3749888\ttotal: 5.53s\tremaining: 13s\n",
      "155:\tlearn: 0.3749631\ttotal: 5.55s\tremaining: 12.9s\n",
      "156:\tlearn: 0.3749435\ttotal: 5.59s\tremaining: 12.9s\n",
      "157:\tlearn: 0.3749303\ttotal: 5.61s\tremaining: 12.8s\n",
      "158:\tlearn: 0.3749182\ttotal: 5.64s\tremaining: 12.8s\n",
      "159:\tlearn: 0.3749041\ttotal: 5.68s\tremaining: 12.7s\n",
      "160:\tlearn: 0.3748905\ttotal: 5.71s\tremaining: 12.7s\n",
      "161:\tlearn: 0.3748747\ttotal: 5.74s\tremaining: 12.6s\n",
      "162:\tlearn: 0.3748632\ttotal: 5.77s\tremaining: 12.6s\n",
      "163:\tlearn: 0.3748416\ttotal: 5.79s\tremaining: 12.5s\n",
      "164:\tlearn: 0.3748317\ttotal: 5.82s\tremaining: 12.5s\n",
      "165:\tlearn: 0.3748186\ttotal: 5.86s\tremaining: 12.5s\n",
      "166:\tlearn: 0.3747853\ttotal: 5.89s\tremaining: 12.4s\n",
      "167:\tlearn: 0.3747762\ttotal: 5.92s\tremaining: 12.4s\n",
      "168:\tlearn: 0.3747579\ttotal: 5.95s\tremaining: 12.3s\n",
      "169:\tlearn: 0.3747422\ttotal: 5.98s\tremaining: 12.3s\n",
      "170:\tlearn: 0.3747212\ttotal: 6.01s\tremaining: 12.2s\n",
      "171:\tlearn: 0.3747108\ttotal: 6.05s\tremaining: 12.2s\n",
      "172:\tlearn: 0.3746909\ttotal: 6.09s\tremaining: 12.2s\n",
      "173:\tlearn: 0.3746764\ttotal: 6.12s\tremaining: 12.1s\n",
      "174:\tlearn: 0.3746500\ttotal: 6.16s\tremaining: 12.1s\n",
      "175:\tlearn: 0.3746319\ttotal: 6.19s\tremaining: 12.1s\n",
      "176:\tlearn: 0.3746244\ttotal: 6.21s\tremaining: 12s\n",
      "177:\tlearn: 0.3746164\ttotal: 6.25s\tremaining: 12s\n",
      "178:\tlearn: 0.3746023\ttotal: 6.28s\tremaining: 11.9s\n",
      "179:\tlearn: 0.3745932\ttotal: 6.31s\tremaining: 11.9s\n",
      "180:\tlearn: 0.3745856\ttotal: 6.35s\tremaining: 11.8s\n",
      "181:\tlearn: 0.3745682\ttotal: 6.38s\tremaining: 11.8s\n",
      "182:\tlearn: 0.3745542\ttotal: 6.42s\tremaining: 11.8s\n",
      "183:\tlearn: 0.3745254\ttotal: 6.46s\tremaining: 11.8s\n",
      "184:\tlearn: 0.3745124\ttotal: 6.5s\tremaining: 11.7s\n",
      "185:\tlearn: 0.3744915\ttotal: 6.53s\tremaining: 11.7s\n",
      "186:\tlearn: 0.3744825\ttotal: 6.57s\tremaining: 11.7s\n",
      "187:\tlearn: 0.3744635\ttotal: 6.59s\tremaining: 11.6s\n",
      "188:\tlearn: 0.3744537\ttotal: 6.63s\tremaining: 11.6s\n",
      "189:\tlearn: 0.3744454\ttotal: 6.65s\tremaining: 11.5s\n",
      "190:\tlearn: 0.3744355\ttotal: 6.68s\tremaining: 11.5s\n",
      "191:\tlearn: 0.3744208\ttotal: 6.72s\tremaining: 11.4s\n",
      "192:\tlearn: 0.3744049\ttotal: 6.76s\tremaining: 11.4s\n",
      "193:\tlearn: 0.3743915\ttotal: 6.79s\tremaining: 11.4s\n",
      "194:\tlearn: 0.3743755\ttotal: 6.82s\tremaining: 11.3s\n",
      "195:\tlearn: 0.3743476\ttotal: 6.86s\tremaining: 11.3s\n",
      "196:\tlearn: 0.3743395\ttotal: 6.89s\tremaining: 11.3s\n",
      "197:\tlearn: 0.3743283\ttotal: 6.93s\tremaining: 11.2s\n",
      "198:\tlearn: 0.3743168\ttotal: 6.97s\tremaining: 11.2s\n",
      "199:\tlearn: 0.3742937\ttotal: 7s\tremaining: 11.2s\n",
      "200:\tlearn: 0.3742766\ttotal: 7.03s\tremaining: 11.1s\n",
      "201:\tlearn: 0.3742694\ttotal: 7.06s\tremaining: 11.1s\n",
      "202:\tlearn: 0.3742582\ttotal: 7.1s\tremaining: 11s\n",
      "203:\tlearn: 0.3742300\ttotal: 7.15s\tremaining: 11s\n",
      "204:\tlearn: 0.3742154\ttotal: 7.18s\tremaining: 11s\n",
      "205:\tlearn: 0.3742031\ttotal: 7.23s\tremaining: 11s\n",
      "206:\tlearn: 0.3741984\ttotal: 7.26s\tremaining: 10.9s\n",
      "207:\tlearn: 0.3741861\ttotal: 7.3s\tremaining: 10.9s\n",
      "208:\tlearn: 0.3741788\ttotal: 7.33s\tremaining: 10.9s\n",
      "209:\tlearn: 0.3741540\ttotal: 7.38s\tremaining: 10.9s\n",
      "210:\tlearn: 0.3741405\ttotal: 7.42s\tremaining: 10.8s\n",
      "211:\tlearn: 0.3741334\ttotal: 7.44s\tremaining: 10.8s\n",
      "212:\tlearn: 0.3741208\ttotal: 7.48s\tremaining: 10.7s\n",
      "213:\tlearn: 0.3741079\ttotal: 7.52s\tremaining: 10.7s\n",
      "214:\tlearn: 0.3741034\ttotal: 7.55s\tremaining: 10.7s\n",
      "215:\tlearn: 0.3740913\ttotal: 7.58s\tremaining: 10.6s\n",
      "216:\tlearn: 0.3740771\ttotal: 7.63s\tremaining: 10.6s\n",
      "217:\tlearn: 0.3740625\ttotal: 7.66s\tremaining: 10.6s\n",
      "218:\tlearn: 0.3740575\ttotal: 7.69s\tremaining: 10.5s\n",
      "219:\tlearn: 0.3740495\ttotal: 7.72s\tremaining: 10.5s\n",
      "220:\tlearn: 0.3740390\ttotal: 7.75s\tremaining: 10.4s\n",
      "221:\tlearn: 0.3740322\ttotal: 7.78s\tremaining: 10.4s\n",
      "222:\tlearn: 0.3740239\ttotal: 7.82s\tremaining: 10.4s\n",
      "223:\tlearn: 0.3740017\ttotal: 7.86s\tremaining: 10.3s\n",
      "224:\tlearn: 0.3739855\ttotal: 7.9s\tremaining: 10.3s\n",
      "225:\tlearn: 0.3739740\ttotal: 7.95s\tremaining: 10.3s\n",
      "226:\tlearn: 0.3739598\ttotal: 8s\tremaining: 10.3s\n",
      "227:\tlearn: 0.3739472\ttotal: 8.03s\tremaining: 10.2s\n",
      "228:\tlearn: 0.3739311\ttotal: 8.07s\tremaining: 10.2s\n",
      "229:\tlearn: 0.3739236\ttotal: 8.11s\tremaining: 10.2s\n",
      "230:\tlearn: 0.3739133\ttotal: 8.14s\tremaining: 10.1s\n",
      "231:\tlearn: 0.3739086\ttotal: 8.16s\tremaining: 10.1s\n",
      "232:\tlearn: 0.3739034\ttotal: 8.19s\tremaining: 10.1s\n",
      "233:\tlearn: 0.3738679\ttotal: 8.22s\tremaining: 10s\n",
      "234:\tlearn: 0.3738636\ttotal: 8.26s\tremaining: 9.98s\n",
      "235:\tlearn: 0.3738508\ttotal: 8.29s\tremaining: 9.94s\n",
      "236:\tlearn: 0.3738422\ttotal: 8.32s\tremaining: 9.9s\n",
      "237:\tlearn: 0.3738343\ttotal: 8.35s\tremaining: 9.86s\n",
      "238:\tlearn: 0.3738258\ttotal: 8.38s\tremaining: 9.81s\n",
      "239:\tlearn: 0.3738080\ttotal: 8.41s\tremaining: 9.78s\n",
      "240:\tlearn: 0.3738027\ttotal: 8.44s\tremaining: 9.74s\n",
      "241:\tlearn: 0.3737928\ttotal: 8.47s\tremaining: 9.69s\n",
      "242:\tlearn: 0.3737831\ttotal: 8.5s\tremaining: 9.65s\n",
      "243:\tlearn: 0.3737671\ttotal: 8.53s\tremaining: 9.62s\n",
      "244:\tlearn: 0.3737592\ttotal: 8.56s\tremaining: 9.57s\n",
      "245:\tlearn: 0.3737402\ttotal: 8.59s\tremaining: 9.53s\n",
      "246:\tlearn: 0.3737292\ttotal: 8.63s\tremaining: 9.5s\n",
      "247:\tlearn: 0.3737212\ttotal: 8.66s\tremaining: 9.47s\n",
      "248:\tlearn: 0.3737049\ttotal: 8.7s\tremaining: 9.44s\n",
      "249:\tlearn: 0.3736928\ttotal: 8.74s\tremaining: 9.4s\n",
      "250:\tlearn: 0.3736858\ttotal: 8.77s\tremaining: 9.36s\n",
      "251:\tlearn: 0.3736687\ttotal: 8.8s\tremaining: 9.33s\n",
      "252:\tlearn: 0.3736589\ttotal: 8.84s\tremaining: 9.29s\n",
      "253:\tlearn: 0.3736411\ttotal: 8.87s\tremaining: 9.26s\n",
      "254:\tlearn: 0.3736275\ttotal: 8.9s\tremaining: 9.22s\n",
      "255:\tlearn: 0.3736180\ttotal: 8.93s\tremaining: 9.18s\n",
      "256:\tlearn: 0.3736098\ttotal: 8.96s\tremaining: 9.14s\n",
      "257:\tlearn: 0.3736000\ttotal: 9s\tremaining: 9.1s\n",
      "258:\tlearn: 0.3735860\ttotal: 9.04s\tremaining: 9.07s\n",
      "259:\tlearn: 0.3735775\ttotal: 9.07s\tremaining: 9.04s\n",
      "260:\tlearn: 0.3735706\ttotal: 9.11s\tremaining: 9s\n",
      "261:\tlearn: 0.3735648\ttotal: 9.14s\tremaining: 8.96s\n",
      "262:\tlearn: 0.3735532\ttotal: 9.17s\tremaining: 8.93s\n",
      "263:\tlearn: 0.3735481\ttotal: 9.21s\tremaining: 8.89s\n",
      "264:\tlearn: 0.3735401\ttotal: 9.24s\tremaining: 8.86s\n",
      "265:\tlearn: 0.3735342\ttotal: 9.27s\tremaining: 8.82s\n",
      "266:\tlearn: 0.3735292\ttotal: 9.31s\tremaining: 8.79s\n",
      "267:\tlearn: 0.3735170\ttotal: 9.34s\tremaining: 8.75s\n",
      "268:\tlearn: 0.3735088\ttotal: 9.38s\tremaining: 8.71s\n",
      "269:\tlearn: 0.3734981\ttotal: 9.4s\tremaining: 8.67s\n",
      "270:\tlearn: 0.3734906\ttotal: 9.44s\tremaining: 8.63s\n",
      "271:\tlearn: 0.3734848\ttotal: 9.47s\tremaining: 8.6s\n",
      "272:\tlearn: 0.3734807\ttotal: 9.49s\tremaining: 8.55s\n",
      "273:\tlearn: 0.3734670\ttotal: 9.52s\tremaining: 8.51s\n",
      "274:\tlearn: 0.3734431\ttotal: 9.55s\tremaining: 8.47s\n",
      "275:\tlearn: 0.3734292\ttotal: 9.59s\tremaining: 8.44s\n",
      "276:\tlearn: 0.3734134\ttotal: 9.62s\tremaining: 8.41s\n",
      "277:\tlearn: 0.3734083\ttotal: 9.66s\tremaining: 8.37s\n",
      "278:\tlearn: 0.3733977\ttotal: 9.7s\tremaining: 8.35s\n",
      "279:\tlearn: 0.3733939\ttotal: 9.73s\tremaining: 8.31s\n",
      "280:\tlearn: 0.3733900\ttotal: 9.77s\tremaining: 8.27s\n",
      "281:\tlearn: 0.3733835\ttotal: 9.8s\tremaining: 8.24s\n",
      "282:\tlearn: 0.3733770\ttotal: 9.83s\tremaining: 8.2s\n",
      "283:\tlearn: 0.3733619\ttotal: 9.87s\tremaining: 8.17s\n",
      "284:\tlearn: 0.3733498\ttotal: 9.9s\tremaining: 8.13s\n",
      "285:\tlearn: 0.3733411\ttotal: 9.93s\tremaining: 8.09s\n",
      "286:\tlearn: 0.3733346\ttotal: 9.96s\tremaining: 8.05s\n",
      "287:\tlearn: 0.3733196\ttotal: 9.99s\tremaining: 8.02s\n",
      "288:\tlearn: 0.3733116\ttotal: 10s\tremaining: 7.98s\n",
      "289:\tlearn: 0.3733062\ttotal: 10.1s\tremaining: 7.95s\n",
      "290:\tlearn: 0.3732991\ttotal: 10.1s\tremaining: 7.92s\n",
      "291:\tlearn: 0.3732953\ttotal: 10.1s\tremaining: 7.88s\n",
      "292:\tlearn: 0.3732877\ttotal: 10.2s\tremaining: 7.83s\n",
      "293:\tlearn: 0.3732839\ttotal: 10.2s\tremaining: 7.79s\n",
      "294:\tlearn: 0.3732724\ttotal: 10.2s\tremaining: 7.75s\n",
      "295:\tlearn: 0.3732602\ttotal: 10.2s\tremaining: 7.72s\n",
      "296:\tlearn: 0.3732528\ttotal: 10.3s\tremaining: 7.68s\n",
      "297:\tlearn: 0.3732430\ttotal: 10.3s\tremaining: 7.65s\n",
      "298:\tlearn: 0.3732374\ttotal: 10.3s\tremaining: 7.61s\n",
      "299:\tlearn: 0.3732294\ttotal: 10.4s\tremaining: 7.57s\n",
      "300:\tlearn: 0.3732164\ttotal: 10.4s\tremaining: 7.53s\n",
      "301:\tlearn: 0.3732123\ttotal: 10.4s\tremaining: 7.49s\n",
      "302:\tlearn: 0.3732000\ttotal: 10.5s\tremaining: 7.45s\n",
      "303:\tlearn: 0.3731894\ttotal: 10.5s\tremaining: 7.42s\n",
      "304:\tlearn: 0.3731822\ttotal: 10.5s\tremaining: 7.38s\n",
      "305:\tlearn: 0.3731753\ttotal: 10.5s\tremaining: 7.34s\n",
      "306:\tlearn: 0.3731702\ttotal: 10.6s\tremaining: 7.3s\n",
      "307:\tlearn: 0.3731659\ttotal: 10.6s\tremaining: 7.26s\n",
      "308:\tlearn: 0.3731574\ttotal: 10.6s\tremaining: 7.23s\n",
      "309:\tlearn: 0.3731532\ttotal: 10.7s\tremaining: 7.19s\n",
      "310:\tlearn: 0.3731494\ttotal: 10.7s\tremaining: 7.15s\n",
      "311:\tlearn: 0.3731372\ttotal: 10.7s\tremaining: 7.11s\n",
      "312:\tlearn: 0.3731270\ttotal: 10.8s\tremaining: 7.08s\n",
      "313:\tlearn: 0.3731217\ttotal: 10.8s\tremaining: 7.04s\n",
      "314:\tlearn: 0.3731160\ttotal: 10.8s\tremaining: 7s\n",
      "315:\tlearn: 0.3731059\ttotal: 10.8s\tremaining: 6.96s\n",
      "316:\tlearn: 0.3730991\ttotal: 10.9s\tremaining: 6.93s\n",
      "317:\tlearn: 0.3730923\ttotal: 10.9s\tremaining: 6.89s\n",
      "318:\tlearn: 0.3730873\ttotal: 10.9s\tremaining: 6.86s\n",
      "319:\tlearn: 0.3730827\ttotal: 11s\tremaining: 6.82s\n",
      "320:\tlearn: 0.3730715\ttotal: 11s\tremaining: 6.78s\n",
      "321:\tlearn: 0.3730662\ttotal: 11s\tremaining: 6.75s\n",
      "322:\tlearn: 0.3730606\ttotal: 11.1s\tremaining: 6.71s\n",
      "323:\tlearn: 0.3730510\ttotal: 11.1s\tremaining: 6.67s\n",
      "324:\tlearn: 0.3730473\ttotal: 11.1s\tremaining: 6.63s\n",
      "325:\tlearn: 0.3730383\ttotal: 11.1s\tremaining: 6.6s\n",
      "326:\tlearn: 0.3730346\ttotal: 11.2s\tremaining: 6.56s\n",
      "327:\tlearn: 0.3730322\ttotal: 11.2s\tremaining: 6.52s\n",
      "328:\tlearn: 0.3730248\ttotal: 11.2s\tremaining: 6.48s\n",
      "329:\tlearn: 0.3730190\ttotal: 11.3s\tremaining: 6.44s\n",
      "330:\tlearn: 0.3730128\ttotal: 11.3s\tremaining: 6.41s\n",
      "331:\tlearn: 0.3730034\ttotal: 11.3s\tremaining: 6.37s\n",
      "332:\tlearn: 0.3730004\ttotal: 11.3s\tremaining: 6.33s\n",
      "333:\tlearn: 0.3729960\ttotal: 11.4s\tremaining: 6.3s\n",
      "334:\tlearn: 0.3729905\ttotal: 11.4s\tremaining: 6.26s\n",
      "335:\tlearn: 0.3729852\ttotal: 11.4s\tremaining: 6.23s\n",
      "336:\tlearn: 0.3729800\ttotal: 11.5s\tremaining: 6.2s\n",
      "337:\tlearn: 0.3729735\ttotal: 11.5s\tremaining: 6.16s\n",
      "338:\tlearn: 0.3729702\ttotal: 11.5s\tremaining: 6.13s\n",
      "339:\tlearn: 0.3729549\ttotal: 11.6s\tremaining: 6.09s\n",
      "340:\tlearn: 0.3729498\ttotal: 11.6s\tremaining: 6.06s\n",
      "341:\tlearn: 0.3729431\ttotal: 11.6s\tremaining: 6.02s\n",
      "342:\tlearn: 0.3729400\ttotal: 11.7s\tremaining: 5.99s\n",
      "343:\tlearn: 0.3729346\ttotal: 11.7s\tremaining: 5.95s\n",
      "344:\tlearn: 0.3729280\ttotal: 11.7s\tremaining: 5.92s\n",
      "345:\tlearn: 0.3729201\ttotal: 11.8s\tremaining: 5.89s\n",
      "346:\tlearn: 0.3729128\ttotal: 11.8s\tremaining: 5.86s\n",
      "347:\tlearn: 0.3729071\ttotal: 11.8s\tremaining: 5.82s\n",
      "348:\tlearn: 0.3728960\ttotal: 11.9s\tremaining: 5.79s\n",
      "349:\tlearn: 0.3728877\ttotal: 11.9s\tremaining: 5.75s\n",
      "350:\tlearn: 0.3728767\ttotal: 11.9s\tremaining: 5.72s\n",
      "351:\tlearn: 0.3728730\ttotal: 12s\tremaining: 5.68s\n",
      "352:\tlearn: 0.3728663\ttotal: 12s\tremaining: 5.64s\n",
      "353:\tlearn: 0.3728626\ttotal: 12s\tremaining: 5.61s\n",
      "354:\tlearn: 0.3728544\ttotal: 12.1s\tremaining: 5.57s\n",
      "355:\tlearn: 0.3728516\ttotal: 12.1s\tremaining: 5.54s\n",
      "356:\tlearn: 0.3728436\ttotal: 12.1s\tremaining: 5.5s\n",
      "357:\tlearn: 0.3728348\ttotal: 12.2s\tremaining: 5.47s\n",
      "358:\tlearn: 0.3728249\ttotal: 12.2s\tremaining: 5.44s\n",
      "359:\tlearn: 0.3728141\ttotal: 12.3s\tremaining: 5.41s\n",
      "360:\tlearn: 0.3728099\ttotal: 12.3s\tremaining: 5.38s\n",
      "361:\tlearn: 0.3728013\ttotal: 12.3s\tremaining: 5.34s\n",
      "362:\tlearn: 0.3727967\ttotal: 12.3s\tremaining: 5.31s\n",
      "363:\tlearn: 0.3727900\ttotal: 12.4s\tremaining: 5.27s\n",
      "364:\tlearn: 0.3727841\ttotal: 12.4s\tremaining: 5.24s\n",
      "365:\tlearn: 0.3727801\ttotal: 12.4s\tremaining: 5.2s\n",
      "366:\tlearn: 0.3727682\ttotal: 12.5s\tremaining: 5.16s\n",
      "367:\tlearn: 0.3727628\ttotal: 12.5s\tremaining: 5.13s\n",
      "368:\tlearn: 0.3727518\ttotal: 12.5s\tremaining: 5.09s\n",
      "369:\tlearn: 0.3727470\ttotal: 12.6s\tremaining: 5.05s\n",
      "370:\tlearn: 0.3727416\ttotal: 12.6s\tremaining: 5.02s\n",
      "371:\tlearn: 0.3727366\ttotal: 12.6s\tremaining: 4.99s\n",
      "372:\tlearn: 0.3727281\ttotal: 12.7s\tremaining: 4.96s\n",
      "373:\tlearn: 0.3727218\ttotal: 12.7s\tremaining: 4.92s\n",
      "374:\tlearn: 0.3727183\ttotal: 12.7s\tremaining: 4.89s\n",
      "375:\tlearn: 0.3727119\ttotal: 12.8s\tremaining: 4.86s\n",
      "376:\tlearn: 0.3727070\ttotal: 12.8s\tremaining: 4.83s\n",
      "377:\tlearn: 0.3727013\ttotal: 12.8s\tremaining: 4.79s\n",
      "378:\tlearn: 0.3726959\ttotal: 12.9s\tremaining: 4.76s\n",
      "379:\tlearn: 0.3726906\ttotal: 12.9s\tremaining: 4.72s\n",
      "380:\tlearn: 0.3726828\ttotal: 12.9s\tremaining: 4.69s\n",
      "381:\tlearn: 0.3726781\ttotal: 13s\tremaining: 4.66s\n",
      "382:\tlearn: 0.3726740\ttotal: 13s\tremaining: 4.62s\n",
      "383:\tlearn: 0.3726680\ttotal: 13s\tremaining: 4.58s\n",
      "384:\tlearn: 0.3726652\ttotal: 13.1s\tremaining: 4.55s\n",
      "385:\tlearn: 0.3726624\ttotal: 13.1s\tremaining: 4.51s\n",
      "386:\tlearn: 0.3726582\ttotal: 13.1s\tremaining: 4.47s\n",
      "387:\tlearn: 0.3726538\ttotal: 13.2s\tremaining: 4.44s\n",
      "388:\tlearn: 0.3726453\ttotal: 13.2s\tremaining: 4.41s\n",
      "389:\tlearn: 0.3726395\ttotal: 13.2s\tremaining: 4.37s\n",
      "390:\tlearn: 0.3726337\ttotal: 13.2s\tremaining: 4.34s\n",
      "391:\tlearn: 0.3726265\ttotal: 13.3s\tremaining: 4.3s\n",
      "392:\tlearn: 0.3726222\ttotal: 13.3s\tremaining: 4.26s\n",
      "393:\tlearn: 0.3726181\ttotal: 13.3s\tremaining: 4.23s\n",
      "394:\tlearn: 0.3726126\ttotal: 13.4s\tremaining: 4.2s\n",
      "395:\tlearn: 0.3726051\ttotal: 13.4s\tremaining: 4.16s\n",
      "396:\tlearn: 0.3726003\ttotal: 13.4s\tremaining: 4.13s\n",
      "397:\tlearn: 0.3725950\ttotal: 13.5s\tremaining: 4.09s\n",
      "398:\tlearn: 0.3725876\ttotal: 13.5s\tremaining: 4.06s\n",
      "399:\tlearn: 0.3725819\ttotal: 13.5s\tremaining: 4.02s\n",
      "400:\tlearn: 0.3725790\ttotal: 13.5s\tremaining: 3.98s\n",
      "401:\tlearn: 0.3725762\ttotal: 13.6s\tremaining: 3.95s\n",
      "402:\tlearn: 0.3725736\ttotal: 13.6s\tremaining: 3.92s\n",
      "403:\tlearn: 0.3725693\ttotal: 13.6s\tremaining: 3.88s\n",
      "404:\tlearn: 0.3725672\ttotal: 13.7s\tremaining: 3.85s\n",
      "405:\tlearn: 0.3725628\ttotal: 13.7s\tremaining: 3.81s\n",
      "406:\tlearn: 0.3725567\ttotal: 13.7s\tremaining: 3.78s\n",
      "407:\tlearn: 0.3725534\ttotal: 13.8s\tremaining: 3.75s\n",
      "408:\tlearn: 0.3725485\ttotal: 13.8s\tremaining: 3.71s\n",
      "409:\tlearn: 0.3725425\ttotal: 13.8s\tremaining: 3.68s\n",
      "410:\tlearn: 0.3725371\ttotal: 13.9s\tremaining: 3.65s\n",
      "411:\tlearn: 0.3725319\ttotal: 13.9s\tremaining: 3.61s\n",
      "412:\tlearn: 0.3725262\ttotal: 13.9s\tremaining: 3.58s\n",
      "413:\tlearn: 0.3725194\ttotal: 14s\tremaining: 3.54s\n",
      "414:\tlearn: 0.3725145\ttotal: 14s\tremaining: 3.51s\n",
      "415:\tlearn: 0.3725082\ttotal: 14s\tremaining: 3.47s\n",
      "416:\tlearn: 0.3725053\ttotal: 14.1s\tremaining: 3.44s\n",
      "417:\tlearn: 0.3725022\ttotal: 14.1s\tremaining: 3.41s\n",
      "418:\tlearn: 0.3724993\ttotal: 14.1s\tremaining: 3.37s\n",
      "419:\tlearn: 0.3724955\ttotal: 14.2s\tremaining: 3.34s\n",
      "420:\tlearn: 0.3724911\ttotal: 14.2s\tremaining: 3.31s\n",
      "421:\tlearn: 0.3724879\ttotal: 14.2s\tremaining: 3.27s\n",
      "422:\tlearn: 0.3724856\ttotal: 14.3s\tremaining: 3.24s\n",
      "423:\tlearn: 0.3724802\ttotal: 14.3s\tremaining: 3.2s\n",
      "424:\tlearn: 0.3724765\ttotal: 14.3s\tremaining: 3.17s\n",
      "425:\tlearn: 0.3724748\ttotal: 14.3s\tremaining: 3.13s\n",
      "426:\tlearn: 0.3724700\ttotal: 14.4s\tremaining: 3.1s\n",
      "427:\tlearn: 0.3724650\ttotal: 14.4s\tremaining: 3.06s\n",
      "428:\tlearn: 0.3724607\ttotal: 14.4s\tremaining: 3.03s\n",
      "429:\tlearn: 0.3724577\ttotal: 14.5s\tremaining: 2.99s\n",
      "430:\tlearn: 0.3724563\ttotal: 14.5s\tremaining: 2.96s\n",
      "431:\tlearn: 0.3724528\ttotal: 14.5s\tremaining: 2.92s\n",
      "432:\tlearn: 0.3724451\ttotal: 14.6s\tremaining: 2.89s\n",
      "433:\tlearn: 0.3724417\ttotal: 14.6s\tremaining: 2.86s\n",
      "434:\tlearn: 0.3724375\ttotal: 14.6s\tremaining: 2.82s\n",
      "435:\tlearn: 0.3724349\ttotal: 14.6s\tremaining: 2.79s\n",
      "436:\tlearn: 0.3724308\ttotal: 14.7s\tremaining: 2.75s\n",
      "437:\tlearn: 0.3724196\ttotal: 14.7s\tremaining: 2.72s\n",
      "438:\tlearn: 0.3724127\ttotal: 14.7s\tremaining: 2.69s\n",
      "439:\tlearn: 0.3724062\ttotal: 14.8s\tremaining: 2.65s\n",
      "440:\tlearn: 0.3723991\ttotal: 14.8s\tremaining: 2.62s\n",
      "441:\tlearn: 0.3723926\ttotal: 14.8s\tremaining: 2.58s\n",
      "442:\tlearn: 0.3723873\ttotal: 14.9s\tremaining: 2.55s\n",
      "443:\tlearn: 0.3723842\ttotal: 14.9s\tremaining: 2.51s\n",
      "444:\tlearn: 0.3723792\ttotal: 14.9s\tremaining: 2.48s\n",
      "445:\tlearn: 0.3723769\ttotal: 14.9s\tremaining: 2.44s\n",
      "446:\tlearn: 0.3723745\ttotal: 15s\tremaining: 2.41s\n",
      "447:\tlearn: 0.3723706\ttotal: 15s\tremaining: 2.38s\n",
      "448:\tlearn: 0.3723685\ttotal: 15s\tremaining: 2.34s\n",
      "449:\tlearn: 0.3723640\ttotal: 15.1s\tremaining: 2.31s\n",
      "450:\tlearn: 0.3723608\ttotal: 15.1s\tremaining: 2.27s\n",
      "451:\tlearn: 0.3723565\ttotal: 15.1s\tremaining: 2.24s\n",
      "452:\tlearn: 0.3723524\ttotal: 15.1s\tremaining: 2.21s\n",
      "453:\tlearn: 0.3723479\ttotal: 15.2s\tremaining: 2.17s\n",
      "454:\tlearn: 0.3723406\ttotal: 15.2s\tremaining: 2.14s\n",
      "455:\tlearn: 0.3723384\ttotal: 15.2s\tremaining: 2.1s\n",
      "456:\tlearn: 0.3723338\ttotal: 15.3s\tremaining: 2.07s\n",
      "457:\tlearn: 0.3723293\ttotal: 15.3s\tremaining: 2.04s\n",
      "458:\tlearn: 0.3723257\ttotal: 15.3s\tremaining: 2s\n",
      "459:\tlearn: 0.3723249\ttotal: 15.3s\tremaining: 1.97s\n",
      "460:\tlearn: 0.3723198\ttotal: 15.4s\tremaining: 1.93s\n",
      "461:\tlearn: 0.3723167\ttotal: 15.4s\tremaining: 1.9s\n",
      "462:\tlearn: 0.3723132\ttotal: 15.4s\tremaining: 1.87s\n",
      "463:\tlearn: 0.3723087\ttotal: 15.5s\tremaining: 1.83s\n",
      "464:\tlearn: 0.3723049\ttotal: 15.5s\tremaining: 1.8s\n",
      "465:\tlearn: 0.3722989\ttotal: 15.5s\tremaining: 1.76s\n",
      "466:\tlearn: 0.3722928\ttotal: 15.6s\tremaining: 1.73s\n",
      "467:\tlearn: 0.3722876\ttotal: 15.6s\tremaining: 1.7s\n",
      "468:\tlearn: 0.3722832\ttotal: 15.6s\tremaining: 1.66s\n",
      "469:\tlearn: 0.3722788\ttotal: 15.6s\tremaining: 1.63s\n",
      "470:\tlearn: 0.3722765\ttotal: 15.7s\tremaining: 1.6s\n",
      "471:\tlearn: 0.3722747\ttotal: 15.7s\tremaining: 1.56s\n",
      "472:\tlearn: 0.3722688\ttotal: 15.7s\tremaining: 1.53s\n",
      "473:\tlearn: 0.3722624\ttotal: 15.8s\tremaining: 1.5s\n",
      "474:\tlearn: 0.3722569\ttotal: 15.8s\tremaining: 1.46s\n",
      "475:\tlearn: 0.3722540\ttotal: 15.8s\tremaining: 1.43s\n",
      "476:\tlearn: 0.3722502\ttotal: 15.8s\tremaining: 1.4s\n",
      "477:\tlearn: 0.3722467\ttotal: 15.9s\tremaining: 1.36s\n",
      "478:\tlearn: 0.3722433\ttotal: 15.9s\tremaining: 1.33s\n",
      "479:\tlearn: 0.3722395\ttotal: 15.9s\tremaining: 1.29s\n",
      "480:\tlearn: 0.3722372\ttotal: 16s\tremaining: 1.26s\n",
      "481:\tlearn: 0.3722338\ttotal: 16s\tremaining: 1.23s\n",
      "482:\tlearn: 0.3722291\ttotal: 16s\tremaining: 1.19s\n",
      "483:\tlearn: 0.3722252\ttotal: 16.1s\tremaining: 1.16s\n",
      "484:\tlearn: 0.3722233\ttotal: 16.1s\tremaining: 1.13s\n",
      "485:\tlearn: 0.3722190\ttotal: 16.1s\tremaining: 1.09s\n",
      "486:\tlearn: 0.3722146\ttotal: 16.1s\tremaining: 1.06s\n",
      "487:\tlearn: 0.3722126\ttotal: 16.2s\tremaining: 1.03s\n",
      "488:\tlearn: 0.3722094\ttotal: 16.2s\tremaining: 994ms\n",
      "489:\tlearn: 0.3722041\ttotal: 16.2s\tremaining: 961ms\n",
      "490:\tlearn: 0.3721928\ttotal: 16.3s\tremaining: 927ms\n",
      "491:\tlearn: 0.3721898\ttotal: 16.3s\tremaining: 894ms\n",
      "492:\tlearn: 0.3721850\ttotal: 16.3s\tremaining: 861ms\n",
      "493:\tlearn: 0.3721817\ttotal: 16.4s\tremaining: 828ms\n",
      "494:\tlearn: 0.3721795\ttotal: 16.4s\tremaining: 795ms\n",
      "495:\tlearn: 0.3721766\ttotal: 16.4s\tremaining: 761ms\n",
      "496:\tlearn: 0.3721751\ttotal: 16.4s\tremaining: 728ms\n",
      "497:\tlearn: 0.3721715\ttotal: 16.5s\tremaining: 695ms\n",
      "498:\tlearn: 0.3721668\ttotal: 16.5s\tremaining: 662ms\n",
      "499:\tlearn: 0.3721617\ttotal: 16.5s\tremaining: 629ms\n",
      "500:\tlearn: 0.3721531\ttotal: 16.6s\tremaining: 596ms\n",
      "501:\tlearn: 0.3721509\ttotal: 16.6s\tremaining: 562ms\n",
      "502:\tlearn: 0.3721480\ttotal: 16.6s\tremaining: 529ms\n",
      "503:\tlearn: 0.3721445\ttotal: 16.7s\tremaining: 496ms\n",
      "504:\tlearn: 0.3721430\ttotal: 16.7s\tremaining: 463ms\n",
      "505:\tlearn: 0.3721383\ttotal: 16.7s\tremaining: 430ms\n",
      "506:\tlearn: 0.3721343\ttotal: 16.8s\tremaining: 397ms\n",
      "507:\tlearn: 0.3721306\ttotal: 16.8s\tremaining: 364ms\n",
      "508:\tlearn: 0.3721250\ttotal: 16.8s\tremaining: 331ms\n",
      "509:\tlearn: 0.3721233\ttotal: 16.9s\tremaining: 298ms\n",
      "510:\tlearn: 0.3721191\ttotal: 16.9s\tremaining: 265ms\n",
      "511:\tlearn: 0.3721153\ttotal: 17s\tremaining: 232ms\n",
      "512:\tlearn: 0.3721121\ttotal: 17s\tremaining: 199ms\n",
      "513:\tlearn: 0.3721043\ttotal: 17s\tremaining: 166ms\n",
      "514:\tlearn: 0.3721010\ttotal: 17s\tremaining: 132ms\n",
      "515:\tlearn: 0.3720970\ttotal: 17.1s\tremaining: 99.3ms\n",
      "516:\tlearn: 0.3720936\ttotal: 17.1s\tremaining: 66.2ms\n",
      "517:\tlearn: 0.3720908\ttotal: 17.1s\tremaining: 33.1ms\n",
      "518:\tlearn: 0.3720860\ttotal: 17.2s\tremaining: 0us\n"
     ]
    }
   ],
   "source": [
    "model_cb, study = sistemRekomendasiCatboost(x_train, y_train, x_val, y_val)"
   ]
  },
  {
   "cell_type": "code",
   "execution_count": 32,
   "metadata": {},
   "outputs": [
    {
     "name": "stdout",
     "output_type": "stream",
     "text": [
      "Sample user: 276727\n"
     ]
    },
    {
     "data": {
      "text/html": [
       "<div>\n",
       "<style scoped>\n",
       "    .dataframe tbody tr th:only-of-type {\n",
       "        vertical-align: middle;\n",
       "    }\n",
       "\n",
       "    .dataframe tbody tr th {\n",
       "        vertical-align: top;\n",
       "    }\n",
       "\n",
       "    .dataframe thead th {\n",
       "        text-align: right;\n",
       "    }\n",
       "</style>\n",
       "<table border=\"1\" class=\"dataframe\">\n",
       "  <thead>\n",
       "    <tr style=\"text-align: right;\">\n",
       "      <th></th>\n",
       "      <th>ISBN</th>\n",
       "      <th>predicted_rating</th>\n",
       "      <th>Book-Title</th>\n",
       "      <th>Book-Author</th>\n",
       "      <th>Publisher</th>\n",
       "      <th>Year-Of-Publication</th>\n",
       "    </tr>\n",
       "  </thead>\n",
       "  <tbody>\n",
       "    <tr>\n",
       "      <th>0</th>\n",
       "      <td>3453116569</td>\n",
       "      <td>0.832223</td>\n",
       "      <td>Verlorene Sellen</td>\n",
       "      <td>Barbara Bellingen</td>\n",
       "      <td>Wilhelm Heyne Verlag GmbH &amp;amp; Co KG</td>\n",
       "      <td>1998</td>\n",
       "    </tr>\n",
       "    <tr>\n",
       "      <th>1</th>\n",
       "      <td>0812558006</td>\n",
       "      <td>0.832223</td>\n",
       "      <td>Firechild</td>\n",
       "      <td>Jack Williamson</td>\n",
       "      <td>Tor Books</td>\n",
       "      <td>1987</td>\n",
       "    </tr>\n",
       "    <tr>\n",
       "      <th>2</th>\n",
       "      <td>0674242416</td>\n",
       "      <td>0.832223</td>\n",
       "      <td>Einstein's Greatest Blunder?: The Cosmological...</td>\n",
       "      <td>Donald Goldsmith</td>\n",
       "      <td>Harvard University Press</td>\n",
       "      <td>1995</td>\n",
       "    </tr>\n",
       "    <tr>\n",
       "      <th>3</th>\n",
       "      <td>0689305370</td>\n",
       "      <td>0.832223</td>\n",
       "      <td>Anywhere, Anywhen : Stories of Tomorrow</td>\n",
       "      <td>Sylvia Louise Engdahl</td>\n",
       "      <td>Atheneum</td>\n",
       "      <td>1976</td>\n",
       "    </tr>\n",
       "    <tr>\n",
       "      <th>4</th>\n",
       "      <td>0812523822</td>\n",
       "      <td>0.832223</td>\n",
       "      <td>To Fear The Light : The sequel to 'To Save the...</td>\n",
       "      <td>Ben Bova</td>\n",
       "      <td>Tor Science Fiction</td>\n",
       "      <td>1996</td>\n",
       "    </tr>\n",
       "  </tbody>\n",
       "</table>\n",
       "</div>"
      ],
      "text/plain": [
       "         ISBN  predicted_rating  \\\n",
       "0  3453116569          0.832223   \n",
       "1  0812558006          0.832223   \n",
       "2  0674242416          0.832223   \n",
       "3  0689305370          0.832223   \n",
       "4  0812523822          0.832223   \n",
       "\n",
       "                                          Book-Title            Book-Author  \\\n",
       "0                                   Verlorene Sellen      Barbara Bellingen   \n",
       "1                                          Firechild        Jack Williamson   \n",
       "2  Einstein's Greatest Blunder?: The Cosmological...       Donald Goldsmith   \n",
       "3            Anywhere, Anywhen : Stories of Tomorrow  Sylvia Louise Engdahl   \n",
       "4  To Fear The Light : The sequel to 'To Save the...               Ben Bova   \n",
       "\n",
       "                               Publisher Year-Of-Publication  \n",
       "0  Wilhelm Heyne Verlag GmbH &amp; Co KG                1998  \n",
       "1                              Tor Books                1987  \n",
       "2               Harvard University Press                1995  \n",
       "3                               Atheneum                1976  \n",
       "4                    Tor Science Fiction                1996  "
      ]
     },
     "execution_count": 32,
     "metadata": {},
     "output_type": "execute_result"
    }
   ],
   "source": [
    "# Ambil 1 user unik dari data\n",
    "sample_user = dataFinal['userID'].iloc[0]\n",
    "print(\"Sample user:\", sample_user)\n",
    "top_books = recommend_books_cb(model_cb, sample_user, dataFinal, dataBuku, user_to_user_encoded, buku_to_ids_encoded, ids_to_buku_encoded, top_n=5)\n",
    "top_books"
   ]
  },
  {
   "cell_type": "markdown",
   "metadata": {},
   "source": [
    "**Penjelasan :**\n",
    "\n",
    "Berdasarkan pengujian yang dilakukan terhadap sistem rekomendasi yang dibangun dengan Algoritma Catboost, terlihat bahwa sistem dapat mengembalikan daftar Buku melalui nilai ISBN nya."
   ]
  },
  {
   "cell_type": "markdown",
   "metadata": {},
   "source": [
    "# 5. Evaluasi"
   ]
  },
  {
   "cell_type": "markdown",
   "metadata": {},
   "source": [
    "## 5.1 Evaluasi Content Based Filtering : Cosine Similarity"
   ]
  },
  {
   "cell_type": "code",
   "execution_count": null,
   "metadata": {
    "execution": {
     "iopub.execute_input": "2025-05-22T05:56:22.358413Z",
     "iopub.status.busy": "2025-05-22T05:56:22.358212Z",
     "iopub.status.idle": "2025-05-22T05:56:22.822666Z",
     "shell.execute_reply": "2025-05-22T05:56:22.821893Z",
     "shell.execute_reply.started": "2025-05-22T05:56:22.358398Z"
    },
    "trusted": true
   },
   "outputs": [
    {
     "name": "stdout",
     "output_type": "stream",
     "text": [
      "Menampilkan Rekomendasi Buku yang sesuai dengan 'Le neveu d'AmÃ?Â©rique' ...\n",
      "Menampilkan Rekomendasi Buku yang sesuai dengan 'Misterio en el Caribe' ...\n",
      "Menampilkan Rekomendasi Buku yang sesuai dengan 'The Catcher in the Rye' ...\n",
      "Menampilkan Rekomendasi Buku yang sesuai dengan 'Big Stone Gap: A Novel (Ballantine Reader's Circle)' ...\n",
      "Menampilkan Rekomendasi Buku yang sesuai dengan 'The Templar Treasure (Adept)' ...\n",
      "Menampilkan Rekomendasi Buku yang sesuai dengan 'Are We Living in the End Times?' ...\n",
      "Menampilkan Rekomendasi Buku yang sesuai dengan 'WORLD ABLAZE (MEN AT ARMS 3) : WORLD ABLAZE (Men at Arms, Bk 3)' ...\n",
      "Menampilkan Rekomendasi Buku yang sesuai dengan 'Justine, Philosophy in the Bedroom and Other Writings' ...\n",
      "Menampilkan Rekomendasi Buku yang sesuai dengan 'Rocks, Gems and Minerals : A Golden Guide from St. Martin's Press (Golden Guide from St. Martin's Press)' ...\n",
      "Menampilkan Rekomendasi Buku yang sesuai dengan 'Como Se Dice' ...\n",
      "Avg Precision@5: 0.0200\n",
      "Avg Recall@5: 0.0200\n",
      "Avg F1-Score@5: 0.0200\n",
      "Avg Hit Rate@5: 0.1000\n"
     ]
    },
    {
     "data": {
      "text/html": [
       "<div>\n",
       "<style scoped>\n",
       "    .dataframe tbody tr th:only-of-type {\n",
       "        vertical-align: middle;\n",
       "    }\n",
       "\n",
       "    .dataframe tbody tr th {\n",
       "        vertical-align: top;\n",
       "    }\n",
       "\n",
       "    .dataframe thead th {\n",
       "        text-align: right;\n",
       "    }\n",
       "</style>\n",
       "<table border=\"1\" class=\"dataframe\">\n",
       "  <thead>\n",
       "    <tr style=\"text-align: right;\">\n",
       "      <th></th>\n",
       "      <th>userID</th>\n",
       "      <th>seed_book</th>\n",
       "      <th>recommended</th>\n",
       "      <th>actual</th>\n",
       "      <th>relevance_vector</th>\n",
       "      <th>precision@k</th>\n",
       "      <th>recall@k</th>\n",
       "      <th>f1_score@k</th>\n",
       "      <th>hit_rate@k</th>\n",
       "    </tr>\n",
       "  </thead>\n",
       "  <tbody>\n",
       "    <tr>\n",
       "      <th>0</th>\n",
       "      <td>643</td>\n",
       "      <td>Le neveu d'AmÃ?Â©rique</td>\n",
       "      <td>[Le livre de sable, Jorge Luis Borges: Ficcion...</td>\n",
       "      <td>[Les Orientales ; Les Feuilles d'automne, How ...</td>\n",
       "      <td>[0, 0, 0, 0, 0]</td>\n",
       "      <td>0.0</td>\n",
       "      <td>0.0</td>\n",
       "      <td>0.0</td>\n",
       "      <td>0</td>\n",
       "    </tr>\n",
       "    <tr>\n",
       "      <th>1</th>\n",
       "      <td>203820</td>\n",
       "      <td>Misterio en el Caribe</td>\n",
       "      <td>[El misterio del perro secuestrado (Resuelve e...</td>\n",
       "      <td>[El Caballero De Olmedo (Biblioteca Didactica ...</td>\n",
       "      <td>[0, 0, 0, 0, 0]</td>\n",
       "      <td>0.0</td>\n",
       "      <td>0.0</td>\n",
       "      <td>0.0</td>\n",
       "      <td>0</td>\n",
       "    </tr>\n",
       "    <tr>\n",
       "      <th>2</th>\n",
       "      <td>117594</td>\n",
       "      <td>The Catcher in the Rye</td>\n",
       "      <td>[The Catcher in the Rye, Catcher in the Rye, N...</td>\n",
       "      <td>[A Nothing Town in Texas, The 500-Year Delta: ...</td>\n",
       "      <td>[1, 0, 0, 0, 0]</td>\n",
       "      <td>0.2</td>\n",
       "      <td>0.2</td>\n",
       "      <td>0.2</td>\n",
       "      <td>1</td>\n",
       "    </tr>\n",
       "    <tr>\n",
       "      <th>3</th>\n",
       "      <td>185147</td>\n",
       "      <td>Big Stone Gap: A Novel (Ballantine Reader's Ci...</td>\n",
       "      <td>[Big Cherry Holler: A Big Stone Gap Novel (Bal...</td>\n",
       "      <td>[She Moves Through the Boom, Roger Fishbite: A...</td>\n",
       "      <td>[0, 0, 0, 0, 0]</td>\n",
       "      <td>0.0</td>\n",
       "      <td>0.0</td>\n",
       "      <td>0.0</td>\n",
       "      <td>0</td>\n",
       "    </tr>\n",
       "    <tr>\n",
       "      <th>4</th>\n",
       "      <td>207494</td>\n",
       "      <td>The Templar Treasure (Adept)</td>\n",
       "      <td>[The Adept (Adept), Tales of the Knights Templ...</td>\n",
       "      <td>[Cyber Way, The Templar Treasure (Adept), Ever...</td>\n",
       "      <td>[0, 0, 0, 0, 0]</td>\n",
       "      <td>0.0</td>\n",
       "      <td>0.0</td>\n",
       "      <td>0.0</td>\n",
       "      <td>0</td>\n",
       "    </tr>\n",
       "  </tbody>\n",
       "</table>\n",
       "</div>"
      ],
      "text/plain": [
       "   userID                                          seed_book  \\\n",
       "0     643                             Le neveu d'AmÃ?Â©rique   \n",
       "1  203820                              Misterio en el Caribe   \n",
       "2  117594                             The Catcher in the Rye   \n",
       "3  185147  Big Stone Gap: A Novel (Ballantine Reader's Ci...   \n",
       "4  207494                       The Templar Treasure (Adept)   \n",
       "\n",
       "                                         recommended  \\\n",
       "0  [Le livre de sable, Jorge Luis Borges: Ficcion...   \n",
       "1  [El misterio del perro secuestrado (Resuelve e...   \n",
       "2  [The Catcher in the Rye, Catcher in the Rye, N...   \n",
       "3  [Big Cherry Holler: A Big Stone Gap Novel (Bal...   \n",
       "4  [The Adept (Adept), Tales of the Knights Templ...   \n",
       "\n",
       "                                              actual relevance_vector  \\\n",
       "0  [Les Orientales ; Les Feuilles d'automne, How ...  [0, 0, 0, 0, 0]   \n",
       "1  [El Caballero De Olmedo (Biblioteca Didactica ...  [0, 0, 0, 0, 0]   \n",
       "2  [A Nothing Town in Texas, The 500-Year Delta: ...  [1, 0, 0, 0, 0]   \n",
       "3  [She Moves Through the Boom, Roger Fishbite: A...  [0, 0, 0, 0, 0]   \n",
       "4  [Cyber Way, The Templar Treasure (Adept), Ever...  [0, 0, 0, 0, 0]   \n",
       "\n",
       "   precision@k  recall@k  f1_score@k  hit_rate@k  \n",
       "0          0.0       0.0         0.0           0  \n",
       "1          0.0       0.0         0.0           0  \n",
       "2          0.2       0.2         0.2           1  \n",
       "3          0.0       0.0         0.0           0  \n",
       "4          0.0       0.0         0.0           0  "
      ]
     },
     "execution_count": 28,
     "metadata": {},
     "output_type": "execute_result"
    }
   ],
   "source": [
    "def evaluate_cbf_recommender(dataBaru, recommend_fn, users_to_evaluate, k=5):\n",
    "    results = []\n",
    "    user_books = dataBaru.groupby(\"userID\")[\"Book-Title\"].apply(set).to_dict()\n",
    "\n",
    "    for user in users_to_evaluate:\n",
    "        books_read = list(user_books.get(user, []))\n",
    "        if not books_read:\n",
    "            continue\n",
    "        seed_book = pd.Series(books_read).dropna().sample(1).iloc[0]\n",
    "        try:\n",
    "            rec_df = recommend_fn(seed_book, cosine_sim, len(books_read))\n",
    "        except:\n",
    "            continue\n",
    "        rec_books = rec_df[\"Book-Title\"].tolist()[:k]\n",
    "        actual_books = set(books_read)\n",
    "        relevance_vector = [1 if book in actual_books else 0 for book in rec_books]\n",
    "        true_positives = sum(relevance_vector)\n",
    "\n",
    "        precision = true_positives / k if k > 0 else 0\n",
    "        recall = true_positives / len(actual_books) if actual_books else 0\n",
    "        f1_score = (2 * precision * recall) / (precision + recall) if (precision + recall) > 0 else 0\n",
    "        hit_rate = 1 if true_positives > 0 else 0\n",
    "\n",
    "        results.append({\n",
    "            \"userID\": user,\n",
    "            \"seed_book\": seed_book,\n",
    "            \"recommended\": rec_books,\n",
    "            \"actual\": list(actual_books),\n",
    "            \"relevance_vector\": relevance_vector,\n",
    "            \"precision@k\": precision,\n",
    "            \"recall@k\": recall,\n",
    "            \"f1_score@k\": f1_score,\n",
    "            \"hit_rate@k\": hit_rate\n",
    "        })\n",
    "\n",
    "    results_df = pd.DataFrame(results)\n",
    "    avg_precision = results_df[\"precision@k\"].mean()\n",
    "    avg_recall = results_df[\"recall@k\"].mean()\n",
    "    avg_f1 = results_df[\"f1_score@k\"].mean()\n",
    "    avg_hit_rate = results_df[\"hit_rate@k\"].mean()\n",
    "\n",
    "    return results_df, avg_precision, avg_recall, avg_f1, avg_hit_rate\n",
    "\n",
    "# Hitung jumlah buku per user\n",
    "user_book_counts = dataBaru.groupby(\"userID\")[\"Book-Title\"].nunique()\n",
    "\n",
    "# Filter user dengan minimal 5 buku\n",
    "eligible_users = user_book_counts[user_book_counts >= 5].index.tolist()\n",
    "\n",
    "# Ambil sample user dari yang eligible\n",
    "sample_users = random.sample(eligible_users, 10)\n",
    "\n",
    "# Jalankan evaluasi\n",
    "results_df, avg_prec, avg_rec, avg_f1, avg_hr = evaluate_cbf_recommender(dataBaru, recommend, sample_users, k=5)\n",
    "\n",
    "print(f\"Avg Precision@5: {avg_prec:.4f}\")\n",
    "print(f\"Avg Recall@5: {avg_rec:.4f}\")\n",
    "print(f\"Avg F1-Score@5: {avg_f1:.4f}\")\n",
    "print(f\"Avg Hit Rate@5: {avg_hr:.4f}\")\n",
    "\n",
    "results_df.head()\n"
   ]
  },
  {
   "cell_type": "markdown",
   "metadata": {},
   "source": [
    "**Penjelasan :**\n",
    "\n",
    "Berdasarkan ukuran evaluasi yang didefinisikan, kedua sistem rekomendasi yang dibangun dievaluasi untuk mengetahui seberapa baik sistem dapat memberikan rekomendasi pengguna berdasarkan konten yang serupa ataupun preferensi pengguna lain yang mirip. \n",
    "Pada Content Based Filtering, sistem dievaluasi terhadap 10 pengguna diperoleh ukuran evaluasi rata-rata sebagai berikut.\n",
    "\n",
    "Avg Precision@5: 0.0200<br>\n",
    "Avg Recall@5: 0.0200<br>\n",
    "Avg F1-Score@5: 0.0200<br>\n",
    "Avg Hit Rate@5: 0.1000<br>"
   ]
  },
  {
   "cell_type": "markdown",
   "metadata": {},
   "source": [
    "## 5.2 Evaluasi Colaborative Filtering"
   ]
  },
  {
   "cell_type": "markdown",
   "metadata": {},
   "source": [
    "### Recommender Net"
   ]
  },
  {
   "cell_type": "code",
   "execution_count": 27,
   "metadata": {
    "execution": {
     "iopub.execute_input": "2025-06-05T18:05:29.373517Z",
     "iopub.status.busy": "2025-06-05T18:05:29.373221Z",
     "iopub.status.idle": "2025-06-05T18:05:29.382632Z",
     "shell.execute_reply": "2025-06-05T18:05:29.382034Z",
     "shell.execute_reply.started": "2025-06-05T18:05:29.373497Z"
    },
    "trusted": true
   },
   "outputs": [],
   "source": [
    "def evaluate_cf_model(\n",
    "    model, \n",
    "    x_val, \n",
    "    y_val, \n",
    "    dataFinal, \n",
    "    buku_df,\n",
    "    user_to_user_encoded, \n",
    "    buku_to_ids_encoded, \n",
    "    ids_to_buku_encoded, \n",
    "    k=5\n",
    "):\n",
    "    # Buat DataFrame val dari x_val dan y_val\n",
    "    val_df = pd.DataFrame({\n",
    "        \"user_encoded\": x_val[:, 0],\n",
    "        \"buku_encoded\": x_val[:, 1],\n",
    "        \"interaction\": y_val\n",
    "    })\n",
    "\n",
    "    # Filter interaksi positif\n",
    "    val_pos_df = val_df[val_df[\"interaction\"] > 0]\n",
    "\n",
    "    # Mapping user_encoded -> set buku_encoded\n",
    "    user_items_val = val_pos_df.groupby(\"user_encoded\")[\"buku_encoded\"].apply(set).to_dict()\n",
    "\n",
    "    # Ambil 10 user secara acak\n",
    "    users_to_eval = list(user_items_val.keys())\n",
    "    if len(users_to_eval) > 10:\n",
    "        users_to_eval = random.sample(users_to_eval, 10)\n",
    "\n",
    "    results = []\n",
    "\n",
    "    for user_encoded in users_to_eval:\n",
    "        user_id_asli = next((k_ for k_, v_ in user_to_user_encoded.items() if v_ == user_encoded), None)\n",
    "        if user_id_asli is None:\n",
    "            continue\n",
    "\n",
    "        actual_items = user_items_val[user_encoded]\n",
    "\n",
    "        rekomendasi_df = recommend_books_for_user(\n",
    "            model=model,\n",
    "            user_id_asli=user_id_asli,\n",
    "            data=dataFinal,\n",
    "            buku_df=buku_df,\n",
    "            user_to_user_encoded=user_to_user_encoded,\n",
    "            buku_to_ids_encoded=buku_to_ids_encoded,\n",
    "            ids_to_buku_encoded=ids_to_buku_encoded,\n",
    "            top_n=k\n",
    "        )\n",
    "\n",
    "        rec_books_encoded = [\n",
    "            buku_to_ids_encoded[isbn] for isbn in rekomendasi_df['ISBN'] if isbn in buku_to_ids_encoded\n",
    "        ] if not rekomendasi_df.empty else []\n",
    "\n",
    "        relevance_vector = [1 if book in actual_items else 0 for book in rec_books_encoded]\n",
    "        true_positives = sum(relevance_vector)\n",
    "\n",
    "        precision = true_positives / k if k > 0 else 0\n",
    "        recall = true_positives / len(actual_items) if actual_items else 0\n",
    "        f1_score = (2 * precision * recall) / (precision + recall) if (precision + recall) > 0 else 0\n",
    "        hit_rate = 1 if true_positives > 0 else 0\n",
    "\n",
    "        results.append({\n",
    "            \"user_encoded\": user_encoded,\n",
    "            \"user_id_asli\": user_id_asli,\n",
    "            \"recommended_encoded\": rec_books_encoded,\n",
    "            \"actual_encoded\": list(actual_items),\n",
    "            \"relevance_vector\": relevance_vector,\n",
    "            \"precision@k\": precision,\n",
    "            \"recall@k\": recall,\n",
    "            \"f1_score@k\": f1_score,\n",
    "            \"hit_rate@k\": hit_rate\n",
    "        })\n",
    "\n",
    "    results_df = pd.DataFrame(results)\n",
    "    avg_precision = results_df[\"precision@k\"].mean()\n",
    "    avg_recall = results_df[\"recall@k\"].mean()\n",
    "    avg_f1 = results_df[\"f1_score@k\"].mean()\n",
    "    avg_hit_rate = results_df[\"hit_rate@k\"].mean()\n",
    "\n",
    "    # Hitung RMSE pada seluruh validation set\n",
    "    y_pred = model.predict(x_val).flatten()\n",
    "    rmse = np.sqrt(mean_squared_error(y_val, y_pred))\n",
    "\n",
    "    return results_df, avg_precision, avg_recall, avg_f1, avg_hit_rate, rmse"
   ]
  },
  {
   "cell_type": "code",
   "execution_count": 28,
   "metadata": {
    "execution": {
     "iopub.execute_input": "2025-06-05T18:05:33.736705Z",
     "iopub.status.busy": "2025-06-05T18:05:33.736435Z",
     "iopub.status.idle": "2025-06-05T18:07:39.158336Z",
     "shell.execute_reply": "2025-06-05T18:07:39.157611Z",
     "shell.execute_reply.started": "2025-06-05T18:05:33.736686Z"
    },
    "trusted": true
   },
   "outputs": [
    {
     "name": "stdout",
     "output_type": "stream",
     "text": [
      "\u001b[1m7157/7157\u001b[0m \u001b[32m━━━━━━━━━━━━━━━━━━━━\u001b[0m\u001b[37m\u001b[0m \u001b[1m8s\u001b[0m 1ms/step\n",
      "\u001b[1m7156/7156\u001b[0m \u001b[32m━━━━━━━━━━━━━━━━━━━━\u001b[0m\u001b[37m\u001b[0m \u001b[1m9s\u001b[0m 1ms/step\n",
      "\u001b[1m7157/7157\u001b[0m \u001b[32m━━━━━━━━━━━━━━━━━━━━\u001b[0m\u001b[37m\u001b[0m \u001b[1m9s\u001b[0m 1ms/step\n",
      "\u001b[1m7157/7157\u001b[0m \u001b[32m━━━━━━━━━━━━━━━━━━━━\u001b[0m\u001b[37m\u001b[0m \u001b[1m8s\u001b[0m 1ms/step\n",
      "\u001b[1m7157/7157\u001b[0m \u001b[32m━━━━━━━━━━━━━━━━━━━━\u001b[0m\u001b[37m\u001b[0m \u001b[1m9s\u001b[0m 1ms/step\n",
      "\u001b[1m7156/7156\u001b[0m \u001b[32m━━━━━━━━━━━━━━━━━━━━\u001b[0m\u001b[37m\u001b[0m \u001b[1m9s\u001b[0m 1ms/step\n",
      "\u001b[1m7156/7156\u001b[0m \u001b[32m━━━━━━━━━━━━━━━━━━━━\u001b[0m\u001b[37m\u001b[0m \u001b[1m9s\u001b[0m 1ms/step\n",
      "\u001b[1m7156/7156\u001b[0m \u001b[32m━━━━━━━━━━━━━━━━━━━━\u001b[0m\u001b[37m\u001b[0m \u001b[1m8s\u001b[0m 1ms/step\n",
      "\u001b[1m7154/7154\u001b[0m \u001b[32m━━━━━━━━━━━━━━━━━━━━\u001b[0m\u001b[37m\u001b[0m \u001b[1m9s\u001b[0m 1ms/step\n",
      "\u001b[1m7156/7156\u001b[0m \u001b[32m━━━━━━━━━━━━━━━━━━━━\u001b[0m\u001b[37m\u001b[0m \u001b[1m9s\u001b[0m 1ms/step\n",
      "\u001b[1m4709/4709\u001b[0m \u001b[32m━━━━━━━━━━━━━━━━━━━━\u001b[0m\u001b[37m\u001b[0m \u001b[1m6s\u001b[0m 1ms/step\n",
      "Avg Precision@5: 0.0000\n",
      "Avg Recall@5: 0.0000\n",
      "Avg F1-Score@5: 0.0000\n",
      "Avg Hit Rate@5: 0.0000\n",
      "RMSE: 0.3754\n"
     ]
    }
   ],
   "source": [
    "results_df, avg_prec, avg_rec, avg_f1, avg_hr, rmse = evaluate_cf_model(\n",
    "    model, x_val, y_val, dataFinal, dataBuku,\n",
    "    user_to_user_encoded, buku_to_ids_encoded, ids_to_buku_encoded,\n",
    "    k=5\n",
    ")\n",
    "\n",
    "print(f\"Avg Precision@5: {avg_prec:.4f}\")\n",
    "print(f\"Avg Recall@5: {avg_rec:.4f}\")\n",
    "print(f\"Avg F1-Score@5: {avg_f1:.4f}\")\n",
    "print(f\"Avg Hit Rate@5: {avg_hr:.4f}\")\n",
    "print(f\"RMSE: {rmse:.4f}\")\n"
   ]
  },
  {
   "cell_type": "markdown",
   "metadata": {},
   "source": [
    "### Sistem Rekomendasi CatBoost"
   ]
  },
  {
   "cell_type": "code",
   "execution_count": 31,
   "metadata": {
    "execution": {
     "iopub.execute_input": "2025-05-22T05:58:25.676840Z",
     "iopub.status.busy": "2025-05-22T05:58:25.676649Z",
     "iopub.status.idle": "2025-05-22T05:58:25.685865Z",
     "shell.execute_reply": "2025-05-22T05:58:25.685146Z",
     "shell.execute_reply.started": "2025-05-22T05:58:25.676826Z"
    },
    "trusted": true
   },
   "outputs": [],
   "source": [
    "def evaluate_cb(\n",
    "    model, \n",
    "    x_val, \n",
    "    y_val, \n",
    "    dataFinal, \n",
    "    buku_df,\n",
    "    user_to_user_encoded, \n",
    "    buku_to_ids_encoded, \n",
    "    ids_to_buku_encoded, \n",
    "    k=5\n",
    "):\n",
    "    val_df = pd.DataFrame({\n",
    "        \"user_encoded\": x_val[:, 0],\n",
    "        \"buku_encoded\": x_val[:, 1],\n",
    "        \"interaction\": y_val\n",
    "    })\n",
    "\n",
    "    val_pos_df = val_df[val_df[\"interaction\"] > 0]\n",
    "    user_items_val = val_pos_df.groupby(\"user_encoded\")[\"buku_encoded\"].apply(set).to_dict()\n",
    "\n",
    "    users_to_eval = list(user_items_val.keys())\n",
    "    if len(users_to_eval) > 10:\n",
    "        users_to_eval = random.sample(users_to_eval, 10)\n",
    "\n",
    "    results = []\n",
    "\n",
    "    for user_encoded in users_to_eval:\n",
    "        user_id_asli = next((k_ for k_, v_ in user_to_user_encoded.items() if v_ == user_encoded), None)\n",
    "        if user_id_asli is None:\n",
    "            continue\n",
    "\n",
    "        actual_items = user_items_val[user_encoded]\n",
    "\n",
    "        rekomendasi_df = recommend_books_cb(\n",
    "            model=model,\n",
    "            user_id_asli=user_id_asli,\n",
    "            data=dataFinal,\n",
    "            buku_df=buku_df,\n",
    "            user_to_user_encoded=user_to_user_encoded,\n",
    "            buku_to_ids_encoded=buku_to_ids_encoded,\n",
    "            ids_to_buku_encoded=ids_to_buku_encoded,\n",
    "            top_n=k\n",
    "        )\n",
    "\n",
    "        rec_books_encoded = [\n",
    "            buku_to_ids_encoded[isbn] for isbn in rekomendasi_df['ISBN'] if isbn in buku_to_ids_encoded\n",
    "        ] if not rekomendasi_df.empty else []\n",
    "\n",
    "        relevance_vector = [1 if book in actual_items else 0 for book in rec_books_encoded]\n",
    "        true_positives = sum(relevance_vector)\n",
    "\n",
    "        precision = true_positives / k if k > 0 else 0\n",
    "        recall = true_positives / len(actual_items) if actual_items else 0\n",
    "        f1_score = (2 * precision * recall) / (precision + recall) if (precision + recall) > 0 else 0\n",
    "        hit_rate = 1 if true_positives > 0 else 0\n",
    "\n",
    "        results.append({\n",
    "            \"user_encoded\": user_encoded,\n",
    "            \"user_id_asli\": user_id_asli,\n",
    "            \"recommended_encoded\": rec_books_encoded,\n",
    "            \"actual_encoded\": list(actual_items),\n",
    "            \"relevance_vector\": relevance_vector,\n",
    "            \"precision@k\": precision,\n",
    "            \"recall@k\": recall,\n",
    "            \"f1_score@k\": f1_score,\n",
    "            \"hit_rate@k\": hit_rate\n",
    "        })\n",
    "\n",
    "    results_df = pd.DataFrame(results)\n",
    "    avg_precision = results_df[\"precision@k\"].mean()\n",
    "    avg_recall = results_df[\"recall@k\"].mean()\n",
    "    avg_f1 = results_df[\"f1_score@k\"].mean()\n",
    "    avg_hit_rate = results_df[\"hit_rate@k\"].mean()\n",
    "\n",
    "    y_pred = model.predict(x_val).flatten()\n",
    "    rmse = np.sqrt(mean_squared_error(y_val, y_pred))\n",
    "\n",
    "    return results_df, avg_precision, avg_recall, avg_f1, avg_hit_rate, rmse"
   ]
  },
  {
   "cell_type": "code",
   "execution_count": 32,
   "metadata": {
    "execution": {
     "iopub.execute_input": "2025-05-22T05:58:25.686805Z",
     "iopub.status.busy": "2025-05-22T05:58:25.686598Z",
     "iopub.status.idle": "2025-05-22T05:58:32.515835Z",
     "shell.execute_reply": "2025-05-22T05:58:32.515145Z",
     "shell.execute_reply.started": "2025-05-22T05:58:25.686790Z"
    },
    "trusted": true
   },
   "outputs": [
    {
     "name": "stdout",
     "output_type": "stream",
     "text": [
      "Precision@5: 0.0000\n",
      "Recall@5: 0.0000\n",
      "F1-score@5: 0.0000\n",
      "Hit Rate@5: 0.0000\n",
      "RMSE: 0.3741\n"
     ]
    }
   ],
   "source": [
    "results_df, avg_prec, avg_rec, avg_f1, avg_hit, rmse = evaluate_cb(\n",
    "    model_cb,\n",
    "    x_val,\n",
    "    y_val,\n",
    "    dataFinal,\n",
    "    dataBuku,\n",
    "    user_to_user_encoded,\n",
    "    buku_to_ids_encoded,\n",
    "    ids_to_buku_encoded,\n",
    "    k=5\n",
    ")\n",
    "\n",
    "print(f\"Precision@5: {avg_prec:.4f}\")\n",
    "print(f\"Recall@5: {avg_rec:.4f}\")\n",
    "print(f\"F1-score@5: {avg_f1:.4f}\")\n",
    "print(f\"Hit Rate@5: {avg_hit:.4f}\")\n",
    "print(f\"RMSE: {rmse:.4f}\")"
   ]
  },
  {
   "cell_type": "markdown",
   "metadata": {},
   "source": [
    "**Penjelasan :**\n",
    "\n",
    "Pada Collaborative Filtering menggunakan RecommenderNet dan Algoritma Catboost, model dievaluasi terhadap pengguna yang didefinisikan pada validation set, diperoleh evaluasi sebagai berikut.\n",
    "\n",
    "=====Recommender Net====\n",
    "\n",
    "Avg Precision@5: 0.0000<br>\n",
    "Avg Recall@5: 0.0000<br>\n",
    "Avg F1-Score@5: 0.0000<br>\n",
    "Avg Hit Rate@5: 0.0000<br>\n",
    "RMSE: 0.3754\n",
    "\n",
    "=====CatBoost=====\n",
    "\n",
    "Avg Precision@5: 0.0000<br>\n",
    "Avg Recall@5: 0.0000<br>\n",
    "Avg F1-Score@5: 0.0000<br>\n",
    "Avg Hit Rate@5: 0.0000<br>\n",
    "RMSE: 0.3741\n",
    "\n",
    "Berdasarkan kedua jenis sistem rekomendasi yang dibangun, terlihat model masih belum cukup baik untuk memberikan rekomendasi pada user, namun sudah memiliki keterkaitan dengan konsep yang digunakan. Hal ini dapat dilihat pada Content Based Filtering, hasil return untuk input user pada judul atau author buku tertentu sesuai dengan hasil yang diharapkan. Kondisi yang membuat evaluasi kecil dapat terjadi karena terdapat kecenderungan data user yang membeli buku secara acak, bukan berdasarkan kesamaan karakteristiknya.\n",
    "\n",
    "Selain itu pada Collaborative filtering diperoleh bahwa CatBoost memiliki performa sistem rekomendasi yang lebih baik dibandingkan dengan sistem rekomendasi yang dihasilkan RecommenderNet. Hal ini menunjukkan bahwa Machine Learning tidak selalu lebih buruk performanya dibanding Deep Learning pada dataset yang besar."
   ]
  }
 ],
 "metadata": {
  "kaggle": {
   "accelerator": "gpu",
   "dataSources": [
    {
     "datasetId": 7452237,
     "sourceId": 11859700,
     "sourceType": "datasetVersion"
    }
   ],
   "dockerImageVersionId": 31041,
   "isGpuEnabled": true,
   "isInternetEnabled": true,
   "language": "python",
   "sourceType": "notebook"
  },
  "kernelspec": {
   "display_name": "Python 3",
   "language": "python",
   "name": "python3"
  },
  "language_info": {
   "codemirror_mode": {
    "name": "ipython",
    "version": 3
   },
   "file_extension": ".py",
   "mimetype": "text/x-python",
   "name": "python",
   "nbconvert_exporter": "python",
   "pygments_lexer": "ipython3",
   "version": "3.10.12"
  }
 },
 "nbformat": 4,
 "nbformat_minor": 4
}
