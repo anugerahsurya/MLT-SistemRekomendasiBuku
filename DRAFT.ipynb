{
 "cells": [
  {
   "cell_type": "markdown",
   "id": "a13c6363",
   "metadata": {},
   "source": [
    "# 0. Import Library"
   ]
  },
  {
   "cell_type": "code",
   "execution_count": 1,
   "id": "ab5d2bea",
   "metadata": {},
   "outputs": [
    {
     "name": "stderr",
     "output_type": "stream",
     "text": [
      "2025-05-18 20:38:42.252238: E external/local_xla/xla/stream_executor/cuda/cuda_fft.cc:467] Unable to register cuFFT factory: Attempting to register factory for plugin cuFFT when one has already been registered\n",
      "WARNING: All log messages before absl::InitializeLog() is called are written to STDERR\n",
      "E0000 00:00:1747575522.400839  162902 cuda_dnn.cc:8579] Unable to register cuDNN factory: Attempting to register factory for plugin cuDNN when one has already been registered\n",
      "E0000 00:00:1747575522.451772  162902 cuda_blas.cc:1407] Unable to register cuBLAS factory: Attempting to register factory for plugin cuBLAS when one has already been registered\n",
      "W0000 00:00:1747575522.819694  162902 computation_placer.cc:177] computation placer already registered. Please check linkage and avoid linking the same target more than once.\n",
      "W0000 00:00:1747575522.819804  162902 computation_placer.cc:177] computation placer already registered. Please check linkage and avoid linking the same target more than once.\n",
      "W0000 00:00:1747575522.819810  162902 computation_placer.cc:177] computation placer already registered. Please check linkage and avoid linking the same target more than once.\n",
      "W0000 00:00:1747575522.819813  162902 computation_placer.cc:177] computation placer already registered. Please check linkage and avoid linking the same target more than once.\n",
      "2025-05-18 20:38:42.856972: I tensorflow/core/platform/cpu_feature_guard.cc:210] This TensorFlow binary is optimized to use available CPU instructions in performance-critical operations.\n",
      "To enable the following instructions: AVX2 FMA, in other operations, rebuild TensorFlow with the appropriate compiler flags.\n",
      "/usr/lib/python3/dist-packages/scipy/__init__.py:146: UserWarning: A NumPy version >=1.17.3 and <1.25.0 is required for this version of SciPy (detected version 1.26.4\n",
      "  warnings.warn(f\"A NumPy version >={np_minversion} and <{np_maxversion}\"\n",
      "/home/anugerahsurya/.local/lib/python3.10/site-packages/matplotlib/projections/__init__.py:63: UserWarning: Unable to import Axes3D. This may be due to multiple versions of Matplotlib being installed (e.g. as a system package and as a pip package). As a result, the 3D projection is not available.\n",
      "  warnings.warn(\"Unable to import Axes3D. This may be due to multiple versions of \"\n"
     ]
    }
   ],
   "source": [
    "import numpy as np\n",
    "import pandas as pd\n",
    "from datasets import load_dataset\n",
    "\n",
    "# Import library\n",
    "from zipfile import ZipFile\n",
    "import tensorflow as tf\n",
    "from tensorflow import keras\n",
    "from tensorflow.keras import layers\n",
    "from pathlib import Path\n",
    "import matplotlib.pyplot as plt\n",
    "\n",
    "import re\n",
    "from sklearn.feature_extraction.text import TfidfVectorizer\n",
    "from sklearn.metrics.pairwise import cosine_similarity\n",
    "\n"
   ]
  },
  {
   "cell_type": "markdown",
   "id": "845a39c9",
   "metadata": {},
   "source": [
    "# 1. Business Understanding"
   ]
  },
  {
   "cell_type": "markdown",
   "id": "4c24f38b",
   "metadata": {},
   "source": [
    "# 2. Data Understanding"
   ]
  },
  {
   "cell_type": "markdown",
   "id": "b9709ad8",
   "metadata": {},
   "source": [
    "## 2.1 Load Data dan Cetak Atribut Tabel"
   ]
  },
  {
   "cell_type": "code",
   "execution_count": 2,
   "id": "f1e5474f",
   "metadata": {},
   "outputs": [
    {
     "name": "stderr",
     "output_type": "stream",
     "text": [
      "/tmp/ipykernel_162902/182713458.py:2: DtypeWarning: Columns (3) have mixed types. Specify dtype option on import or set low_memory=False.\n",
      "  dataBuku = pd.read_csv(\"Data/Books.csv\")\n"
     ]
    },
    {
     "name": "stdout",
     "output_type": "stream",
     "text": [
      "<class 'pandas.core.frame.DataFrame'>\n",
      "RangeIndex: 278858 entries, 0 to 278857\n",
      "Data columns (total 3 columns):\n",
      " #   Column    Non-Null Count   Dtype  \n",
      "---  ------    --------------   -----  \n",
      " 0   User-ID   278858 non-null  int64  \n",
      " 1   Location  278858 non-null  object \n",
      " 2   Age       168096 non-null  float64\n",
      "dtypes: float64(1), int64(1), object(1)\n",
      "memory usage: 6.4+ MB\n",
      "<class 'pandas.core.frame.DataFrame'>\n",
      "RangeIndex: 271360 entries, 0 to 271359\n",
      "Data columns (total 8 columns):\n",
      " #   Column               Non-Null Count   Dtype \n",
      "---  ------               --------------   ----- \n",
      " 0   ISBN                 271360 non-null  object\n",
      " 1   Book-Title           271360 non-null  object\n",
      " 2   Book-Author          271358 non-null  object\n",
      " 3   Year-Of-Publication  271360 non-null  object\n",
      " 4   Publisher            271358 non-null  object\n",
      " 5   Image-URL-S          271360 non-null  object\n",
      " 6   Image-URL-M          271360 non-null  object\n",
      " 7   Image-URL-L          271357 non-null  object\n",
      "dtypes: object(8)\n",
      "memory usage: 16.6+ MB\n",
      "<class 'pandas.core.frame.DataFrame'>\n",
      "RangeIndex: 1149780 entries, 0 to 1149779\n",
      "Data columns (total 3 columns):\n",
      " #   Column       Non-Null Count    Dtype \n",
      "---  ------       --------------    ----- \n",
      " 0   User-ID      1149780 non-null  int64 \n",
      " 1   ISBN         1149780 non-null  object\n",
      " 2   Book-Rating  1149780 non-null  int64 \n",
      "dtypes: int64(2), object(1)\n",
      "memory usage: 26.3+ MB\n"
     ]
    }
   ],
   "source": [
    "dataUser = pd.read_csv(\"Data/Users.csv\")\n",
    "dataBuku = pd.read_csv(\"Data/Books.csv\")\n",
    "dataRating = pd.read_csv(\"Data/Ratings.csv\")\n",
    "\n",
    "dataUser.info()\n",
    "dataBuku.info()\n",
    "dataRating.info()"
   ]
  },
  {
   "cell_type": "markdown",
   "id": "506035a5",
   "metadata": {},
   "source": [
    "## 2.2 Identifikasi Karakteristik Data dan Cetak Ringkasan Statistik"
   ]
  },
  {
   "cell_type": "code",
   "execution_count": 3,
   "id": "48a39bd6",
   "metadata": {},
   "outputs": [
    {
     "name": "stdout",
     "output_type": "stream",
     "text": [
      "Banyak User :  278858\n",
      "Banyak Buku :  271360\n",
      "Banyak User yang Memberi Rating :  105283\n"
     ]
    }
   ],
   "source": [
    "dataUser = dataUser.rename(columns={\n",
    "    'User-ID': 'userID'\n",
    "})\n",
    "dataRating = dataRating.rename(columns={\n",
    "    'User-ID': 'userID'\n",
    "})\n",
    "\n",
    "print('Banyak User : ', len(dataUser.userID.unique()))\n",
    "print('Banyak Buku : ', len(dataBuku.ISBN.unique()))\n",
    "print('Banyak User yang Memberi Rating : ', len(dataRating.userID.unique()))"
   ]
  },
  {
   "cell_type": "markdown",
   "id": "7d76a8c6",
   "metadata": {},
   "source": [
    "## 2.3 Identifikasi Ringkasan Statistik Data"
   ]
  },
  {
   "cell_type": "markdown",
   "id": "fc2ab67f",
   "metadata": {},
   "source": [
    "### 2.3.1 Ringkasan Statistik Dataset Books"
   ]
  },
  {
   "cell_type": "code",
   "execution_count": 4,
   "id": "88541385",
   "metadata": {},
   "outputs": [
    {
     "data": {
      "text/html": [
       "<div>\n",
       "<style scoped>\n",
       "    .dataframe tbody tr th:only-of-type {\n",
       "        vertical-align: middle;\n",
       "    }\n",
       "\n",
       "    .dataframe tbody tr th {\n",
       "        vertical-align: top;\n",
       "    }\n",
       "\n",
       "    .dataframe thead th {\n",
       "        text-align: right;\n",
       "    }\n",
       "</style>\n",
       "<table border=\"1\" class=\"dataframe\">\n",
       "  <thead>\n",
       "    <tr style=\"text-align: right;\">\n",
       "      <th></th>\n",
       "      <th>Book-Title</th>\n",
       "      <th>Book-Author</th>\n",
       "      <th>Year-Of-Publication</th>\n",
       "      <th>Publisher</th>\n",
       "    </tr>\n",
       "  </thead>\n",
       "  <tbody>\n",
       "    <tr>\n",
       "      <th>count</th>\n",
       "      <td>271360</td>\n",
       "      <td>271358</td>\n",
       "      <td>271360</td>\n",
       "      <td>271358</td>\n",
       "    </tr>\n",
       "    <tr>\n",
       "      <th>unique</th>\n",
       "      <td>242135</td>\n",
       "      <td>102022</td>\n",
       "      <td>202</td>\n",
       "      <td>16807</td>\n",
       "    </tr>\n",
       "    <tr>\n",
       "      <th>top</th>\n",
       "      <td>Selected Poems</td>\n",
       "      <td>Agatha Christie</td>\n",
       "      <td>2002</td>\n",
       "      <td>Harlequin</td>\n",
       "    </tr>\n",
       "    <tr>\n",
       "      <th>freq</th>\n",
       "      <td>27</td>\n",
       "      <td>632</td>\n",
       "      <td>13903</td>\n",
       "      <td>7535</td>\n",
       "    </tr>\n",
       "  </tbody>\n",
       "</table>\n",
       "</div>"
      ],
      "text/plain": [
       "            Book-Title      Book-Author  Year-Of-Publication  Publisher\n",
       "count           271360           271358               271360     271358\n",
       "unique          242135           102022                  202      16807\n",
       "top     Selected Poems  Agatha Christie                 2002  Harlequin\n",
       "freq                27              632                13903       7535"
      ]
     },
     "execution_count": 4,
     "metadata": {},
     "output_type": "execute_result"
    }
   ],
   "source": [
    "dataBuku.drop(columns=['Image-URL-S','Image-URL-M','Image-URL-L','ISBN']).describe(include='all')"
   ]
  },
  {
   "cell_type": "markdown",
   "id": "ea42a34b",
   "metadata": {},
   "source": [
    "### 2.3.2 Ringkasan Statistik Dataset Ratings"
   ]
  },
  {
   "cell_type": "code",
   "execution_count": 5,
   "id": "1a4ec41c",
   "metadata": {},
   "outputs": [
    {
     "data": {
      "text/html": [
       "<div>\n",
       "<style scoped>\n",
       "    .dataframe tbody tr th:only-of-type {\n",
       "        vertical-align: middle;\n",
       "    }\n",
       "\n",
       "    .dataframe tbody tr th {\n",
       "        vertical-align: top;\n",
       "    }\n",
       "\n",
       "    .dataframe thead th {\n",
       "        text-align: right;\n",
       "    }\n",
       "</style>\n",
       "<table border=\"1\" class=\"dataframe\">\n",
       "  <thead>\n",
       "    <tr style=\"text-align: right;\">\n",
       "      <th></th>\n",
       "      <th>ISBN</th>\n",
       "      <th>Book-Rating</th>\n",
       "    </tr>\n",
       "  </thead>\n",
       "  <tbody>\n",
       "    <tr>\n",
       "      <th>count</th>\n",
       "      <td>1149780</td>\n",
       "      <td>1.149780e+06</td>\n",
       "    </tr>\n",
       "    <tr>\n",
       "      <th>unique</th>\n",
       "      <td>340556</td>\n",
       "      <td>NaN</td>\n",
       "    </tr>\n",
       "    <tr>\n",
       "      <th>top</th>\n",
       "      <td>0971880107</td>\n",
       "      <td>NaN</td>\n",
       "    </tr>\n",
       "    <tr>\n",
       "      <th>freq</th>\n",
       "      <td>2502</td>\n",
       "      <td>NaN</td>\n",
       "    </tr>\n",
       "    <tr>\n",
       "      <th>mean</th>\n",
       "      <td>NaN</td>\n",
       "      <td>2.866950e+00</td>\n",
       "    </tr>\n",
       "    <tr>\n",
       "      <th>std</th>\n",
       "      <td>NaN</td>\n",
       "      <td>3.854184e+00</td>\n",
       "    </tr>\n",
       "    <tr>\n",
       "      <th>min</th>\n",
       "      <td>NaN</td>\n",
       "      <td>0.000000e+00</td>\n",
       "    </tr>\n",
       "    <tr>\n",
       "      <th>25%</th>\n",
       "      <td>NaN</td>\n",
       "      <td>0.000000e+00</td>\n",
       "    </tr>\n",
       "    <tr>\n",
       "      <th>50%</th>\n",
       "      <td>NaN</td>\n",
       "      <td>0.000000e+00</td>\n",
       "    </tr>\n",
       "    <tr>\n",
       "      <th>75%</th>\n",
       "      <td>NaN</td>\n",
       "      <td>7.000000e+00</td>\n",
       "    </tr>\n",
       "    <tr>\n",
       "      <th>max</th>\n",
       "      <td>NaN</td>\n",
       "      <td>1.000000e+01</td>\n",
       "    </tr>\n",
       "  </tbody>\n",
       "</table>\n",
       "</div>"
      ],
      "text/plain": [
       "              ISBN   Book-Rating\n",
       "count      1149780  1.149780e+06\n",
       "unique      340556           NaN\n",
       "top     0971880107           NaN\n",
       "freq          2502           NaN\n",
       "mean           NaN  2.866950e+00\n",
       "std            NaN  3.854184e+00\n",
       "min            NaN  0.000000e+00\n",
       "25%            NaN  0.000000e+00\n",
       "50%            NaN  0.000000e+00\n",
       "75%            NaN  7.000000e+00\n",
       "max            NaN  1.000000e+01"
      ]
     },
     "execution_count": 5,
     "metadata": {},
     "output_type": "execute_result"
    }
   ],
   "source": [
    "dataRating.drop(columns=['userID']).describe(include='all')"
   ]
  },
  {
   "cell_type": "markdown",
   "id": "ec1f3f3c",
   "metadata": {},
   "source": [
    "### 2.3.3 Ringkasan Statistik Dataset Users"
   ]
  },
  {
   "cell_type": "code",
   "execution_count": 6,
   "id": "62bdeabe",
   "metadata": {},
   "outputs": [
    {
     "data": {
      "text/html": [
       "<div>\n",
       "<style scoped>\n",
       "    .dataframe tbody tr th:only-of-type {\n",
       "        vertical-align: middle;\n",
       "    }\n",
       "\n",
       "    .dataframe tbody tr th {\n",
       "        vertical-align: top;\n",
       "    }\n",
       "\n",
       "    .dataframe thead th {\n",
       "        text-align: right;\n",
       "    }\n",
       "</style>\n",
       "<table border=\"1\" class=\"dataframe\">\n",
       "  <thead>\n",
       "    <tr style=\"text-align: right;\">\n",
       "      <th></th>\n",
       "      <th>Location</th>\n",
       "      <th>Age</th>\n",
       "    </tr>\n",
       "  </thead>\n",
       "  <tbody>\n",
       "    <tr>\n",
       "      <th>count</th>\n",
       "      <td>278858</td>\n",
       "      <td>168096.000000</td>\n",
       "    </tr>\n",
       "    <tr>\n",
       "      <th>unique</th>\n",
       "      <td>57339</td>\n",
       "      <td>NaN</td>\n",
       "    </tr>\n",
       "    <tr>\n",
       "      <th>top</th>\n",
       "      <td>london, england, united kingdom</td>\n",
       "      <td>NaN</td>\n",
       "    </tr>\n",
       "    <tr>\n",
       "      <th>freq</th>\n",
       "      <td>2506</td>\n",
       "      <td>NaN</td>\n",
       "    </tr>\n",
       "    <tr>\n",
       "      <th>mean</th>\n",
       "      <td>NaN</td>\n",
       "      <td>34.751434</td>\n",
       "    </tr>\n",
       "    <tr>\n",
       "      <th>std</th>\n",
       "      <td>NaN</td>\n",
       "      <td>14.428097</td>\n",
       "    </tr>\n",
       "    <tr>\n",
       "      <th>min</th>\n",
       "      <td>NaN</td>\n",
       "      <td>0.000000</td>\n",
       "    </tr>\n",
       "    <tr>\n",
       "      <th>25%</th>\n",
       "      <td>NaN</td>\n",
       "      <td>24.000000</td>\n",
       "    </tr>\n",
       "    <tr>\n",
       "      <th>50%</th>\n",
       "      <td>NaN</td>\n",
       "      <td>32.000000</td>\n",
       "    </tr>\n",
       "    <tr>\n",
       "      <th>75%</th>\n",
       "      <td>NaN</td>\n",
       "      <td>44.000000</td>\n",
       "    </tr>\n",
       "    <tr>\n",
       "      <th>max</th>\n",
       "      <td>NaN</td>\n",
       "      <td>244.000000</td>\n",
       "    </tr>\n",
       "  </tbody>\n",
       "</table>\n",
       "</div>"
      ],
      "text/plain": [
       "                               Location            Age\n",
       "count                            278858  168096.000000\n",
       "unique                            57339            NaN\n",
       "top     london, england, united kingdom            NaN\n",
       "freq                               2506            NaN\n",
       "mean                                NaN      34.751434\n",
       "std                                 NaN      14.428097\n",
       "min                                 NaN       0.000000\n",
       "25%                                 NaN      24.000000\n",
       "50%                                 NaN      32.000000\n",
       "75%                                 NaN      44.000000\n",
       "max                                 NaN     244.000000"
      ]
     },
     "execution_count": 6,
     "metadata": {},
     "output_type": "execute_result"
    }
   ],
   "source": [
    "dataUser.drop(columns=['userID']).describe(include='all')"
   ]
  },
  {
   "cell_type": "markdown",
   "id": "05065692",
   "metadata": {},
   "source": [
    "## 2.4 Pengecekan Missing Value"
   ]
  },
  {
   "cell_type": "code",
   "execution_count": 7,
   "id": "c30a19bf",
   "metadata": {},
   "outputs": [
    {
     "data": {
      "text/plain": [
       "userID           0\n",
       "Location         0\n",
       "Age         110762\n",
       "dtype: int64"
      ]
     },
     "execution_count": 7,
     "metadata": {},
     "output_type": "execute_result"
    }
   ],
   "source": [
    "dataUser.isnull().sum()"
   ]
  },
  {
   "cell_type": "code",
   "execution_count": 8,
   "id": "a8c64c02",
   "metadata": {},
   "outputs": [
    {
     "data": {
      "text/plain": [
       "ISBN                   0\n",
       "Book-Title             0\n",
       "Book-Author            2\n",
       "Year-Of-Publication    0\n",
       "Publisher              2\n",
       "Image-URL-S            0\n",
       "Image-URL-M            0\n",
       "Image-URL-L            3\n",
       "dtype: int64"
      ]
     },
     "execution_count": 8,
     "metadata": {},
     "output_type": "execute_result"
    }
   ],
   "source": [
    "dataBuku.isnull().sum()"
   ]
  },
  {
   "cell_type": "code",
   "execution_count": 9,
   "id": "38b94144",
   "metadata": {},
   "outputs": [
    {
     "data": {
      "text/plain": [
       "userID         0\n",
       "ISBN           0\n",
       "Book-Rating    0\n",
       "dtype: int64"
      ]
     },
     "execution_count": 9,
     "metadata": {},
     "output_type": "execute_result"
    }
   ],
   "source": [
    "\n",
    "dataRating.isnull().sum()"
   ]
  },
  {
   "cell_type": "markdown",
   "id": "c48e86a2",
   "metadata": {},
   "source": [
    "# 3. Data Preparation"
   ]
  },
  {
   "cell_type": "markdown",
   "id": "697f0e90",
   "metadata": {},
   "source": [
    "## 3.1 Join Tabel"
   ]
  },
  {
   "cell_type": "code",
   "execution_count": 10,
   "id": "e09aa543",
   "metadata": {},
   "outputs": [],
   "source": [
    "# Gabungkan Data Rating dengan Data User untuk memperoleh dataset rating beserta atribut usernya\n",
    "dataRatingUser = pd.merge(dataRating, dataUser, on='userID', how='left')\n",
    "# Gabungkan dataset sebelumnya dengan dataset buku untuk memperoleh keterangan buku yang diberi rating\n",
    "dataset = pd.merge(dataRatingUser, dataBuku, on='ISBN', how='left')"
   ]
  },
  {
   "cell_type": "code",
   "execution_count": 11,
   "id": "9b9cdf54",
   "metadata": {},
   "outputs": [
    {
     "name": "stdout",
     "output_type": "stream",
     "text": [
      "<class 'pandas.core.frame.DataFrame'>\n",
      "RangeIndex: 1149780 entries, 0 to 1149779\n",
      "Data columns (total 12 columns):\n",
      " #   Column               Non-Null Count    Dtype  \n",
      "---  ------               --------------    -----  \n",
      " 0   userID               1149780 non-null  int64  \n",
      " 1   ISBN                 1149780 non-null  object \n",
      " 2   Book-Rating          1149780 non-null  int64  \n",
      " 3   Location             1149780 non-null  object \n",
      " 4   Age                  840288 non-null   float64\n",
      " 5   Book-Title           1031136 non-null  object \n",
      " 6   Book-Author          1031134 non-null  object \n",
      " 7   Year-Of-Publication  1031136 non-null  object \n",
      " 8   Publisher            1031134 non-null  object \n",
      " 9   Image-URL-S          1031136 non-null  object \n",
      " 10  Image-URL-M          1031136 non-null  object \n",
      " 11  Image-URL-L          1031132 non-null  object \n",
      "dtypes: float64(1), int64(2), object(9)\n",
      "memory usage: 105.3+ MB\n"
     ]
    },
    {
     "data": {
      "text/plain": [
       "userID                      0\n",
       "ISBN                        0\n",
       "Book-Rating                 0\n",
       "Location                    0\n",
       "Age                    309492\n",
       "Book-Title             118644\n",
       "Book-Author            118646\n",
       "Year-Of-Publication    118644\n",
       "Publisher              118646\n",
       "Image-URL-S            118644\n",
       "Image-URL-M            118644\n",
       "Image-URL-L            118648\n",
       "dtype: int64"
      ]
     },
     "execution_count": 11,
     "metadata": {},
     "output_type": "execute_result"
    }
   ],
   "source": [
    "dataset.info()\n",
    "dataset.isnull().sum()"
   ]
  },
  {
   "cell_type": "markdown",
   "id": "d0d84264",
   "metadata": {},
   "source": [
    "## 3.2 Eliminasi Observasi dengan Missing Value"
   ]
  },
  {
   "cell_type": "code",
   "execution_count": 12,
   "id": "0e6be6a4",
   "metadata": {},
   "outputs": [],
   "source": [
    "dataFinal = dataset.dropna()"
   ]
  },
  {
   "cell_type": "markdown",
   "id": "da46cf08",
   "metadata": {},
   "source": [
    "### 3.3.1 Preprocessing untuk Content Based Filtering"
   ]
  },
  {
   "cell_type": "code",
   "execution_count": 13,
   "id": "137a81b1",
   "metadata": {},
   "outputs": [
    {
     "name": "stderr",
     "output_type": "stream",
     "text": [
      "/tmp/ipykernel_162902/520120421.py:2: SettingWithCopyWarning: \n",
      "A value is trying to be set on a copy of a slice from a DataFrame.\n",
      "Try using .loc[row_indexer,col_indexer] = value instead\n",
      "\n",
      "See the caveats in the documentation: https://pandas.pydata.org/pandas-docs/stable/user_guide/indexing.html#returning-a-view-versus-a-copy\n",
      "  dataFinal['AtributBuku'] = dataFinal['Book-Title'] + ' ' + dataFinal['Book-Author'] + ' ' + dataFinal['Year-Of-Publication'].astype(str)\n",
      "/tmp/ipykernel_162902/520120421.py:12: SettingWithCopyWarning: \n",
      "A value is trying to be set on a copy of a slice from a DataFrame.\n",
      "Try using .loc[row_indexer,col_indexer] = value instead\n",
      "\n",
      "See the caveats in the documentation: https://pandas.pydata.org/pandas-docs/stable/user_guide/indexing.html#returning-a-view-versus-a-copy\n",
      "  dataFinal['AtributBuku'] = dataFinal['AtributBuku'].apply(preprocess_text)\n"
     ]
    }
   ],
   "source": [
    "# Membentuk Variabel Baru yang menangkap atribut dari Buku\n",
    "dataFinal['AtributBuku'] = dataFinal['Book-Title'] + ' ' + dataFinal['Book-Author'] + ' ' + dataFinal['Year-Of-Publication'].astype(str)\n",
    "\n",
    "# Preprocessing: Convert to lowercase, remove punctuation\n",
    "def preprocess_text(text):\n",
    "    # Convert to lowercase\n",
    "    text = text.lower()\n",
    "    # Remove punctuation\n",
    "    text = re.sub(r'[^\\w\\s]', '', text)\n",
    "    return text\n",
    "\n",
    "dataFinal['AtributBuku'] = dataFinal['AtributBuku'].apply(preprocess_text)\n",
    "\n",
    "# Undersampling untuk Reduksi Dataset\n",
    "dataBaru = dataFinal.dropna(subset=['AtributBuku']).sample(n=80000, random_state=42).reset_index(drop=True)"
   ]
  },
  {
   "cell_type": "markdown",
   "id": "8ce7ed25",
   "metadata": {},
   "source": [
    "### 3.3.2 Preprocessing untuk Colaborative Filtering"
   ]
  },
  {
   "cell_type": "code",
   "execution_count": 14,
   "id": "cb32d4e3",
   "metadata": {},
   "outputs": [
    {
     "name": "stderr",
     "output_type": "stream",
     "text": [
      "/tmp/ipykernel_162902/3581592387.py:12: SettingWithCopyWarning: \n",
      "A value is trying to be set on a copy of a slice from a DataFrame.\n",
      "Try using .loc[row_indexer,col_indexer] = value instead\n",
      "\n",
      "See the caveats in the documentation: https://pandas.pydata.org/pandas-docs/stable/user_guide/indexing.html#returning-a-view-versus-a-copy\n",
      "  dataFinal['user_encoded'] = dataFinal['userID'].map(user_to_user_encoded)\n"
     ]
    },
    {
     "name": "stdout",
     "output_type": "stream",
     "text": [
      "Jumlah User: 53887, Jumlah Buku: 228995, Min Rating: 0.0, Max Rating: 10.0\n"
     ]
    },
    {
     "name": "stderr",
     "output_type": "stream",
     "text": [
      "/tmp/ipykernel_162902/3581592387.py:13: SettingWithCopyWarning: \n",
      "A value is trying to be set on a copy of a slice from a DataFrame.\n",
      "Try using .loc[row_indexer,col_indexer] = value instead\n",
      "\n",
      "See the caveats in the documentation: https://pandas.pydata.org/pandas-docs/stable/user_guide/indexing.html#returning-a-view-versus-a-copy\n",
      "  dataFinal['ISBN_encoded'] = dataFinal['ISBN'].map(buku_to_ids_encoded)\n",
      "/tmp/ipykernel_162902/3581592387.py:24: SettingWithCopyWarning: \n",
      "A value is trying to be set on a copy of a slice from a DataFrame.\n",
      "Try using .loc[row_indexer,col_indexer] = value instead\n",
      "\n",
      "See the caveats in the documentation: https://pandas.pydata.org/pandas-docs/stable/user_guide/indexing.html#returning-a-view-versus-a-copy\n",
      "  dataFinal['user_encoded'] = dataFinal['user_encoded'].astype(np.int32)\n",
      "/tmp/ipykernel_162902/3581592387.py:25: SettingWithCopyWarning: \n",
      "A value is trying to be set on a copy of a slice from a DataFrame.\n",
      "Try using .loc[row_indexer,col_indexer] = value instead\n",
      "\n",
      "See the caveats in the documentation: https://pandas.pydata.org/pandas-docs/stable/user_guide/indexing.html#returning-a-view-versus-a-copy\n",
      "  dataFinal['ISBN_encoded'] = dataFinal['ISBN_encoded'].astype(np.int32)\n",
      "/tmp/ipykernel_162902/3581592387.py:28: SettingWithCopyWarning: \n",
      "A value is trying to be set on a copy of a slice from a DataFrame.\n",
      "Try using .loc[row_indexer,col_indexer] = value instead\n",
      "\n",
      "See the caveats in the documentation: https://pandas.pydata.org/pandas-docs/stable/user_guide/indexing.html#returning-a-view-versus-a-copy\n",
      "  dataFinal['Book-Rating'] = dataFinal['Book-Rating'].astype(np.float32)\n"
     ]
    }
   ],
   "source": [
    "# Mengubah userID menjadi list unik\n",
    "user_ids = dataFinal['userID'].unique().tolist()\n",
    "user_to_user_encoded = {x: i for i, x in enumerate(user_ids)}\n",
    "user_encoded_to_user = {i: x for i, x in enumerate(user_ids)}\n",
    "\n",
    "# Mengubah ISBN menjadi list unik\n",
    "buku_ids = dataFinal['ISBN'].unique().tolist()\n",
    "buku_to_ids_encoded = {x: i for i, x in enumerate(buku_ids)}\n",
    "ids_to_buku_encoded = {i: x for i, x in enumerate(buku_ids)}\n",
    "\n",
    "# Melakukan encoding ke dataframe\n",
    "dataFinal['user_encoded'] = dataFinal['userID'].map(user_to_user_encoded)\n",
    "dataFinal['ISBN_encoded'] = dataFinal['ISBN'].map(buku_to_ids_encoded)\n",
    "\n",
    "# Cek apakah ada yang gagal di-encode\n",
    "if dataFinal[['user_encoded', 'ISBN_encoded']].isnull().values.any():\n",
    "    print(\"🚨 Ada userID atau ISBN yang tidak berhasil di-encode!\")\n",
    "    print(\"Jumlah user_encoded NaN:\", dataFinal['user_encoded'].isnull().sum())\n",
    "    print(\"Jumlah ISBN_encoded NaN:\", dataFinal['ISBN_encoded'].isnull().sum())\n",
    "    # Bisa drop baris NaN atau isi dengan nilai default\n",
    "    dataFinal = dataFinal.dropna(subset=['user_encoded', 'ISBN_encoded'])\n",
    "\n",
    "# Convert ke integer untuk keperluan input model embedding\n",
    "dataFinal['user_encoded'] = dataFinal['user_encoded'].astype(np.int32)\n",
    "dataFinal['ISBN_encoded'] = dataFinal['ISBN_encoded'].astype(np.int32)\n",
    "\n",
    "# Konversi rating ke float32\n",
    "dataFinal['Book-Rating'] = dataFinal['Book-Rating'].astype(np.float32)\n",
    "\n",
    "# Info statistik\n",
    "num_users = len(user_to_user_encoded)\n",
    "num_items = len(ids_to_buku_encoded)\n",
    "min_rating = dataFinal['Book-Rating'].min()\n",
    "max_rating = dataFinal['Book-Rating'].max()\n",
    "\n",
    "print(f'Jumlah User: {num_users}, Jumlah Buku: {num_items}, Min Rating: {min_rating}, Max Rating: {max_rating}')"
   ]
  },
  {
   "cell_type": "code",
   "execution_count": 15,
   "id": "7f34a1ce",
   "metadata": {},
   "outputs": [],
   "source": [
    "# Mengacak dataset\n",
    "df = dataFinal.sample(frac=1, random_state=42)\n",
    "df\n",
    "\n",
    "# Membuat variabel x untuk mencocokkan data user dan resto menjadi satu value\n",
    "x = df[['user_encoded', 'ISBN_encoded']].values\n",
    " \n",
    "# Membuat variabel y untuk membuat rating dari hasil \n",
    "y = df['Book-Rating'].apply(lambda x: (x - min_rating) / (max_rating - min_rating)).values\n",
    " \n",
    "# Membagi menjadi 80% data train dan 20% data validasi\n",
    "train_indices = int(0.8 * df.shape[0])\n",
    "x_train, x_val, y_train, y_val = (\n",
    "    x[:train_indices],\n",
    "    x[train_indices:],\n",
    "    y[:train_indices],\n",
    "    y[train_indices:]\n",
    ")"
   ]
  },
  {
   "cell_type": "markdown",
   "id": "6c5ea9b6",
   "metadata": {},
   "source": [
    "# 4. Modelling"
   ]
  },
  {
   "cell_type": "markdown",
   "id": "e5a39ccc",
   "metadata": {},
   "source": [
    "## 4.1 Content Based Filtering"
   ]
  },
  {
   "cell_type": "markdown",
   "id": "30c1dd33",
   "metadata": {},
   "source": [
    "### 4.1.1 Membentuk Matriks Term Frequency - Inverse Document Frequency"
   ]
  },
  {
   "cell_type": "code",
   "execution_count": 16,
   "id": "f6aa0402",
   "metadata": {},
   "outputs": [],
   "source": [
    "# Buat dataframe baru berisi data unik dari AtributBuku\n",
    "dataBaru = dataBaru.drop_duplicates(subset='AtributBuku').reset_index(drop=False)\n",
    "\n",
    "tfidf = TfidfVectorizer(stop_words='english')\n",
    "tfidf_matrix = tfidf.fit_transform(dataBaru['AtributBuku'])"
   ]
  },
  {
   "cell_type": "markdown",
   "id": "e3b1fc99",
   "metadata": {},
   "source": [
    "### 4.1.2 Membentuk Matriks Cosine Similarity"
   ]
  },
  {
   "cell_type": "code",
   "execution_count": 17,
   "id": "1da5115e",
   "metadata": {},
   "outputs": [],
   "source": [
    "cosine_sim = cosine_similarity(tfidf_matrix, dense_output=False)\n"
   ]
  },
  {
   "cell_type": "markdown",
   "id": "ef552bc1",
   "metadata": {},
   "source": [
    "### 4.1.3 Pendefinisian Fungsi Rekomendasi Produk"
   ]
  },
  {
   "cell_type": "code",
   "execution_count": 18,
   "id": "cb2a24d2",
   "metadata": {},
   "outputs": [],
   "source": [
    "def recommend(book_title, cosine_sim=cosine_sim, jmlbuku = 5):\n",
    "    print(f\"Menampilkan Rekomendasi Buku yang sesuai dengan '{book_title}' ...\")\n",
    "    \n",
    "    matches = dataBaru[dataBaru['Book-Title'] == book_title]\n",
    "    if matches.empty:\n",
    "        return f\"Tidak ditemukan judul: {book_title}\"\n",
    "    \n",
    "    # matches.index sudah 0..n-1, cocok untuk cosine_sim\n",
    "    idx = matches.index[0]\n",
    "\n",
    "    sim_scores_row = cosine_sim[idx].toarray().flatten()\n",
    "\n",
    "    sim_scores = list(enumerate(sim_scores_row))\n",
    "    sim_scores = sorted(sim_scores, key=lambda x: x[1], reverse=True)\n",
    "    sim_scores = sim_scores[1:jmlbuku+1]  # skip buku itu sendiri\n",
    "\n",
    "    book_indices = [i[0] for i in sim_scores]\n",
    "    scores = [i[1] for i in sim_scores]\n",
    "\n",
    "    result = dataBaru.iloc[book_indices][['Book-Title', 'Book-Author', 'Publisher', 'Year-Of-Publication']].copy()\n",
    "    result['similarity_score'] = scores\n",
    "\n",
    "    return result.reset_index(drop=True)\n"
   ]
  },
  {
   "cell_type": "code",
   "execution_count": 19,
   "id": "9f3ec30d",
   "metadata": {},
   "outputs": [
    {
     "name": "stdout",
     "output_type": "stream",
     "text": [
      "Menampilkan Rekomendasi Buku yang sesuai dengan 'Naked Pictures of Famous People' ...\n"
     ]
    },
    {
     "data": {
      "text/html": [
       "<div>\n",
       "<style scoped>\n",
       "    .dataframe tbody tr th:only-of-type {\n",
       "        vertical-align: middle;\n",
       "    }\n",
       "\n",
       "    .dataframe tbody tr th {\n",
       "        vertical-align: top;\n",
       "    }\n",
       "\n",
       "    .dataframe thead th {\n",
       "        text-align: right;\n",
       "    }\n",
       "</style>\n",
       "<table border=\"1\" class=\"dataframe\">\n",
       "  <thead>\n",
       "    <tr style=\"text-align: right;\">\n",
       "      <th></th>\n",
       "      <th>Book-Title</th>\n",
       "      <th>Book-Author</th>\n",
       "      <th>Publisher</th>\n",
       "      <th>Year-Of-Publication</th>\n",
       "      <th>similarity_score</th>\n",
       "    </tr>\n",
       "  </thead>\n",
       "  <tbody>\n",
       "    <tr>\n",
       "      <th>0</th>\n",
       "      <td>Famous People I Have Known</td>\n",
       "      <td>Ed McClanahan</td>\n",
       "      <td>Gnomon Press</td>\n",
       "      <td>1997</td>\n",
       "      <td>0.300611</td>\n",
       "    </tr>\n",
       "    <tr>\n",
       "      <th>1</th>\n",
       "      <td>Family Pictures</td>\n",
       "      <td>Sue Miller</td>\n",
       "      <td>Orion mass market paperback</td>\n",
       "      <td>2001</td>\n",
       "      <td>0.262720</td>\n",
       "    </tr>\n",
       "    <tr>\n",
       "      <th>2</th>\n",
       "      <td>Family Pictures</td>\n",
       "      <td>Sue Miller</td>\n",
       "      <td>HarperTorch</td>\n",
       "      <td>1991</td>\n",
       "      <td>0.259162</td>\n",
       "    </tr>\n",
       "    <tr>\n",
       "      <th>3</th>\n",
       "      <td>Famous People I Have Known (Kentucky Voices, 2)</td>\n",
       "      <td>Ed McClanahan</td>\n",
       "      <td>University Press of Kentucky</td>\n",
       "      <td>2003</td>\n",
       "      <td>0.254216</td>\n",
       "    </tr>\n",
       "    <tr>\n",
       "      <th>4</th>\n",
       "      <td>Dead Simple</td>\n",
       "      <td>Jon Land</td>\n",
       "      <td>Tor Books (Mm)</td>\n",
       "      <td>1999</td>\n",
       "      <td>0.247306</td>\n",
       "    </tr>\n",
       "  </tbody>\n",
       "</table>\n",
       "</div>"
      ],
      "text/plain": [
       "                                        Book-Title    Book-Author  \\\n",
       "0                       Famous People I Have Known  Ed McClanahan   \n",
       "1                                  Family Pictures     Sue Miller   \n",
       "2                                  Family Pictures     Sue Miller   \n",
       "3  Famous People I Have Known (Kentucky Voices, 2)  Ed McClanahan   \n",
       "4                                      Dead Simple       Jon Land   \n",
       "\n",
       "                      Publisher Year-Of-Publication  similarity_score  \n",
       "0                  Gnomon Press                1997          0.300611  \n",
       "1   Orion mass market paperback                2001          0.262720  \n",
       "2                   HarperTorch                1991          0.259162  \n",
       "3  University Press of Kentucky                2003          0.254216  \n",
       "4                Tor Books (Mm)                1999          0.247306  "
      ]
     },
     "execution_count": 19,
     "metadata": {},
     "output_type": "execute_result"
    }
   ],
   "source": [
    "recommend(dataBaru['Book-Title'].dropna().sample(1).iloc[0])\n"
   ]
  },
  {
   "cell_type": "markdown",
   "id": "52e442a8",
   "metadata": {},
   "source": [
    "## 4.2 Collaborative Filtering"
   ]
  },
  {
   "cell_type": "markdown",
   "id": "90d584f5",
   "metadata": {},
   "source": [
    "### 4.2.1 Pendefinisian Model RecommenderNet (Neural Colaborative Filtering)"
   ]
  },
  {
   "cell_type": "code",
   "execution_count": 20,
   "id": "adf06a74",
   "metadata": {},
   "outputs": [],
   "source": [
    "import tensorflow as tf\n",
    "from tensorflow.keras import layers, regularizers, Model\n",
    "\n",
    "class RecommenderNet(Model):\n",
    "\n",
    "    def __init__(self, num_users, num_buku, embedding_size, dropout_rate=0.3, **kwargs):\n",
    "        super(RecommenderNet, self).__init__(**kwargs)\n",
    "        self.num_users = num_users\n",
    "        self.num_buku = num_buku\n",
    "        self.embedding_size = embedding_size\n",
    "        self.dropout_rate = dropout_rate\n",
    "\n",
    "        # User Embedding Layer\n",
    "        self.user_embedding = layers.Embedding(\n",
    "            input_dim=num_users,\n",
    "            output_dim=embedding_size,\n",
    "            embeddings_initializer='he_normal',\n",
    "            embeddings_regularizer=regularizers.l2(1e-6)\n",
    "        )\n",
    "        self.user_bias = layers.Embedding(input_dim=num_users, output_dim=1)\n",
    "\n",
    "        # Item Embedding Layer\n",
    "        self.buku_embedding = layers.Embedding(\n",
    "            input_dim=num_buku,\n",
    "            output_dim=embedding_size,\n",
    "            embeddings_initializer='he_normal',\n",
    "            embeddings_regularizer=regularizers.l2(1e-6)\n",
    "        )\n",
    "        self.buku_bias = layers.Embedding(input_dim=num_buku, output_dim=1)\n",
    "\n",
    "        # Dropout Layer\n",
    "        self.dropout = layers.Dropout(dropout_rate)\n",
    "\n",
    "        # Fully Connected Layer\n",
    "        self.fc1 = layers.Dense(embedding_size, activation='relu')\n",
    "        self.batch_norm = layers.BatchNormalization()\n",
    "        self.fc2 = layers.Dense(1, activation='sigmoid')\n",
    "\n",
    "    def call(self, inputs):\n",
    "        # Extract user and item embeddings\n",
    "        user_vector = self.user_embedding(inputs[:, 0])\n",
    "        user_bias = self.user_bias(inputs[:, 0])\n",
    "        buku_vector = self.buku_embedding(inputs[:, 1])\n",
    "        buku_bias = self.buku_bias(inputs[:, 1])\n",
    "\n",
    "        # Normalize embeddings\n",
    "        user_vector = tf.nn.l2_normalize(user_vector, axis=1)\n",
    "        buku_vector = tf.nn.l2_normalize(buku_vector, axis=1)\n",
    "\n",
    "        # Compute dot product\n",
    "        dot_product = tf.reduce_sum(user_vector * buku_vector, axis=1, keepdims=True)\n",
    "\n",
    "        # Add biases\n",
    "        x = dot_product + user_bias + buku_bias\n",
    "\n",
    "        # Apply dropout and dense layers\n",
    "        x = self.dropout(x)\n",
    "        x = self.fc1(x)\n",
    "        x = self.batch_norm(x)\n",
    "        x = self.fc2(x)\n",
    "\n",
    "        return x"
   ]
  },
  {
   "cell_type": "code",
   "execution_count": null,
   "id": "b7dc04d4",
   "metadata": {},
   "outputs": [
    {
     "name": "stderr",
     "output_type": "stream",
     "text": [
      "W0000 00:00:1747575558.066974  162902 gpu_device.cc:2341] Cannot dlopen some GPU libraries. Please make sure the missing libraries mentioned above are installed properly if you would like to use GPU. Follow the guide at https://www.tensorflow.org/install/gpu for how to download and setup the required libraries for your platform.\n",
      "Skipping registering GPU devices...\n"
     ]
    }
   ],
   "source": [
    "model = RecommenderNet(num_users, num_items, 256) # inisialisasi model\n",
    " \n",
    "model.compile(\n",
    "    optimizer=tf.keras.optimizers.Adam(learning_rate=0.001),\n",
    "    loss='binary_crossentropy',\n",
    "    metrics=['accuracy',tf.keras.metrics.RootMeanSquaredError(name='rmse')]\n",
    ")"
   ]
  },
  {
   "cell_type": "markdown",
   "id": "985ecbde",
   "metadata": {},
   "source": [
    "### 4.2.2 Pelatihan Model Rekomendasi"
   ]
  },
  {
   "cell_type": "code",
   "execution_count": 22,
   "id": "09d1957e",
   "metadata": {},
   "outputs": [
    {
     "name": "stdout",
     "output_type": "stream",
     "text": [
      "Epoch 1/5\n",
      "\u001b[1m 127/1178\u001b[0m \u001b[32m━━\u001b[0m\u001b[37m━━━━━━━━━━━━━━━━━━\u001b[0m \u001b[1m7:39\u001b[0m 437ms/step - accuracy: 0.6411 - loss: 0.6214 - rmse: 0.4045"
     ]
    },
    {
     "ename": "KeyboardInterrupt",
     "evalue": "",
     "output_type": "error",
     "traceback": [
      "\u001b[0;31m---------------------------------------------------------------------------\u001b[0m",
      "\u001b[0;31mKeyboardInterrupt\u001b[0m                         Traceback (most recent call last)",
      "Cell \u001b[0;32mIn[22], line 3\u001b[0m\n\u001b[1;32m      1\u001b[0m \u001b[38;5;66;03m# Memulai training\u001b[39;00m\n\u001b[0;32m----> 3\u001b[0m history \u001b[38;5;241m=\u001b[39m \u001b[43mmodel\u001b[49m\u001b[38;5;241;43m.\u001b[39;49m\u001b[43mfit\u001b[49m\u001b[43m(\u001b[49m\n\u001b[1;32m      4\u001b[0m \u001b[43m    \u001b[49m\u001b[43mx\u001b[49m\u001b[43m \u001b[49m\u001b[38;5;241;43m=\u001b[39;49m\u001b[43m \u001b[49m\u001b[43mx_train\u001b[49m\u001b[43m,\u001b[49m\n\u001b[1;32m      5\u001b[0m \u001b[43m    \u001b[49m\u001b[43my\u001b[49m\u001b[43m \u001b[49m\u001b[38;5;241;43m=\u001b[39;49m\u001b[43m \u001b[49m\u001b[43my_train\u001b[49m\u001b[43m,\u001b[49m\n\u001b[1;32m      6\u001b[0m \u001b[43m    \u001b[49m\u001b[43mbatch_size\u001b[49m\u001b[43m \u001b[49m\u001b[38;5;241;43m=\u001b[39;49m\u001b[43m \u001b[49m\u001b[38;5;241;43m512\u001b[39;49m\u001b[43m,\u001b[49m\n\u001b[1;32m      7\u001b[0m \u001b[43m    \u001b[49m\u001b[43mepochs\u001b[49m\u001b[43m \u001b[49m\u001b[38;5;241;43m=\u001b[39;49m\u001b[43m \u001b[49m\u001b[38;5;241;43m5\u001b[39;49m\u001b[43m,\u001b[49m\n\u001b[1;32m      8\u001b[0m \u001b[43m    \u001b[49m\u001b[43mvalidation_data\u001b[49m\u001b[43m \u001b[49m\u001b[38;5;241;43m=\u001b[39;49m\u001b[43m \u001b[49m\u001b[43m(\u001b[49m\u001b[43mx_val\u001b[49m\u001b[43m,\u001b[49m\u001b[43m \u001b[49m\u001b[43my_val\u001b[49m\u001b[43m)\u001b[49m\n\u001b[1;32m      9\u001b[0m \u001b[43m)\u001b[49m\n",
      "File \u001b[0;32m~/.local/lib/python3.10/site-packages/keras/src/utils/traceback_utils.py:117\u001b[0m, in \u001b[0;36mfilter_traceback.<locals>.error_handler\u001b[0;34m(*args, **kwargs)\u001b[0m\n\u001b[1;32m    115\u001b[0m filtered_tb \u001b[38;5;241m=\u001b[39m \u001b[38;5;28;01mNone\u001b[39;00m\n\u001b[1;32m    116\u001b[0m \u001b[38;5;28;01mtry\u001b[39;00m:\n\u001b[0;32m--> 117\u001b[0m     \u001b[38;5;28;01mreturn\u001b[39;00m \u001b[43mfn\u001b[49m\u001b[43m(\u001b[49m\u001b[38;5;241;43m*\u001b[39;49m\u001b[43margs\u001b[49m\u001b[43m,\u001b[49m\u001b[43m \u001b[49m\u001b[38;5;241;43m*\u001b[39;49m\u001b[38;5;241;43m*\u001b[39;49m\u001b[43mkwargs\u001b[49m\u001b[43m)\u001b[49m\n\u001b[1;32m    118\u001b[0m \u001b[38;5;28;01mexcept\u001b[39;00m \u001b[38;5;167;01mException\u001b[39;00m \u001b[38;5;28;01mas\u001b[39;00m e:\n\u001b[1;32m    119\u001b[0m     filtered_tb \u001b[38;5;241m=\u001b[39m _process_traceback_frames(e\u001b[38;5;241m.\u001b[39m__traceback__)\n",
      "File \u001b[0;32m~/.local/lib/python3.10/site-packages/keras/src/backend/tensorflow/trainer.py:320\u001b[0m, in \u001b[0;36mTensorFlowTrainer.fit\u001b[0;34m(self, x, y, batch_size, epochs, verbose, callbacks, validation_split, validation_data, shuffle, class_weight, sample_weight, initial_epoch, steps_per_epoch, validation_steps, validation_batch_size, validation_freq)\u001b[0m\n\u001b[1;32m    318\u001b[0m \u001b[38;5;28;01mfor\u001b[39;00m step, iterator \u001b[38;5;129;01min\u001b[39;00m epoch_iterator\u001b[38;5;241m.\u001b[39menumerate_epoch():\n\u001b[1;32m    319\u001b[0m     callbacks\u001b[38;5;241m.\u001b[39mon_train_batch_begin(step)\n\u001b[0;32m--> 320\u001b[0m     logs \u001b[38;5;241m=\u001b[39m \u001b[38;5;28;43mself\u001b[39;49m\u001b[38;5;241;43m.\u001b[39;49m\u001b[43mtrain_function\u001b[49m\u001b[43m(\u001b[49m\u001b[43miterator\u001b[49m\u001b[43m)\u001b[49m\n\u001b[1;32m    321\u001b[0m     logs \u001b[38;5;241m=\u001b[39m \u001b[38;5;28mself\u001b[39m\u001b[38;5;241m.\u001b[39m_pythonify_logs(logs)\n\u001b[1;32m    322\u001b[0m     callbacks\u001b[38;5;241m.\u001b[39mon_train_batch_end(step, logs)\n",
      "File \u001b[0;32m~/.local/lib/python3.10/site-packages/tensorflow/python/util/traceback_utils.py:150\u001b[0m, in \u001b[0;36mfilter_traceback.<locals>.error_handler\u001b[0;34m(*args, **kwargs)\u001b[0m\n\u001b[1;32m    148\u001b[0m filtered_tb \u001b[38;5;241m=\u001b[39m \u001b[38;5;28;01mNone\u001b[39;00m\n\u001b[1;32m    149\u001b[0m \u001b[38;5;28;01mtry\u001b[39;00m:\n\u001b[0;32m--> 150\u001b[0m   \u001b[38;5;28;01mreturn\u001b[39;00m \u001b[43mfn\u001b[49m\u001b[43m(\u001b[49m\u001b[38;5;241;43m*\u001b[39;49m\u001b[43margs\u001b[49m\u001b[43m,\u001b[49m\u001b[43m \u001b[49m\u001b[38;5;241;43m*\u001b[39;49m\u001b[38;5;241;43m*\u001b[39;49m\u001b[43mkwargs\u001b[49m\u001b[43m)\u001b[49m\n\u001b[1;32m    151\u001b[0m \u001b[38;5;28;01mexcept\u001b[39;00m \u001b[38;5;167;01mException\u001b[39;00m \u001b[38;5;28;01mas\u001b[39;00m e:\n\u001b[1;32m    152\u001b[0m   filtered_tb \u001b[38;5;241m=\u001b[39m _process_traceback_frames(e\u001b[38;5;241m.\u001b[39m__traceback__)\n",
      "File \u001b[0;32m~/.local/lib/python3.10/site-packages/tensorflow/python/eager/polymorphic_function/polymorphic_function.py:833\u001b[0m, in \u001b[0;36mFunction.__call__\u001b[0;34m(self, *args, **kwds)\u001b[0m\n\u001b[1;32m    830\u001b[0m compiler \u001b[38;5;241m=\u001b[39m \u001b[38;5;124m\"\u001b[39m\u001b[38;5;124mxla\u001b[39m\u001b[38;5;124m\"\u001b[39m \u001b[38;5;28;01mif\u001b[39;00m \u001b[38;5;28mself\u001b[39m\u001b[38;5;241m.\u001b[39m_jit_compile \u001b[38;5;28;01melse\u001b[39;00m \u001b[38;5;124m\"\u001b[39m\u001b[38;5;124mnonXla\u001b[39m\u001b[38;5;124m\"\u001b[39m\n\u001b[1;32m    832\u001b[0m \u001b[38;5;28;01mwith\u001b[39;00m OptionalXlaContext(\u001b[38;5;28mself\u001b[39m\u001b[38;5;241m.\u001b[39m_jit_compile):\n\u001b[0;32m--> 833\u001b[0m   result \u001b[38;5;241m=\u001b[39m \u001b[38;5;28;43mself\u001b[39;49m\u001b[38;5;241;43m.\u001b[39;49m\u001b[43m_call\u001b[49m\u001b[43m(\u001b[49m\u001b[38;5;241;43m*\u001b[39;49m\u001b[43margs\u001b[49m\u001b[43m,\u001b[49m\u001b[43m \u001b[49m\u001b[38;5;241;43m*\u001b[39;49m\u001b[38;5;241;43m*\u001b[39;49m\u001b[43mkwds\u001b[49m\u001b[43m)\u001b[49m\n\u001b[1;32m    835\u001b[0m new_tracing_count \u001b[38;5;241m=\u001b[39m \u001b[38;5;28mself\u001b[39m\u001b[38;5;241m.\u001b[39mexperimental_get_tracing_count()\n\u001b[1;32m    836\u001b[0m without_tracing \u001b[38;5;241m=\u001b[39m (tracing_count \u001b[38;5;241m==\u001b[39m new_tracing_count)\n",
      "File \u001b[0;32m~/.local/lib/python3.10/site-packages/tensorflow/python/eager/polymorphic_function/polymorphic_function.py:878\u001b[0m, in \u001b[0;36mFunction._call\u001b[0;34m(self, *args, **kwds)\u001b[0m\n\u001b[1;32m    875\u001b[0m \u001b[38;5;28mself\u001b[39m\u001b[38;5;241m.\u001b[39m_lock\u001b[38;5;241m.\u001b[39mrelease()\n\u001b[1;32m    876\u001b[0m \u001b[38;5;66;03m# In this case we have not created variables on the first call. So we can\u001b[39;00m\n\u001b[1;32m    877\u001b[0m \u001b[38;5;66;03m# run the first trace but we should fail if variables are created.\u001b[39;00m\n\u001b[0;32m--> 878\u001b[0m results \u001b[38;5;241m=\u001b[39m \u001b[43mtracing_compilation\u001b[49m\u001b[38;5;241;43m.\u001b[39;49m\u001b[43mcall_function\u001b[49m\u001b[43m(\u001b[49m\n\u001b[1;32m    879\u001b[0m \u001b[43m    \u001b[49m\u001b[43margs\u001b[49m\u001b[43m,\u001b[49m\u001b[43m \u001b[49m\u001b[43mkwds\u001b[49m\u001b[43m,\u001b[49m\u001b[43m \u001b[49m\u001b[38;5;28;43mself\u001b[39;49m\u001b[38;5;241;43m.\u001b[39;49m\u001b[43m_variable_creation_config\u001b[49m\n\u001b[1;32m    880\u001b[0m \u001b[43m\u001b[49m\u001b[43m)\u001b[49m\n\u001b[1;32m    881\u001b[0m \u001b[38;5;28;01mif\u001b[39;00m \u001b[38;5;28mself\u001b[39m\u001b[38;5;241m.\u001b[39m_created_variables:\n\u001b[1;32m    882\u001b[0m   \u001b[38;5;28;01mraise\u001b[39;00m \u001b[38;5;167;01mValueError\u001b[39;00m(\u001b[38;5;124m\"\u001b[39m\u001b[38;5;124mCreating variables on a non-first call to a function\u001b[39m\u001b[38;5;124m\"\u001b[39m\n\u001b[1;32m    883\u001b[0m                    \u001b[38;5;124m\"\u001b[39m\u001b[38;5;124m decorated with tf.function.\u001b[39m\u001b[38;5;124m\"\u001b[39m)\n",
      "File \u001b[0;32m~/.local/lib/python3.10/site-packages/tensorflow/python/eager/polymorphic_function/tracing_compilation.py:139\u001b[0m, in \u001b[0;36mcall_function\u001b[0;34m(args, kwargs, tracing_options)\u001b[0m\n\u001b[1;32m    137\u001b[0m bound_args \u001b[38;5;241m=\u001b[39m function\u001b[38;5;241m.\u001b[39mfunction_type\u001b[38;5;241m.\u001b[39mbind(\u001b[38;5;241m*\u001b[39margs, \u001b[38;5;241m*\u001b[39m\u001b[38;5;241m*\u001b[39mkwargs)\n\u001b[1;32m    138\u001b[0m flat_inputs \u001b[38;5;241m=\u001b[39m function\u001b[38;5;241m.\u001b[39mfunction_type\u001b[38;5;241m.\u001b[39munpack_inputs(bound_args)\n\u001b[0;32m--> 139\u001b[0m \u001b[38;5;28;01mreturn\u001b[39;00m \u001b[43mfunction\u001b[49m\u001b[38;5;241;43m.\u001b[39;49m\u001b[43m_call_flat\u001b[49m\u001b[43m(\u001b[49m\u001b[43m  \u001b[49m\u001b[38;5;66;43;03m# pylint: disable=protected-access\u001b[39;49;00m\n\u001b[1;32m    140\u001b[0m \u001b[43m    \u001b[49m\u001b[43mflat_inputs\u001b[49m\u001b[43m,\u001b[49m\u001b[43m \u001b[49m\u001b[43mcaptured_inputs\u001b[49m\u001b[38;5;241;43m=\u001b[39;49m\u001b[43mfunction\u001b[49m\u001b[38;5;241;43m.\u001b[39;49m\u001b[43mcaptured_inputs\u001b[49m\n\u001b[1;32m    141\u001b[0m \u001b[43m\u001b[49m\u001b[43m)\u001b[49m\n",
      "File \u001b[0;32m~/.local/lib/python3.10/site-packages/tensorflow/python/eager/polymorphic_function/concrete_function.py:1322\u001b[0m, in \u001b[0;36mConcreteFunction._call_flat\u001b[0;34m(self, tensor_inputs, captured_inputs)\u001b[0m\n\u001b[1;32m   1318\u001b[0m possible_gradient_type \u001b[38;5;241m=\u001b[39m gradients_util\u001b[38;5;241m.\u001b[39mPossibleTapeGradientTypes(args)\n\u001b[1;32m   1319\u001b[0m \u001b[38;5;28;01mif\u001b[39;00m (possible_gradient_type \u001b[38;5;241m==\u001b[39m gradients_util\u001b[38;5;241m.\u001b[39mPOSSIBLE_GRADIENT_TYPES_NONE\n\u001b[1;32m   1320\u001b[0m     \u001b[38;5;129;01mand\u001b[39;00m executing_eagerly):\n\u001b[1;32m   1321\u001b[0m   \u001b[38;5;66;03m# No tape is watching; skip to running the function.\u001b[39;00m\n\u001b[0;32m-> 1322\u001b[0m   \u001b[38;5;28;01mreturn\u001b[39;00m \u001b[38;5;28;43mself\u001b[39;49m\u001b[38;5;241;43m.\u001b[39;49m\u001b[43m_inference_function\u001b[49m\u001b[38;5;241;43m.\u001b[39;49m\u001b[43mcall_preflattened\u001b[49m\u001b[43m(\u001b[49m\u001b[43margs\u001b[49m\u001b[43m)\u001b[49m\n\u001b[1;32m   1323\u001b[0m forward_backward \u001b[38;5;241m=\u001b[39m \u001b[38;5;28mself\u001b[39m\u001b[38;5;241m.\u001b[39m_select_forward_and_backward_functions(\n\u001b[1;32m   1324\u001b[0m     args,\n\u001b[1;32m   1325\u001b[0m     possible_gradient_type,\n\u001b[1;32m   1326\u001b[0m     executing_eagerly)\n\u001b[1;32m   1327\u001b[0m forward_function, args_with_tangents \u001b[38;5;241m=\u001b[39m forward_backward\u001b[38;5;241m.\u001b[39mforward()\n",
      "File \u001b[0;32m~/.local/lib/python3.10/site-packages/tensorflow/python/eager/polymorphic_function/atomic_function.py:216\u001b[0m, in \u001b[0;36mAtomicFunction.call_preflattened\u001b[0;34m(self, args)\u001b[0m\n\u001b[1;32m    214\u001b[0m \u001b[38;5;28;01mdef\u001b[39;00m \u001b[38;5;21mcall_preflattened\u001b[39m(\u001b[38;5;28mself\u001b[39m, args: Sequence[core\u001b[38;5;241m.\u001b[39mTensor]) \u001b[38;5;241m-\u001b[39m\u001b[38;5;241m>\u001b[39m Any:\n\u001b[1;32m    215\u001b[0m \u001b[38;5;250m  \u001b[39m\u001b[38;5;124;03m\"\"\"Calls with flattened tensor inputs and returns the structured output.\"\"\"\u001b[39;00m\n\u001b[0;32m--> 216\u001b[0m   flat_outputs \u001b[38;5;241m=\u001b[39m \u001b[38;5;28;43mself\u001b[39;49m\u001b[38;5;241;43m.\u001b[39;49m\u001b[43mcall_flat\u001b[49m\u001b[43m(\u001b[49m\u001b[38;5;241;43m*\u001b[39;49m\u001b[43margs\u001b[49m\u001b[43m)\u001b[49m\n\u001b[1;32m    217\u001b[0m   \u001b[38;5;28;01mreturn\u001b[39;00m \u001b[38;5;28mself\u001b[39m\u001b[38;5;241m.\u001b[39mfunction_type\u001b[38;5;241m.\u001b[39mpack_output(flat_outputs)\n",
      "File \u001b[0;32m~/.local/lib/python3.10/site-packages/tensorflow/python/eager/polymorphic_function/atomic_function.py:251\u001b[0m, in \u001b[0;36mAtomicFunction.call_flat\u001b[0;34m(self, *args)\u001b[0m\n\u001b[1;32m    249\u001b[0m \u001b[38;5;28;01mwith\u001b[39;00m record\u001b[38;5;241m.\u001b[39mstop_recording():\n\u001b[1;32m    250\u001b[0m   \u001b[38;5;28;01mif\u001b[39;00m \u001b[38;5;28mself\u001b[39m\u001b[38;5;241m.\u001b[39m_bound_context\u001b[38;5;241m.\u001b[39mexecuting_eagerly():\n\u001b[0;32m--> 251\u001b[0m     outputs \u001b[38;5;241m=\u001b[39m \u001b[38;5;28;43mself\u001b[39;49m\u001b[38;5;241;43m.\u001b[39;49m\u001b[43m_bound_context\u001b[49m\u001b[38;5;241;43m.\u001b[39;49m\u001b[43mcall_function\u001b[49m\u001b[43m(\u001b[49m\n\u001b[1;32m    252\u001b[0m \u001b[43m        \u001b[49m\u001b[38;5;28;43mself\u001b[39;49m\u001b[38;5;241;43m.\u001b[39;49m\u001b[43mname\u001b[49m\u001b[43m,\u001b[49m\n\u001b[1;32m    253\u001b[0m \u001b[43m        \u001b[49m\u001b[38;5;28;43mlist\u001b[39;49m\u001b[43m(\u001b[49m\u001b[43margs\u001b[49m\u001b[43m)\u001b[49m\u001b[43m,\u001b[49m\n\u001b[1;32m    254\u001b[0m \u001b[43m        \u001b[49m\u001b[38;5;28;43mlen\u001b[39;49m\u001b[43m(\u001b[49m\u001b[38;5;28;43mself\u001b[39;49m\u001b[38;5;241;43m.\u001b[39;49m\u001b[43mfunction_type\u001b[49m\u001b[38;5;241;43m.\u001b[39;49m\u001b[43mflat_outputs\u001b[49m\u001b[43m)\u001b[49m\u001b[43m,\u001b[49m\n\u001b[1;32m    255\u001b[0m \u001b[43m    \u001b[49m\u001b[43m)\u001b[49m\n\u001b[1;32m    256\u001b[0m   \u001b[38;5;28;01melse\u001b[39;00m:\n\u001b[1;32m    257\u001b[0m     outputs \u001b[38;5;241m=\u001b[39m make_call_op_in_graph(\n\u001b[1;32m    258\u001b[0m         \u001b[38;5;28mself\u001b[39m,\n\u001b[1;32m    259\u001b[0m         \u001b[38;5;28mlist\u001b[39m(args),\n\u001b[1;32m    260\u001b[0m         \u001b[38;5;28mself\u001b[39m\u001b[38;5;241m.\u001b[39m_bound_context\u001b[38;5;241m.\u001b[39mfunction_call_options\u001b[38;5;241m.\u001b[39mas_attrs(),\n\u001b[1;32m    261\u001b[0m     )\n",
      "File \u001b[0;32m~/.local/lib/python3.10/site-packages/tensorflow/python/eager/context.py:1688\u001b[0m, in \u001b[0;36mContext.call_function\u001b[0;34m(self, name, tensor_inputs, num_outputs)\u001b[0m\n\u001b[1;32m   1686\u001b[0m cancellation_context \u001b[38;5;241m=\u001b[39m cancellation\u001b[38;5;241m.\u001b[39mcontext()\n\u001b[1;32m   1687\u001b[0m \u001b[38;5;28;01mif\u001b[39;00m cancellation_context \u001b[38;5;129;01mis\u001b[39;00m \u001b[38;5;28;01mNone\u001b[39;00m:\n\u001b[0;32m-> 1688\u001b[0m   outputs \u001b[38;5;241m=\u001b[39m \u001b[43mexecute\u001b[49m\u001b[38;5;241;43m.\u001b[39;49m\u001b[43mexecute\u001b[49m\u001b[43m(\u001b[49m\n\u001b[1;32m   1689\u001b[0m \u001b[43m      \u001b[49m\u001b[43mname\u001b[49m\u001b[38;5;241;43m.\u001b[39;49m\u001b[43mdecode\u001b[49m\u001b[43m(\u001b[49m\u001b[38;5;124;43m\"\u001b[39;49m\u001b[38;5;124;43mutf-8\u001b[39;49m\u001b[38;5;124;43m\"\u001b[39;49m\u001b[43m)\u001b[49m\u001b[43m,\u001b[49m\n\u001b[1;32m   1690\u001b[0m \u001b[43m      \u001b[49m\u001b[43mnum_outputs\u001b[49m\u001b[38;5;241;43m=\u001b[39;49m\u001b[43mnum_outputs\u001b[49m\u001b[43m,\u001b[49m\n\u001b[1;32m   1691\u001b[0m \u001b[43m      \u001b[49m\u001b[43minputs\u001b[49m\u001b[38;5;241;43m=\u001b[39;49m\u001b[43mtensor_inputs\u001b[49m\u001b[43m,\u001b[49m\n\u001b[1;32m   1692\u001b[0m \u001b[43m      \u001b[49m\u001b[43mattrs\u001b[49m\u001b[38;5;241;43m=\u001b[39;49m\u001b[43mattrs\u001b[49m\u001b[43m,\u001b[49m\n\u001b[1;32m   1693\u001b[0m \u001b[43m      \u001b[49m\u001b[43mctx\u001b[49m\u001b[38;5;241;43m=\u001b[39;49m\u001b[38;5;28;43mself\u001b[39;49m\u001b[43m,\u001b[49m\n\u001b[1;32m   1694\u001b[0m \u001b[43m  \u001b[49m\u001b[43m)\u001b[49m\n\u001b[1;32m   1695\u001b[0m \u001b[38;5;28;01melse\u001b[39;00m:\n\u001b[1;32m   1696\u001b[0m   outputs \u001b[38;5;241m=\u001b[39m execute\u001b[38;5;241m.\u001b[39mexecute_with_cancellation(\n\u001b[1;32m   1697\u001b[0m       name\u001b[38;5;241m.\u001b[39mdecode(\u001b[38;5;124m\"\u001b[39m\u001b[38;5;124mutf-8\u001b[39m\u001b[38;5;124m\"\u001b[39m),\n\u001b[1;32m   1698\u001b[0m       num_outputs\u001b[38;5;241m=\u001b[39mnum_outputs,\n\u001b[0;32m   (...)\u001b[0m\n\u001b[1;32m   1702\u001b[0m       cancellation_manager\u001b[38;5;241m=\u001b[39mcancellation_context,\n\u001b[1;32m   1703\u001b[0m   )\n",
      "File \u001b[0;32m~/.local/lib/python3.10/site-packages/tensorflow/python/eager/execute.py:53\u001b[0m, in \u001b[0;36mquick_execute\u001b[0;34m(op_name, num_outputs, inputs, attrs, ctx, name)\u001b[0m\n\u001b[1;32m     51\u001b[0m \u001b[38;5;28;01mtry\u001b[39;00m:\n\u001b[1;32m     52\u001b[0m   ctx\u001b[38;5;241m.\u001b[39mensure_initialized()\n\u001b[0;32m---> 53\u001b[0m   tensors \u001b[38;5;241m=\u001b[39m \u001b[43mpywrap_tfe\u001b[49m\u001b[38;5;241;43m.\u001b[39;49m\u001b[43mTFE_Py_Execute\u001b[49m\u001b[43m(\u001b[49m\u001b[43mctx\u001b[49m\u001b[38;5;241;43m.\u001b[39;49m\u001b[43m_handle\u001b[49m\u001b[43m,\u001b[49m\u001b[43m \u001b[49m\u001b[43mdevice_name\u001b[49m\u001b[43m,\u001b[49m\u001b[43m \u001b[49m\u001b[43mop_name\u001b[49m\u001b[43m,\u001b[49m\n\u001b[1;32m     54\u001b[0m \u001b[43m                                      \u001b[49m\u001b[43minputs\u001b[49m\u001b[43m,\u001b[49m\u001b[43m \u001b[49m\u001b[43mattrs\u001b[49m\u001b[43m,\u001b[49m\u001b[43m \u001b[49m\u001b[43mnum_outputs\u001b[49m\u001b[43m)\u001b[49m\n\u001b[1;32m     55\u001b[0m \u001b[38;5;28;01mexcept\u001b[39;00m core\u001b[38;5;241m.\u001b[39m_NotOkStatusException \u001b[38;5;28;01mas\u001b[39;00m e:\n\u001b[1;32m     56\u001b[0m   \u001b[38;5;28;01mif\u001b[39;00m name \u001b[38;5;129;01mis\u001b[39;00m \u001b[38;5;129;01mnot\u001b[39;00m \u001b[38;5;28;01mNone\u001b[39;00m:\n",
      "\u001b[0;31mKeyboardInterrupt\u001b[0m: "
     ]
    }
   ],
   "source": [
    "# Memulai training\n",
    " \n",
    "history = model.fit(\n",
    "    x = x_train,\n",
    "    y = y_train,\n",
    "    batch_size = 512,\n",
    "    epochs = 5,\n",
    "    validation_data = (x_val, y_val)\n",
    ")"
   ]
  },
  {
   "cell_type": "markdown",
   "id": "78fd4da6",
   "metadata": {},
   "source": [
    "### 4.2.3 Visualisasi Hasil Pelatihan"
   ]
  },
  {
   "cell_type": "code",
   "execution_count": null,
   "id": "53f7e92b",
   "metadata": {},
   "outputs": [
    {
     "data": {
      "image/png": "[encoded data removed]",
      "text/plain": [
       "<Figure size 640x480 with 1 Axes>"
      ]
     },
     "metadata": {},
     "output_type": "display_data"
    }
   ],
   "source": [
    "plt.plot(history.history['root_mean_squared_error'])\n",
    "plt.plot(history.history['val_root_mean_squared_error'])\n",
    "plt.title('model_metrics')\n",
    "plt.ylabel('root_mean_squared_error')\n",
    "plt.xlabel('epoch')\n",
    "plt.legend(['train', 'test'], loc='upper left')\n",
    "plt.show()"
   ]
  },
  {
   "cell_type": "markdown",
   "id": "07f57baa",
   "metadata": {},
   "source": [
    "### 4.2.4 Merekomendasikan Buku"
   ]
  },
  {
   "cell_type": "code",
   "execution_count": null,
   "id": "6b1ab68d",
   "metadata": {},
   "outputs": [
    {
     "name": "stdout",
     "output_type": "stream",
     "text": [
      "\u001b[1m7157/7157\u001b[0m \u001b[32m━━━━━━━━━━━━━━━━━━━━\u001b[0m\u001b[37m\u001b[0m \u001b[1m15s\u001b[0m 2ms/step\n"
     ]
    },
    {
     "data": {
      "text/html": [
       "<div>\n",
       "<style scoped>\n",
       "    .dataframe tbody tr th:only-of-type {\n",
       "        vertical-align: middle;\n",
       "    }\n",
       "\n",
       "    .dataframe tbody tr th {\n",
       "        vertical-align: top;\n",
       "    }\n",
       "\n",
       "    .dataframe thead th {\n",
       "        text-align: right;\n",
       "    }\n",
       "</style>\n",
       "<table border=\"1\" class=\"dataframe\">\n",
       "  <thead>\n",
       "    <tr style=\"text-align: right;\">\n",
       "      <th></th>\n",
       "      <th>ISBN</th>\n",
       "      <th>Book-Title</th>\n",
       "      <th>Book-Author</th>\n",
       "      <th>Year-Of-Publication</th>\n",
       "      <th>Publisher</th>\n",
       "      <th>Image-URL-S</th>\n",
       "      <th>Image-URL-M</th>\n",
       "      <th>Image-URL-L</th>\n",
       "      <th>Predicted_Score</th>\n",
       "    </tr>\n",
       "  </thead>\n",
       "  <tbody>\n",
       "    <tr>\n",
       "      <th>748</th>\n",
       "      <td>0385504209</td>\n",
       "      <td>The Da Vinci Code</td>\n",
       "      <td>Dan Brown</td>\n",
       "      <td>2003</td>\n",
       "      <td>Doubleday</td>\n",
       "      <td>http://images.amazon.com/images/P/0385504209.0...</td>\n",
       "      <td>http://images.amazon.com/images/P/0385504209.0...</td>\n",
       "      <td>http://images.amazon.com/images/P/0385504209.0...</td>\n",
       "      <td>0.553462</td>\n",
       "    </tr>\n",
       "    <tr>\n",
       "      <th>2143</th>\n",
       "      <td>059035342X</td>\n",
       "      <td>Harry Potter and the Sorcerer's Stone (Harry P...</td>\n",
       "      <td>J. K. Rowling</td>\n",
       "      <td>1999</td>\n",
       "      <td>Arthur A. Levine Books</td>\n",
       "      <td>http://images.amazon.com/images/P/059035342X.0...</td>\n",
       "      <td>http://images.amazon.com/images/P/059035342X.0...</td>\n",
       "      <td>http://images.amazon.com/images/P/059035342X.0...</td>\n",
       "      <td>0.553177</td>\n",
       "    </tr>\n",
       "    <tr>\n",
       "      <th>3028</th>\n",
       "      <td>1844262553</td>\n",
       "      <td>Free</td>\n",
       "      <td>Paul Vincent</td>\n",
       "      <td>2003</td>\n",
       "      <td>Upfront Publishing</td>\n",
       "      <td>http://images.amazon.com/images/P/1844262553.0...</td>\n",
       "      <td>http://images.amazon.com/images/P/1844262553.0...</td>\n",
       "      <td>http://images.amazon.com/images/P/1844262553.0...</td>\n",
       "      <td>0.550223</td>\n",
       "    </tr>\n",
       "    <tr>\n",
       "      <th>3839</th>\n",
       "      <td>0439136350</td>\n",
       "      <td>Harry Potter and the Prisoner of Azkaban (Book 3)</td>\n",
       "      <td>J. K. Rowling</td>\n",
       "      <td>1999</td>\n",
       "      <td>Scholastic</td>\n",
       "      <td>http://images.amazon.com/images/P/0439136350.0...</td>\n",
       "      <td>http://images.amazon.com/images/P/0439136350.0...</td>\n",
       "      <td>http://images.amazon.com/images/P/0439136350.0...</td>\n",
       "      <td>0.550002</td>\n",
       "    </tr>\n",
       "    <tr>\n",
       "      <th>5432</th>\n",
       "      <td>0439064864</td>\n",
       "      <td>Harry Potter and the Chamber of Secrets (Book 2)</td>\n",
       "      <td>J. K. Rowling</td>\n",
       "      <td>1999</td>\n",
       "      <td>Scholastic</td>\n",
       "      <td>http://images.amazon.com/images/P/0439064864.0...</td>\n",
       "      <td>http://images.amazon.com/images/P/0439064864.0...</td>\n",
       "      <td>http://images.amazon.com/images/P/0439064864.0...</td>\n",
       "      <td>0.547550</td>\n",
       "    </tr>\n",
       "  </tbody>\n",
       "</table>\n",
       "</div>"
      ],
      "text/plain": [
       "            ISBN                                         Book-Title  \\\n",
       "748   0385504209                                  The Da Vinci Code   \n",
       "2143  059035342X  Harry Potter and the Sorcerer's Stone (Harry P...   \n",
       "3028  1844262553                                               Free   \n",
       "3839  0439136350  Harry Potter and the Prisoner of Azkaban (Book 3)   \n",
       "5432  0439064864   Harry Potter and the Chamber of Secrets (Book 2)   \n",
       "\n",
       "        Book-Author Year-Of-Publication               Publisher  \\\n",
       "748       Dan Brown                2003               Doubleday   \n",
       "2143  J. K. Rowling                1999  Arthur A. Levine Books   \n",
       "3028   Paul Vincent                2003      Upfront Publishing   \n",
       "3839  J. K. Rowling                1999              Scholastic   \n",
       "5432  J. K. Rowling                1999              Scholastic   \n",
       "\n",
       "                                            Image-URL-S  \\\n",
       "748   http://images.amazon.com/images/P/0385504209.0...   \n",
       "2143  http://images.amazon.com/images/P/059035342X.0...   \n",
       "3028  http://images.amazon.com/images/P/1844262553.0...   \n",
       "3839  http://images.amazon.com/images/P/0439136350.0...   \n",
       "5432  http://images.amazon.com/images/P/0439064864.0...   \n",
       "\n",
       "                                            Image-URL-M  \\\n",
       "748   http://images.amazon.com/images/P/0385504209.0...   \n",
       "2143  http://images.amazon.com/images/P/059035342X.0...   \n",
       "3028  http://images.amazon.com/images/P/1844262553.0...   \n",
       "3839  http://images.amazon.com/images/P/0439136350.0...   \n",
       "5432  http://images.amazon.com/images/P/0439064864.0...   \n",
       "\n",
       "                                            Image-URL-L  Predicted_Score  \n",
       "748   http://images.amazon.com/images/P/0385504209.0...         0.553462  \n",
       "2143  http://images.amazon.com/images/P/059035342X.0...         0.553177  \n",
       "3028  http://images.amazon.com/images/P/1844262553.0...         0.550223  \n",
       "3839  http://images.amazon.com/images/P/0439136350.0...         0.550002  \n",
       "5432  http://images.amazon.com/images/P/0439064864.0...         0.547550  "
      ]
     },
     "metadata": {},
     "output_type": "display_data"
    }
   ],
   "source": [
    "def recommend_books_for_user(model, user_id_asli, data, buku_df, user_to_user_encoded, buku_to_ids_encoded, ids_to_buku_encoded, top_n=10):\n",
    "    # Cek apakah user_id valid\n",
    "    if user_id_asli not in user_to_user_encoded:\n",
    "        print(\"User ID tidak ditemukan.\")\n",
    "        return []\n",
    "\n",
    "    user_encoded = user_to_user_encoded[user_id_asli]\n",
    "    buku_user_sudah_rating = data[data['userID'] == user_id_asli]['ISBN'].tolist()\n",
    "    buku_user_sudah_encoded = [buku_to_ids_encoded[buku] for buku in buku_user_sudah_rating]\n",
    "\n",
    "    # Semua buku yang belum diberi rating oleh user\n",
    "    buku_tidak_dirating = list(set(buku_to_ids_encoded.values()) - set(buku_user_sudah_encoded))\n",
    "    user_encoded_array = np.full(len(buku_tidak_dirating), user_encoded)\n",
    "    \n",
    "    # Membuat data pasangan user-buku\n",
    "    input_pairs = np.array(list(zip(user_encoded_array, buku_tidak_dirating)))\n",
    "\n",
    "    # Prediksi skor\n",
    "    ratings = model.predict(input_pairs).flatten()\n",
    "    \n",
    "    # Ambil top-N\n",
    "    top_indices = ratings.argsort()[-top_n:][::-1]\n",
    "    top_buku_encoded = [buku_tidak_dirating[i] for i in top_indices]\n",
    "    top_buku_isbn = [ids_to_buku_encoded[i] for i in top_buku_encoded]\n",
    "\n",
    "    # Gabungkan dengan info buku (jika ada dataframe buku_df)\n",
    "    rekomendasi = buku_df[buku_df['ISBN'].isin(top_buku_isbn)].copy() if buku_df is not None else pd.DataFrame({'ISBN': top_buku_isbn})\n",
    "    rekomendasi['Predicted_Score'] = ratings[top_indices]\n",
    "    \n",
    "    return rekomendasi.sort_values(by='Predicted_Score', ascending=False)\n",
    "\n",
    "# Menampilkan 5 userID unik pertama dari data\n",
    "sample_user_ids = dataFinal['userID'].unique()[:5]\n",
    "user_id_sample = sample_user_ids[0]  # atau pilih indeks lain\n",
    "\n",
    "# Contoh penggunaan:\n",
    "rekomendasi_df = recommend_books_for_user(model, user_id_asli=user_id_sample, data=dataFinal, buku_df=dataBuku,\n",
    "    user_to_user_encoded=user_to_user_encoded,\n",
    "    buku_to_ids_encoded=buku_to_ids_encoded,\n",
    "    ids_to_buku_encoded=ids_to_buku_encoded,\n",
    "    top_n=5)\n",
    "\n",
    "# Tampilkan hasil\n",
    "display(rekomendasi_df)\n"
   ]
  },
  {
   "cell_type": "markdown",
   "id": "c1234bab",
   "metadata": {},
   "source": [
    "# 5. Evaluasi"
   ]
  },
  {
   "cell_type": "markdown",
   "id": "9a18a469",
   "metadata": {},
   "source": [
    "## 5.1 Evaluasi Content Based Filtering : Cosine Similarity"
   ]
  },
  {
   "cell_type": "code",
   "execution_count": null,
   "id": "ad02c282",
   "metadata": {},
   "outputs": [
    {
     "name": "stdout",
     "output_type": "stream",
     "text": [
      "Menampilkan Rekomendasi Buku yang sesuai dengan 'Eight Days of Luke' ...\n",
      "Menampilkan Rekomendasi Buku yang sesuai dengan 'Inside Soviet Military Intelligence' ...\n",
      "Menampilkan Rekomendasi Buku yang sesuai dengan 'Das Leben und das Schreiben.' ...\n",
      "Menampilkan Rekomendasi Buku yang sesuai dengan 'French for Dummies' ...\n",
      "Menampilkan Rekomendasi Buku yang sesuai dengan 'Cat Crimes 3' ...\n",
      "Menampilkan Rekomendasi Buku yang sesuai dengan 'Endangered Animals (Hello Reader! (DO NOT USE, please choose level and binding))' ...\n",
      "Menampilkan Rekomendasi Buku yang sesuai dengan 'Connoisseur's Science Fiction' ...\n",
      "Menampilkan Rekomendasi Buku yang sesuai dengan 'Out on a Limb: A Claire Malloy Mystery' ...\n",
      "Menampilkan Rekomendasi Buku yang sesuai dengan 'Noble House: A Novel of Contemporary Hong Kong' ...\n",
      "Menampilkan Rekomendasi Buku yang sesuai dengan 'Temporary Santa (By Request 2's)' ...\n",
      "Avg Precision@5: 0.0200\n",
      "Avg Recall@5: 0.0143\n",
      "Avg F1-Score@5: 0.0167\n",
      "Avg Hit Rate@5: 0.1000\n"
     ]
    },
    {
     "data": {
      "text/html": [
       "<div>\n",
       "<style scoped>\n",
       "    .dataframe tbody tr th:only-of-type {\n",
       "        vertical-align: middle;\n",
       "    }\n",
       "\n",
       "    .dataframe tbody tr th {\n",
       "        vertical-align: top;\n",
       "    }\n",
       "\n",
       "    .dataframe thead th {\n",
       "        text-align: right;\n",
       "    }\n",
       "</style>\n",
       "<table border=\"1\" class=\"dataframe\">\n",
       "  <thead>\n",
       "    <tr style=\"text-align: right;\">\n",
       "      <th></th>\n",
       "      <th>userID</th>\n",
       "      <th>seed_book</th>\n",
       "      <th>recommended</th>\n",
       "      <th>actual</th>\n",
       "      <th>relevance_vector</th>\n",
       "      <th>precision@k</th>\n",
       "      <th>recall@k</th>\n",
       "      <th>f1_score@k</th>\n",
       "      <th>hit_rate@k</th>\n",
       "    </tr>\n",
       "  </thead>\n",
       "  <tbody>\n",
       "    <tr>\n",
       "      <th>0</th>\n",
       "      <td>125774</td>\n",
       "      <td>Eight Days of Luke</td>\n",
       "      <td>[Deep Secret, Fire and Hemlock, Charmed Life, ...</td>\n",
       "      <td>[Lady Windermere's Fan (Dover Thrift Editions)...</td>\n",
       "      <td>[0, 0, 0, 0, 0]</td>\n",
       "      <td>0.0</td>\n",
       "      <td>0.000000</td>\n",
       "      <td>0.000000</td>\n",
       "      <td>0</td>\n",
       "    </tr>\n",
       "    <tr>\n",
       "      <th>1</th>\n",
       "      <td>15021</td>\n",
       "      <td>Inside Soviet Military Intelligence</td>\n",
       "      <td>[Man's Search For Meaning, Female Intelligence...</td>\n",
       "      <td>[Captain Nemo, Star Guard, The Better Part of ...</td>\n",
       "      <td>[0, 0, 0, 0, 0]</td>\n",
       "      <td>0.0</td>\n",
       "      <td>0.000000</td>\n",
       "      <td>0.000000</td>\n",
       "      <td>0</td>\n",
       "    </tr>\n",
       "    <tr>\n",
       "      <th>2</th>\n",
       "      <td>163319</td>\n",
       "      <td>Das Leben und das Schreiben.</td>\n",
       "      <td>[Das Leben und das Schreiben., Das Spiel., Das...</td>\n",
       "      <td>[How to Write Science Fiction and Fantasy (Wri...</td>\n",
       "      <td>[1, 0, 0, 0, 0]</td>\n",
       "      <td>0.2</td>\n",
       "      <td>0.142857</td>\n",
       "      <td>0.166667</td>\n",
       "      <td>1</td>\n",
       "    </tr>\n",
       "    <tr>\n",
       "      <th>3</th>\n",
       "      <td>64946</td>\n",
       "      <td>French for Dummies</td>\n",
       "      <td>[Internet for Dummies (For Dummies), Die Datsc...</td>\n",
       "      <td>[Growing Up, French for Dummies, Tangled Web: ...</td>\n",
       "      <td>[0, 0, 0, 0, 0]</td>\n",
       "      <td>0.0</td>\n",
       "      <td>0.000000</td>\n",
       "      <td>0.000000</td>\n",
       "      <td>0</td>\n",
       "    </tr>\n",
       "    <tr>\n",
       "      <th>4</th>\n",
       "      <td>13273</td>\n",
       "      <td>Cat Crimes 3</td>\n",
       "      <td>[Cat Crimes II, Back from the Dead, The Dean K...</td>\n",
       "      <td>[Child of My Heart, Red Clay, Blue Cadillac: S...</td>\n",
       "      <td>[0, 0, 0, 0, 0]</td>\n",
       "      <td>0.0</td>\n",
       "      <td>0.000000</td>\n",
       "      <td>0.000000</td>\n",
       "      <td>0</td>\n",
       "    </tr>\n",
       "  </tbody>\n",
       "</table>\n",
       "</div>"
      ],
      "text/plain": [
       "   userID                            seed_book  \\\n",
       "0  125774                   Eight Days of Luke   \n",
       "1   15021  Inside Soviet Military Intelligence   \n",
       "2  163319         Das Leben und das Schreiben.   \n",
       "3   64946                   French for Dummies   \n",
       "4   13273                         Cat Crimes 3   \n",
       "\n",
       "                                         recommended  \\\n",
       "0  [Deep Secret, Fire and Hemlock, Charmed Life, ...   \n",
       "1  [Man's Search For Meaning, Female Intelligence...   \n",
       "2  [Das Leben und das Schreiben., Das Spiel., Das...   \n",
       "3  [Internet for Dummies (For Dummies), Die Datsc...   \n",
       "4  [Cat Crimes II, Back from the Dead, The Dean K...   \n",
       "\n",
       "                                              actual relevance_vector  \\\n",
       "0  [Lady Windermere's Fan (Dover Thrift Editions)...  [0, 0, 0, 0, 0]   \n",
       "1  [Captain Nemo, Star Guard, The Better Part of ...  [0, 0, 0, 0, 0]   \n",
       "2  [How to Write Science Fiction and Fantasy (Wri...  [1, 0, 0, 0, 0]   \n",
       "3  [Growing Up, French for Dummies, Tangled Web: ...  [0, 0, 0, 0, 0]   \n",
       "4  [Child of My Heart, Red Clay, Blue Cadillac: S...  [0, 0, 0, 0, 0]   \n",
       "\n",
       "   precision@k  recall@k  f1_score@k  hit_rate@k  \n",
       "0          0.0  0.000000    0.000000           0  \n",
       "1          0.0  0.000000    0.000000           0  \n",
       "2          0.2  0.142857    0.166667           1  \n",
       "3          0.0  0.000000    0.000000           0  \n",
       "4          0.0  0.000000    0.000000           0  "
      ]
     },
     "execution_count": 52,
     "metadata": {},
     "output_type": "execute_result"
    }
   ],
   "source": [
    "def evaluate_cbf_recommender(dataBaru, recommend_fn, users_to_evaluate, k=5):\n",
    "    results = []\n",
    "    user_books = dataBaru.groupby(\"userID\")[\"Book-Title\"].apply(set).to_dict()\n",
    "\n",
    "    for user in users_to_evaluate:\n",
    "        books_read = list(user_books.get(user, []))\n",
    "        if not books_read:\n",
    "            continue\n",
    "        seed_book = pd.Series(books_read).dropna().sample(1).iloc[0]\n",
    "        try:\n",
    "            rec_df = recommend_fn(seed_book, cosine_sim, len(books_read))\n",
    "        except:\n",
    "            continue\n",
    "        rec_books = rec_df[\"Book-Title\"].tolist()[:k]\n",
    "        actual_books = set(books_read)\n",
    "        relevance_vector = [1 if book in actual_books else 0 for book in rec_books]\n",
    "        true_positives = sum(relevance_vector)\n",
    "\n",
    "        precision = true_positives / k if k > 0 else 0\n",
    "        recall = true_positives / len(actual_books) if actual_books else 0\n",
    "        f1_score = (2 * precision * recall) / (precision + recall) if (precision + recall) > 0 else 0\n",
    "        hit_rate = 1 if true_positives > 0 else 0\n",
    "\n",
    "        results.append({\n",
    "            \"userID\": user,\n",
    "            \"seed_book\": seed_book,\n",
    "            \"recommended\": rec_books,\n",
    "            \"actual\": list(actual_books),\n",
    "            \"relevance_vector\": relevance_vector,\n",
    "            \"precision@k\": precision,\n",
    "            \"recall@k\": recall,\n",
    "            \"f1_score@k\": f1_score,\n",
    "            \"hit_rate@k\": hit_rate\n",
    "        })\n",
    "\n",
    "    results_df = pd.DataFrame(results)\n",
    "    avg_precision = results_df[\"precision@k\"].mean()\n",
    "    avg_recall = results_df[\"recall@k\"].mean()\n",
    "    avg_f1 = results_df[\"f1_score@k\"].mean()\n",
    "    avg_hit_rate = results_df[\"hit_rate@k\"].mean()\n",
    "\n",
    "    return results_df, avg_precision, avg_recall, avg_f1, avg_hit_rate\n",
    "\n",
    "import random\n",
    "\n",
    "# Hitung jumlah buku per user\n",
    "user_book_counts = dataBaru.groupby(\"userID\")[\"Book-Title\"].nunique()\n",
    "\n",
    "# Filter user dengan minimal 5 buku\n",
    "eligible_users = user_book_counts[user_book_counts >= 5].index.tolist()\n",
    "\n",
    "# Ambil sample user dari yang eligible\n",
    "sample_users = random.sample(eligible_users, 10)\n",
    "\n",
    "# Jalankan evaluasi\n",
    "results_df, avg_prec, avg_rec, avg_f1, avg_hr = evaluate_cbf_recommender(dataBaru, recommend, sample_users, k=5)\n",
    "\n",
    "print(f\"Avg Precision@5: {avg_prec:.4f}\")\n",
    "print(f\"Avg Recall@5: {avg_rec:.4f}\")\n",
    "print(f\"Avg F1-Score@5: {avg_f1:.4f}\")\n",
    "print(f\"Avg Hit Rate@5: {avg_hr:.4f}\")\n",
    "\n",
    "results_df.head()\n"
   ]
  },
  {
   "cell_type": "markdown",
   "id": "bff57b14",
   "metadata": {},
   "source": [
    "## 5.2 Evaluasi Colaborative Filtering"
   ]
  },
  {
   "cell_type": "code",
   "execution_count": null,
   "id": "6b608c60",
   "metadata": {},
   "outputs": [],
   "source": [
    "from sklearn.metrics import mean_squared_error\n",
    "import numpy as np\n",
    "\n",
    "def evaluate_cf_model(\n",
    "    model, \n",
    "    x_val, \n",
    "    y_val, \n",
    "    dataFinal, \n",
    "    buku_df,\n",
    "    user_to_user_encoded, \n",
    "    buku_to_ids_encoded, \n",
    "    ids_to_buku_encoded, \n",
    "    k=5\n",
    "):\n",
    "    # Buat DataFrame val dari x_val dan y_val\n",
    "    val_df = pd.DataFrame({\n",
    "        \"user_encoded\": x_val[:, 0],\n",
    "        \"buku_encoded\": x_val[:, 1],\n",
    "        \"interaction\": y_val\n",
    "    })\n",
    "\n",
    "    # Filter interaksi positif\n",
    "    val_pos_df = val_df[val_df[\"interaction\"] > 0]\n",
    "\n",
    "    # Mapping user_encoded -> set buku_encoded\n",
    "    user_items_val = val_pos_df.groupby(\"user_encoded\")[\"buku_encoded\"].apply(set).to_dict()\n",
    "\n",
    "    # Ambil 10 user secara acak\n",
    "    users_to_eval = list(user_items_val.keys())\n",
    "    if len(users_to_eval) > 10:\n",
    "        users_to_eval = random.sample(users_to_eval, 10)\n",
    "\n",
    "    results = []\n",
    "\n",
    "    for user_encoded in users_to_eval:\n",
    "        user_id_asli = next((k_ for k_, v_ in user_to_user_encoded.items() if v_ == user_encoded), None)\n",
    "        if user_id_asli is None:\n",
    "            continue\n",
    "\n",
    "        actual_items = user_items_val[user_encoded]\n",
    "\n",
    "        rekomendasi_df = recommend_books_for_user(\n",
    "            model=model,\n",
    "            user_id_asli=user_id_asli,\n",
    "            data=dataFinal,\n",
    "            buku_df=buku_df,\n",
    "            user_to_user_encoded=user_to_user_encoded,\n",
    "            buku_to_ids_encoded=buku_to_ids_encoded,\n",
    "            ids_to_buku_encoded=ids_to_buku_encoded,\n",
    "            top_n=k\n",
    "        )\n",
    "\n",
    "        rec_books_encoded = [\n",
    "            buku_to_ids_encoded[isbn] for isbn in rekomendasi_df['ISBN'] if isbn in buku_to_ids_encoded\n",
    "        ] if not rekomendasi_df.empty else []\n",
    "\n",
    "        relevance_vector = [1 if book in actual_items else 0 for book in rec_books_encoded]\n",
    "        true_positives = sum(relevance_vector)\n",
    "\n",
    "        precision = true_positives / k if k > 0 else 0\n",
    "        recall = true_positives / len(actual_items) if actual_items else 0\n",
    "        f1_score = (2 * precision * recall) / (precision + recall) if (precision + recall) > 0 else 0\n",
    "        hit_rate = 1 if true_positives > 0 else 0\n",
    "\n",
    "        results.append({\n",
    "            \"user_encoded\": user_encoded,\n",
    "            \"user_id_asli\": user_id_asli,\n",
    "            \"recommended_encoded\": rec_books_encoded,\n",
    "            \"actual_encoded\": list(actual_items),\n",
    "            \"relevance_vector\": relevance_vector,\n",
    "            \"precision@k\": precision,\n",
    "            \"recall@k\": recall,\n",
    "            \"f1_score@k\": f1_score,\n",
    "            \"hit_rate@k\": hit_rate\n",
    "        })\n",
    "\n",
    "    results_df = pd.DataFrame(results)\n",
    "    avg_precision = results_df[\"precision@k\"].mean()\n",
    "    avg_recall = results_df[\"recall@k\"].mean()\n",
    "    avg_f1 = results_df[\"f1_score@k\"].mean()\n",
    "    avg_hit_rate = results_df[\"hit_rate@k\"].mean()\n",
    "\n",
    "    # Hitung RMSE pada seluruh validation set\n",
    "    y_pred = model.predict(x_val).flatten()\n",
    "    rmse = np.sqrt(mean_squared_error(y_val, y_pred))\n",
    "\n",
    "    return results_df, avg_precision, avg_recall, avg_f1, avg_hit_rate, rmse"
   ]
  },
  {
   "cell_type": "code",
   "execution_count": null,
   "id": "32b7f296",
   "metadata": {},
   "outputs": [
    {
     "name": "stdout",
     "output_type": "stream",
     "text": [
      "\u001b[1m7156/7156\u001b[0m \u001b[32m━━━━━━━━━━━━━━━━━━━━\u001b[0m\u001b[37m\u001b[0m \u001b[1m14s\u001b[0m 2ms/step\n",
      "\u001b[1m7143/7143\u001b[0m \u001b[32m━━━━━━━━━━━━━━━━━━━━\u001b[0m\u001b[37m\u001b[0m \u001b[1m14s\u001b[0m 2ms/step\n",
      "\u001b[1m7157/7157\u001b[0m \u001b[32m━━━━━━━━━━━━━━━━━━━━\u001b[0m\u001b[37m\u001b[0m \u001b[1m13s\u001b[0m 2ms/step\n",
      "\u001b[1m7156/7156\u001b[0m \u001b[32m━━━━━━━━━━━━━━━━━━━━\u001b[0m\u001b[37m\u001b[0m \u001b[1m13s\u001b[0m 2ms/step\n",
      "\u001b[1m7157/7157\u001b[0m \u001b[32m━━━━━━━━━━━━━━━━━━━━\u001b[0m\u001b[37m\u001b[0m \u001b[1m11s\u001b[0m 1ms/step\n",
      "\u001b[1m7156/7156\u001b[0m \u001b[32m━━━━━━━━━━━━━━━━━━━━\u001b[0m\u001b[37m\u001b[0m \u001b[1m10s\u001b[0m 1ms/step\n",
      "\u001b[1m7156/7156\u001b[0m \u001b[32m━━━━━━━━━━━━━━━━━━━━\u001b[0m\u001b[37m\u001b[0m \u001b[1m10s\u001b[0m 1ms/step\n",
      "\u001b[1m7156/7156\u001b[0m \u001b[32m━━━━━━━━━━━━━━━━━━━━\u001b[0m\u001b[37m\u001b[0m \u001b[1m10s\u001b[0m 1ms/step\n",
      "\u001b[1m7157/7157\u001b[0m \u001b[32m━━━━━━━━━━━━━━━━━━━━\u001b[0m\u001b[37m\u001b[0m \u001b[1m11s\u001b[0m 1ms/step\n",
      "\u001b[1m7156/7156\u001b[0m \u001b[32m━━━━━━━━━━━━━━━━━━━━\u001b[0m\u001b[37m\u001b[0m \u001b[1m10s\u001b[0m 1ms/step\n",
      "\u001b[1m4709/4709\u001b[0m \u001b[32m━━━━━━━━━━━━━━━━━━━━\u001b[0m\u001b[37m\u001b[0m \u001b[1m7s\u001b[0m 2ms/step\n",
      "Avg Precision@5: 0.0000\n",
      "Avg Recall@5: 0.0000\n",
      "Avg F1-Score@5: 0.0000\n",
      "Avg Hit Rate@5: 0.0000\n",
      "RMSE: 0.4101\n"
     ]
    }
   ],
   "source": [
    "results_df, avg_prec, avg_rec, avg_f1, avg_hr, rmse = evaluate_cf_model(\n",
    "    model, x_val, y_val, dataFinal, dataBuku,\n",
    "    user_to_user_encoded, buku_to_ids_encoded, ids_to_buku_encoded,\n",
    "    k=5\n",
    ")\n",
    "\n",
    "print(f\"Avg Precision@5: {avg_prec:.4f}\")\n",
    "print(f\"Avg Recall@5: {avg_rec:.4f}\")\n",
    "print(f\"Avg F1-Score@5: {avg_f1:.4f}\")\n",
    "print(f\"Avg Hit Rate@5: {avg_hr:.4f}\")\n",
    "print(f\"RMSE: {rmse:.4f}\")\n"
   ]
  }
 ],
 "metadata": {
  "kernelspec": {
   "display_name": "Python 3",
   "language": "python",
   "name": "python3"
  },
  "language_info": {
   "codemirror_mode": {
    "name": "ipython",
    "version": 3
   },
   "file_extension": ".py",
   "mimetype": "text/x-python",
   "name": "python",
   "nbconvert_exporter": "python",
   "pygments_lexer": "ipython3",
   "version": "3.10.12"
  }
 },
 "nbformat": 4,
 "nbformat_minor": 5
}
