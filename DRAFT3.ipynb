{
 "cells": [
  {
   "cell_type": "markdown",
   "id": "f964a0c7",
   "metadata": {
    "papermill": {
     "duration": 0.007129,
     "end_time": "2025-05-19T02:56:42.887599",
     "exception": false,
     "start_time": "2025-05-19T02:56:42.880470",
     "status": "completed"
    },
    "tags": []
   },
   "source": [
    "# 0. Import Library"
   ]
  },
  {
   "cell_type": "code",
   "execution_count": null,
   "id": "87857d8f",
   "metadata": {
    "execution": {
     "iopub.execute_input": "2025-05-19T02:56:42.901187Z",
     "iopub.status.busy": "2025-05-19T02:56:42.900600Z",
     "iopub.status.idle": "2025-05-19T02:56:58.428669Z",
     "shell.execute_reply": "2025-05-19T02:56:58.428061Z"
    },
    "papermill": {
     "duration": 15.536325,
     "end_time": "2025-05-19T02:56:58.430086",
     "exception": false,
     "start_time": "2025-05-19T02:56:42.893761",
     "status": "completed"
    },
    "tags": []
   },
   "outputs": [
    {
     "name": "stderr",
     "output_type": "stream",
     "text": [
      "2025-05-19 02:56:45.919028: E external/local_xla/xla/stream_executor/cuda/cuda_fft.cc:477] Unable to register cuFFT factory: Attempting to register factory for plugin cuFFT when one has already been registered\n",
      "WARNING: All log messages before absl::InitializeLog() is called are written to STDERR\n",
      "E0000 00:00:1747623406.112926      19 cuda_dnn.cc:8310] Unable to register cuDNN factory: Attempting to register factory for plugin cuDNN when one has already been registered\n",
      "E0000 00:00:1747623406.168576      19 cuda_blas.cc:1418] Unable to register cuBLAS factory: Attempting to register factory for plugin cuBLAS when one has already been registered\n"
     ]
    }
   ],
   "source": [
    "import numpy as np\n",
    "import pandas as pd\n",
    "import random\n",
    "import matplotlib.pyplot as plt\n",
    "\n",
    "from zipfile import ZipFile\n",
    "import tensorflow as tf\n",
    "from tensorflow import keras\n",
    "from pathlib import Path\n",
    "from tensorflow.keras import layers, regularizers, Model\n",
    "\n",
    "import re\n",
    "from sklearn.feature_extraction.text import TfidfVectorizer\n",
    "from sklearn.metrics.pairwise import cosine_similarity"
   ]
  },
  {
   "cell_type": "markdown",
   "id": "748e71a3",
   "metadata": {
    "papermill": {
     "duration": 0.006023,
     "end_time": "2025-05-19T02:56:58.442935",
     "exception": false,
     "start_time": "2025-05-19T02:56:58.436912",
     "status": "completed"
    },
    "tags": []
   },
   "source": [
    "# 1. Business Understanding"
   ]
  },
  {
   "cell_type": "markdown",
   "id": "aba82c91",
   "metadata": {
    "papermill": {
     "duration": 0.006024,
     "end_time": "2025-05-19T02:56:58.455333",
     "exception": false,
     "start_time": "2025-05-19T02:56:58.449309",
     "status": "completed"
    },
    "tags": []
   },
   "source": [
    "# 2. Data Understanding"
   ]
  },
  {
   "cell_type": "markdown",
   "id": "2f4939d1",
   "metadata": {
    "papermill": {
     "duration": 0.006188,
     "end_time": "2025-05-19T02:56:58.467398",
     "exception": false,
     "start_time": "2025-05-19T02:56:58.461210",
     "status": "completed"
    },
    "tags": []
   },
   "source": [
    "## 2.1 Load Data dan Cetak Atribut Tabel"
   ]
  },
  {
   "cell_type": "code",
   "execution_count": 2,
   "id": "ff8d84cd",
   "metadata": {
    "execution": {
     "iopub.execute_input": "2025-05-19T02:56:58.481197Z",
     "iopub.status.busy": "2025-05-19T02:56:58.480731Z",
     "iopub.status.idle": "2025-05-19T02:57:01.871170Z",
     "shell.execute_reply": "2025-05-19T02:57:01.870293Z"
    },
    "papermill": {
     "duration": 3.399116,
     "end_time": "2025-05-19T02:57:01.872409",
     "exception": false,
     "start_time": "2025-05-19T02:56:58.473293",
     "status": "completed"
    },
    "tags": []
   },
   "outputs": [
    {
     "name": "stderr",
     "output_type": "stream",
     "text": [
      "/tmp/ipykernel_19/3745290253.py:2: DtypeWarning: Columns (3) have mixed types. Specify dtype option on import or set low_memory=False.\n",
      "  dataBuku = pd.read_csv(\"/kaggle/input/book-reccomendation-dataset/Data/Books.csv\")\n"
     ]
    },
    {
     "name": "stdout",
     "output_type": "stream",
     "text": [
      "<class 'pandas.core.frame.DataFrame'>\n",
      "RangeIndex: 278858 entries, 0 to 278857\n",
      "Data columns (total 3 columns):\n",
      " #   Column    Non-Null Count   Dtype  \n",
      "---  ------    --------------   -----  \n",
      " 0   User-ID   278858 non-null  int64  \n",
      " 1   Location  278858 non-null  object \n",
      " 2   Age       168096 non-null  float64\n",
      "dtypes: float64(1), int64(1), object(1)\n",
      "memory usage: 6.4+ MB\n",
      "<class 'pandas.core.frame.DataFrame'>\n",
      "RangeIndex: 271360 entries, 0 to 271359\n",
      "Data columns (total 8 columns):\n",
      " #   Column               Non-Null Count   Dtype \n",
      "---  ------               --------------   ----- \n",
      " 0   ISBN                 271360 non-null  object\n",
      " 1   Book-Title           271360 non-null  object\n",
      " 2   Book-Author          271358 non-null  object\n",
      " 3   Year-Of-Publication  271360 non-null  object\n",
      " 4   Publisher            271358 non-null  object\n",
      " 5   Image-URL-S          271360 non-null  object\n",
      " 6   Image-URL-M          271360 non-null  object\n",
      " 7   Image-URL-L          271357 non-null  object\n",
      "dtypes: object(8)\n",
      "memory usage: 16.6+ MB\n",
      "<class 'pandas.core.frame.DataFrame'>\n",
      "RangeIndex: 1149780 entries, 0 to 1149779\n",
      "Data columns (total 3 columns):\n",
      " #   Column       Non-Null Count    Dtype \n",
      "---  ------       --------------    ----- \n",
      " 0   User-ID      1149780 non-null  int64 \n",
      " 1   ISBN         1149780 non-null  object\n",
      " 2   Book-Rating  1149780 non-null  int64 \n",
      "dtypes: int64(2), object(1)\n",
      "memory usage: 26.3+ MB\n"
     ]
    }
   ],
   "source": [
    "dataUser = pd.read_csv(\"/kaggle/input/book-reccomendation-dataset/Data/Users.csv\")\n",
    "dataBuku = pd.read_csv(\"/kaggle/input/book-reccomendation-dataset/Data/Books.csv\")\n",
    "dataRating = pd.read_csv(\"/kaggle/input/book-reccomendation-dataset/Data/Ratings.csv\")\n",
    "\n",
    "dataUser.info()\n",
    "dataBuku.info()\n",
    "dataRating.info()"
   ]
  },
  {
   "cell_type": "markdown",
   "id": "f5ae30a4",
   "metadata": {
    "papermill": {
     "duration": 0.006002,
     "end_time": "2025-05-19T02:57:01.885455",
     "exception": false,
     "start_time": "2025-05-19T02:57:01.879453",
     "status": "completed"
    },
    "tags": []
   },
   "source": [
    "## 2.2 Identifikasi Karakteristik Data dan Cetak Ringkasan Statistik"
   ]
  },
  {
   "cell_type": "code",
   "execution_count": 3,
   "id": "3d22629d",
   "metadata": {
    "execution": {
     "iopub.execute_input": "2025-05-19T02:57:01.898780Z",
     "iopub.status.busy": "2025-05-19T02:57:01.898533Z",
     "iopub.status.idle": "2025-05-19T02:57:01.974732Z",
     "shell.execute_reply": "2025-05-19T02:57:01.973833Z"
    },
    "papermill": {
     "duration": 0.084399,
     "end_time": "2025-05-19T02:57:01.976054",
     "exception": false,
     "start_time": "2025-05-19T02:57:01.891655",
     "status": "completed"
    },
    "tags": []
   },
   "outputs": [
    {
     "name": "stdout",
     "output_type": "stream",
     "text": [
      "Banyak User :  278858\n",
      "Banyak Buku :  271360\n",
      "Banyak User yang Memberi Rating :  105283\n"
     ]
    }
   ],
   "source": [
    "dataUser = dataUser.rename(columns={\n",
    "    'User-ID': 'userID'\n",
    "})\n",
    "dataRating = dataRating.rename(columns={\n",
    "    'User-ID': 'userID'\n",
    "})\n",
    "\n",
    "print('Banyak User : ', len(dataUser.userID.unique()))\n",
    "print('Banyak Buku : ', len(dataBuku.ISBN.unique()))\n",
    "print('Banyak User yang Memberi Rating : ', len(dataRating.userID.unique()))"
   ]
  },
  {
   "cell_type": "markdown",
   "id": "e8cb4dda",
   "metadata": {
    "papermill": {
     "duration": 0.006079,
     "end_time": "2025-05-19T02:57:01.988622",
     "exception": false,
     "start_time": "2025-05-19T02:57:01.982543",
     "status": "completed"
    },
    "tags": []
   },
   "source": [
    "## 2.3 Identifikasi Ringkasan Statistik Data"
   ]
  },
  {
   "cell_type": "markdown",
   "id": "0a2c2fbb",
   "metadata": {
    "papermill": {
     "duration": 0.005889,
     "end_time": "2025-05-19T02:57:02.000606",
     "exception": false,
     "start_time": "2025-05-19T02:57:01.994717",
     "status": "completed"
    },
    "tags": []
   },
   "source": [
    "### 2.3.1 Ringkasan Statistik Dataset Books"
   ]
  },
  {
   "cell_type": "code",
   "execution_count": 4,
   "id": "f15f7122",
   "metadata": {
    "execution": {
     "iopub.execute_input": "2025-05-19T02:57:02.013629Z",
     "iopub.status.busy": "2025-05-19T02:57:02.013393Z",
     "iopub.status.idle": "2025-05-19T02:57:02.362126Z",
     "shell.execute_reply": "2025-05-19T02:57:02.361363Z"
    },
    "papermill": {
     "duration": 0.356651,
     "end_time": "2025-05-19T02:57:02.363358",
     "exception": false,
     "start_time": "2025-05-19T02:57:02.006707",
     "status": "completed"
    },
    "tags": []
   },
   "outputs": [
    {
     "data": {
      "text/html": [
       "<div>\n",
       "<style scoped>\n",
       "    .dataframe tbody tr th:only-of-type {\n",
       "        vertical-align: middle;\n",
       "    }\n",
       "\n",
       "    .dataframe tbody tr th {\n",
       "        vertical-align: top;\n",
       "    }\n",
       "\n",
       "    .dataframe thead th {\n",
       "        text-align: right;\n",
       "    }\n",
       "</style>\n",
       "<table border=\"1\" class=\"dataframe\">\n",
       "  <thead>\n",
       "    <tr style=\"text-align: right;\">\n",
       "      <th></th>\n",
       "      <th>Book-Title</th>\n",
       "      <th>Book-Author</th>\n",
       "      <th>Year-Of-Publication</th>\n",
       "      <th>Publisher</th>\n",
       "    </tr>\n",
       "  </thead>\n",
       "  <tbody>\n",
       "    <tr>\n",
       "      <th>count</th>\n",
       "      <td>271360</td>\n",
       "      <td>271358</td>\n",
       "      <td>271360</td>\n",
       "      <td>271358</td>\n",
       "    </tr>\n",
       "    <tr>\n",
       "      <th>unique</th>\n",
       "      <td>242135</td>\n",
       "      <td>102022</td>\n",
       "      <td>202</td>\n",
       "      <td>16807</td>\n",
       "    </tr>\n",
       "    <tr>\n",
       "      <th>top</th>\n",
       "      <td>Selected Poems</td>\n",
       "      <td>Agatha Christie</td>\n",
       "      <td>2002</td>\n",
       "      <td>Harlequin</td>\n",
       "    </tr>\n",
       "    <tr>\n",
       "      <th>freq</th>\n",
       "      <td>27</td>\n",
       "      <td>632</td>\n",
       "      <td>13903</td>\n",
       "      <td>7535</td>\n",
       "    </tr>\n",
       "  </tbody>\n",
       "</table>\n",
       "</div>"
      ],
      "text/plain": [
       "            Book-Title      Book-Author  Year-Of-Publication  Publisher\n",
       "count           271360           271358               271360     271358\n",
       "unique          242135           102022                  202      16807\n",
       "top     Selected Poems  Agatha Christie                 2002  Harlequin\n",
       "freq                27              632                13903       7535"
      ]
     },
     "execution_count": 4,
     "metadata": {},
     "output_type": "execute_result"
    }
   ],
   "source": [
    "dataBuku.drop(columns=['Image-URL-S','Image-URL-M','Image-URL-L','ISBN']).describe(include='all')"
   ]
  },
  {
   "cell_type": "markdown",
   "id": "84246bb0",
   "metadata": {
    "papermill": {
     "duration": 0.006099,
     "end_time": "2025-05-19T02:57:02.376200",
     "exception": false,
     "start_time": "2025-05-19T02:57:02.370101",
     "status": "completed"
    },
    "tags": []
   },
   "source": [
    "### 2.3.2 Ringkasan Statistik Dataset Ratings"
   ]
  },
  {
   "cell_type": "code",
   "execution_count": 5,
   "id": "9bd05386",
   "metadata": {
    "execution": {
     "iopub.execute_input": "2025-05-19T02:57:02.389428Z",
     "iopub.status.busy": "2025-05-19T02:57:02.389171Z",
     "iopub.status.idle": "2025-05-19T02:57:02.847703Z",
     "shell.execute_reply": "2025-05-19T02:57:02.846830Z"
    },
    "papermill": {
     "duration": 0.466613,
     "end_time": "2025-05-19T02:57:02.848981",
     "exception": false,
     "start_time": "2025-05-19T02:57:02.382368",
     "status": "completed"
    },
    "tags": []
   },
   "outputs": [
    {
     "name": "stderr",
     "output_type": "stream",
     "text": [
      "/usr/local/lib/python3.11/dist-packages/pandas/io/formats/format.py:1458: RuntimeWarning: invalid value encountered in greater\n",
      "  has_large_values = (abs_vals > 1e6).any()\n",
      "/usr/local/lib/python3.11/dist-packages/pandas/io/formats/format.py:1459: RuntimeWarning: invalid value encountered in less\n",
      "  has_small_values = ((abs_vals < 10 ** (-self.digits)) & (abs_vals > 0)).any()\n",
      "/usr/local/lib/python3.11/dist-packages/pandas/io/formats/format.py:1459: RuntimeWarning: invalid value encountered in greater\n",
      "  has_small_values = ((abs_vals < 10 ** (-self.digits)) & (abs_vals > 0)).any()\n"
     ]
    },
    {
     "data": {
      "text/html": [
       "<div>\n",
       "<style scoped>\n",
       "    .dataframe tbody tr th:only-of-type {\n",
       "        vertical-align: middle;\n",
       "    }\n",
       "\n",
       "    .dataframe tbody tr th {\n",
       "        vertical-align: top;\n",
       "    }\n",
       "\n",
       "    .dataframe thead th {\n",
       "        text-align: right;\n",
       "    }\n",
       "</style>\n",
       "<table border=\"1\" class=\"dataframe\">\n",
       "  <thead>\n",
       "    <tr style=\"text-align: right;\">\n",
       "      <th></th>\n",
       "      <th>ISBN</th>\n",
       "      <th>Book-Rating</th>\n",
       "    </tr>\n",
       "  </thead>\n",
       "  <tbody>\n",
       "    <tr>\n",
       "      <th>count</th>\n",
       "      <td>1149780</td>\n",
       "      <td>1.149780e+06</td>\n",
       "    </tr>\n",
       "    <tr>\n",
       "      <th>unique</th>\n",
       "      <td>340556</td>\n",
       "      <td>NaN</td>\n",
       "    </tr>\n",
       "    <tr>\n",
       "      <th>top</th>\n",
       "      <td>0971880107</td>\n",
       "      <td>NaN</td>\n",
       "    </tr>\n",
       "    <tr>\n",
       "      <th>freq</th>\n",
       "      <td>2502</td>\n",
       "      <td>NaN</td>\n",
       "    </tr>\n",
       "    <tr>\n",
       "      <th>mean</th>\n",
       "      <td>NaN</td>\n",
       "      <td>2.866950e+00</td>\n",
       "    </tr>\n",
       "    <tr>\n",
       "      <th>std</th>\n",
       "      <td>NaN</td>\n",
       "      <td>3.854184e+00</td>\n",
       "    </tr>\n",
       "    <tr>\n",
       "      <th>min</th>\n",
       "      <td>NaN</td>\n",
       "      <td>0.000000e+00</td>\n",
       "    </tr>\n",
       "    <tr>\n",
       "      <th>25%</th>\n",
       "      <td>NaN</td>\n",
       "      <td>0.000000e+00</td>\n",
       "    </tr>\n",
       "    <tr>\n",
       "      <th>50%</th>\n",
       "      <td>NaN</td>\n",
       "      <td>0.000000e+00</td>\n",
       "    </tr>\n",
       "    <tr>\n",
       "      <th>75%</th>\n",
       "      <td>NaN</td>\n",
       "      <td>7.000000e+00</td>\n",
       "    </tr>\n",
       "    <tr>\n",
       "      <th>max</th>\n",
       "      <td>NaN</td>\n",
       "      <td>1.000000e+01</td>\n",
       "    </tr>\n",
       "  </tbody>\n",
       "</table>\n",
       "</div>"
      ],
      "text/plain": [
       "              ISBN   Book-Rating\n",
       "count      1149780  1.149780e+06\n",
       "unique      340556           NaN\n",
       "top     0971880107           NaN\n",
       "freq          2502           NaN\n",
       "mean           NaN  2.866950e+00\n",
       "std            NaN  3.854184e+00\n",
       "min            NaN  0.000000e+00\n",
       "25%            NaN  0.000000e+00\n",
       "50%            NaN  0.000000e+00\n",
       "75%            NaN  7.000000e+00\n",
       "max            NaN  1.000000e+01"
      ]
     },
     "execution_count": 5,
     "metadata": {},
     "output_type": "execute_result"
    }
   ],
   "source": [
    "dataRating.drop(columns=['userID']).describe(include='all')"
   ]
  },
  {
   "cell_type": "markdown",
   "id": "b0eae1eb",
   "metadata": {
    "papermill": {
     "duration": 0.006513,
     "end_time": "2025-05-19T02:57:02.862523",
     "exception": false,
     "start_time": "2025-05-19T02:57:02.856010",
     "status": "completed"
    },
    "tags": []
   },
   "source": [
    "### 2.3.3 Ringkasan Statistik Dataset Users"
   ]
  },
  {
   "cell_type": "code",
   "execution_count": 6,
   "id": "4c63e5fb",
   "metadata": {
    "execution": {
     "iopub.execute_input": "2025-05-19T02:57:02.876374Z",
     "iopub.status.busy": "2025-05-19T02:57:02.876070Z",
     "iopub.status.idle": "2025-05-19T02:57:02.958529Z",
     "shell.execute_reply": "2025-05-19T02:57:02.957828Z"
    },
    "papermill": {
     "duration": 0.090748,
     "end_time": "2025-05-19T02:57:02.959755",
     "exception": false,
     "start_time": "2025-05-19T02:57:02.869007",
     "status": "completed"
    },
    "tags": []
   },
   "outputs": [
    {
     "name": "stderr",
     "output_type": "stream",
     "text": [
      "/usr/local/lib/python3.11/dist-packages/pandas/io/formats/format.py:1458: RuntimeWarning: invalid value encountered in greater\n",
      "  has_large_values = (abs_vals > 1e6).any()\n",
      "/usr/local/lib/python3.11/dist-packages/pandas/io/formats/format.py:1459: RuntimeWarning: invalid value encountered in less\n",
      "  has_small_values = ((abs_vals < 10 ** (-self.digits)) & (abs_vals > 0)).any()\n",
      "/usr/local/lib/python3.11/dist-packages/pandas/io/formats/format.py:1459: RuntimeWarning: invalid value encountered in greater\n",
      "  has_small_values = ((abs_vals < 10 ** (-self.digits)) & (abs_vals > 0)).any()\n"
     ]
    },
    {
     "data": {
      "text/html": [
       "<div>\n",
       "<style scoped>\n",
       "    .dataframe tbody tr th:only-of-type {\n",
       "        vertical-align: middle;\n",
       "    }\n",
       "\n",
       "    .dataframe tbody tr th {\n",
       "        vertical-align: top;\n",
       "    }\n",
       "\n",
       "    .dataframe thead th {\n",
       "        text-align: right;\n",
       "    }\n",
       "</style>\n",
       "<table border=\"1\" class=\"dataframe\">\n",
       "  <thead>\n",
       "    <tr style=\"text-align: right;\">\n",
       "      <th></th>\n",
       "      <th>Location</th>\n",
       "      <th>Age</th>\n",
       "    </tr>\n",
       "  </thead>\n",
       "  <tbody>\n",
       "    <tr>\n",
       "      <th>count</th>\n",
       "      <td>278858</td>\n",
       "      <td>168096.000000</td>\n",
       "    </tr>\n",
       "    <tr>\n",
       "      <th>unique</th>\n",
       "      <td>57339</td>\n",
       "      <td>NaN</td>\n",
       "    </tr>\n",
       "    <tr>\n",
       "      <th>top</th>\n",
       "      <td>london, england, united kingdom</td>\n",
       "      <td>NaN</td>\n",
       "    </tr>\n",
       "    <tr>\n",
       "      <th>freq</th>\n",
       "      <td>2506</td>\n",
       "      <td>NaN</td>\n",
       "    </tr>\n",
       "    <tr>\n",
       "      <th>mean</th>\n",
       "      <td>NaN</td>\n",
       "      <td>34.751434</td>\n",
       "    </tr>\n",
       "    <tr>\n",
       "      <th>std</th>\n",
       "      <td>NaN</td>\n",
       "      <td>14.428097</td>\n",
       "    </tr>\n",
       "    <tr>\n",
       "      <th>min</th>\n",
       "      <td>NaN</td>\n",
       "      <td>0.000000</td>\n",
       "    </tr>\n",
       "    <tr>\n",
       "      <th>25%</th>\n",
       "      <td>NaN</td>\n",
       "      <td>24.000000</td>\n",
       "    </tr>\n",
       "    <tr>\n",
       "      <th>50%</th>\n",
       "      <td>NaN</td>\n",
       "      <td>32.000000</td>\n",
       "    </tr>\n",
       "    <tr>\n",
       "      <th>75%</th>\n",
       "      <td>NaN</td>\n",
       "      <td>44.000000</td>\n",
       "    </tr>\n",
       "    <tr>\n",
       "      <th>max</th>\n",
       "      <td>NaN</td>\n",
       "      <td>244.000000</td>\n",
       "    </tr>\n",
       "  </tbody>\n",
       "</table>\n",
       "</div>"
      ],
      "text/plain": [
       "                               Location            Age\n",
       "count                            278858  168096.000000\n",
       "unique                            57339            NaN\n",
       "top     london, england, united kingdom            NaN\n",
       "freq                               2506            NaN\n",
       "mean                                NaN      34.751434\n",
       "std                                 NaN      14.428097\n",
       "min                                 NaN       0.000000\n",
       "25%                                 NaN      24.000000\n",
       "50%                                 NaN      32.000000\n",
       "75%                                 NaN      44.000000\n",
       "max                                 NaN     244.000000"
      ]
     },
     "execution_count": 6,
     "metadata": {},
     "output_type": "execute_result"
    }
   ],
   "source": [
    "dataUser.drop(columns=['userID']).describe(include='all')"
   ]
  },
  {
   "cell_type": "markdown",
   "id": "75b99ae3",
   "metadata": {
    "papermill": {
     "duration": 0.006584,
     "end_time": "2025-05-19T02:57:02.973597",
     "exception": false,
     "start_time": "2025-05-19T02:57:02.967013",
     "status": "completed"
    },
    "tags": []
   },
   "source": [
    "## 2.4 Pengecekan Missing Value"
   ]
  },
  {
   "cell_type": "code",
   "execution_count": 7,
   "id": "38ae8816",
   "metadata": {
    "execution": {
     "iopub.execute_input": "2025-05-19T02:57:02.987675Z",
     "iopub.status.busy": "2025-05-19T02:57:02.987449Z",
     "iopub.status.idle": "2025-05-19T02:57:03.007420Z",
     "shell.execute_reply": "2025-05-19T02:57:03.006690Z"
    },
    "papermill": {
     "duration": 0.028429,
     "end_time": "2025-05-19T02:57:03.008582",
     "exception": false,
     "start_time": "2025-05-19T02:57:02.980153",
     "status": "completed"
    },
    "tags": []
   },
   "outputs": [
    {
     "data": {
      "text/plain": [
       "userID           0\n",
       "Location         0\n",
       "Age         110762\n",
       "dtype: int64"
      ]
     },
     "execution_count": 7,
     "metadata": {},
     "output_type": "execute_result"
    }
   ],
   "source": [
    "dataUser.isnull().sum()"
   ]
  },
  {
   "cell_type": "code",
   "execution_count": 8,
   "id": "8fc5b2f4",
   "metadata": {
    "execution": {
     "iopub.execute_input": "2025-05-19T02:57:03.070130Z",
     "iopub.status.busy": "2025-05-19T02:57:03.069863Z",
     "iopub.status.idle": "2025-05-19T02:57:03.170802Z",
     "shell.execute_reply": "2025-05-19T02:57:03.170145Z"
    },
    "papermill": {
     "duration": 0.109763,
     "end_time": "2025-05-19T02:57:03.171983",
     "exception": false,
     "start_time": "2025-05-19T02:57:03.062220",
     "status": "completed"
    },
    "tags": []
   },
   "outputs": [
    {
     "data": {
      "text/plain": [
       "ISBN                   0\n",
       "Book-Title             0\n",
       "Book-Author            2\n",
       "Year-Of-Publication    0\n",
       "Publisher              2\n",
       "Image-URL-S            0\n",
       "Image-URL-M            0\n",
       "Image-URL-L            3\n",
       "dtype: int64"
      ]
     },
     "execution_count": 8,
     "metadata": {},
     "output_type": "execute_result"
    }
   ],
   "source": [
    "dataBuku.isnull().sum()"
   ]
  },
  {
   "cell_type": "code",
   "execution_count": 9,
   "id": "27d725ba",
   "metadata": {
    "execution": {
     "iopub.execute_input": "2025-05-19T02:57:03.187475Z",
     "iopub.status.busy": "2025-05-19T02:57:03.187221Z",
     "iopub.status.idle": "2025-05-19T02:57:03.250777Z",
     "shell.execute_reply": "2025-05-19T02:57:03.250178Z"
    },
    "papermill": {
     "duration": 0.072356,
     "end_time": "2025-05-19T02:57:03.251957",
     "exception": false,
     "start_time": "2025-05-19T02:57:03.179601",
     "status": "completed"
    },
    "tags": []
   },
   "outputs": [
    {
     "data": {
      "text/plain": [
       "userID         0\n",
       "ISBN           0\n",
       "Book-Rating    0\n",
       "dtype: int64"
      ]
     },
     "execution_count": 9,
     "metadata": {},
     "output_type": "execute_result"
    }
   ],
   "source": [
    "\n",
    "dataRating.isnull().sum()"
   ]
  },
  {
   "cell_type": "markdown",
   "id": "b829b069",
   "metadata": {
    "papermill": {
     "duration": 0.006815,
     "end_time": "2025-05-19T02:57:03.266156",
     "exception": false,
     "start_time": "2025-05-19T02:57:03.259341",
     "status": "completed"
    },
    "tags": []
   },
   "source": [
    "# 3. Data Preparation"
   ]
  },
  {
   "cell_type": "markdown",
   "id": "56f5cc10",
   "metadata": {
    "papermill": {
     "duration": 0.006921,
     "end_time": "2025-05-19T02:57:03.280034",
     "exception": false,
     "start_time": "2025-05-19T02:57:03.273113",
     "status": "completed"
    },
    "tags": []
   },
   "source": [
    "## 3.1 Join Tabel"
   ]
  },
  {
   "cell_type": "code",
   "execution_count": 10,
   "id": "52785e88",
   "metadata": {
    "execution": {
     "iopub.execute_input": "2025-05-19T02:57:03.294591Z",
     "iopub.status.busy": "2025-05-19T02:57:03.294349Z",
     "iopub.status.idle": "2025-05-19T02:57:04.358220Z",
     "shell.execute_reply": "2025-05-19T02:57:04.357651Z"
    },
    "papermill": {
     "duration": 1.072791,
     "end_time": "2025-05-19T02:57:04.359631",
     "exception": false,
     "start_time": "2025-05-19T02:57:03.286840",
     "status": "completed"
    },
    "tags": []
   },
   "outputs": [],
   "source": [
    "# Gabungkan Data Rating dengan Data User untuk memperoleh dataset rating beserta atribut usernya\n",
    "dataRatingUser = pd.merge(dataRating, dataUser, on='userID', how='left')\n",
    "# Gabungkan dataset sebelumnya dengan dataset buku untuk memperoleh keterangan buku yang diberi rating\n",
    "dataset = pd.merge(dataRatingUser, dataBuku, on='ISBN', how='left')"
   ]
  },
  {
   "cell_type": "code",
   "execution_count": 11,
   "id": "5e0cefe5",
   "metadata": {
    "execution": {
     "iopub.execute_input": "2025-05-19T02:57:04.377030Z",
     "iopub.status.busy": "2025-05-19T02:57:04.376797Z",
     "iopub.status.idle": "2025-05-19T02:57:05.551015Z",
     "shell.execute_reply": "2025-05-19T02:57:05.550388Z"
    },
    "papermill": {
     "duration": 1.183703,
     "end_time": "2025-05-19T02:57:05.552119",
     "exception": false,
     "start_time": "2025-05-19T02:57:04.368416",
     "status": "completed"
    },
    "tags": []
   },
   "outputs": [
    {
     "name": "stdout",
     "output_type": "stream",
     "text": [
      "<class 'pandas.core.frame.DataFrame'>\n",
      "RangeIndex: 1149780 entries, 0 to 1149779\n",
      "Data columns (total 12 columns):\n",
      " #   Column               Non-Null Count    Dtype  \n",
      "---  ------               --------------    -----  \n",
      " 0   userID               1149780 non-null  int64  \n",
      " 1   ISBN                 1149780 non-null  object \n",
      " 2   Book-Rating          1149780 non-null  int64  \n",
      " 3   Location             1149780 non-null  object \n",
      " 4   Age                  840288 non-null   float64\n",
      " 5   Book-Title           1031136 non-null  object \n",
      " 6   Book-Author          1031134 non-null  object \n",
      " 7   Year-Of-Publication  1031136 non-null  object \n",
      " 8   Publisher            1031134 non-null  object \n",
      " 9   Image-URL-S          1031136 non-null  object \n",
      " 10  Image-URL-M          1031136 non-null  object \n",
      " 11  Image-URL-L          1031132 non-null  object \n",
      "dtypes: float64(1), int64(2), object(9)\n",
      "memory usage: 105.3+ MB\n"
     ]
    },
    {
     "data": {
      "text/plain": [
       "userID                      0\n",
       "ISBN                        0\n",
       "Book-Rating                 0\n",
       "Location                    0\n",
       "Age                    309492\n",
       "Book-Title             118644\n",
       "Book-Author            118646\n",
       "Year-Of-Publication    118644\n",
       "Publisher              118646\n",
       "Image-URL-S            118644\n",
       "Image-URL-M            118644\n",
       "Image-URL-L            118648\n",
       "dtype: int64"
      ]
     },
     "execution_count": 11,
     "metadata": {},
     "output_type": "execute_result"
    }
   ],
   "source": [
    "dataset.info()\n",
    "dataset.isnull().sum()"
   ]
  },
  {
   "cell_type": "markdown",
   "id": "26da9d50",
   "metadata": {
    "papermill": {
     "duration": 0.007511,
     "end_time": "2025-05-19T02:57:05.567705",
     "exception": false,
     "start_time": "2025-05-19T02:57:05.560194",
     "status": "completed"
    },
    "tags": []
   },
   "source": [
    "## 3.2 Eliminasi Observasi dengan Missing Value"
   ]
  },
  {
   "cell_type": "code",
   "execution_count": 12,
   "id": "6429fbee",
   "metadata": {
    "execution": {
     "iopub.execute_input": "2025-05-19T02:57:05.583299Z",
     "iopub.status.busy": "2025-05-19T02:57:05.583071Z",
     "iopub.status.idle": "2025-05-19T02:57:06.306928Z",
     "shell.execute_reply": "2025-05-19T02:57:06.306337Z"
    },
    "papermill": {
     "duration": 0.733187,
     "end_time": "2025-05-19T02:57:06.308228",
     "exception": false,
     "start_time": "2025-05-19T02:57:05.575041",
     "status": "completed"
    },
    "tags": []
   },
   "outputs": [],
   "source": [
    "dataFinal = dataset.dropna()"
   ]
  },
  {
   "cell_type": "markdown",
   "id": "76d02e0b",
   "metadata": {
    "papermill": {
     "duration": 0.007098,
     "end_time": "2025-05-19T02:57:06.323147",
     "exception": false,
     "start_time": "2025-05-19T02:57:06.316049",
     "status": "completed"
    },
    "tags": []
   },
   "source": [
    "### 3.3.1 Preprocessing untuk Content Based Filtering"
   ]
  },
  {
   "cell_type": "code",
   "execution_count": 13,
   "id": "a0fc253b",
   "metadata": {
    "execution": {
     "iopub.execute_input": "2025-05-19T02:57:06.339123Z",
     "iopub.status.busy": "2025-05-19T02:57:06.338530Z",
     "iopub.status.idle": "2025-05-19T02:57:09.254124Z",
     "shell.execute_reply": "2025-05-19T02:57:09.253567Z"
    },
    "papermill": {
     "duration": 2.925097,
     "end_time": "2025-05-19T02:57:09.255552",
     "exception": false,
     "start_time": "2025-05-19T02:57:06.330455",
     "status": "completed"
    },
    "tags": []
   },
   "outputs": [
    {
     "name": "stderr",
     "output_type": "stream",
     "text": [
      "/tmp/ipykernel_19/3961848135.py:2: SettingWithCopyWarning: \n",
      "A value is trying to be set on a copy of a slice from a DataFrame.\n",
      "Try using .loc[row_indexer,col_indexer] = value instead\n",
      "\n",
      "See the caveats in the documentation: https://pandas.pydata.org/pandas-docs/stable/user_guide/indexing.html#returning-a-view-versus-a-copy\n",
      "  dataFinal['AtributBuku'] = dataFinal['Book-Title'] + ' ' + dataFinal['Book-Author'] + ' ' + dataFinal['Year-Of-Publication'].astype(str)\n",
      "/tmp/ipykernel_19/3961848135.py:12: SettingWithCopyWarning: \n",
      "A value is trying to be set on a copy of a slice from a DataFrame.\n",
      "Try using .loc[row_indexer,col_indexer] = value instead\n",
      "\n",
      "See the caveats in the documentation: https://pandas.pydata.org/pandas-docs/stable/user_guide/indexing.html#returning-a-view-versus-a-copy\n",
      "  dataFinal['AtributBuku'] = dataFinal['AtributBuku'].apply(preprocess_text)\n"
     ]
    }
   ],
   "source": [
    "# Membentuk Variabel Baru yang menangkap atribut dari Buku\n",
    "dataFinal['AtributBuku'] = dataFinal['Book-Title'] + ' ' + dataFinal['Book-Author'] + ' ' + dataFinal['Year-Of-Publication'].astype(str)\n",
    "\n",
    "# Preprocessing: Convert to lowercase, remove punctuation\n",
    "def preprocess_text(text):\n",
    "    # Convert to lowercase\n",
    "    text = text.lower()\n",
    "    # Remove punctuation\n",
    "    text = re.sub(r'[^\\w\\s]', '', text)\n",
    "    return text\n",
    "\n",
    "dataFinal['AtributBuku'] = dataFinal['AtributBuku'].apply(preprocess_text)\n",
    "\n",
    "# Undersampling untuk Reduksi Dataset\n",
    "dataBaru = dataFinal.dropna(subset=['AtributBuku']).sample(n=90000, random_state=42).reset_index(drop=True)"
   ]
  },
  {
   "cell_type": "markdown",
   "id": "2e0145bd",
   "metadata": {
    "papermill": {
     "duration": 0.007231,
     "end_time": "2025-05-19T02:57:09.270375",
     "exception": false,
     "start_time": "2025-05-19T02:57:09.263144",
     "status": "completed"
    },
    "tags": []
   },
   "source": [
    "### 3.3.2 Preprocessing untuk Colaborative Filtering"
   ]
  },
  {
   "cell_type": "code",
   "execution_count": 14,
   "id": "dddfdf9d",
   "metadata": {
    "execution": {
     "iopub.execute_input": "2025-05-19T02:57:09.285783Z",
     "iopub.status.busy": "2025-05-19T02:57:09.285557Z",
     "iopub.status.idle": "2025-05-19T02:57:09.745518Z",
     "shell.execute_reply": "2025-05-19T02:57:09.744744Z"
    },
    "papermill": {
     "duration": 0.469147,
     "end_time": "2025-05-19T02:57:09.746788",
     "exception": false,
     "start_time": "2025-05-19T02:57:09.277641",
     "status": "completed"
    },
    "tags": []
   },
   "outputs": [
    {
     "name": "stderr",
     "output_type": "stream",
     "text": [
      "/tmp/ipykernel_19/3581592387.py:12: SettingWithCopyWarning: \n",
      "A value is trying to be set on a copy of a slice from a DataFrame.\n",
      "Try using .loc[row_indexer,col_indexer] = value instead\n",
      "\n",
      "See the caveats in the documentation: https://pandas.pydata.org/pandas-docs/stable/user_guide/indexing.html#returning-a-view-versus-a-copy\n",
      "  dataFinal['user_encoded'] = dataFinal['userID'].map(user_to_user_encoded)\n"
     ]
    },
    {
     "name": "stdout",
     "output_type": "stream",
     "text": [
      "Jumlah User: 53887, Jumlah Buku: 228995, Min Rating: 0.0, Max Rating: 10.0\n"
     ]
    },
    {
     "name": "stderr",
     "output_type": "stream",
     "text": [
      "/tmp/ipykernel_19/3581592387.py:13: SettingWithCopyWarning: \n",
      "A value is trying to be set on a copy of a slice from a DataFrame.\n",
      "Try using .loc[row_indexer,col_indexer] = value instead\n",
      "\n",
      "See the caveats in the documentation: https://pandas.pydata.org/pandas-docs/stable/user_guide/indexing.html#returning-a-view-versus-a-copy\n",
      "  dataFinal['ISBN_encoded'] = dataFinal['ISBN'].map(buku_to_ids_encoded)\n",
      "/tmp/ipykernel_19/3581592387.py:24: SettingWithCopyWarning: \n",
      "A value is trying to be set on a copy of a slice from a DataFrame.\n",
      "Try using .loc[row_indexer,col_indexer] = value instead\n",
      "\n",
      "See the caveats in the documentation: https://pandas.pydata.org/pandas-docs/stable/user_guide/indexing.html#returning-a-view-versus-a-copy\n",
      "  dataFinal['user_encoded'] = dataFinal['user_encoded'].astype(np.int32)\n",
      "/tmp/ipykernel_19/3581592387.py:25: SettingWithCopyWarning: \n",
      "A value is trying to be set on a copy of a slice from a DataFrame.\n",
      "Try using .loc[row_indexer,col_indexer] = value instead\n",
      "\n",
      "See the caveats in the documentation: https://pandas.pydata.org/pandas-docs/stable/user_guide/indexing.html#returning-a-view-versus-a-copy\n",
      "  dataFinal['ISBN_encoded'] = dataFinal['ISBN_encoded'].astype(np.int32)\n",
      "/tmp/ipykernel_19/3581592387.py:28: SettingWithCopyWarning: \n",
      "A value is trying to be set on a copy of a slice from a DataFrame.\n",
      "Try using .loc[row_indexer,col_indexer] = value instead\n",
      "\n",
      "See the caveats in the documentation: https://pandas.pydata.org/pandas-docs/stable/user_guide/indexing.html#returning-a-view-versus-a-copy\n",
      "  dataFinal['Book-Rating'] = dataFinal['Book-Rating'].astype(np.float32)\n"
     ]
    }
   ],
   "source": [
    "# Mengubah userID menjadi list unik\n",
    "user_ids = dataFinal['userID'].unique().tolist()\n",
    "user_to_user_encoded = {x: i for i, x in enumerate(user_ids)}\n",
    "user_encoded_to_user = {i: x for i, x in enumerate(user_ids)}\n",
    "\n",
    "# Mengubah ISBN menjadi list unik\n",
    "buku_ids = dataFinal['ISBN'].unique().tolist()\n",
    "buku_to_ids_encoded = {x: i for i, x in enumerate(buku_ids)}\n",
    "ids_to_buku_encoded = {i: x for i, x in enumerate(buku_ids)}\n",
    "\n",
    "# Melakukan encoding ke dataframe\n",
    "dataFinal['user_encoded'] = dataFinal['userID'].map(user_to_user_encoded)\n",
    "dataFinal['ISBN_encoded'] = dataFinal['ISBN'].map(buku_to_ids_encoded)\n",
    "\n",
    "# Cek apakah ada yang gagal di-encode\n",
    "if dataFinal[['user_encoded', 'ISBN_encoded']].isnull().values.any():\n",
    "    print(\"🚨 Ada userID atau ISBN yang tidak berhasil di-encode!\")\n",
    "    print(\"Jumlah user_encoded NaN:\", dataFinal['user_encoded'].isnull().sum())\n",
    "    print(\"Jumlah ISBN_encoded NaN:\", dataFinal['ISBN_encoded'].isnull().sum())\n",
    "    # Bisa drop baris NaN atau isi dengan nilai default\n",
    "    dataFinal = dataFinal.dropna(subset=['user_encoded', 'ISBN_encoded'])\n",
    "\n",
    "# Convert ke integer untuk keperluan input model embedding\n",
    "dataFinal['user_encoded'] = dataFinal['user_encoded'].astype(np.int32)\n",
    "dataFinal['ISBN_encoded'] = dataFinal['ISBN_encoded'].astype(np.int32)\n",
    "\n",
    "# Konversi rating ke float32\n",
    "dataFinal['Book-Rating'] = dataFinal['Book-Rating'].astype(np.float32)\n",
    "\n",
    "# Info statistik\n",
    "num_users = len(user_to_user_encoded)\n",
    "num_items = len(ids_to_buku_encoded)\n",
    "min_rating = dataFinal['Book-Rating'].min()\n",
    "max_rating = dataFinal['Book-Rating'].max()\n",
    "\n",
    "print(f'Jumlah User: {num_users}, Jumlah Buku: {num_items}, Min Rating: {min_rating}, Max Rating: {max_rating}')"
   ]
  },
  {
   "cell_type": "code",
   "execution_count": 15,
   "id": "0b14642c",
   "metadata": {
    "execution": {
     "iopub.execute_input": "2025-05-19T02:57:09.763851Z",
     "iopub.status.busy": "2025-05-19T02:57:09.763286Z",
     "iopub.status.idle": "2025-05-19T02:57:10.702572Z",
     "shell.execute_reply": "2025-05-19T02:57:10.701805Z"
    },
    "papermill": {
     "duration": 0.94953,
     "end_time": "2025-05-19T02:57:10.704402",
     "exception": false,
     "start_time": "2025-05-19T02:57:09.754872",
     "status": "completed"
    },
    "tags": []
   },
   "outputs": [],
   "source": [
    "# Mengacak dataset\n",
    "df = dataFinal.sample(frac=1, random_state=42)\n",
    "df\n",
    "\n",
    "# Membuat variabel x untuk mencocokkan data user dan resto menjadi satu value\n",
    "x = df[['user_encoded', 'ISBN_encoded']].values\n",
    " \n",
    "# Membuat variabel y untuk membuat rating dari hasil \n",
    "y = df['Book-Rating'].apply(lambda x: (x - min_rating) / (max_rating - min_rating)).values\n",
    " \n",
    "# Membagi menjadi 80% data train dan 20% data validasi\n",
    "train_indices = int(0.8 * df.shape[0])\n",
    "x_train, x_val, y_train, y_val = (\n",
    "    x[:train_indices],\n",
    "    x[train_indices:],\n",
    "    y[:train_indices],\n",
    "    y[train_indices:]\n",
    ")"
   ]
  },
  {
   "cell_type": "markdown",
   "id": "caed6df4",
   "metadata": {
    "papermill": {
     "duration": 0.007336,
     "end_time": "2025-05-19T02:57:10.720216",
     "exception": false,
     "start_time": "2025-05-19T02:57:10.712880",
     "status": "completed"
    },
    "tags": []
   },
   "source": [
    "# 4. Modelling"
   ]
  },
  {
   "cell_type": "markdown",
   "id": "fac1e183",
   "metadata": {
    "papermill": {
     "duration": 0.007067,
     "end_time": "2025-05-19T02:57:10.734725",
     "exception": false,
     "start_time": "2025-05-19T02:57:10.727658",
     "status": "completed"
    },
    "tags": []
   },
   "source": [
    "## 4.1 Content Based Filtering"
   ]
  },
  {
   "cell_type": "markdown",
   "id": "5485633d",
   "metadata": {
    "papermill": {
     "duration": 0.007107,
     "end_time": "2025-05-19T02:57:10.749168",
     "exception": false,
     "start_time": "2025-05-19T02:57:10.742061",
     "status": "completed"
    },
    "tags": []
   },
   "source": [
    "### 4.1.1 Membentuk Matriks Term Frequency - Inverse Document Frequency"
   ]
  },
  {
   "cell_type": "code",
   "execution_count": 16,
   "id": "78b5305a",
   "metadata": {
    "execution": {
     "iopub.execute_input": "2025-05-19T02:57:10.764667Z",
     "iopub.status.busy": "2025-05-19T02:57:10.764418Z",
     "iopub.status.idle": "2025-05-19T02:57:11.373026Z",
     "shell.execute_reply": "2025-05-19T02:57:11.372464Z"
    },
    "papermill": {
     "duration": 0.618066,
     "end_time": "2025-05-19T02:57:11.374353",
     "exception": false,
     "start_time": "2025-05-19T02:57:10.756287",
     "status": "completed"
    },
    "tags": []
   },
   "outputs": [],
   "source": [
    "# Buat dataframe baru berisi data unik dari AtributBuku\n",
    "dataBaru = dataBaru.drop_duplicates(subset='AtributBuku').reset_index(drop=False)\n",
    "\n",
    "tfidf = TfidfVectorizer(stop_words='english')\n",
    "tfidf_matrix = tfidf.fit_transform(dataBaru['AtributBuku'])"
   ]
  },
  {
   "cell_type": "markdown",
   "id": "56f304fd",
   "metadata": {
    "papermill": {
     "duration": 0.007297,
     "end_time": "2025-05-19T02:57:11.392228",
     "exception": false,
     "start_time": "2025-05-19T02:57:11.384931",
     "status": "completed"
    },
    "tags": []
   },
   "source": [
    "### 4.1.2 Membentuk Matriks Cosine Similarity"
   ]
  },
  {
   "cell_type": "code",
   "execution_count": 17,
   "id": "eb51309f",
   "metadata": {
    "execution": {
     "iopub.execute_input": "2025-05-19T02:57:11.408569Z",
     "iopub.status.busy": "2025-05-19T02:57:11.408091Z",
     "iopub.status.idle": "2025-05-19T02:57:13.469985Z",
     "shell.execute_reply": "2025-05-19T02:57:13.469182Z"
    },
    "papermill": {
     "duration": 2.071699,
     "end_time": "2025-05-19T02:57:13.471397",
     "exception": false,
     "start_time": "2025-05-19T02:57:11.399698",
     "status": "completed"
    },
    "tags": []
   },
   "outputs": [],
   "source": [
    "cosine_sim = cosine_similarity(tfidf_matrix, dense_output=False)\n"
   ]
  },
  {
   "cell_type": "markdown",
   "id": "541f8d5b",
   "metadata": {
    "papermill": {
     "duration": 0.007374,
     "end_time": "2025-05-19T02:57:13.487103",
     "exception": false,
     "start_time": "2025-05-19T02:57:13.479729",
     "status": "completed"
    },
    "tags": []
   },
   "source": [
    "### 4.1.3 Pendefinisian Fungsi Rekomendasi Produk"
   ]
  },
  {
   "cell_type": "code",
   "execution_count": 18,
   "id": "53ad1c7a",
   "metadata": {
    "execution": {
     "iopub.execute_input": "2025-05-19T02:57:13.503032Z",
     "iopub.status.busy": "2025-05-19T02:57:13.502280Z",
     "iopub.status.idle": "2025-05-19T02:57:13.507752Z",
     "shell.execute_reply": "2025-05-19T02:57:13.507211Z"
    },
    "papermill": {
     "duration": 0.014318,
     "end_time": "2025-05-19T02:57:13.508738",
     "exception": false,
     "start_time": "2025-05-19T02:57:13.494420",
     "status": "completed"
    },
    "tags": []
   },
   "outputs": [],
   "source": [
    "def recommend(book_title, cosine_sim=cosine_sim, jmlbuku = 5):\n",
    "    print(f\"Menampilkan Rekomendasi Buku yang sesuai dengan '{book_title}' ...\")\n",
    "    \n",
    "    matches = dataBaru[dataBaru['Book-Title'] == book_title]\n",
    "    if matches.empty:\n",
    "        return f\"Tidak ditemukan judul: {book_title}\"\n",
    "    \n",
    "    # matches.index sudah 0..n-1, cocok untuk cosine_sim\n",
    "    idx = matches.index[0]\n",
    "\n",
    "    sim_scores_row = cosine_sim[idx].toarray().flatten()\n",
    "\n",
    "    sim_scores = list(enumerate(sim_scores_row))\n",
    "    sim_scores = sorted(sim_scores, key=lambda x: x[1], reverse=True)\n",
    "    sim_scores = sim_scores[1:jmlbuku+1]  # skip buku itu sendiri\n",
    "\n",
    "    book_indices = [i[0] for i in sim_scores]\n",
    "    scores = [i[1] for i in sim_scores]\n",
    "\n",
    "    result = dataBaru.iloc[book_indices][['Book-Title', 'Book-Author', 'Publisher', 'Year-Of-Publication']].copy()\n",
    "    result['similarity_score'] = scores\n",
    "\n",
    "    return result.reset_index(drop=True)\n"
   ]
  },
  {
   "cell_type": "code",
   "execution_count": 19,
   "id": "f9b2e80c",
   "metadata": {
    "execution": {
     "iopub.execute_input": "2025-05-19T02:57:13.524044Z",
     "iopub.status.busy": "2025-05-19T02:57:13.523837Z",
     "iopub.status.idle": "2025-05-19T02:57:13.572979Z",
     "shell.execute_reply": "2025-05-19T02:57:13.572427Z"
    },
    "papermill": {
     "duration": 0.058054,
     "end_time": "2025-05-19T02:57:13.574000",
     "exception": false,
     "start_time": "2025-05-19T02:57:13.515946",
     "status": "completed"
    },
    "tags": []
   },
   "outputs": [
    {
     "name": "stdout",
     "output_type": "stream",
     "text": [
      "Menampilkan Rekomendasi Buku yang sesuai dengan 'Overeaters Anonymous' ...\n"
     ]
    },
    {
     "data": {
      "text/html": [
       "<div>\n",
       "<style scoped>\n",
       "    .dataframe tbody tr th:only-of-type {\n",
       "        vertical-align: middle;\n",
       "    }\n",
       "\n",
       "    .dataframe tbody tr th {\n",
       "        vertical-align: top;\n",
       "    }\n",
       "\n",
       "    .dataframe thead th {\n",
       "        text-align: right;\n",
       "    }\n",
       "</style>\n",
       "<table border=\"1\" class=\"dataframe\">\n",
       "  <thead>\n",
       "    <tr style=\"text-align: right;\">\n",
       "      <th></th>\n",
       "      <th>Book-Title</th>\n",
       "      <th>Book-Author</th>\n",
       "      <th>Publisher</th>\n",
       "      <th>Year-Of-Publication</th>\n",
       "      <th>similarity_score</th>\n",
       "    </tr>\n",
       "  </thead>\n",
       "  <tbody>\n",
       "    <tr>\n",
       "      <th>0</th>\n",
       "      <td>The Twelve Steps and Twelve Traditions of Over...</td>\n",
       "      <td>Overeaters Anonymous Incorporated Staff</td>\n",
       "      <td>Overeaters Anonymous</td>\n",
       "      <td>1993</td>\n",
       "      <td>0.822650</td>\n",
       "    </tr>\n",
       "    <tr>\n",
       "      <th>1</th>\n",
       "      <td>Annie's Baby: The Diary of Anonymous, a Pregna...</td>\n",
       "      <td>Anonymous</td>\n",
       "      <td>Avon</td>\n",
       "      <td>1998</td>\n",
       "      <td>0.410268</td>\n",
       "    </tr>\n",
       "    <tr>\n",
       "      <th>2</th>\n",
       "      <td>Go Ask Alice</td>\n",
       "      <td>Anonymous</td>\n",
       "      <td>Simon Pulse</td>\n",
       "      <td>1998</td>\n",
       "      <td>0.377200</td>\n",
       "    </tr>\n",
       "    <tr>\n",
       "      <th>3</th>\n",
       "      <td>The Ithon</td>\n",
       "      <td>Anonymous</td>\n",
       "      <td>Infinity Publishing (PA)</td>\n",
       "      <td>2003</td>\n",
       "      <td>0.365937</td>\n",
       "    </tr>\n",
       "    <tr>\n",
       "      <th>4</th>\n",
       "      <td>Go Ask Alice</td>\n",
       "      <td>Anonymous</td>\n",
       "      <td>Simon &amp;amp; Schuster Children's Publishing</td>\n",
       "      <td>1971</td>\n",
       "      <td>0.342711</td>\n",
       "    </tr>\n",
       "  </tbody>\n",
       "</table>\n",
       "</div>"
      ],
      "text/plain": [
       "                                          Book-Title  \\\n",
       "0  The Twelve Steps and Twelve Traditions of Over...   \n",
       "1  Annie's Baby: The Diary of Anonymous, a Pregna...   \n",
       "2                                       Go Ask Alice   \n",
       "3                                          The Ithon   \n",
       "4                                       Go Ask Alice   \n",
       "\n",
       "                               Book-Author  \\\n",
       "0  Overeaters Anonymous Incorporated Staff   \n",
       "1                                Anonymous   \n",
       "2                                Anonymous   \n",
       "3                                Anonymous   \n",
       "4                                Anonymous   \n",
       "\n",
       "                                    Publisher Year-Of-Publication  \\\n",
       "0                        Overeaters Anonymous                1993   \n",
       "1                                        Avon                1998   \n",
       "2                                 Simon Pulse                1998   \n",
       "3                    Infinity Publishing (PA)                2003   \n",
       "4  Simon &amp; Schuster Children's Publishing                1971   \n",
       "\n",
       "   similarity_score  \n",
       "0          0.822650  \n",
       "1          0.410268  \n",
       "2          0.377200  \n",
       "3          0.365937  \n",
       "4          0.342711  "
      ]
     },
     "execution_count": 19,
     "metadata": {},
     "output_type": "execute_result"
    }
   ],
   "source": [
    "recommend(dataBaru['Book-Title'].dropna().sample(1).iloc[0])\n"
   ]
  },
  {
   "cell_type": "markdown",
   "id": "97e67f39",
   "metadata": {
    "papermill": {
     "duration": 0.007318,
     "end_time": "2025-05-19T02:57:13.589679",
     "exception": false,
     "start_time": "2025-05-19T02:57:13.582361",
     "status": "completed"
    },
    "tags": []
   },
   "source": [
    "## 4.2 Collaborative Filtering"
   ]
  },
  {
   "cell_type": "markdown",
   "id": "3a51d4d8",
   "metadata": {
    "papermill": {
     "duration": 0.007188,
     "end_time": "2025-05-19T02:57:13.604172",
     "exception": false,
     "start_time": "2025-05-19T02:57:13.596984",
     "status": "completed"
    },
    "tags": []
   },
   "source": [
    "### 4.2.1 Pendefinisian Model RecommenderNet (Neural Colaborative Filtering)"
   ]
  },
  {
   "cell_type": "code",
   "execution_count": null,
   "id": "d987076d",
   "metadata": {
    "execution": {
     "iopub.execute_input": "2025-05-19T02:57:13.620354Z",
     "iopub.status.busy": "2025-05-19T02:57:13.619752Z",
     "iopub.status.idle": "2025-05-19T02:57:13.627260Z",
     "shell.execute_reply": "2025-05-19T02:57:13.626567Z"
    },
    "papermill": {
     "duration": 0.016945,
     "end_time": "2025-05-19T02:57:13.628472",
     "exception": false,
     "start_time": "2025-05-19T02:57:13.611527",
     "status": "completed"
    },
    "tags": []
   },
   "outputs": [],
   "source": [
    "class RecommenderNet(Model):\n",
    "\n",
    "    def __init__(self, num_users, num_buku, embedding_size, dropout_rate=0.3, **kwargs):\n",
    "        super(RecommenderNet, self).__init__(**kwargs)\n",
    "        self.num_users = num_users\n",
    "        self.num_buku = num_buku\n",
    "        self.embedding_size = embedding_size\n",
    "        self.dropout_rate = dropout_rate\n",
    "\n",
    "        # User Embedding Layer\n",
    "        self.user_embedding = layers.Embedding(\n",
    "            input_dim=num_users,\n",
    "            output_dim=embedding_size,\n",
    "            embeddings_initializer='he_normal',\n",
    "            embeddings_regularizer=regularizers.l2(1e-6)\n",
    "        )\n",
    "        self.user_bias = layers.Embedding(input_dim=num_users, output_dim=1)\n",
    "\n",
    "        # Item Embedding Layer\n",
    "        self.buku_embedding = layers.Embedding(\n",
    "            input_dim=num_buku,\n",
    "            output_dim=embedding_size,\n",
    "            embeddings_initializer='he_normal',\n",
    "            embeddings_regularizer=regularizers.l2(1e-6)\n",
    "        )\n",
    "        self.buku_bias = layers.Embedding(input_dim=num_buku, output_dim=1)\n",
    "\n",
    "        # Dropout Layer\n",
    "        self.dropout = layers.Dropout(dropout_rate)\n",
    "\n",
    "        # Fully Connected Layer\n",
    "        self.fc1 = layers.Dense(embedding_size, activation='relu')\n",
    "        self.batch_norm = layers.BatchNormalization()\n",
    "        self.fc2 = layers.Dense(1, activation='sigmoid')\n",
    "\n",
    "    def call(self, inputs):\n",
    "        # Extract user and item embeddings\n",
    "        user_vector = self.user_embedding(inputs[:, 0])\n",
    "        user_bias = self.user_bias(inputs[:, 0])\n",
    "        buku_vector = self.buku_embedding(inputs[:, 1])\n",
    "        buku_bias = self.buku_bias(inputs[:, 1])\n",
    "\n",
    "        # Normalize embeddings\n",
    "        user_vector = tf.nn.l2_normalize(user_vector, axis=1)\n",
    "        buku_vector = tf.nn.l2_normalize(buku_vector, axis=1)\n",
    "\n",
    "        # Compute dot product\n",
    "        dot_product = tf.reduce_sum(user_vector * buku_vector, axis=1, keepdims=True)\n",
    "\n",
    "        # Add biases\n",
    "        x = dot_product + user_bias + buku_bias\n",
    "\n",
    "        # Apply dropout and dense layers\n",
    "        x = self.dropout(x)\n",
    "        x = self.fc1(x)\n",
    "        x = self.batch_norm(x)\n",
    "        x = self.fc2(x)\n",
    "\n",
    "        return x"
   ]
  },
  {
   "cell_type": "code",
   "execution_count": 21,
   "id": "cc6c4628",
   "metadata": {
    "execution": {
     "iopub.execute_input": "2025-05-19T02:57:13.644207Z",
     "iopub.status.busy": "2025-05-19T02:57:13.644023Z",
     "iopub.status.idle": "2025-05-19T02:57:14.735475Z",
     "shell.execute_reply": "2025-05-19T02:57:14.734663Z"
    },
    "papermill": {
     "duration": 1.100725,
     "end_time": "2025-05-19T02:57:14.736758",
     "exception": false,
     "start_time": "2025-05-19T02:57:13.636033",
     "status": "completed"
    },
    "tags": []
   },
   "outputs": [
    {
     "name": "stderr",
     "output_type": "stream",
     "text": [
      "I0000 00:00:1747623434.677920      19 gpu_device.cc:2022] Created device /job:localhost/replica:0/task:0/device:GPU:0 with 15513 MB memory:  -> device: 0, name: Tesla P100-PCIE-16GB, pci bus id: 0000:00:04.0, compute capability: 6.0\n"
     ]
    }
   ],
   "source": [
    "model = RecommenderNet(num_users, num_items, 1024) # inisialisasi model\n",
    " \n",
    "model.compile(\n",
    "    optimizer=tf.keras.optimizers.Adam(learning_rate=8e-5),\n",
    "    loss='mse',\n",
    "    metrics=[tf.keras.metrics.RootMeanSquaredError(name='rmse')]\n",
    ")"
   ]
  },
  {
   "cell_type": "markdown",
   "id": "7a306cf6",
   "metadata": {
    "papermill": {
     "duration": 0.007522,
     "end_time": "2025-05-19T02:57:14.752347",
     "exception": false,
     "start_time": "2025-05-19T02:57:14.744825",
     "status": "completed"
    },
    "tags": []
   },
   "source": [
    "### 4.2.2 Pelatihan Model Rekomendasi"
   ]
  },
  {
   "cell_type": "code",
   "execution_count": 22,
   "id": "e75ec8d4",
   "metadata": {
    "execution": {
     "iopub.execute_input": "2025-05-19T02:57:14.768634Z",
     "iopub.status.busy": "2025-05-19T02:57:14.768148Z",
     "iopub.status.idle": "2025-05-19T03:00:15.656289Z",
     "shell.execute_reply": "2025-05-19T03:00:15.655511Z"
    },
    "papermill": {
     "duration": 181.039789,
     "end_time": "2025-05-19T03:00:15.799643",
     "exception": false,
     "start_time": "2025-05-19T02:57:14.759854",
     "status": "completed"
    },
    "tags": []
   },
   "outputs": [
    {
     "name": "stdout",
     "output_type": "stream",
     "text": [
      "Epoch 1/10\n"
     ]
    },
    {
     "name": "stderr",
     "output_type": "stream",
     "text": [
      "/usr/local/lib/python3.11/dist-packages/tensorflow/python/framework/indexed_slices.py:446: UserWarning: Converting sparse IndexedSlices to a dense Tensor with 234490880 elements. This may consume a large amount of memory.\n",
      "  warnings.warn(\n",
      "WARNING: All log messages before absl::InitializeLog() is called are written to STDERR\n",
      "I0000 00:00:1747623440.142668      59 service.cc:148] XLA service 0x7970f400b9b0 initialized for platform CUDA (this does not guarantee that XLA will be used). Devices:\n",
      "I0000 00:00:1747623440.143260      59 service.cc:156]   StreamExecutor device (0): Tesla P100-PCIE-16GB, Compute Capability 6.0\n",
      "I0000 00:00:1747623440.423656      59 cuda_dnn.cc:529] Loaded cuDNN version 90300\n"
     ]
    },
    {
     "name": "stdout",
     "output_type": "stream",
     "text": [
      "\u001b[1m  3/589\u001b[0m \u001b[37m━━━━━━━━━━━━━━━━━━━━\u001b[0m \u001b[1m17s\u001b[0m 30ms/step - loss: 0.2034 - rmse: 0.4464  "
     ]
    },
    {
     "name": "stderr",
     "output_type": "stream",
     "text": [
      "I0000 00:00:1747623441.466627      59 device_compiler.h:188] Compiled cluster using XLA!  This line is logged at most once for the lifetime of the process.\n"
     ]
    },
    {
     "name": "stdout",
     "output_type": "stream",
     "text": [
      "\u001b[1m589/589\u001b[0m \u001b[32m━━━━━━━━━━━━━━━━━━━━\u001b[0m\u001b[37m\u001b[0m \u001b[1m26s\u001b[0m 33ms/step - loss: 0.1678 - rmse: 0.4048 - val_loss: 0.1460 - val_rmse: 0.3781\n",
      "Epoch 2/10\n",
      "\u001b[1m589/589\u001b[0m \u001b[32m━━━━━━━━━━━━━━━━━━━━\u001b[0m\u001b[37m\u001b[0m \u001b[1m18s\u001b[0m 30ms/step - loss: 0.0525 - rmse: 0.2214 - val_loss: 0.1361 - val_rmse: 0.3648\n",
      "Epoch 3/10\n",
      "\u001b[1m589/589\u001b[0m \u001b[32m━━━━━━━━━━━━━━━━━━━━\u001b[0m\u001b[37m\u001b[0m \u001b[1m17s\u001b[0m 30ms/step - loss: 0.0179 - rmse: 0.1221 - val_loss: 0.1365 - val_rmse: 0.3655\n",
      "Epoch 4/10\n",
      "\u001b[1m589/589\u001b[0m \u001b[32m━━━━━━━━━━━━━━━━━━━━\u001b[0m\u001b[37m\u001b[0m \u001b[1m17s\u001b[0m 29ms/step - loss: 0.0151 - rmse: 0.1107 - val_loss: 0.1382 - val_rmse: 0.3680\n",
      "Epoch 5/10\n",
      "\u001b[1m589/589\u001b[0m \u001b[32m━━━━━━━━━━━━━━━━━━━━\u001b[0m\u001b[37m\u001b[0m \u001b[1m17s\u001b[0m 29ms/step - loss: 0.0133 - rmse: 0.1028 - val_loss: 0.1399 - val_rmse: 0.3705\n",
      "Epoch 6/10\n",
      "\u001b[1m589/589\u001b[0m \u001b[32m━━━━━━━━━━━━━━━━━━━━\u001b[0m\u001b[37m\u001b[0m \u001b[1m17s\u001b[0m 29ms/step - loss: 0.0114 - rmse: 0.0940 - val_loss: 0.1443 - val_rmse: 0.3766\n",
      "Epoch 7/10\n",
      "\u001b[1m589/589\u001b[0m \u001b[32m━━━━━━━━━━━━━━━━━━━━\u001b[0m\u001b[37m\u001b[0m \u001b[1m17s\u001b[0m 29ms/step - loss: 0.0107 - rmse: 0.0907 - val_loss: 0.1508 - val_rmse: 0.3852\n",
      "Epoch 8/10\n",
      "\u001b[1m589/589\u001b[0m \u001b[32m━━━━━━━━━━━━━━━━━━━━\u001b[0m\u001b[37m\u001b[0m \u001b[1m17s\u001b[0m 29ms/step - loss: 0.0099 - rmse: 0.0866 - val_loss: 0.1572 - val_rmse: 0.3936\n",
      "Epoch 9/10\n",
      "\u001b[1m589/589\u001b[0m \u001b[32m━━━━━━━━━━━━━━━━━━━━\u001b[0m\u001b[37m\u001b[0m \u001b[1m17s\u001b[0m 29ms/step - loss: 0.0093 - rmse: 0.0836 - val_loss: 0.1674 - val_rmse: 0.4064\n",
      "Epoch 10/10\n",
      "\u001b[1m589/589\u001b[0m \u001b[32m━━━━━━━━━━━━━━━━━━━━\u001b[0m\u001b[37m\u001b[0m \u001b[1m17s\u001b[0m 29ms/step - loss: 0.0091 - rmse: 0.0832 - val_loss: 0.1754 - val_rmse: 0.4162\n"
     ]
    }
   ],
   "source": [
    "# Memulai training\n",
    " \n",
    "history = model.fit(\n",
    "    x = x_train,\n",
    "    y = y_train,\n",
    "    batch_size = 1024,\n",
    "    epochs = 10,\n",
    "    validation_data = (x_val, y_val)\n",
    ")"
   ]
  },
  {
   "cell_type": "markdown",
   "id": "6bef60c2",
   "metadata": {
    "papermill": {
     "duration": 0.13392,
     "end_time": "2025-05-19T03:00:16.071607",
     "exception": false,
     "start_time": "2025-05-19T03:00:15.937687",
     "status": "completed"
    },
    "tags": []
   },
   "source": [
    "### 4.2.3 Visualisasi Hasil Pelatihan"
   ]
  },
  {
   "cell_type": "code",
   "execution_count": 23,
   "id": "49fb8eea",
   "metadata": {
    "execution": {
     "iopub.execute_input": "2025-05-19T03:00:16.339727Z",
     "iopub.status.busy": "2025-05-19T03:00:16.339473Z",
     "iopub.status.idle": "2025-05-19T03:00:16.558119Z",
     "shell.execute_reply": "2025-05-19T03:00:16.557434Z"
    },
    "papermill": {
     "duration": 0.354246,
     "end_time": "2025-05-19T03:00:16.559298",
     "exception": false,
     "start_time": "2025-05-19T03:00:16.205052",
     "status": "completed"
    },
    "tags": []
   },
   "outputs": [
    {
     "data": {
      "image/png": "[encoded data removed]",
      "text/plain": [
       "<Figure size 640x480 with 1 Axes>"
      ]
     },
     "metadata": {},
     "output_type": "display_data"
    }
   ],
   "source": [
    "plt.plot(history.history['rmse'])\n",
    "plt.plot(history.history['val_rmse'])\n",
    "plt.title('model_metrics')\n",
    "plt.ylabel('Root Mean Squared Error')\n",
    "plt.xlabel('epoch')\n",
    "plt.legend(['train', 'test'], loc='upper left')\n",
    "plt.show()"
   ]
  },
  {
   "cell_type": "markdown",
   "id": "39b038c3",
   "metadata": {
    "papermill": {
     "duration": 0.136029,
     "end_time": "2025-05-19T03:00:16.832281",
     "exception": false,
     "start_time": "2025-05-19T03:00:16.696252",
     "status": "completed"
    },
    "tags": []
   },
   "source": [
    "### 4.2.4 Merekomendasikan Buku"
   ]
  },
  {
   "cell_type": "code",
   "execution_count": 24,
   "id": "8e924f9a",
   "metadata": {
    "execution": {
     "iopub.execute_input": "2025-05-19T03:00:17.106399Z",
     "iopub.status.busy": "2025-05-19T03:00:17.105925Z",
     "iopub.status.idle": "2025-05-19T03:00:30.659486Z",
     "shell.execute_reply": "2025-05-19T03:00:30.658731Z"
    },
    "papermill": {
     "duration": 13.690765,
     "end_time": "2025-05-19T03:00:30.660656",
     "exception": false,
     "start_time": "2025-05-19T03:00:16.969891",
     "status": "completed"
    },
    "tags": []
   },
   "outputs": [
    {
     "name": "stdout",
     "output_type": "stream",
     "text": [
      "\u001b[1m7157/7157\u001b[0m \u001b[32m━━━━━━━━━━━━━━━━━━━━\u001b[0m\u001b[37m\u001b[0m \u001b[1m9s\u001b[0m 1ms/step\n"
     ]
    },
    {
     "data": {
      "text/html": [
       "<div>\n",
       "<style scoped>\n",
       "    .dataframe tbody tr th:only-of-type {\n",
       "        vertical-align: middle;\n",
       "    }\n",
       "\n",
       "    .dataframe tbody tr th {\n",
       "        vertical-align: top;\n",
       "    }\n",
       "\n",
       "    .dataframe thead th {\n",
       "        text-align: right;\n",
       "    }\n",
       "</style>\n",
       "<table border=\"1\" class=\"dataframe\">\n",
       "  <thead>\n",
       "    <tr style=\"text-align: right;\">\n",
       "      <th></th>\n",
       "      <th>ISBN</th>\n",
       "      <th>Book-Title</th>\n",
       "      <th>Book-Author</th>\n",
       "      <th>Year-Of-Publication</th>\n",
       "      <th>Publisher</th>\n",
       "      <th>Image-URL-S</th>\n",
       "      <th>Image-URL-M</th>\n",
       "      <th>Image-URL-L</th>\n",
       "      <th>Predicted_Score</th>\n",
       "    </tr>\n",
       "  </thead>\n",
       "  <tbody>\n",
       "    <tr>\n",
       "      <th>49874</th>\n",
       "      <td>0943221250</td>\n",
       "      <td>Acts of Faith</td>\n",
       "      <td>Jane Mead</td>\n",
       "      <td>1995</td>\n",
       "      <td>Timken Publishers</td>\n",
       "      <td>http://images.amazon.com/images/P/0943221250.0...</td>\n",
       "      <td>http://images.amazon.com/images/P/0943221250.0...</td>\n",
       "      <td>http://images.amazon.com/images/P/0943221250.0...</td>\n",
       "      <td>0.752928</td>\n",
       "    </tr>\n",
       "    <tr>\n",
       "      <th>49927</th>\n",
       "      <td>0380008408</td>\n",
       "      <td>Formula Book</td>\n",
       "      <td>Norman Stark</td>\n",
       "      <td>1976</td>\n",
       "      <td>Harper Mass Market Paperbacks (Mm)</td>\n",
       "      <td>http://images.amazon.com/images/P/0380008408.0...</td>\n",
       "      <td>http://images.amazon.com/images/P/0380008408.0...</td>\n",
       "      <td>http://images.amazon.com/images/P/0380008408.0...</td>\n",
       "      <td>0.748365</td>\n",
       "    </tr>\n",
       "    <tr>\n",
       "      <th>49952</th>\n",
       "      <td>0373790643</td>\n",
       "      <td>Hands On: Trueblood Texas (Harlequin Blaze, No...</td>\n",
       "      <td>Debbi Rawlins</td>\n",
       "      <td>2002</td>\n",
       "      <td>Harlequin</td>\n",
       "      <td>http://images.amazon.com/images/P/0373790643.0...</td>\n",
       "      <td>http://images.amazon.com/images/P/0373790643.0...</td>\n",
       "      <td>http://images.amazon.com/images/P/0373790643.0...</td>\n",
       "      <td>0.748361</td>\n",
       "    </tr>\n",
       "    <tr>\n",
       "      <th>69111</th>\n",
       "      <td>1889392081</td>\n",
       "      <td>Bridal Bargains: Secrets to Throwing a Fantast...</td>\n",
       "      <td>Denise Fields</td>\n",
       "      <td>2000</td>\n",
       "      <td>Windsor Peak Press</td>\n",
       "      <td>http://images.amazon.com/images/P/1889392081.0...</td>\n",
       "      <td>http://images.amazon.com/images/P/1889392081.0...</td>\n",
       "      <td>http://images.amazon.com/images/P/1889392081.0...</td>\n",
       "      <td>0.747718</td>\n",
       "    </tr>\n",
       "    <tr>\n",
       "      <th>127763</th>\n",
       "      <td>0345446992</td>\n",
       "      <td>Black Valley</td>\n",
       "      <td>Jim Brown</td>\n",
       "      <td>2003</td>\n",
       "      <td>Ballantine Books</td>\n",
       "      <td>http://images.amazon.com/images/P/0345446992.0...</td>\n",
       "      <td>http://images.amazon.com/images/P/0345446992.0...</td>\n",
       "      <td>http://images.amazon.com/images/P/0345446992.0...</td>\n",
       "      <td>0.746603</td>\n",
       "    </tr>\n",
       "  </tbody>\n",
       "</table>\n",
       "</div>"
      ],
      "text/plain": [
       "              ISBN                                         Book-Title  \\\n",
       "49874   0943221250                                      Acts of Faith   \n",
       "49927   0380008408                                       Formula Book   \n",
       "49952   0373790643  Hands On: Trueblood Texas (Harlequin Blaze, No...   \n",
       "69111   1889392081  Bridal Bargains: Secrets to Throwing a Fantast...   \n",
       "127763  0345446992                                       Black Valley   \n",
       "\n",
       "          Book-Author Year-Of-Publication                           Publisher  \\\n",
       "49874       Jane Mead                1995                   Timken Publishers   \n",
       "49927    Norman Stark                1976  Harper Mass Market Paperbacks (Mm)   \n",
       "49952   Debbi Rawlins                2002                           Harlequin   \n",
       "69111   Denise Fields                2000                  Windsor Peak Press   \n",
       "127763      Jim Brown                2003                    Ballantine Books   \n",
       "\n",
       "                                              Image-URL-S  \\\n",
       "49874   http://images.amazon.com/images/P/0943221250.0...   \n",
       "49927   http://images.amazon.com/images/P/0380008408.0...   \n",
       "49952   http://images.amazon.com/images/P/0373790643.0...   \n",
       "69111   http://images.amazon.com/images/P/1889392081.0...   \n",
       "127763  http://images.amazon.com/images/P/0345446992.0...   \n",
       "\n",
       "                                              Image-URL-M  \\\n",
       "49874   http://images.amazon.com/images/P/0943221250.0...   \n",
       "49927   http://images.amazon.com/images/P/0380008408.0...   \n",
       "49952   http://images.amazon.com/images/P/0373790643.0...   \n",
       "69111   http://images.amazon.com/images/P/1889392081.0...   \n",
       "127763  http://images.amazon.com/images/P/0345446992.0...   \n",
       "\n",
       "                                              Image-URL-L  Predicted_Score  \n",
       "49874   http://images.amazon.com/images/P/0943221250.0...         0.752928  \n",
       "49927   http://images.amazon.com/images/P/0380008408.0...         0.748365  \n",
       "49952   http://images.amazon.com/images/P/0373790643.0...         0.748361  \n",
       "69111   http://images.amazon.com/images/P/1889392081.0...         0.747718  \n",
       "127763  http://images.amazon.com/images/P/0345446992.0...         0.746603  "
      ]
     },
     "metadata": {},
     "output_type": "display_data"
    }
   ],
   "source": [
    "def recommend_books_for_user(model, user_id_asli, data, buku_df, user_to_user_encoded, buku_to_ids_encoded, ids_to_buku_encoded, top_n=10):\n",
    "    # Cek apakah user_id valid\n",
    "    if user_id_asli not in user_to_user_encoded:\n",
    "        print(\"User ID tidak ditemukan.\")\n",
    "        return []\n",
    "\n",
    "    user_encoded = user_to_user_encoded[user_id_asli]\n",
    "    buku_user_sudah_rating = data[data['userID'] == user_id_asli]['ISBN'].tolist()\n",
    "    buku_user_sudah_encoded = [buku_to_ids_encoded[buku] for buku in buku_user_sudah_rating]\n",
    "\n",
    "    # Semua buku yang belum diberi rating oleh user\n",
    "    buku_tidak_dirating = list(set(buku_to_ids_encoded.values()) - set(buku_user_sudah_encoded))\n",
    "    user_encoded_array = np.full(len(buku_tidak_dirating), user_encoded)\n",
    "    \n",
    "    # Membuat data pasangan user-buku\n",
    "    input_pairs = np.array(list(zip(user_encoded_array, buku_tidak_dirating)))\n",
    "\n",
    "    # Prediksi skor\n",
    "    ratings = model.predict(input_pairs).flatten()\n",
    "    \n",
    "    # Ambil top-N\n",
    "    top_indices = ratings.argsort()[-top_n:][::-1]\n",
    "    top_buku_encoded = [buku_tidak_dirating[i] for i in top_indices]\n",
    "    top_buku_isbn = [ids_to_buku_encoded[i] for i in top_buku_encoded]\n",
    "\n",
    "    # Gabungkan dengan info buku (jika ada dataframe buku_df)\n",
    "    rekomendasi = buku_df[buku_df['ISBN'].isin(top_buku_isbn)].copy() if buku_df is not None else pd.DataFrame({'ISBN': top_buku_isbn})\n",
    "    rekomendasi['Predicted_Score'] = ratings[top_indices]\n",
    "    \n",
    "    return rekomendasi.sort_values(by='Predicted_Score', ascending=False)\n",
    "\n",
    "# Menampilkan 5 userID unik pertama dari data\n",
    "sample_user_ids = dataFinal['userID'].unique()[:5]\n",
    "user_id_sample = sample_user_ids[0]  # atau pilih indeks lain\n",
    "\n",
    "# Contoh penggunaan:\n",
    "rekomendasi_df = recommend_books_for_user(model, user_id_asli=user_id_sample, data=dataFinal, buku_df=dataBuku,\n",
    "    user_to_user_encoded=user_to_user_encoded,\n",
    "    buku_to_ids_encoded=buku_to_ids_encoded,\n",
    "    ids_to_buku_encoded=ids_to_buku_encoded,\n",
    "    top_n=5)\n",
    "\n",
    "# Tampilkan hasil\n",
    "display(rekomendasi_df)\n"
   ]
  },
  {
   "cell_type": "markdown",
   "id": "75845b35",
   "metadata": {
    "papermill": {
     "duration": 0.143756,
     "end_time": "2025-05-19T03:00:30.994662",
     "exception": false,
     "start_time": "2025-05-19T03:00:30.850906",
     "status": "completed"
    },
    "tags": []
   },
   "source": [
    "# 5. Evaluasi"
   ]
  },
  {
   "cell_type": "markdown",
   "id": "995d1958",
   "metadata": {
    "papermill": {
     "duration": 0.144588,
     "end_time": "2025-05-19T03:00:31.285342",
     "exception": false,
     "start_time": "2025-05-19T03:00:31.140754",
     "status": "completed"
    },
    "tags": []
   },
   "source": [
    "## 5.1 Evaluasi Content Based Filtering : Cosine Similarity"
   ]
  },
  {
   "cell_type": "code",
   "execution_count": 25,
   "id": "33a66fc6",
   "metadata": {
    "execution": {
     "iopub.execute_input": "2025-05-19T03:00:31.561801Z",
     "iopub.status.busy": "2025-05-19T03:00:31.561531Z",
     "iopub.status.idle": "2025-05-19T03:00:31.996819Z",
     "shell.execute_reply": "2025-05-19T03:00:31.996084Z"
    },
    "papermill": {
     "duration": 0.573438,
     "end_time": "2025-05-19T03:00:31.997974",
     "exception": false,
     "start_time": "2025-05-19T03:00:31.424536",
     "status": "completed"
    },
    "tags": []
   },
   "outputs": [
    {
     "name": "stdout",
     "output_type": "stream",
     "text": [
      "Menampilkan Rekomendasi Buku yang sesuai dengan 'Hokkaido Highway Blues: Hitchhiking Japan' ...\n",
      "Menampilkan Rekomendasi Buku yang sesuai dengan 'The Black Prince' ...\n",
      "Menampilkan Rekomendasi Buku yang sesuai dengan 'A Walk to Remember' ...\n",
      "Menampilkan Rekomendasi Buku yang sesuai dengan 'Ceremony of the Innocent' ...\n",
      "Menampilkan Rekomendasi Buku yang sesuai dengan 'Magic Knight Rayearth #4' ...\n",
      "Menampilkan Rekomendasi Buku yang sesuai dengan 'Men in Blue (Badge of Honor Novels (Paperback))' ...\n",
      "Menampilkan Rekomendasi Buku yang sesuai dengan 'Teach Yourself Unix in a Week' ...\n",
      "Menampilkan Rekomendasi Buku yang sesuai dengan 'Lucy Sullivan Is Getting Married' ...\n",
      "Menampilkan Rekomendasi Buku yang sesuai dengan 'All the Pretty Horses (The Border Trilogy, Vol 1)' ...\n",
      "Menampilkan Rekomendasi Buku yang sesuai dengan 'Adobe Photoshop 3: Filters and Effects' ...\n",
      "Avg Precision@5: 0.1000\n",
      "Avg Recall@5: 0.0321\n",
      "Avg F1-Score@5: 0.0468\n",
      "Avg Hit Rate@5: 0.4000\n"
     ]
    },
    {
     "data": {
      "text/html": [
       "<div>\n",
       "<style scoped>\n",
       "    .dataframe tbody tr th:only-of-type {\n",
       "        vertical-align: middle;\n",
       "    }\n",
       "\n",
       "    .dataframe tbody tr th {\n",
       "        vertical-align: top;\n",
       "    }\n",
       "\n",
       "    .dataframe thead th {\n",
       "        text-align: right;\n",
       "    }\n",
       "</style>\n",
       "<table border=\"1\" class=\"dataframe\">\n",
       "  <thead>\n",
       "    <tr style=\"text-align: right;\">\n",
       "      <th></th>\n",
       "      <th>userID</th>\n",
       "      <th>seed_book</th>\n",
       "      <th>recommended</th>\n",
       "      <th>actual</th>\n",
       "      <th>relevance_vector</th>\n",
       "      <th>precision@k</th>\n",
       "      <th>recall@k</th>\n",
       "      <th>f1_score@k</th>\n",
       "      <th>hit_rate@k</th>\n",
       "    </tr>\n",
       "  </thead>\n",
       "  <tbody>\n",
       "    <tr>\n",
       "      <th>0</th>\n",
       "      <td>58062</td>\n",
       "      <td>Hokkaido Highway Blues: Hitchhiking Japan</td>\n",
       "      <td>[How to Be a Canadian: Even If You Already are...</td>\n",
       "      <td>[Hokkaido Highway Blues: Hitchhiking Japan, AR...</td>\n",
       "      <td>[0, 0, 0, 0, 0]</td>\n",
       "      <td>0.0</td>\n",
       "      <td>0.000000</td>\n",
       "      <td>0.000000</td>\n",
       "      <td>0</td>\n",
       "    </tr>\n",
       "    <tr>\n",
       "      <th>1</th>\n",
       "      <td>42093</td>\n",
       "      <td>The Black Prince</td>\n",
       "      <td>[Something Special: A Story, The Unicorn, The ...</td>\n",
       "      <td>[The Runelords: The Sum of All Men (The Runelo...</td>\n",
       "      <td>[0, 0, 0, 0, 0]</td>\n",
       "      <td>0.0</td>\n",
       "      <td>0.000000</td>\n",
       "      <td>0.000000</td>\n",
       "      <td>0</td>\n",
       "    </tr>\n",
       "    <tr>\n",
       "      <th>2</th>\n",
       "      <td>249628</td>\n",
       "      <td>A Walk to Remember</td>\n",
       "      <td>[A Walk to Remember, The Rescue, The Wedding, ...</td>\n",
       "      <td>[Acts of Love, Little Hobo, Gabriel's lady, Ha...</td>\n",
       "      <td>[1, 0, 0, 0, 0]</td>\n",
       "      <td>0.2</td>\n",
       "      <td>0.038462</td>\n",
       "      <td>0.064516</td>\n",
       "      <td>1</td>\n",
       "    </tr>\n",
       "    <tr>\n",
       "      <th>3</th>\n",
       "      <td>161752</td>\n",
       "      <td>Ceremony of the Innocent</td>\n",
       "      <td>[Ceremony of the Innocent, Caldwell, Answer As...</td>\n",
       "      <td>[Jellyfish Season, River's End, The A-Z Guide ...</td>\n",
       "      <td>[1, 0, 0, 0, 0]</td>\n",
       "      <td>0.2</td>\n",
       "      <td>0.052632</td>\n",
       "      <td>0.083333</td>\n",
       "      <td>1</td>\n",
       "    </tr>\n",
       "    <tr>\n",
       "      <th>4</th>\n",
       "      <td>156111</td>\n",
       "      <td>Magic Knight Rayearth #4</td>\n",
       "      <td>[Magic Knight Rayearth #5, Magic Knight Rayear...</td>\n",
       "      <td>[Priestess (Fushigi Yugi: The Mysterious Play,...</td>\n",
       "      <td>[1, 0, 0, 0, 0]</td>\n",
       "      <td>0.2</td>\n",
       "      <td>0.125000</td>\n",
       "      <td>0.153846</td>\n",
       "      <td>1</td>\n",
       "    </tr>\n",
       "  </tbody>\n",
       "</table>\n",
       "</div>"
      ],
      "text/plain": [
       "   userID                                  seed_book  \\\n",
       "0   58062  Hokkaido Highway Blues: Hitchhiking Japan   \n",
       "1   42093                           The Black Prince   \n",
       "2  249628                         A Walk to Remember   \n",
       "3  161752                   Ceremony of the Innocent   \n",
       "4  156111                   Magic Knight Rayearth #4   \n",
       "\n",
       "                                         recommended  \\\n",
       "0  [How to Be a Canadian: Even If You Already are...   \n",
       "1  [Something Special: A Story, The Unicorn, The ...   \n",
       "2  [A Walk to Remember, The Rescue, The Wedding, ...   \n",
       "3  [Ceremony of the Innocent, Caldwell, Answer As...   \n",
       "4  [Magic Knight Rayearth #5, Magic Knight Rayear...   \n",
       "\n",
       "                                              actual relevance_vector  \\\n",
       "0  [Hokkaido Highway Blues: Hitchhiking Japan, AR...  [0, 0, 0, 0, 0]   \n",
       "1  [The Runelords: The Sum of All Men (The Runelo...  [0, 0, 0, 0, 0]   \n",
       "2  [Acts of Love, Little Hobo, Gabriel's lady, Ha...  [1, 0, 0, 0, 0]   \n",
       "3  [Jellyfish Season, River's End, The A-Z Guide ...  [1, 0, 0, 0, 0]   \n",
       "4  [Priestess (Fushigi Yugi: The Mysterious Play,...  [1, 0, 0, 0, 0]   \n",
       "\n",
       "   precision@k  recall@k  f1_score@k  hit_rate@k  \n",
       "0          0.0  0.000000    0.000000           0  \n",
       "1          0.0  0.000000    0.000000           0  \n",
       "2          0.2  0.038462    0.064516           1  \n",
       "3          0.2  0.052632    0.083333           1  \n",
       "4          0.2  0.125000    0.153846           1  "
      ]
     },
     "execution_count": 25,
     "metadata": {},
     "output_type": "execute_result"
    }
   ],
   "source": [
    "def evaluate_cbf_recommender(dataBaru, recommend_fn, users_to_evaluate, k=5):\n",
    "    results = []\n",
    "    user_books = dataBaru.groupby(\"userID\")[\"Book-Title\"].apply(set).to_dict()\n",
    "\n",
    "    for user in users_to_evaluate:\n",
    "        books_read = list(user_books.get(user, []))\n",
    "        if not books_read:\n",
    "            continue\n",
    "        seed_book = pd.Series(books_read).dropna().sample(1).iloc[0]\n",
    "        try:\n",
    "            rec_df = recommend_fn(seed_book, cosine_sim, len(books_read))\n",
    "        except:\n",
    "            continue\n",
    "        rec_books = rec_df[\"Book-Title\"].tolist()[:k]\n",
    "        actual_books = set(books_read)\n",
    "        relevance_vector = [1 if book in actual_books else 0 for book in rec_books]\n",
    "        true_positives = sum(relevance_vector)\n",
    "\n",
    "        precision = true_positives / k if k > 0 else 0\n",
    "        recall = true_positives / len(actual_books) if actual_books else 0\n",
    "        f1_score = (2 * precision * recall) / (precision + recall) if (precision + recall) > 0 else 0\n",
    "        hit_rate = 1 if true_positives > 0 else 0\n",
    "\n",
    "        results.append({\n",
    "            \"userID\": user,\n",
    "            \"seed_book\": seed_book,\n",
    "            \"recommended\": rec_books,\n",
    "            \"actual\": list(actual_books),\n",
    "            \"relevance_vector\": relevance_vector,\n",
    "            \"precision@k\": precision,\n",
    "            \"recall@k\": recall,\n",
    "            \"f1_score@k\": f1_score,\n",
    "            \"hit_rate@k\": hit_rate\n",
    "        })\n",
    "\n",
    "    results_df = pd.DataFrame(results)\n",
    "    avg_precision = results_df[\"precision@k\"].mean()\n",
    "    avg_recall = results_df[\"recall@k\"].mean()\n",
    "    avg_f1 = results_df[\"f1_score@k\"].mean()\n",
    "    avg_hit_rate = results_df[\"hit_rate@k\"].mean()\n",
    "\n",
    "    return results_df, avg_precision, avg_recall, avg_f1, avg_hit_rate\n",
    "\n",
    "import random\n",
    "\n",
    "# Hitung jumlah buku per user\n",
    "user_book_counts = dataBaru.groupby(\"userID\")[\"Book-Title\"].nunique()\n",
    "\n",
    "# Filter user dengan minimal 5 buku\n",
    "eligible_users = user_book_counts[user_book_counts >= 5].index.tolist()\n",
    "\n",
    "# Ambil sample user dari yang eligible\n",
    "sample_users = random.sample(eligible_users, 10)\n",
    "\n",
    "# Jalankan evaluasi\n",
    "results_df, avg_prec, avg_rec, avg_f1, avg_hr = evaluate_cbf_recommender(dataBaru, recommend, sample_users, k=5)\n",
    "\n",
    "print(f\"Avg Precision@5: {avg_prec:.4f}\")\n",
    "print(f\"Avg Recall@5: {avg_rec:.4f}\")\n",
    "print(f\"Avg F1-Score@5: {avg_f1:.4f}\")\n",
    "print(f\"Avg Hit Rate@5: {avg_hr:.4f}\")\n",
    "\n",
    "results_df.head()\n"
   ]
  },
  {
   "cell_type": "markdown",
   "id": "ff085bd7",
   "metadata": {
    "papermill": {
     "duration": 0.137642,
     "end_time": "2025-05-19T03:00:32.275395",
     "exception": false,
     "start_time": "2025-05-19T03:00:32.137753",
     "status": "completed"
    },
    "tags": []
   },
   "source": [
    "## 5.2 Evaluasi Colaborative Filtering"
   ]
  },
  {
   "cell_type": "code",
   "execution_count": 26,
   "id": "c9e4d168",
   "metadata": {
    "execution": {
     "iopub.execute_input": "2025-05-19T03:00:32.551087Z",
     "iopub.status.busy": "2025-05-19T03:00:32.550845Z",
     "iopub.status.idle": "2025-05-19T03:00:32.559670Z",
     "shell.execute_reply": "2025-05-19T03:00:32.559069Z"
    },
    "papermill": {
     "duration": 0.148956,
     "end_time": "2025-05-19T03:00:32.560690",
     "exception": false,
     "start_time": "2025-05-19T03:00:32.411734",
     "status": "completed"
    },
    "tags": []
   },
   "outputs": [],
   "source": [
    "from sklearn.metrics import mean_squared_error\n",
    "import numpy as np\n",
    "\n",
    "def evaluate_cf_model(\n",
    "    model, \n",
    "    x_val, \n",
    "    y_val, \n",
    "    dataFinal, \n",
    "    buku_df,\n",
    "    user_to_user_encoded, \n",
    "    buku_to_ids_encoded, \n",
    "    ids_to_buku_encoded, \n",
    "    k=5\n",
    "):\n",
    "    # Buat DataFrame val dari x_val dan y_val\n",
    "    val_df = pd.DataFrame({\n",
    "        \"user_encoded\": x_val[:, 0],\n",
    "        \"buku_encoded\": x_val[:, 1],\n",
    "        \"interaction\": y_val\n",
    "    })\n",
    "\n",
    "    # Filter interaksi positif\n",
    "    val_pos_df = val_df[val_df[\"interaction\"] > 0]\n",
    "\n",
    "    # Mapping user_encoded -> set buku_encoded\n",
    "    user_items_val = val_pos_df.groupby(\"user_encoded\")[\"buku_encoded\"].apply(set).to_dict()\n",
    "\n",
    "    # Ambil 10 user secara acak\n",
    "    users_to_eval = list(user_items_val.keys())\n",
    "    if len(users_to_eval) > 10:\n",
    "        users_to_eval = random.sample(users_to_eval, 10)\n",
    "\n",
    "    results = []\n",
    "\n",
    "    for user_encoded in users_to_eval:\n",
    "        user_id_asli = next((k_ for k_, v_ in user_to_user_encoded.items() if v_ == user_encoded), None)\n",
    "        if user_id_asli is None:\n",
    "            continue\n",
    "\n",
    "        actual_items = user_items_val[user_encoded]\n",
    "\n",
    "        rekomendasi_df = recommend_books_for_user(\n",
    "            model=model,\n",
    "            user_id_asli=user_id_asli,\n",
    "            data=dataFinal,\n",
    "            buku_df=buku_df,\n",
    "            user_to_user_encoded=user_to_user_encoded,\n",
    "            buku_to_ids_encoded=buku_to_ids_encoded,\n",
    "            ids_to_buku_encoded=ids_to_buku_encoded,\n",
    "            top_n=k\n",
    "        )\n",
    "\n",
    "        rec_books_encoded = [\n",
    "            buku_to_ids_encoded[isbn] for isbn in rekomendasi_df['ISBN'] if isbn in buku_to_ids_encoded\n",
    "        ] if not rekomendasi_df.empty else []\n",
    "\n",
    "        relevance_vector = [1 if book in actual_items else 0 for book in rec_books_encoded]\n",
    "        true_positives = sum(relevance_vector)\n",
    "\n",
    "        precision = true_positives / k if k > 0 else 0\n",
    "        recall = true_positives / len(actual_items) if actual_items else 0\n",
    "        f1_score = (2 * precision * recall) / (precision + recall) if (precision + recall) > 0 else 0\n",
    "        hit_rate = 1 if true_positives > 0 else 0\n",
    "\n",
    "        results.append({\n",
    "            \"user_encoded\": user_encoded,\n",
    "            \"user_id_asli\": user_id_asli,\n",
    "            \"recommended_encoded\": rec_books_encoded,\n",
    "            \"actual_encoded\": list(actual_items),\n",
    "            \"relevance_vector\": relevance_vector,\n",
    "            \"precision@k\": precision,\n",
    "            \"recall@k\": recall,\n",
    "            \"f1_score@k\": f1_score,\n",
    "            \"hit_rate@k\": hit_rate\n",
    "        })\n",
    "\n",
    "    results_df = pd.DataFrame(results)\n",
    "    avg_precision = results_df[\"precision@k\"].mean()\n",
    "    avg_recall = results_df[\"recall@k\"].mean()\n",
    "    avg_f1 = results_df[\"f1_score@k\"].mean()\n",
    "    avg_hit_rate = results_df[\"hit_rate@k\"].mean()\n",
    "\n",
    "    # Hitung RMSE pada seluruh validation set\n",
    "    y_pred = model.predict(x_val).flatten()\n",
    "    rmse = np.sqrt(mean_squared_error(y_val, y_pred))\n",
    "\n",
    "    return results_df, avg_precision, avg_recall, avg_f1, avg_hit_rate, rmse"
   ]
  },
  {
   "cell_type": "code",
   "execution_count": 27,
   "id": "5c549c19",
   "metadata": {
    "execution": {
     "iopub.execute_input": "2025-05-19T03:00:32.835899Z",
     "iopub.status.busy": "2025-05-19T03:00:32.835235Z",
     "iopub.status.idle": "2025-05-19T03:02:35.385864Z",
     "shell.execute_reply": "2025-05-19T03:02:35.385146Z"
    },
    "papermill": {
     "duration": 122.901,
     "end_time": "2025-05-19T03:02:35.599053",
     "exception": false,
     "start_time": "2025-05-19T03:00:32.698053",
     "status": "completed"
    },
    "tags": []
   },
   "outputs": [
    {
     "name": "stdout",
     "output_type": "stream",
     "text": [
      "\u001b[1m7157/7157\u001b[0m \u001b[32m━━━━━━━━━━━━━━━━━━━━\u001b[0m\u001b[37m\u001b[0m \u001b[1m8s\u001b[0m 1ms/step\n",
      "\u001b[1m7156/7156\u001b[0m \u001b[32m━━━━━━━━━━━━━━━━━━━━\u001b[0m\u001b[37m\u001b[0m \u001b[1m9s\u001b[0m 1ms/step\n",
      "\u001b[1m7157/7157\u001b[0m \u001b[32m━━━━━━━━━━━━━━━━━━━━\u001b[0m\u001b[37m\u001b[0m \u001b[1m8s\u001b[0m 1ms/step\n",
      "\u001b[1m7156/7156\u001b[0m \u001b[32m━━━━━━━━━━━━━━━━━━━━\u001b[0m\u001b[37m\u001b[0m \u001b[1m8s\u001b[0m 1ms/step\n",
      "\u001b[1m7156/7156\u001b[0m \u001b[32m━━━━━━━━━━━━━━━━━━━━\u001b[0m\u001b[37m\u001b[0m \u001b[1m8s\u001b[0m 1ms/step\n",
      "\u001b[1m7157/7157\u001b[0m \u001b[32m━━━━━━━━━━━━━━━━━━━━\u001b[0m\u001b[37m\u001b[0m \u001b[1m8s\u001b[0m 1ms/step\n",
      "\u001b[1m7156/7156\u001b[0m \u001b[32m━━━━━━━━━━━━━━━━━━━━\u001b[0m\u001b[37m\u001b[0m \u001b[1m8s\u001b[0m 1ms/step\n",
      "\u001b[1m7154/7154\u001b[0m \u001b[32m━━━━━━━━━━━━━━━━━━━━\u001b[0m\u001b[37m\u001b[0m \u001b[1m9s\u001b[0m 1ms/step\n",
      "\u001b[1m7156/7156\u001b[0m \u001b[32m━━━━━━━━━━━━━━━━━━━━\u001b[0m\u001b[37m\u001b[0m \u001b[1m8s\u001b[0m 1ms/step\n",
      "\u001b[1m7154/7154\u001b[0m \u001b[32m━━━━━━━━━━━━━━━━━━━━\u001b[0m\u001b[37m\u001b[0m \u001b[1m9s\u001b[0m 1ms/step\n",
      "\u001b[1m4709/4709\u001b[0m \u001b[32m━━━━━━━━━━━━━━━━━━━━\u001b[0m\u001b[37m\u001b[0m \u001b[1m6s\u001b[0m 1ms/step\n",
      "Avg Precision@5: 0.0000\n",
      "Avg Recall@5: 0.0000\n",
      "Avg F1-Score@5: 0.0000\n",
      "Avg Hit Rate@5: 0.0000\n",
      "RMSE: 0.4162\n"
     ]
    }
   ],
   "source": [
    "results_df, avg_prec, avg_rec, avg_f1, avg_hr, rmse = evaluate_cf_model(\n",
    "    model, x_val, y_val, dataFinal, dataBuku,\n",
    "    user_to_user_encoded, buku_to_ids_encoded, ids_to_buku_encoded,\n",
    "    k=5\n",
    ")\n",
    "\n",
    "print(f\"Avg Precision@5: {avg_prec:.4f}\")\n",
    "print(f\"Avg Recall@5: {avg_rec:.4f}\")\n",
    "print(f\"Avg F1-Score@5: {avg_f1:.4f}\")\n",
    "print(f\"Avg Hit Rate@5: {avg_hr:.4f}\")\n",
    "print(f\"RMSE: {rmse:.4f}\")\n"
   ]
  }
 ],
 "metadata": {
  "kaggle": {
   "accelerator": "gpu",
   "dataSources": [
    {
     "datasetId": 7452237,
     "sourceId": 11859700,
     "sourceType": "datasetVersion"
    }
   ],
   "dockerImageVersionId": 31041,
   "isGpuEnabled": true,
   "isInternetEnabled": true,
   "language": "python",
   "sourceType": "notebook"
  },
  "kernelspec": {
   "display_name": "Python 3",
   "language": "python",
   "name": "python3"
  },
  "language_info": {
   "codemirror_mode": {
    "name": "ipython",
    "version": 3
   },
   "file_extension": ".py",
   "mimetype": "text/x-python",
   "name": "python",
   "nbconvert_exporter": "python",
   "pygments_lexer": "ipython3",
   "version": "3.11.11"
  },
  "papermill": {
   "default_parameters": {},
   "duration": 360.538403,
   "end_time": "2025-05-19T03:02:39.226880",
   "environment_variables": {},
   "exception": null,
   "input_path": "__notebook__.ipynb",
   "output_path": "__notebook__.ipynb",
   "parameters": {},
   "start_time": "2025-05-19T02:56:38.688477",
   "version": "2.6.0"
  }
 },
 "nbformat": 4,
 "nbformat_minor": 5
}
