{
 "cells": [
  {
   "cell_type": "markdown",
   "id": "dbc1ab13",
   "metadata": {
    "papermill": {
     "duration": 0.007231,
     "end_time": "2025-05-18T14:00:47.689128",
     "exception": false,
     "start_time": "2025-05-18T14:00:47.681897",
     "status": "completed"
    },
    "tags": []
   },
   "source": [
    "# 0. Import Library"
   ]
  },
  {
   "cell_type": "code",
   "execution_count": 1,
   "id": "9a7f1a56",
   "metadata": {
    "execution": {
     "iopub.execute_input": "2025-05-18T14:00:47.702121Z",
     "iopub.status.busy": "2025-05-18T14:00:47.701862Z",
     "iopub.status.idle": "2025-05-18T14:01:04.644420Z",
     "shell.execute_reply": "2025-05-18T14:01:04.643790Z"
    },
    "papermill": {
     "duration": 16.950511,
     "end_time": "2025-05-18T14:01:04.645810",
     "exception": false,
     "start_time": "2025-05-18T14:00:47.695299",
     "status": "completed"
    },
    "tags": []
   },
   "outputs": [
    {
     "name": "stderr",
     "output_type": "stream",
     "text": [
      "2025-05-18 14:00:51.246450: E external/local_xla/xla/stream_executor/cuda/cuda_fft.cc:477] Unable to register cuFFT factory: Attempting to register factory for plugin cuFFT when one has already been registered\n",
      "WARNING: All log messages before absl::InitializeLog() is called are written to STDERR\n",
      "E0000 00:00:1747576851.477957      19 cuda_dnn.cc:8310] Unable to register cuDNN factory: Attempting to register factory for plugin cuDNN when one has already been registered\n",
      "E0000 00:00:1747576851.546160      19 cuda_blas.cc:1418] Unable to register cuBLAS factory: Attempting to register factory for plugin cuBLAS when one has already been registered\n"
     ]
    }
   ],
   "source": [
    "import numpy as np\n",
    "import pandas as pd\n",
    "import random\n",
    "\n",
    "from zipfile import ZipFile\n",
    "import tensorflow as tf\n",
    "from tensorflow import keras\n",
    "from tensorflow.keras import layers\n",
    "from pathlib import Path\n",
    "import matplotlib.pyplot as plt\n",
    "\n",
    "import re\n",
    "from sklearn.feature_extraction.text import TfidfVectorizer\n",
    "from sklearn.metrics.pairwise import cosine_similarity"
   ]
  },
  {
   "cell_type": "markdown",
   "id": "0e57a281",
   "metadata": {
    "papermill": {
     "duration": 0.006215,
     "end_time": "2025-05-18T14:01:04.658713",
     "exception": false,
     "start_time": "2025-05-18T14:01:04.652498",
     "status": "completed"
    },
    "tags": []
   },
   "source": [
    "# 1. Business Understanding"
   ]
  },
  {
   "cell_type": "markdown",
   "id": "f451b838",
   "metadata": {
    "papermill": {
     "duration": 0.005828,
     "end_time": "2025-05-18T14:01:04.670549",
     "exception": false,
     "start_time": "2025-05-18T14:01:04.664721",
     "status": "completed"
    },
    "tags": []
   },
   "source": [
    "# 2. Data Understanding"
   ]
  },
  {
   "cell_type": "markdown",
   "id": "f1e124ee",
   "metadata": {
    "papermill": {
     "duration": 0.006284,
     "end_time": "2025-05-18T14:01:04.682694",
     "exception": false,
     "start_time": "2025-05-18T14:01:04.676410",
     "status": "completed"
    },
    "tags": []
   },
   "source": [
    "## 2.1 Load Data dan Cetak Atribut Tabel"
   ]
  },
  {
   "cell_type": "code",
   "execution_count": 2,
   "id": "0acdfb7b",
   "metadata": {
    "execution": {
     "iopub.execute_input": "2025-05-18T14:01:04.695812Z",
     "iopub.status.busy": "2025-05-18T14:01:04.695371Z",
     "iopub.status.idle": "2025-05-18T14:01:08.557831Z",
     "shell.execute_reply": "2025-05-18T14:01:08.556827Z"
    },
    "papermill": {
     "duration": 3.870926,
     "end_time": "2025-05-18T14:01:08.559529",
     "exception": false,
     "start_time": "2025-05-18T14:01:04.688603",
     "status": "completed"
    },
    "tags": []
   },
   "outputs": [
    {
     "name": "stderr",
     "output_type": "stream",
     "text": [
      "/tmp/ipykernel_19/3745290253.py:2: DtypeWarning: Columns (3) have mixed types. Specify dtype option on import or set low_memory=False.\n",
      "  dataBuku = pd.read_csv(\"/kaggle/input/book-reccomendation-dataset/Data/Books.csv\")\n"
     ]
    },
    {
     "name": "stdout",
     "output_type": "stream",
     "text": [
      "<class 'pandas.core.frame.DataFrame'>\n",
      "RangeIndex: 278858 entries, 0 to 278857\n",
      "Data columns (total 3 columns):\n",
      " #   Column    Non-Null Count   Dtype  \n",
      "---  ------    --------------   -----  \n",
      " 0   User-ID   278858 non-null  int64  \n",
      " 1   Location  278858 non-null  object \n",
      " 2   Age       168096 non-null  float64\n",
      "dtypes: float64(1), int64(1), object(1)\n",
      "memory usage: 6.4+ MB\n",
      "<class 'pandas.core.frame.DataFrame'>\n",
      "RangeIndex: 271360 entries, 0 to 271359\n",
      "Data columns (total 8 columns):\n",
      " #   Column               Non-Null Count   Dtype \n",
      "---  ------               --------------   ----- \n",
      " 0   ISBN                 271360 non-null  object\n",
      " 1   Book-Title           271360 non-null  object\n",
      " 2   Book-Author          271358 non-null  object\n",
      " 3   Year-Of-Publication  271360 non-null  object\n",
      " 4   Publisher            271358 non-null  object\n",
      " 5   Image-URL-S          271360 non-null  object\n",
      " 6   Image-URL-M          271360 non-null  object\n",
      " 7   Image-URL-L          271357 non-null  object\n",
      "dtypes: object(8)\n",
      "memory usage: 16.6+ MB\n",
      "<class 'pandas.core.frame.DataFrame'>\n",
      "RangeIndex: 1149780 entries, 0 to 1149779\n",
      "Data columns (total 3 columns):\n",
      " #   Column       Non-Null Count    Dtype \n",
      "---  ------       --------------    ----- \n",
      " 0   User-ID      1149780 non-null  int64 \n",
      " 1   ISBN         1149780 non-null  object\n",
      " 2   Book-Rating  1149780 non-null  int64 \n",
      "dtypes: int64(2), object(1)\n",
      "memory usage: 26.3+ MB\n"
     ]
    }
   ],
   "source": [
    "dataUser = pd.read_csv(\"/kaggle/input/book-reccomendation-dataset/Data/Users.csv\")\n",
    "dataBuku = pd.read_csv(\"/kaggle/input/book-reccomendation-dataset/Data/Books.csv\")\n",
    "dataRating = pd.read_csv(\"/kaggle/input/book-reccomendation-dataset/Data/Ratings.csv\")\n",
    "\n",
    "dataUser.info()\n",
    "dataBuku.info()\n",
    "dataRating.info()"
   ]
  },
  {
   "cell_type": "markdown",
   "id": "1978edc9",
   "metadata": {
    "papermill": {
     "duration": 0.006657,
     "end_time": "2025-05-18T14:01:08.578695",
     "exception": false,
     "start_time": "2025-05-18T14:01:08.572038",
     "status": "completed"
    },
    "tags": []
   },
   "source": [
    "## 2.2 Identifikasi Karakteristik Data dan Cetak Ringkasan Statistik"
   ]
  },
  {
   "cell_type": "code",
   "execution_count": 3,
   "id": "793a61fa",
   "metadata": {
    "execution": {
     "iopub.execute_input": "2025-05-18T14:01:08.593076Z",
     "iopub.status.busy": "2025-05-18T14:01:08.592800Z",
     "iopub.status.idle": "2025-05-18T14:01:08.674016Z",
     "shell.execute_reply": "2025-05-18T14:01:08.673231Z"
    },
    "papermill": {
     "duration": 0.090113,
     "end_time": "2025-05-18T14:01:08.675294",
     "exception": false,
     "start_time": "2025-05-18T14:01:08.585181",
     "status": "completed"
    },
    "tags": []
   },
   "outputs": [
    {
     "name": "stdout",
     "output_type": "stream",
     "text": [
      "Banyak User :  278858\n",
      "Banyak Buku :  271360\n",
      "Banyak User yang Memberi Rating :  105283\n"
     ]
    }
   ],
   "source": [
    "dataUser = dataUser.rename(columns={\n",
    "    'User-ID': 'userID'\n",
    "})\n",
    "dataRating = dataRating.rename(columns={\n",
    "    'User-ID': 'userID'\n",
    "})\n",
    "\n",
    "print('Banyak User : ', len(dataUser.userID.unique()))\n",
    "print('Banyak Buku : ', len(dataBuku.ISBN.unique()))\n",
    "print('Banyak User yang Memberi Rating : ', len(dataRating.userID.unique()))"
   ]
  },
  {
   "cell_type": "markdown",
   "id": "23411a3f",
   "metadata": {
    "papermill": {
     "duration": 0.006263,
     "end_time": "2025-05-18T14:01:08.688281",
     "exception": false,
     "start_time": "2025-05-18T14:01:08.682018",
     "status": "completed"
    },
    "tags": []
   },
   "source": [
    "## 2.3 Identifikasi Ringkasan Statistik Data"
   ]
  },
  {
   "cell_type": "markdown",
   "id": "2a2c469e",
   "metadata": {
    "papermill": {
     "duration": 0.00646,
     "end_time": "2025-05-18T14:01:08.701027",
     "exception": false,
     "start_time": "2025-05-18T14:01:08.694567",
     "status": "completed"
    },
    "tags": []
   },
   "source": [
    "### 2.3.1 Ringkasan Statistik Dataset Books"
   ]
  },
  {
   "cell_type": "code",
   "execution_count": 4,
   "id": "6aa127ee",
   "metadata": {
    "execution": {
     "iopub.execute_input": "2025-05-18T14:01:08.715419Z",
     "iopub.status.busy": "2025-05-18T14:01:08.715202Z",
     "iopub.status.idle": "2025-05-18T14:01:09.097360Z",
     "shell.execute_reply": "2025-05-18T14:01:09.096736Z"
    },
    "papermill": {
     "duration": 0.390331,
     "end_time": "2025-05-18T14:01:09.098552",
     "exception": false,
     "start_time": "2025-05-18T14:01:08.708221",
     "status": "completed"
    },
    "tags": []
   },
   "outputs": [
    {
     "data": {
      "text/html": [
       "<div>\n",
       "<style scoped>\n",
       "    .dataframe tbody tr th:only-of-type {\n",
       "        vertical-align: middle;\n",
       "    }\n",
       "\n",
       "    .dataframe tbody tr th {\n",
       "        vertical-align: top;\n",
       "    }\n",
       "\n",
       "    .dataframe thead th {\n",
       "        text-align: right;\n",
       "    }\n",
       "</style>\n",
       "<table border=\"1\" class=\"dataframe\">\n",
       "  <thead>\n",
       "    <tr style=\"text-align: right;\">\n",
       "      <th></th>\n",
       "      <th>Book-Title</th>\n",
       "      <th>Book-Author</th>\n",
       "      <th>Year-Of-Publication</th>\n",
       "      <th>Publisher</th>\n",
       "    </tr>\n",
       "  </thead>\n",
       "  <tbody>\n",
       "    <tr>\n",
       "      <th>count</th>\n",
       "      <td>271360</td>\n",
       "      <td>271358</td>\n",
       "      <td>271360</td>\n",
       "      <td>271358</td>\n",
       "    </tr>\n",
       "    <tr>\n",
       "      <th>unique</th>\n",
       "      <td>242135</td>\n",
       "      <td>102022</td>\n",
       "      <td>202</td>\n",
       "      <td>16807</td>\n",
       "    </tr>\n",
       "    <tr>\n",
       "      <th>top</th>\n",
       "      <td>Selected Poems</td>\n",
       "      <td>Agatha Christie</td>\n",
       "      <td>2002</td>\n",
       "      <td>Harlequin</td>\n",
       "    </tr>\n",
       "    <tr>\n",
       "      <th>freq</th>\n",
       "      <td>27</td>\n",
       "      <td>632</td>\n",
       "      <td>13903</td>\n",
       "      <td>7535</td>\n",
       "    </tr>\n",
       "  </tbody>\n",
       "</table>\n",
       "</div>"
      ],
      "text/plain": [
       "            Book-Title      Book-Author  Year-Of-Publication  Publisher\n",
       "count           271360           271358               271360     271358\n",
       "unique          242135           102022                  202      16807\n",
       "top     Selected Poems  Agatha Christie                 2002  Harlequin\n",
       "freq                27              632                13903       7535"
      ]
     },
     "execution_count": 4,
     "metadata": {},
     "output_type": "execute_result"
    }
   ],
   "source": [
    "dataBuku.drop(columns=['Image-URL-S','Image-URL-M','Image-URL-L','ISBN']).describe(include='all')"
   ]
  },
  {
   "cell_type": "markdown",
   "id": "985ee3f0",
   "metadata": {
    "papermill": {
     "duration": 0.006289,
     "end_time": "2025-05-18T14:01:09.111917",
     "exception": false,
     "start_time": "2025-05-18T14:01:09.105628",
     "status": "completed"
    },
    "tags": []
   },
   "source": [
    "### 2.3.2 Ringkasan Statistik Dataset Ratings"
   ]
  },
  {
   "cell_type": "code",
   "execution_count": 5,
   "id": "cb2f412a",
   "metadata": {
    "execution": {
     "iopub.execute_input": "2025-05-18T14:01:09.125836Z",
     "iopub.status.busy": "2025-05-18T14:01:09.125170Z",
     "iopub.status.idle": "2025-05-18T14:01:09.617411Z",
     "shell.execute_reply": "2025-05-18T14:01:09.616293Z"
    },
    "papermill": {
     "duration": 0.500514,
     "end_time": "2025-05-18T14:01:09.618649",
     "exception": false,
     "start_time": "2025-05-18T14:01:09.118135",
     "status": "completed"
    },
    "tags": []
   },
   "outputs": [
    {
     "name": "stderr",
     "output_type": "stream",
     "text": [
      "/usr/local/lib/python3.11/dist-packages/pandas/io/formats/format.py:1458: RuntimeWarning: invalid value encountered in greater\n",
      "  has_large_values = (abs_vals > 1e6).any()\n",
      "/usr/local/lib/python3.11/dist-packages/pandas/io/formats/format.py:1459: RuntimeWarning: invalid value encountered in less\n",
      "  has_small_values = ((abs_vals < 10 ** (-self.digits)) & (abs_vals > 0)).any()\n",
      "/usr/local/lib/python3.11/dist-packages/pandas/io/formats/format.py:1459: RuntimeWarning: invalid value encountered in greater\n",
      "  has_small_values = ((abs_vals < 10 ** (-self.digits)) & (abs_vals > 0)).any()\n"
     ]
    },
    {
     "data": {
      "text/html": [
       "<div>\n",
       "<style scoped>\n",
       "    .dataframe tbody tr th:only-of-type {\n",
       "        vertical-align: middle;\n",
       "    }\n",
       "\n",
       "    .dataframe tbody tr th {\n",
       "        vertical-align: top;\n",
       "    }\n",
       "\n",
       "    .dataframe thead th {\n",
       "        text-align: right;\n",
       "    }\n",
       "</style>\n",
       "<table border=\"1\" class=\"dataframe\">\n",
       "  <thead>\n",
       "    <tr style=\"text-align: right;\">\n",
       "      <th></th>\n",
       "      <th>ISBN</th>\n",
       "      <th>Book-Rating</th>\n",
       "    </tr>\n",
       "  </thead>\n",
       "  <tbody>\n",
       "    <tr>\n",
       "      <th>count</th>\n",
       "      <td>1149780</td>\n",
       "      <td>1.149780e+06</td>\n",
       "    </tr>\n",
       "    <tr>\n",
       "      <th>unique</th>\n",
       "      <td>340556</td>\n",
       "      <td>NaN</td>\n",
       "    </tr>\n",
       "    <tr>\n",
       "      <th>top</th>\n",
       "      <td>0971880107</td>\n",
       "      <td>NaN</td>\n",
       "    </tr>\n",
       "    <tr>\n",
       "      <th>freq</th>\n",
       "      <td>2502</td>\n",
       "      <td>NaN</td>\n",
       "    </tr>\n",
       "    <tr>\n",
       "      <th>mean</th>\n",
       "      <td>NaN</td>\n",
       "      <td>2.866950e+00</td>\n",
       "    </tr>\n",
       "    <tr>\n",
       "      <th>std</th>\n",
       "      <td>NaN</td>\n",
       "      <td>3.854184e+00</td>\n",
       "    </tr>\n",
       "    <tr>\n",
       "      <th>min</th>\n",
       "      <td>NaN</td>\n",
       "      <td>0.000000e+00</td>\n",
       "    </tr>\n",
       "    <tr>\n",
       "      <th>25%</th>\n",
       "      <td>NaN</td>\n",
       "      <td>0.000000e+00</td>\n",
       "    </tr>\n",
       "    <tr>\n",
       "      <th>50%</th>\n",
       "      <td>NaN</td>\n",
       "      <td>0.000000e+00</td>\n",
       "    </tr>\n",
       "    <tr>\n",
       "      <th>75%</th>\n",
       "      <td>NaN</td>\n",
       "      <td>7.000000e+00</td>\n",
       "    </tr>\n",
       "    <tr>\n",
       "      <th>max</th>\n",
       "      <td>NaN</td>\n",
       "      <td>1.000000e+01</td>\n",
       "    </tr>\n",
       "  </tbody>\n",
       "</table>\n",
       "</div>"
      ],
      "text/plain": [
       "              ISBN   Book-Rating\n",
       "count      1149780  1.149780e+06\n",
       "unique      340556           NaN\n",
       "top     0971880107           NaN\n",
       "freq          2502           NaN\n",
       "mean           NaN  2.866950e+00\n",
       "std            NaN  3.854184e+00\n",
       "min            NaN  0.000000e+00\n",
       "25%            NaN  0.000000e+00\n",
       "50%            NaN  0.000000e+00\n",
       "75%            NaN  7.000000e+00\n",
       "max            NaN  1.000000e+01"
      ]
     },
     "execution_count": 5,
     "metadata": {},
     "output_type": "execute_result"
    }
   ],
   "source": [
    "dataRating.drop(columns=['userID']).describe(include='all')"
   ]
  },
  {
   "cell_type": "markdown",
   "id": "ae7ba5ed",
   "metadata": {
    "papermill": {
     "duration": 0.008153,
     "end_time": "2025-05-18T14:01:09.635875",
     "exception": false,
     "start_time": "2025-05-18T14:01:09.627722",
     "status": "completed"
    },
    "tags": []
   },
   "source": [
    "### 2.3.3 Ringkasan Statistik Dataset Users"
   ]
  },
  {
   "cell_type": "code",
   "execution_count": 6,
   "id": "01d89e8c",
   "metadata": {
    "execution": {
     "iopub.execute_input": "2025-05-18T14:01:09.658010Z",
     "iopub.status.busy": "2025-05-18T14:01:09.657718Z",
     "iopub.status.idle": "2025-05-18T14:01:09.760619Z",
     "shell.execute_reply": "2025-05-18T14:01:09.759820Z"
    },
    "papermill": {
     "duration": 0.115862,
     "end_time": "2025-05-18T14:01:09.762039",
     "exception": false,
     "start_time": "2025-05-18T14:01:09.646177",
     "status": "completed"
    },
    "tags": []
   },
   "outputs": [
    {
     "name": "stderr",
     "output_type": "stream",
     "text": [
      "/usr/local/lib/python3.11/dist-packages/pandas/io/formats/format.py:1458: RuntimeWarning: invalid value encountered in greater\n",
      "  has_large_values = (abs_vals > 1e6).any()\n",
      "/usr/local/lib/python3.11/dist-packages/pandas/io/formats/format.py:1459: RuntimeWarning: invalid value encountered in less\n",
      "  has_small_values = ((abs_vals < 10 ** (-self.digits)) & (abs_vals > 0)).any()\n",
      "/usr/local/lib/python3.11/dist-packages/pandas/io/formats/format.py:1459: RuntimeWarning: invalid value encountered in greater\n",
      "  has_small_values = ((abs_vals < 10 ** (-self.digits)) & (abs_vals > 0)).any()\n"
     ]
    },
    {
     "data": {
      "text/html": [
       "<div>\n",
       "<style scoped>\n",
       "    .dataframe tbody tr th:only-of-type {\n",
       "        vertical-align: middle;\n",
       "    }\n",
       "\n",
       "    .dataframe tbody tr th {\n",
       "        vertical-align: top;\n",
       "    }\n",
       "\n",
       "    .dataframe thead th {\n",
       "        text-align: right;\n",
       "    }\n",
       "</style>\n",
       "<table border=\"1\" class=\"dataframe\">\n",
       "  <thead>\n",
       "    <tr style=\"text-align: right;\">\n",
       "      <th></th>\n",
       "      <th>Location</th>\n",
       "      <th>Age</th>\n",
       "    </tr>\n",
       "  </thead>\n",
       "  <tbody>\n",
       "    <tr>\n",
       "      <th>count</th>\n",
       "      <td>278858</td>\n",
       "      <td>168096.000000</td>\n",
       "    </tr>\n",
       "    <tr>\n",
       "      <th>unique</th>\n",
       "      <td>57339</td>\n",
       "      <td>NaN</td>\n",
       "    </tr>\n",
       "    <tr>\n",
       "      <th>top</th>\n",
       "      <td>london, england, united kingdom</td>\n",
       "      <td>NaN</td>\n",
       "    </tr>\n",
       "    <tr>\n",
       "      <th>freq</th>\n",
       "      <td>2506</td>\n",
       "      <td>NaN</td>\n",
       "    </tr>\n",
       "    <tr>\n",
       "      <th>mean</th>\n",
       "      <td>NaN</td>\n",
       "      <td>34.751434</td>\n",
       "    </tr>\n",
       "    <tr>\n",
       "      <th>std</th>\n",
       "      <td>NaN</td>\n",
       "      <td>14.428097</td>\n",
       "    </tr>\n",
       "    <tr>\n",
       "      <th>min</th>\n",
       "      <td>NaN</td>\n",
       "      <td>0.000000</td>\n",
       "    </tr>\n",
       "    <tr>\n",
       "      <th>25%</th>\n",
       "      <td>NaN</td>\n",
       "      <td>24.000000</td>\n",
       "    </tr>\n",
       "    <tr>\n",
       "      <th>50%</th>\n",
       "      <td>NaN</td>\n",
       "      <td>32.000000</td>\n",
       "    </tr>\n",
       "    <tr>\n",
       "      <th>75%</th>\n",
       "      <td>NaN</td>\n",
       "      <td>44.000000</td>\n",
       "    </tr>\n",
       "    <tr>\n",
       "      <th>max</th>\n",
       "      <td>NaN</td>\n",
       "      <td>244.000000</td>\n",
       "    </tr>\n",
       "  </tbody>\n",
       "</table>\n",
       "</div>"
      ],
      "text/plain": [
       "                               Location            Age\n",
       "count                            278858  168096.000000\n",
       "unique                            57339            NaN\n",
       "top     london, england, united kingdom            NaN\n",
       "freq                               2506            NaN\n",
       "mean                                NaN      34.751434\n",
       "std                                 NaN      14.428097\n",
       "min                                 NaN       0.000000\n",
       "25%                                 NaN      24.000000\n",
       "50%                                 NaN      32.000000\n",
       "75%                                 NaN      44.000000\n",
       "max                                 NaN     244.000000"
      ]
     },
     "execution_count": 6,
     "metadata": {},
     "output_type": "execute_result"
    }
   ],
   "source": [
    "dataUser.drop(columns=['userID']).describe(include='all')"
   ]
  },
  {
   "cell_type": "markdown",
   "id": "762390a3",
   "metadata": {
    "papermill": {
     "duration": 0.011685,
     "end_time": "2025-05-18T14:01:09.786083",
     "exception": false,
     "start_time": "2025-05-18T14:01:09.774398",
     "status": "completed"
    },
    "tags": []
   },
   "source": [
    "## 2.4 Pengecekan Missing Value"
   ]
  },
  {
   "cell_type": "code",
   "execution_count": 7,
   "id": "9ffc8906",
   "metadata": {
    "execution": {
     "iopub.execute_input": "2025-05-18T14:01:09.801261Z",
     "iopub.status.busy": "2025-05-18T14:01:09.800548Z",
     "iopub.status.idle": "2025-05-18T14:01:09.835395Z",
     "shell.execute_reply": "2025-05-18T14:01:09.834767Z"
    },
    "papermill": {
     "duration": 0.043579,
     "end_time": "2025-05-18T14:01:09.836456",
     "exception": false,
     "start_time": "2025-05-18T14:01:09.792877",
     "status": "completed"
    },
    "tags": []
   },
   "outputs": [
    {
     "data": {
      "text/plain": [
       "userID           0\n",
       "Location         0\n",
       "Age         110762\n",
       "dtype: int64"
      ]
     },
     "execution_count": 7,
     "metadata": {},
     "output_type": "execute_result"
    }
   ],
   "source": [
    "dataUser.isnull().sum()"
   ]
  },
  {
   "cell_type": "code",
   "execution_count": 8,
   "id": "fb783862",
   "metadata": {
    "execution": {
     "iopub.execute_input": "2025-05-18T14:01:09.901310Z",
     "iopub.status.busy": "2025-05-18T14:01:09.900600Z",
     "iopub.status.idle": "2025-05-18T14:01:10.033451Z",
     "shell.execute_reply": "2025-05-18T14:01:10.030037Z"
    },
    "papermill": {
     "duration": 0.144873,
     "end_time": "2025-05-18T14:01:10.037710",
     "exception": false,
     "start_time": "2025-05-18T14:01:09.892837",
     "status": "completed"
    },
    "tags": []
   },
   "outputs": [
    {
     "data": {
      "text/plain": [
       "ISBN                   0\n",
       "Book-Title             0\n",
       "Book-Author            2\n",
       "Year-Of-Publication    0\n",
       "Publisher              2\n",
       "Image-URL-S            0\n",
       "Image-URL-M            0\n",
       "Image-URL-L            3\n",
       "dtype: int64"
      ]
     },
     "execution_count": 8,
     "metadata": {},
     "output_type": "execute_result"
    }
   ],
   "source": [
    "dataBuku.isnull().sum()"
   ]
  },
  {
   "cell_type": "code",
   "execution_count": 9,
   "id": "28773b0b",
   "metadata": {
    "execution": {
     "iopub.execute_input": "2025-05-18T14:01:10.059658Z",
     "iopub.status.busy": "2025-05-18T14:01:10.059405Z",
     "iopub.status.idle": "2025-05-18T14:01:10.142188Z",
     "shell.execute_reply": "2025-05-18T14:01:10.140403Z"
    },
    "papermill": {
     "duration": 0.094319,
     "end_time": "2025-05-18T14:01:10.143458",
     "exception": false,
     "start_time": "2025-05-18T14:01:10.049139",
     "status": "completed"
    },
    "tags": []
   },
   "outputs": [
    {
     "data": {
      "text/plain": [
       "userID         0\n",
       "ISBN           0\n",
       "Book-Rating    0\n",
       "dtype: int64"
      ]
     },
     "execution_count": 9,
     "metadata": {},
     "output_type": "execute_result"
    }
   ],
   "source": [
    "\n",
    "dataRating.isnull().sum()"
   ]
  },
  {
   "cell_type": "markdown",
   "id": "8b4d3891",
   "metadata": {
    "papermill": {
     "duration": 0.007093,
     "end_time": "2025-05-18T14:01:10.158042",
     "exception": false,
     "start_time": "2025-05-18T14:01:10.150949",
     "status": "completed"
    },
    "tags": []
   },
   "source": [
    "# 3. Data Preparation"
   ]
  },
  {
   "cell_type": "markdown",
   "id": "c69a5ef0",
   "metadata": {
    "papermill": {
     "duration": 0.006775,
     "end_time": "2025-05-18T14:01:10.171691",
     "exception": false,
     "start_time": "2025-05-18T14:01:10.164916",
     "status": "completed"
    },
    "tags": []
   },
   "source": [
    "## 3.1 Join Tabel"
   ]
  },
  {
   "cell_type": "code",
   "execution_count": 10,
   "id": "60709081",
   "metadata": {
    "execution": {
     "iopub.execute_input": "2025-05-18T14:01:10.186499Z",
     "iopub.status.busy": "2025-05-18T14:01:10.186194Z",
     "iopub.status.idle": "2025-05-18T14:01:11.152467Z",
     "shell.execute_reply": "2025-05-18T14:01:11.151877Z"
    },
    "papermill": {
     "duration": 0.9754,
     "end_time": "2025-05-18T14:01:11.153848",
     "exception": false,
     "start_time": "2025-05-18T14:01:10.178448",
     "status": "completed"
    },
    "tags": []
   },
   "outputs": [],
   "source": [
    "# Gabungkan Data Rating dengan Data User untuk memperoleh dataset rating beserta atribut usernya\n",
    "dataRatingUser = pd.merge(dataRating, dataUser, on='userID', how='left')\n",
    "# Gabungkan dataset sebelumnya dengan dataset buku untuk memperoleh keterangan buku yang diberi rating\n",
    "dataset = pd.merge(dataRatingUser, dataBuku, on='ISBN', how='left')"
   ]
  },
  {
   "cell_type": "code",
   "execution_count": 11,
   "id": "1cc934fe",
   "metadata": {
    "execution": {
     "iopub.execute_input": "2025-05-18T14:01:11.168883Z",
     "iopub.status.busy": "2025-05-18T14:01:11.168689Z",
     "iopub.status.idle": "2025-05-18T14:01:12.299029Z",
     "shell.execute_reply": "2025-05-18T14:01:12.298413Z"
    },
    "papermill": {
     "duration": 1.139138,
     "end_time": "2025-05-18T14:01:12.300336",
     "exception": false,
     "start_time": "2025-05-18T14:01:11.161198",
     "status": "completed"
    },
    "tags": []
   },
   "outputs": [
    {
     "name": "stdout",
     "output_type": "stream",
     "text": [
      "<class 'pandas.core.frame.DataFrame'>\n",
      "RangeIndex: 1149780 entries, 0 to 1149779\n",
      "Data columns (total 12 columns):\n",
      " #   Column               Non-Null Count    Dtype  \n",
      "---  ------               --------------    -----  \n",
      " 0   userID               1149780 non-null  int64  \n",
      " 1   ISBN                 1149780 non-null  object \n",
      " 2   Book-Rating          1149780 non-null  int64  \n",
      " 3   Location             1149780 non-null  object \n",
      " 4   Age                  840288 non-null   float64\n",
      " 5   Book-Title           1031136 non-null  object \n",
      " 6   Book-Author          1031134 non-null  object \n",
      " 7   Year-Of-Publication  1031136 non-null  object \n",
      " 8   Publisher            1031134 non-null  object \n",
      " 9   Image-URL-S          1031136 non-null  object \n",
      " 10  Image-URL-M          1031136 non-null  object \n",
      " 11  Image-URL-L          1031132 non-null  object \n",
      "dtypes: float64(1), int64(2), object(9)\n",
      "memory usage: 105.3+ MB\n"
     ]
    },
    {
     "data": {
      "text/plain": [
       "userID                      0\n",
       "ISBN                        0\n",
       "Book-Rating                 0\n",
       "Location                    0\n",
       "Age                    309492\n",
       "Book-Title             118644\n",
       "Book-Author            118646\n",
       "Year-Of-Publication    118644\n",
       "Publisher              118646\n",
       "Image-URL-S            118644\n",
       "Image-URL-M            118644\n",
       "Image-URL-L            118648\n",
       "dtype: int64"
      ]
     },
     "execution_count": 11,
     "metadata": {},
     "output_type": "execute_result"
    }
   ],
   "source": [
    "dataset.info()\n",
    "dataset.isnull().sum()"
   ]
  },
  {
   "cell_type": "markdown",
   "id": "a3ba0d12",
   "metadata": {
    "papermill": {
     "duration": 0.006852,
     "end_time": "2025-05-18T14:01:12.314677",
     "exception": false,
     "start_time": "2025-05-18T14:01:12.307825",
     "status": "completed"
    },
    "tags": []
   },
   "source": [
    "## 3.2 Eliminasi Observasi dengan Missing Value"
   ]
  },
  {
   "cell_type": "code",
   "execution_count": 12,
   "id": "0210dc84",
   "metadata": {
    "execution": {
     "iopub.execute_input": "2025-05-18T14:01:12.329274Z",
     "iopub.status.busy": "2025-05-18T14:01:12.329072Z",
     "iopub.status.idle": "2025-05-18T14:01:13.019930Z",
     "shell.execute_reply": "2025-05-18T14:01:13.019283Z"
    },
    "papermill": {
     "duration": 0.69989,
     "end_time": "2025-05-18T14:01:13.021490",
     "exception": false,
     "start_time": "2025-05-18T14:01:12.321600",
     "status": "completed"
    },
    "tags": []
   },
   "outputs": [],
   "source": [
    "dataFinal = dataset.dropna()"
   ]
  },
  {
   "cell_type": "markdown",
   "id": "f3b7a3ed",
   "metadata": {
    "papermill": {
     "duration": 0.007007,
     "end_time": "2025-05-18T14:01:13.036377",
     "exception": false,
     "start_time": "2025-05-18T14:01:13.029370",
     "status": "completed"
    },
    "tags": []
   },
   "source": [
    "### 3.3.1 Preprocessing untuk Content Based Filtering"
   ]
  },
  {
   "cell_type": "code",
   "execution_count": 13,
   "id": "980fc393",
   "metadata": {
    "execution": {
     "iopub.execute_input": "2025-05-18T14:01:13.051584Z",
     "iopub.status.busy": "2025-05-18T14:01:13.051135Z",
     "iopub.status.idle": "2025-05-18T14:01:15.993242Z",
     "shell.execute_reply": "2025-05-18T14:01:15.992642Z"
    },
    "papermill": {
     "duration": 2.951127,
     "end_time": "2025-05-18T14:01:15.994628",
     "exception": false,
     "start_time": "2025-05-18T14:01:13.043501",
     "status": "completed"
    },
    "tags": []
   },
   "outputs": [
    {
     "name": "stderr",
     "output_type": "stream",
     "text": [
      "/tmp/ipykernel_19/3961848135.py:2: SettingWithCopyWarning: \n",
      "A value is trying to be set on a copy of a slice from a DataFrame.\n",
      "Try using .loc[row_indexer,col_indexer] = value instead\n",
      "\n",
      "See the caveats in the documentation: https://pandas.pydata.org/pandas-docs/stable/user_guide/indexing.html#returning-a-view-versus-a-copy\n",
      "  dataFinal['AtributBuku'] = dataFinal['Book-Title'] + ' ' + dataFinal['Book-Author'] + ' ' + dataFinal['Year-Of-Publication'].astype(str)\n",
      "/tmp/ipykernel_19/3961848135.py:12: SettingWithCopyWarning: \n",
      "A value is trying to be set on a copy of a slice from a DataFrame.\n",
      "Try using .loc[row_indexer,col_indexer] = value instead\n",
      "\n",
      "See the caveats in the documentation: https://pandas.pydata.org/pandas-docs/stable/user_guide/indexing.html#returning-a-view-versus-a-copy\n",
      "  dataFinal['AtributBuku'] = dataFinal['AtributBuku'].apply(preprocess_text)\n"
     ]
    }
   ],
   "source": [
    "# Membentuk Variabel Baru yang menangkap atribut dari Buku\n",
    "dataFinal['AtributBuku'] = dataFinal['Book-Title'] + ' ' + dataFinal['Book-Author'] + ' ' + dataFinal['Year-Of-Publication'].astype(str)\n",
    "\n",
    "# Preprocessing: Convert to lowercase, remove punctuation\n",
    "def preprocess_text(text):\n",
    "    # Convert to lowercase\n",
    "    text = text.lower()\n",
    "    # Remove punctuation\n",
    "    text = re.sub(r'[^\\w\\s]', '', text)\n",
    "    return text\n",
    "\n",
    "dataFinal['AtributBuku'] = dataFinal['AtributBuku'].apply(preprocess_text)\n",
    "\n",
    "# Undersampling untuk Reduksi Dataset\n",
    "dataBaru = dataFinal.dropna(subset=['AtributBuku']).sample(n=90000, random_state=42).reset_index(drop=True)"
   ]
  },
  {
   "cell_type": "markdown",
   "id": "559d1fe3",
   "metadata": {
    "papermill": {
     "duration": 0.007186,
     "end_time": "2025-05-18T14:01:16.009567",
     "exception": false,
     "start_time": "2025-05-18T14:01:16.002381",
     "status": "completed"
    },
    "tags": []
   },
   "source": [
    "### 3.3.2 Preprocessing untuk Colaborative Filtering"
   ]
  },
  {
   "cell_type": "code",
   "execution_count": 14,
   "id": "4f09ce15",
   "metadata": {
    "execution": {
     "iopub.execute_input": "2025-05-18T14:01:16.025105Z",
     "iopub.status.busy": "2025-05-18T14:01:16.024854Z",
     "iopub.status.idle": "2025-05-18T14:01:16.443860Z",
     "shell.execute_reply": "2025-05-18T14:01:16.443042Z"
    },
    "papermill": {
     "duration": 0.428224,
     "end_time": "2025-05-18T14:01:16.445008",
     "exception": false,
     "start_time": "2025-05-18T14:01:16.016784",
     "status": "completed"
    },
    "tags": []
   },
   "outputs": [
    {
     "name": "stderr",
     "output_type": "stream",
     "text": [
      "/tmp/ipykernel_19/3581592387.py:12: SettingWithCopyWarning: \n",
      "A value is trying to be set on a copy of a slice from a DataFrame.\n",
      "Try using .loc[row_indexer,col_indexer] = value instead\n",
      "\n",
      "See the caveats in the documentation: https://pandas.pydata.org/pandas-docs/stable/user_guide/indexing.html#returning-a-view-versus-a-copy\n",
      "  dataFinal['user_encoded'] = dataFinal['userID'].map(user_to_user_encoded)\n",
      "/tmp/ipykernel_19/3581592387.py:13: SettingWithCopyWarning: \n",
      "A value is trying to be set on a copy of a slice from a DataFrame.\n",
      "Try using .loc[row_indexer,col_indexer] = value instead\n",
      "\n",
      "See the caveats in the documentation: https://pandas.pydata.org/pandas-docs/stable/user_guide/indexing.html#returning-a-view-versus-a-copy\n",
      "  dataFinal['ISBN_encoded'] = dataFinal['ISBN'].map(buku_to_ids_encoded)\n"
     ]
    },
    {
     "name": "stdout",
     "output_type": "stream",
     "text": [
      "Jumlah User: 53887, Jumlah Buku: 228995, Min Rating: 0.0, Max Rating: 10.0\n"
     ]
    },
    {
     "name": "stderr",
     "output_type": "stream",
     "text": [
      "/tmp/ipykernel_19/3581592387.py:24: SettingWithCopyWarning: \n",
      "A value is trying to be set on a copy of a slice from a DataFrame.\n",
      "Try using .loc[row_indexer,col_indexer] = value instead\n",
      "\n",
      "See the caveats in the documentation: https://pandas.pydata.org/pandas-docs/stable/user_guide/indexing.html#returning-a-view-versus-a-copy\n",
      "  dataFinal['user_encoded'] = dataFinal['user_encoded'].astype(np.int32)\n",
      "/tmp/ipykernel_19/3581592387.py:25: SettingWithCopyWarning: \n",
      "A value is trying to be set on a copy of a slice from a DataFrame.\n",
      "Try using .loc[row_indexer,col_indexer] = value instead\n",
      "\n",
      "See the caveats in the documentation: https://pandas.pydata.org/pandas-docs/stable/user_guide/indexing.html#returning-a-view-versus-a-copy\n",
      "  dataFinal['ISBN_encoded'] = dataFinal['ISBN_encoded'].astype(np.int32)\n",
      "/tmp/ipykernel_19/3581592387.py:28: SettingWithCopyWarning: \n",
      "A value is trying to be set on a copy of a slice from a DataFrame.\n",
      "Try using .loc[row_indexer,col_indexer] = value instead\n",
      "\n",
      "See the caveats in the documentation: https://pandas.pydata.org/pandas-docs/stable/user_guide/indexing.html#returning-a-view-versus-a-copy\n",
      "  dataFinal['Book-Rating'] = dataFinal['Book-Rating'].astype(np.float32)\n"
     ]
    }
   ],
   "source": [
    "# Mengubah userID menjadi list unik\n",
    "user_ids = dataFinal['userID'].unique().tolist()\n",
    "user_to_user_encoded = {x: i for i, x in enumerate(user_ids)}\n",
    "user_encoded_to_user = {i: x for i, x in enumerate(user_ids)}\n",
    "\n",
    "# Mengubah ISBN menjadi list unik\n",
    "buku_ids = dataFinal['ISBN'].unique().tolist()\n",
    "buku_to_ids_encoded = {x: i for i, x in enumerate(buku_ids)}\n",
    "ids_to_buku_encoded = {i: x for i, x in enumerate(buku_ids)}\n",
    "\n",
    "# Melakukan encoding ke dataframe\n",
    "dataFinal['user_encoded'] = dataFinal['userID'].map(user_to_user_encoded)\n",
    "dataFinal['ISBN_encoded'] = dataFinal['ISBN'].map(buku_to_ids_encoded)\n",
    "\n",
    "# Cek apakah ada yang gagal di-encode\n",
    "if dataFinal[['user_encoded', 'ISBN_encoded']].isnull().values.any():\n",
    "    print(\"🚨 Ada userID atau ISBN yang tidak berhasil di-encode!\")\n",
    "    print(\"Jumlah user_encoded NaN:\", dataFinal['user_encoded'].isnull().sum())\n",
    "    print(\"Jumlah ISBN_encoded NaN:\", dataFinal['ISBN_encoded'].isnull().sum())\n",
    "    # Bisa drop baris NaN atau isi dengan nilai default\n",
    "    dataFinal = dataFinal.dropna(subset=['user_encoded', 'ISBN_encoded'])\n",
    "\n",
    "# Convert ke integer untuk keperluan input model embedding\n",
    "dataFinal['user_encoded'] = dataFinal['user_encoded'].astype(np.int32)\n",
    "dataFinal['ISBN_encoded'] = dataFinal['ISBN_encoded'].astype(np.int32)\n",
    "\n",
    "# Konversi rating ke float32\n",
    "dataFinal['Book-Rating'] = dataFinal['Book-Rating'].astype(np.float32)\n",
    "\n",
    "# Info statistik\n",
    "num_users = len(user_to_user_encoded)\n",
    "num_items = len(ids_to_buku_encoded)\n",
    "min_rating = dataFinal['Book-Rating'].min()\n",
    "max_rating = dataFinal['Book-Rating'].max()\n",
    "\n",
    "print(f'Jumlah User: {num_users}, Jumlah Buku: {num_items}, Min Rating: {min_rating}, Max Rating: {max_rating}')"
   ]
  },
  {
   "cell_type": "code",
   "execution_count": 15,
   "id": "3941637b",
   "metadata": {
    "execution": {
     "iopub.execute_input": "2025-05-18T14:01:16.460951Z",
     "iopub.status.busy": "2025-05-18T14:01:16.460705Z",
     "iopub.status.idle": "2025-05-18T14:01:17.236743Z",
     "shell.execute_reply": "2025-05-18T14:01:17.236149Z"
    },
    "papermill": {
     "duration": 0.785469,
     "end_time": "2025-05-18T14:01:17.238092",
     "exception": false,
     "start_time": "2025-05-18T14:01:16.452623",
     "status": "completed"
    },
    "tags": []
   },
   "outputs": [],
   "source": [
    "# Mengacak dataset\n",
    "df = dataFinal.sample(frac=1, random_state=42)\n",
    "df\n",
    "\n",
    "# Membuat variabel x untuk mencocokkan data user dan resto menjadi satu value\n",
    "x = df[['user_encoded', 'ISBN_encoded']].values\n",
    " \n",
    "# Membuat variabel y untuk membuat rating dari hasil \n",
    "y = df['Book-Rating'].apply(lambda x: (x - min_rating) / (max_rating - min_rating)).values\n",
    " \n",
    "# Membagi menjadi 80% data train dan 20% data validasi\n",
    "train_indices = int(0.8 * df.shape[0])\n",
    "x_train, x_val, y_train, y_val = (\n",
    "    x[:train_indices],\n",
    "    x[train_indices:],\n",
    "    y[:train_indices],\n",
    "    y[train_indices:]\n",
    ")"
   ]
  },
  {
   "cell_type": "markdown",
   "id": "7c461d08",
   "metadata": {
    "papermill": {
     "duration": 0.007307,
     "end_time": "2025-05-18T14:01:17.253199",
     "exception": false,
     "start_time": "2025-05-18T14:01:17.245892",
     "status": "completed"
    },
    "tags": []
   },
   "source": [
    "# 4. Modelling"
   ]
  },
  {
   "cell_type": "markdown",
   "id": "79d367f1",
   "metadata": {
    "papermill": {
     "duration": 0.007126,
     "end_time": "2025-05-18T14:01:17.267478",
     "exception": false,
     "start_time": "2025-05-18T14:01:17.260352",
     "status": "completed"
    },
    "tags": []
   },
   "source": [
    "## 4.1 Content Based Filtering"
   ]
  },
  {
   "cell_type": "markdown",
   "id": "4389f385",
   "metadata": {
    "papermill": {
     "duration": 0.007269,
     "end_time": "2025-05-18T14:01:17.282137",
     "exception": false,
     "start_time": "2025-05-18T14:01:17.274868",
     "status": "completed"
    },
    "tags": []
   },
   "source": [
    "### 4.1.1 Membentuk Matriks Term Frequency - Inverse Document Frequency"
   ]
  },
  {
   "cell_type": "code",
   "execution_count": 16,
   "id": "a906623f",
   "metadata": {
    "execution": {
     "iopub.execute_input": "2025-05-18T14:01:17.297354Z",
     "iopub.status.busy": "2025-05-18T14:01:17.297115Z",
     "iopub.status.idle": "2025-05-18T14:01:17.876967Z",
     "shell.execute_reply": "2025-05-18T14:01:17.876186Z"
    },
    "papermill": {
     "duration": 0.589133,
     "end_time": "2025-05-18T14:01:17.878407",
     "exception": false,
     "start_time": "2025-05-18T14:01:17.289274",
     "status": "completed"
    },
    "tags": []
   },
   "outputs": [],
   "source": [
    "# Buat dataframe baru berisi data unik dari AtributBuku\n",
    "dataBaru = dataBaru.drop_duplicates(subset='AtributBuku').reset_index(drop=False)\n",
    "\n",
    "tfidf = TfidfVectorizer(stop_words='english')\n",
    "tfidf_matrix = tfidf.fit_transform(dataBaru['AtributBuku'])"
   ]
  },
  {
   "cell_type": "markdown",
   "id": "6e9161d9",
   "metadata": {
    "papermill": {
     "duration": 0.007561,
     "end_time": "2025-05-18T14:01:17.894075",
     "exception": false,
     "start_time": "2025-05-18T14:01:17.886514",
     "status": "completed"
    },
    "tags": []
   },
   "source": [
    "### 4.1.2 Membentuk Matriks Cosine Similarity"
   ]
  },
  {
   "cell_type": "code",
   "execution_count": 17,
   "id": "7826a9ea",
   "metadata": {
    "execution": {
     "iopub.execute_input": "2025-05-18T14:01:17.909606Z",
     "iopub.status.busy": "2025-05-18T14:01:17.909372Z",
     "iopub.status.idle": "2025-05-18T14:01:20.053954Z",
     "shell.execute_reply": "2025-05-18T14:01:20.053143Z"
    },
    "papermill": {
     "duration": 2.15396,
     "end_time": "2025-05-18T14:01:20.055465",
     "exception": false,
     "start_time": "2025-05-18T14:01:17.901505",
     "status": "completed"
    },
    "tags": []
   },
   "outputs": [],
   "source": [
    "cosine_sim = cosine_similarity(tfidf_matrix, dense_output=False)\n"
   ]
  },
  {
   "cell_type": "markdown",
   "id": "1c1c9572",
   "metadata": {
    "papermill": {
     "duration": 0.007019,
     "end_time": "2025-05-18T14:01:20.070296",
     "exception": false,
     "start_time": "2025-05-18T14:01:20.063277",
     "status": "completed"
    },
    "tags": []
   },
   "source": [
    "### 4.1.3 Pendefinisian Fungsi Rekomendasi Produk"
   ]
  },
  {
   "cell_type": "code",
   "execution_count": 18,
   "id": "b926cf71",
   "metadata": {
    "execution": {
     "iopub.execute_input": "2025-05-18T14:01:20.086677Z",
     "iopub.status.busy": "2025-05-18T14:01:20.086221Z",
     "iopub.status.idle": "2025-05-18T14:01:20.091449Z",
     "shell.execute_reply": "2025-05-18T14:01:20.090927Z"
    },
    "papermill": {
     "duration": 0.014714,
     "end_time": "2025-05-18T14:01:20.092512",
     "exception": false,
     "start_time": "2025-05-18T14:01:20.077798",
     "status": "completed"
    },
    "tags": []
   },
   "outputs": [],
   "source": [
    "def recommend(book_title, cosine_sim=cosine_sim, jmlbuku = 5):\n",
    "    print(f\"Menampilkan Rekomendasi Buku yang sesuai dengan '{book_title}' ...\")\n",
    "    \n",
    "    matches = dataBaru[dataBaru['Book-Title'] == book_title]\n",
    "    if matches.empty:\n",
    "        return f\"Tidak ditemukan judul: {book_title}\"\n",
    "    \n",
    "    # matches.index sudah 0..n-1, cocok untuk cosine_sim\n",
    "    idx = matches.index[0]\n",
    "\n",
    "    sim_scores_row = cosine_sim[idx].toarray().flatten()\n",
    "\n",
    "    sim_scores = list(enumerate(sim_scores_row))\n",
    "    sim_scores = sorted(sim_scores, key=lambda x: x[1], reverse=True)\n",
    "    sim_scores = sim_scores[1:jmlbuku+1]  # skip buku itu sendiri\n",
    "\n",
    "    book_indices = [i[0] for i in sim_scores]\n",
    "    scores = [i[1] for i in sim_scores]\n",
    "\n",
    "    result = dataBaru.iloc[book_indices][['Book-Title', 'Book-Author', 'Publisher', 'Year-Of-Publication']].copy()\n",
    "    result['similarity_score'] = scores\n",
    "\n",
    "    return result.reset_index(drop=True)\n"
   ]
  },
  {
   "cell_type": "code",
   "execution_count": 19,
   "id": "26491b27",
   "metadata": {
    "execution": {
     "iopub.execute_input": "2025-05-18T14:01:20.108270Z",
     "iopub.status.busy": "2025-05-18T14:01:20.108062Z",
     "iopub.status.idle": "2025-05-18T14:01:20.159108Z",
     "shell.execute_reply": "2025-05-18T14:01:20.158375Z"
    },
    "papermill": {
     "duration": 0.060083,
     "end_time": "2025-05-18T14:01:20.160227",
     "exception": false,
     "start_time": "2025-05-18T14:01:20.100144",
     "status": "completed"
    },
    "tags": []
   },
   "outputs": [
    {
     "name": "stdout",
     "output_type": "stream",
     "text": [
      "Menampilkan Rekomendasi Buku yang sesuai dengan 'The Forsyte Saga (Penguin Modern Classics)' ...\n"
     ]
    },
    {
     "data": {
      "text/html": [
       "<div>\n",
       "<style scoped>\n",
       "    .dataframe tbody tr th:only-of-type {\n",
       "        vertical-align: middle;\n",
       "    }\n",
       "\n",
       "    .dataframe tbody tr th {\n",
       "        vertical-align: top;\n",
       "    }\n",
       "\n",
       "    .dataframe thead th {\n",
       "        text-align: right;\n",
       "    }\n",
       "</style>\n",
       "<table border=\"1\" class=\"dataframe\">\n",
       "  <thead>\n",
       "    <tr style=\"text-align: right;\">\n",
       "      <th></th>\n",
       "      <th>Book-Title</th>\n",
       "      <th>Book-Author</th>\n",
       "      <th>Publisher</th>\n",
       "      <th>Year-Of-Publication</th>\n",
       "      <th>similarity_score</th>\n",
       "    </tr>\n",
       "  </thead>\n",
       "  <tbody>\n",
       "    <tr>\n",
       "      <th>0</th>\n",
       "      <td>Forsyte Saga</td>\n",
       "      <td>John Galsworthy</td>\n",
       "      <td>Touchstone</td>\n",
       "      <td>1996</td>\n",
       "      <td>0.815395</td>\n",
       "    </tr>\n",
       "    <tr>\n",
       "      <th>1</th>\n",
       "      <td>Man of Property: The Forsyte Saga</td>\n",
       "      <td>J. Galsworthy</td>\n",
       "      <td>Lb May &amp;amp; Assoc Inc</td>\n",
       "      <td>2001</td>\n",
       "      <td>0.684410</td>\n",
       "    </tr>\n",
       "    <tr>\n",
       "      <th>2</th>\n",
       "      <td>The Forsyte Saga : The Man of Property and In ...</td>\n",
       "      <td>John Galsworthy</td>\n",
       "      <td>Touchstone</td>\n",
       "      <td>2002</td>\n",
       "      <td>0.607280</td>\n",
       "    </tr>\n",
       "    <tr>\n",
       "      <th>3</th>\n",
       "      <td>In Chancery</td>\n",
       "      <td>John Galsworthy</td>\n",
       "      <td>Lb May &amp;amp; Assoc Inc</td>\n",
       "      <td>1999</td>\n",
       "      <td>0.391592</td>\n",
       "    </tr>\n",
       "    <tr>\n",
       "      <th>4</th>\n",
       "      <td>Of Mice and Men (Penguin Modern Classics)</td>\n",
       "      <td>John Steinbeck</td>\n",
       "      <td>Penguin Books Ltd</td>\n",
       "      <td>2004</td>\n",
       "      <td>0.348258</td>\n",
       "    </tr>\n",
       "  </tbody>\n",
       "</table>\n",
       "</div>"
      ],
      "text/plain": [
       "                                          Book-Title      Book-Author  \\\n",
       "0                                       Forsyte Saga  John Galsworthy   \n",
       "1                  Man of Property: The Forsyte Saga    J. Galsworthy   \n",
       "2  The Forsyte Saga : The Man of Property and In ...  John Galsworthy   \n",
       "3                                        In Chancery  John Galsworthy   \n",
       "4          Of Mice and Men (Penguin Modern Classics)   John Steinbeck   \n",
       "\n",
       "                Publisher Year-Of-Publication  similarity_score  \n",
       "0              Touchstone                1996          0.815395  \n",
       "1  Lb May &amp; Assoc Inc                2001          0.684410  \n",
       "2              Touchstone                2002          0.607280  \n",
       "3  Lb May &amp; Assoc Inc                1999          0.391592  \n",
       "4       Penguin Books Ltd                2004          0.348258  "
      ]
     },
     "execution_count": 19,
     "metadata": {},
     "output_type": "execute_result"
    }
   ],
   "source": [
    "recommend(dataBaru['Book-Title'].dropna().sample(1).iloc[0])\n"
   ]
  },
  {
   "cell_type": "markdown",
   "id": "842dc6cd",
   "metadata": {
    "papermill": {
     "duration": 0.007375,
     "end_time": "2025-05-18T14:01:20.175294",
     "exception": false,
     "start_time": "2025-05-18T14:01:20.167919",
     "status": "completed"
    },
    "tags": []
   },
   "source": [
    "## 4.2 Collaborative Filtering"
   ]
  },
  {
   "cell_type": "markdown",
   "id": "89ed8832",
   "metadata": {
    "papermill": {
     "duration": 0.007107,
     "end_time": "2025-05-18T14:01:20.189806",
     "exception": false,
     "start_time": "2025-05-18T14:01:20.182699",
     "status": "completed"
    },
    "tags": []
   },
   "source": [
    "### 4.2.1 Pendefinisian Model RecommenderNet (Neural Colaborative Filtering)"
   ]
  },
  {
   "cell_type": "code",
   "execution_count": 20,
   "id": "ec8bd803",
   "metadata": {
    "execution": {
     "iopub.execute_input": "2025-05-18T14:01:20.205770Z",
     "iopub.status.busy": "2025-05-18T14:01:20.205199Z",
     "iopub.status.idle": "2025-05-18T14:01:20.212483Z",
     "shell.execute_reply": "2025-05-18T14:01:20.211975Z"
    },
    "papermill": {
     "duration": 0.016262,
     "end_time": "2025-05-18T14:01:20.213489",
     "exception": false,
     "start_time": "2025-05-18T14:01:20.197227",
     "status": "completed"
    },
    "tags": []
   },
   "outputs": [],
   "source": [
    "import tensorflow as tf\n",
    "from tensorflow.keras import layers, regularizers, Model\n",
    "\n",
    "class RecommenderNet(Model):\n",
    "\n",
    "    def __init__(self, num_users, num_buku, embedding_size, dropout_rate=0.3, **kwargs):\n",
    "        super(RecommenderNet, self).__init__(**kwargs)\n",
    "        self.num_users = num_users\n",
    "        self.num_buku = num_buku\n",
    "        self.embedding_size = embedding_size\n",
    "        self.dropout_rate = dropout_rate\n",
    "\n",
    "        # User Embedding Layer\n",
    "        self.user_embedding = layers.Embedding(\n",
    "            input_dim=num_users,\n",
    "            output_dim=embedding_size,\n",
    "            embeddings_initializer='he_normal',\n",
    "            embeddings_regularizer=regularizers.l2(1e-6)\n",
    "        )\n",
    "        self.user_bias = layers.Embedding(input_dim=num_users, output_dim=1)\n",
    "\n",
    "        # Item Embedding Layer\n",
    "        self.buku_embedding = layers.Embedding(\n",
    "            input_dim=num_buku,\n",
    "            output_dim=embedding_size,\n",
    "            embeddings_initializer='he_normal',\n",
    "            embeddings_regularizer=regularizers.l2(1e-6)\n",
    "        )\n",
    "        self.buku_bias = layers.Embedding(input_dim=num_buku, output_dim=1)\n",
    "\n",
    "        # Dropout Layer\n",
    "        self.dropout = layers.Dropout(dropout_rate)\n",
    "\n",
    "        # Fully Connected Layer\n",
    "        self.fc1 = layers.Dense(embedding_size, activation='relu')\n",
    "        self.batch_norm = layers.BatchNormalization()\n",
    "        self.fc2 = layers.Dense(1, activation='sigmoid')\n",
    "\n",
    "    def call(self, inputs):\n",
    "        # Extract user and item embeddings\n",
    "        user_vector = self.user_embedding(inputs[:, 0])\n",
    "        user_bias = self.user_bias(inputs[:, 0])\n",
    "        buku_vector = self.buku_embedding(inputs[:, 1])\n",
    "        buku_bias = self.buku_bias(inputs[:, 1])\n",
    "\n",
    "        # Normalize embeddings\n",
    "        user_vector = tf.nn.l2_normalize(user_vector, axis=1)\n",
    "        buku_vector = tf.nn.l2_normalize(buku_vector, axis=1)\n",
    "\n",
    "        # Compute dot product\n",
    "        dot_product = tf.reduce_sum(user_vector * buku_vector, axis=1, keepdims=True)\n",
    "\n",
    "        # Add biases\n",
    "        x = dot_product + user_bias + buku_bias\n",
    "\n",
    "        # Apply dropout and dense layers\n",
    "        x = self.dropout(x)\n",
    "        x = self.fc1(x)\n",
    "        x = self.batch_norm(x)\n",
    "        x = self.fc2(x)\n",
    "\n",
    "        return x"
   ]
  },
  {
   "cell_type": "code",
   "execution_count": null,
   "id": "1d0a3602",
   "metadata": {
    "execution": {
     "iopub.execute_input": "2025-05-18T14:01:20.229289Z",
     "iopub.status.busy": "2025-05-18T14:01:20.229109Z",
     "iopub.status.idle": "2025-05-18T14:01:21.465784Z",
     "shell.execute_reply": "2025-05-18T14:01:21.464895Z"
    },
    "papermill": {
     "duration": 1.245922,
     "end_time": "2025-05-18T14:01:21.466869",
     "exception": false,
     "start_time": "2025-05-18T14:01:20.220947",
     "status": "completed"
    },
    "tags": []
   },
   "outputs": [
    {
     "name": "stderr",
     "output_type": "stream",
     "text": [
      "I0000 00:00:1747576881.408711      19 gpu_device.cc:2022] Created device /job:localhost/replica:0/task:0/device:GPU:0 with 15513 MB memory:  -> device: 0, name: Tesla P100-PCIE-16GB, pci bus id: 0000:00:04.0, compute capability: 6.0\n"
     ]
    }
   ],
   "source": [
    "model = RecommenderNet(num_users, num_items, 512) # inisialisasi model\n",
    " \n",
    "model.compile(\n",
    "    optimizer=tf.keras.optimizers.Adam(learning_rate=0.00005),\n",
    "    loss='mse',\n",
    "    metrics=[tf.keras.metrics.RootMeanSquaredError(name='rmse')]\n",
    ")"
   ]
  },
  {
   "cell_type": "markdown",
   "id": "a6ec01e8",
   "metadata": {
    "papermill": {
     "duration": 0.007628,
     "end_time": "2025-05-18T14:01:21.482372",
     "exception": false,
     "start_time": "2025-05-18T14:01:21.474744",
     "status": "completed"
    },
    "tags": []
   },
   "source": [
    "### 4.2.2 Pelatihan Model Rekomendasi"
   ]
  },
  {
   "cell_type": "code",
   "execution_count": 22,
   "id": "573d6a74",
   "metadata": {
    "execution": {
     "iopub.execute_input": "2025-05-18T14:01:21.498347Z",
     "iopub.status.busy": "2025-05-18T14:01:21.497883Z",
     "iopub.status.idle": "2025-05-18T14:09:33.957667Z",
     "shell.execute_reply": "2025-05-18T14:09:33.957105Z"
    },
    "papermill": {
     "duration": 492.46904,
     "end_time": "2025-05-18T14:09:33.958788",
     "exception": false,
     "start_time": "2025-05-18T14:01:21.489748",
     "status": "completed"
    },
    "tags": []
   },
   "outputs": [
    {
     "name": "stdout",
     "output_type": "stream",
     "text": [
      "Epoch 1/100\n"
     ]
    },
    {
     "name": "stderr",
     "output_type": "stream",
     "text": [
      "/usr/local/lib/python3.11/dist-packages/tensorflow/python/framework/indexed_slices.py:446: UserWarning: Converting sparse IndexedSlices to a dense Tensor with 117245440 elements. This may consume a large amount of memory.\n",
      "  warnings.warn(\n",
      "WARNING: All log messages before absl::InitializeLog() is called are written to STDERR\n",
      "I0000 00:00:1747576886.264252      60 service.cc:148] XLA service 0x7b79e400d510 initialized for platform CUDA (this does not guarantee that XLA will be used). Devices:\n",
      "I0000 00:00:1747576886.265139      60 service.cc:156]   StreamExecutor device (0): Tesla P100-PCIE-16GB, Compute Capability 6.0\n",
      "I0000 00:00:1747576886.560810      60 cuda_dnn.cc:529] Loaded cuDNN version 90300\n"
     ]
    },
    {
     "name": "stdout",
     "output_type": "stream",
     "text": [
      "\u001b[1m  8/295\u001b[0m \u001b[37m━━━━━━━━━━━━━━━━━━━━\u001b[0m \u001b[1m4s\u001b[0m 16ms/step - loss: 0.1992 - rmse: 0.4440"
     ]
    },
    {
     "name": "stderr",
     "output_type": "stream",
     "text": [
      "I0000 00:00:1747576887.627367      60 device_compiler.h:188] Compiled cluster using XLA!  This line is logged at most once for the lifetime of the process.\n"
     ]
    },
    {
     "name": "stdout",
     "output_type": "stream",
     "text": [
      "\u001b[1m295/295\u001b[0m \u001b[32m━━━━━━━━━━━━━━━━━━━━\u001b[0m\u001b[37m\u001b[0m \u001b[1m13s\u001b[0m 24ms/step - loss: 0.1763 - rmse: 0.4173 - val_loss: 0.1509 - val_rmse: 0.3863\n",
      "Epoch 2/100\n",
      "\u001b[1m295/295\u001b[0m \u001b[32m━━━━━━━━━━━━━━━━━━━━\u001b[0m\u001b[37m\u001b[0m \u001b[1m5s\u001b[0m 16ms/step - loss: 0.1259 - rmse: 0.3522 - val_loss: 0.1376 - val_rmse: 0.3685\n",
      "Epoch 3/100\n",
      "\u001b[1m295/295\u001b[0m \u001b[32m━━━━━━━━━━━━━━━━━━━━\u001b[0m\u001b[37m\u001b[0m \u001b[1m5s\u001b[0m 16ms/step - loss: 0.0292 - rmse: 0.1654 - val_loss: 0.1331 - val_rmse: 0.3623\n",
      "Epoch 4/100\n",
      "\u001b[1m295/295\u001b[0m \u001b[32m━━━━━━━━━━━━━━━━━━━━\u001b[0m\u001b[37m\u001b[0m \u001b[1m5s\u001b[0m 16ms/step - loss: 0.0132 - rmse: 0.1068 - val_loss: 0.1323 - val_rmse: 0.3614\n",
      "Epoch 5/100\n",
      "\u001b[1m295/295\u001b[0m \u001b[32m━━━━━━━━━━━━━━━━━━━━\u001b[0m\u001b[37m\u001b[0m \u001b[1m5s\u001b[0m 16ms/step - loss: 0.0133 - rmse: 0.1076 - val_loss: 0.1318 - val_rmse: 0.3607\n",
      "Epoch 6/100\n",
      "\u001b[1m295/295\u001b[0m \u001b[32m━━━━━━━━━━━━━━━━━━━━\u001b[0m\u001b[37m\u001b[0m \u001b[1m5s\u001b[0m 16ms/step - loss: 0.0116 - rmse: 0.0996 - val_loss: 0.1315 - val_rmse: 0.3603\n",
      "Epoch 7/100\n",
      "\u001b[1m295/295\u001b[0m \u001b[32m━━━━━━━━━━━━━━━━━━━━\u001b[0m\u001b[37m\u001b[0m \u001b[1m5s\u001b[0m 16ms/step - loss: 0.0107 - rmse: 0.0947 - val_loss: 0.1313 - val_rmse: 0.3601\n",
      "Epoch 8/100\n",
      "\u001b[1m295/295\u001b[0m \u001b[32m━━━━━━━━━━━━━━━━━━━━\u001b[0m\u001b[37m\u001b[0m \u001b[1m5s\u001b[0m 16ms/step - loss: 0.0096 - rmse: 0.0892 - val_loss: 0.1312 - val_rmse: 0.3599\n",
      "Epoch 9/100\n",
      "\u001b[1m295/295\u001b[0m \u001b[32m━━━━━━━━━━━━━━━━━━━━\u001b[0m\u001b[37m\u001b[0m \u001b[1m5s\u001b[0m 16ms/step - loss: 0.0088 - rmse: 0.0847 - val_loss: 0.1311 - val_rmse: 0.3598\n",
      "Epoch 10/100\n",
      "\u001b[1m295/295\u001b[0m \u001b[32m━━━━━━━━━━━━━━━━━━━━\u001b[0m\u001b[37m\u001b[0m \u001b[1m5s\u001b[0m 16ms/step - loss: 0.0083 - rmse: 0.0815 - val_loss: 0.1311 - val_rmse: 0.3599\n",
      "Epoch 11/100\n",
      "\u001b[1m295/295\u001b[0m \u001b[32m━━━━━━━━━━━━━━━━━━━━\u001b[0m\u001b[37m\u001b[0m \u001b[1m5s\u001b[0m 16ms/step - loss: 0.0077 - rmse: 0.0779 - val_loss: 0.1312 - val_rmse: 0.3599\n",
      "Epoch 12/100\n",
      "\u001b[1m295/295\u001b[0m \u001b[32m━━━━━━━━━━━━━━━━━━━━\u001b[0m\u001b[37m\u001b[0m \u001b[1m5s\u001b[0m 16ms/step - loss: 0.0072 - rmse: 0.0745 - val_loss: 0.1315 - val_rmse: 0.3604\n",
      "Epoch 13/100\n",
      "\u001b[1m295/295\u001b[0m \u001b[32m━━━━━━━━━━━━━━━━━━━━\u001b[0m\u001b[37m\u001b[0m \u001b[1m5s\u001b[0m 16ms/step - loss: 0.0068 - rmse: 0.0723 - val_loss: 0.1321 - val_rmse: 0.3612\n",
      "Epoch 14/100\n",
      "\u001b[1m295/295\u001b[0m \u001b[32m━━━━━━━━━━━━━━━━━━━━\u001b[0m\u001b[37m\u001b[0m \u001b[1m5s\u001b[0m 16ms/step - loss: 0.0066 - rmse: 0.0706 - val_loss: 0.1328 - val_rmse: 0.3622\n",
      "Epoch 15/100\n",
      "\u001b[1m295/295\u001b[0m \u001b[32m━━━━━━━━━━━━━━━━━━━━\u001b[0m\u001b[37m\u001b[0m \u001b[1m5s\u001b[0m 16ms/step - loss: 0.0064 - rmse: 0.0691 - val_loss: 0.1339 - val_rmse: 0.3637\n",
      "Epoch 16/100\n",
      "\u001b[1m295/295\u001b[0m \u001b[32m━━━━━━━━━━━━━━━━━━━━\u001b[0m\u001b[37m\u001b[0m \u001b[1m5s\u001b[0m 16ms/step - loss: 0.0061 - rmse: 0.0674 - val_loss: 0.1357 - val_rmse: 0.3662\n",
      "Epoch 17/100\n",
      "\u001b[1m295/295\u001b[0m \u001b[32m━━━━━━━━━━━━━━━━━━━━\u001b[0m\u001b[37m\u001b[0m \u001b[1m5s\u001b[0m 16ms/step - loss: 0.0060 - rmse: 0.0661 - val_loss: 0.1377 - val_rmse: 0.3689\n",
      "Epoch 18/100\n",
      "\u001b[1m295/295\u001b[0m \u001b[32m━━━━━━━━━━━━━━━━━━━━\u001b[0m\u001b[37m\u001b[0m \u001b[1m5s\u001b[0m 16ms/step - loss: 0.0058 - rmse: 0.0650 - val_loss: 0.1396 - val_rmse: 0.3715\n",
      "Epoch 19/100\n",
      "\u001b[1m295/295\u001b[0m \u001b[32m━━━━━━━━━━━━━━━━━━━━\u001b[0m\u001b[37m\u001b[0m \u001b[1m5s\u001b[0m 16ms/step - loss: 0.0057 - rmse: 0.0638 - val_loss: 0.1428 - val_rmse: 0.3758\n",
      "Epoch 20/100\n",
      "\u001b[1m295/295\u001b[0m \u001b[32m━━━━━━━━━━━━━━━━━━━━\u001b[0m\u001b[37m\u001b[0m \u001b[1m5s\u001b[0m 16ms/step - loss: 0.0055 - rmse: 0.0621 - val_loss: 0.1440 - val_rmse: 0.3774\n",
      "Epoch 21/100\n",
      "\u001b[1m295/295\u001b[0m \u001b[32m━━━━━━━━━━━━━━━━━━━━\u001b[0m\u001b[37m\u001b[0m \u001b[1m5s\u001b[0m 16ms/step - loss: 0.0052 - rmse: 0.0600 - val_loss: 0.1447 - val_rmse: 0.3783\n",
      "Epoch 22/100\n",
      "\u001b[1m295/295\u001b[0m \u001b[32m━━━━━━━━━━━━━━━━━━━━\u001b[0m\u001b[37m\u001b[0m \u001b[1m5s\u001b[0m 16ms/step - loss: 0.0050 - rmse: 0.0585 - val_loss: 0.1457 - val_rmse: 0.3796\n",
      "Epoch 23/100\n",
      "\u001b[1m295/295\u001b[0m \u001b[32m━━━━━━━━━━━━━━━━━━━━\u001b[0m\u001b[37m\u001b[0m \u001b[1m5s\u001b[0m 16ms/step - loss: 0.0050 - rmse: 0.0582 - val_loss: 0.1479 - val_rmse: 0.3825\n",
      "Epoch 24/100\n",
      "\u001b[1m295/295\u001b[0m \u001b[32m━━━━━━━━━━━━━━━━━━━━\u001b[0m\u001b[37m\u001b[0m \u001b[1m5s\u001b[0m 16ms/step - loss: 0.0050 - rmse: 0.0582 - val_loss: 0.1499 - val_rmse: 0.3852\n",
      "Epoch 25/100\n",
      "\u001b[1m295/295\u001b[0m \u001b[32m━━━━━━━━━━━━━━━━━━━━\u001b[0m\u001b[37m\u001b[0m \u001b[1m5s\u001b[0m 16ms/step - loss: 0.0050 - rmse: 0.0585 - val_loss: 0.1536 - val_rmse: 0.3898\n",
      "Epoch 26/100\n",
      "\u001b[1m295/295\u001b[0m \u001b[32m━━━━━━━━━━━━━━━━━━━━\u001b[0m\u001b[37m\u001b[0m \u001b[1m5s\u001b[0m 16ms/step - loss: 0.0051 - rmse: 0.0590 - val_loss: 0.1554 - val_rmse: 0.3922\n",
      "Epoch 27/100\n",
      "\u001b[1m295/295\u001b[0m \u001b[32m━━━━━━━━━━━━━━━━━━━━\u001b[0m\u001b[37m\u001b[0m \u001b[1m5s\u001b[0m 16ms/step - loss: 0.0052 - rmse: 0.0600 - val_loss: 0.1573 - val_rmse: 0.3946\n",
      "Epoch 28/100\n",
      "\u001b[1m295/295\u001b[0m \u001b[32m━━━━━━━━━━━━━━━━━━━━\u001b[0m\u001b[37m\u001b[0m \u001b[1m5s\u001b[0m 16ms/step - loss: 0.0052 - rmse: 0.0603 - val_loss: 0.1560 - val_rmse: 0.3929\n",
      "Epoch 29/100\n",
      "\u001b[1m295/295\u001b[0m \u001b[32m━━━━━━━━━━━━━━━━━━━━\u001b[0m\u001b[37m\u001b[0m \u001b[1m5s\u001b[0m 16ms/step - loss: 0.0052 - rmse: 0.0605 - val_loss: 0.1564 - val_rmse: 0.3935\n",
      "Epoch 30/100\n",
      "\u001b[1m295/295\u001b[0m \u001b[32m━━━━━━━━━━━━━━━━━━━━\u001b[0m\u001b[37m\u001b[0m \u001b[1m5s\u001b[0m 16ms/step - loss: 0.0053 - rmse: 0.0608 - val_loss: 0.1574 - val_rmse: 0.3948\n",
      "Epoch 31/100\n",
      "\u001b[1m295/295\u001b[0m \u001b[32m━━━━━━━━━━━━━━━━━━━━\u001b[0m\u001b[37m\u001b[0m \u001b[1m5s\u001b[0m 16ms/step - loss: 0.0054 - rmse: 0.0613 - val_loss: 0.1561 - val_rmse: 0.3931\n",
      "Epoch 32/100\n",
      "\u001b[1m295/295\u001b[0m \u001b[32m━━━━━━━━━━━━━━━━━━━━\u001b[0m\u001b[37m\u001b[0m \u001b[1m5s\u001b[0m 16ms/step - loss: 0.0054 - rmse: 0.0619 - val_loss: 0.1538 - val_rmse: 0.3902\n",
      "Epoch 33/100\n",
      "\u001b[1m295/295\u001b[0m \u001b[32m━━━━━━━━━━━━━━━━━━━━\u001b[0m\u001b[37m\u001b[0m \u001b[1m5s\u001b[0m 16ms/step - loss: 0.0053 - rmse: 0.0611 - val_loss: 0.1533 - val_rmse: 0.3895\n",
      "Epoch 34/100\n",
      "\u001b[1m295/295\u001b[0m \u001b[32m━━━━━━━━━━━━━━━━━━━━\u001b[0m\u001b[37m\u001b[0m \u001b[1m5s\u001b[0m 16ms/step - loss: 0.0053 - rmse: 0.0607 - val_loss: 0.1511 - val_rmse: 0.3867\n",
      "Epoch 35/100\n",
      "\u001b[1m295/295\u001b[0m \u001b[32m━━━━━━━━━━━━━━━━━━━━\u001b[0m\u001b[37m\u001b[0m \u001b[1m5s\u001b[0m 16ms/step - loss: 0.0051 - rmse: 0.0595 - val_loss: 0.1520 - val_rmse: 0.3878\n",
      "Epoch 36/100\n",
      "\u001b[1m295/295\u001b[0m \u001b[32m━━━━━━━━━━━━━━━━━━━━\u001b[0m\u001b[37m\u001b[0m \u001b[1m5s\u001b[0m 16ms/step - loss: 0.0051 - rmse: 0.0591 - val_loss: 0.1530 - val_rmse: 0.3891\n",
      "Epoch 37/100\n",
      "\u001b[1m295/295\u001b[0m \u001b[32m━━━━━━━━━━━━━━━━━━━━\u001b[0m\u001b[37m\u001b[0m \u001b[1m5s\u001b[0m 16ms/step - loss: 0.0051 - rmse: 0.0591 - val_loss: 0.1530 - val_rmse: 0.3891\n",
      "Epoch 38/100\n",
      "\u001b[1m295/295\u001b[0m \u001b[32m━━━━━━━━━━━━━━━━━━━━\u001b[0m\u001b[37m\u001b[0m \u001b[1m5s\u001b[0m 16ms/step - loss: 0.0051 - rmse: 0.0595 - val_loss: 0.1518 - val_rmse: 0.3876\n",
      "Epoch 39/100\n",
      "\u001b[1m295/295\u001b[0m \u001b[32m━━━━━━━━━━━━━━━━━━━━\u001b[0m\u001b[37m\u001b[0m \u001b[1m5s\u001b[0m 16ms/step - loss: 0.0052 - rmse: 0.0602 - val_loss: 0.1484 - val_rmse: 0.3831\n",
      "Epoch 40/100\n",
      "\u001b[1m295/295\u001b[0m \u001b[32m━━━━━━━━━━━━━━━━━━━━\u001b[0m\u001b[37m\u001b[0m \u001b[1m5s\u001b[0m 16ms/step - loss: 0.0053 - rmse: 0.0611 - val_loss: 0.1490 - val_rmse: 0.3840\n",
      "Epoch 41/100\n",
      "\u001b[1m295/295\u001b[0m \u001b[32m━━━━━━━━━━━━━━━━━━━━\u001b[0m\u001b[37m\u001b[0m \u001b[1m5s\u001b[0m 16ms/step - loss: 0.0054 - rmse: 0.0616 - val_loss: 0.1457 - val_rmse: 0.3795\n",
      "Epoch 42/100\n",
      "\u001b[1m295/295\u001b[0m \u001b[32m━━━━━━━━━━━━━━━━━━━━\u001b[0m\u001b[37m\u001b[0m \u001b[1m5s\u001b[0m 16ms/step - loss: 0.0056 - rmse: 0.0629 - val_loss: 0.1415 - val_rmse: 0.3740\n",
      "Epoch 43/100\n",
      "\u001b[1m295/295\u001b[0m \u001b[32m━━━━━━━━━━━━━━━━━━━━\u001b[0m\u001b[37m\u001b[0m \u001b[1m5s\u001b[0m 16ms/step - loss: 0.0057 - rmse: 0.0635 - val_loss: 0.1411 - val_rmse: 0.3734\n",
      "Epoch 44/100\n",
      "\u001b[1m295/295\u001b[0m \u001b[32m━━━━━━━━━━━━━━━━━━━━\u001b[0m\u001b[37m\u001b[0m \u001b[1m5s\u001b[0m 16ms/step - loss: 0.0057 - rmse: 0.0631 - val_loss: 0.1377 - val_rmse: 0.3688\n",
      "Epoch 45/100\n",
      "\u001b[1m295/295\u001b[0m \u001b[32m━━━━━━━━━━━━━━━━━━━━\u001b[0m\u001b[37m\u001b[0m \u001b[1m5s\u001b[0m 16ms/step - loss: 0.0056 - rmse: 0.0629 - val_loss: 0.1368 - val_rmse: 0.3675\n",
      "Epoch 46/100\n",
      "\u001b[1m295/295\u001b[0m \u001b[32m━━━━━━━━━━━━━━━━━━━━\u001b[0m\u001b[37m\u001b[0m \u001b[1m5s\u001b[0m 16ms/step - loss: 0.0057 - rmse: 0.0629 - val_loss: 0.1347 - val_rmse: 0.3646\n",
      "Epoch 47/100\n",
      "\u001b[1m295/295\u001b[0m \u001b[32m━━━━━━━━━━━━━━━━━━━━\u001b[0m\u001b[37m\u001b[0m \u001b[1m5s\u001b[0m 16ms/step - loss: 0.0056 - rmse: 0.0626 - val_loss: 0.1348 - val_rmse: 0.3648\n",
      "Epoch 48/100\n",
      "\u001b[1m295/295\u001b[0m \u001b[32m━━━━━━━━━━━━━━━━━━━━\u001b[0m\u001b[37m\u001b[0m \u001b[1m5s\u001b[0m 16ms/step - loss: 0.0056 - rmse: 0.0622 - val_loss: 0.1337 - val_rmse: 0.3632\n",
      "Epoch 49/100\n",
      "\u001b[1m295/295\u001b[0m \u001b[32m━━━━━━━━━━━━━━━━━━━━\u001b[0m\u001b[37m\u001b[0m \u001b[1m5s\u001b[0m 16ms/step - loss: 0.0055 - rmse: 0.0612 - val_loss: 0.1340 - val_rmse: 0.3637\n",
      "Epoch 50/100\n",
      "\u001b[1m295/295\u001b[0m \u001b[32m━━━━━━━━━━━━━━━━━━━━\u001b[0m\u001b[37m\u001b[0m \u001b[1m5s\u001b[0m 16ms/step - loss: 0.0052 - rmse: 0.0591 - val_loss: 0.1347 - val_rmse: 0.3646\n",
      "Epoch 51/100\n",
      "\u001b[1m295/295\u001b[0m \u001b[32m━━━━━━━━━━━━━━━━━━━━\u001b[0m\u001b[37m\u001b[0m \u001b[1m5s\u001b[0m 16ms/step - loss: 0.0051 - rmse: 0.0577 - val_loss: 0.1355 - val_rmse: 0.3658\n",
      "Epoch 52/100\n",
      "\u001b[1m295/295\u001b[0m \u001b[32m━━━━━━━━━━━━━━━━━━━━\u001b[0m\u001b[37m\u001b[0m \u001b[1m5s\u001b[0m 16ms/step - loss: 0.0050 - rmse: 0.0566 - val_loss: 0.1361 - val_rmse: 0.3666\n",
      "Epoch 53/100\n",
      "\u001b[1m295/295\u001b[0m \u001b[32m━━━━━━━━━━━━━━━━━━━━\u001b[0m\u001b[37m\u001b[0m \u001b[1m5s\u001b[0m 16ms/step - loss: 0.0049 - rmse: 0.0558 - val_loss: 0.1368 - val_rmse: 0.3675\n",
      "Epoch 54/100\n",
      "\u001b[1m295/295\u001b[0m \u001b[32m━━━━━━━━━━━━━━━━━━━━\u001b[0m\u001b[37m\u001b[0m \u001b[1m5s\u001b[0m 16ms/step - loss: 0.0048 - rmse: 0.0557 - val_loss: 0.1381 - val_rmse: 0.3693\n",
      "Epoch 55/100\n",
      "\u001b[1m295/295\u001b[0m \u001b[32m━━━━━━━━━━━━━━━━━━━━\u001b[0m\u001b[37m\u001b[0m \u001b[1m5s\u001b[0m 16ms/step - loss: 0.0048 - rmse: 0.0559 - val_loss: 0.1393 - val_rmse: 0.3709\n",
      "Epoch 56/100\n",
      "\u001b[1m295/295\u001b[0m \u001b[32m━━━━━━━━━━━━━━━━━━━━\u001b[0m\u001b[37m\u001b[0m \u001b[1m5s\u001b[0m 16ms/step - loss: 0.0049 - rmse: 0.0563 - val_loss: 0.1398 - val_rmse: 0.3716\n",
      "Epoch 57/100\n",
      "\u001b[1m295/295\u001b[0m \u001b[32m━━━━━━━━━━━━━━━━━━━━\u001b[0m\u001b[37m\u001b[0m \u001b[1m5s\u001b[0m 16ms/step - loss: 0.0050 - rmse: 0.0571 - val_loss: 0.1421 - val_rmse: 0.3747\n",
      "Epoch 58/100\n",
      "\u001b[1m295/295\u001b[0m \u001b[32m━━━━━━━━━━━━━━━━━━━━\u001b[0m\u001b[37m\u001b[0m \u001b[1m5s\u001b[0m 16ms/step - loss: 0.0050 - rmse: 0.0577 - val_loss: 0.1427 - val_rmse: 0.3755\n",
      "Epoch 59/100\n",
      "\u001b[1m295/295\u001b[0m \u001b[32m━━━━━━━━━━━━━━━━━━━━\u001b[0m\u001b[37m\u001b[0m \u001b[1m5s\u001b[0m 16ms/step - loss: 0.0051 - rmse: 0.0583 - val_loss: 0.1430 - val_rmse: 0.3759\n",
      "Epoch 60/100\n",
      "\u001b[1m295/295\u001b[0m \u001b[32m━━━━━━━━━━━━━━━━━━━━\u001b[0m\u001b[37m\u001b[0m \u001b[1m5s\u001b[0m 16ms/step - loss: 0.0051 - rmse: 0.0585 - val_loss: 0.1445 - val_rmse: 0.3779\n",
      "Epoch 61/100\n",
      "\u001b[1m295/295\u001b[0m \u001b[32m━━━━━━━━━━━━━━━━━━━━\u001b[0m\u001b[37m\u001b[0m \u001b[1m5s\u001b[0m 16ms/step - loss: 0.0051 - rmse: 0.0583 - val_loss: 0.1447 - val_rmse: 0.3781\n",
      "Epoch 62/100\n",
      "\u001b[1m295/295\u001b[0m \u001b[32m━━━━━━━━━━━━━━━━━━━━\u001b[0m\u001b[37m\u001b[0m \u001b[1m5s\u001b[0m 16ms/step - loss: 0.0051 - rmse: 0.0585 - val_loss: 0.1457 - val_rmse: 0.3795\n",
      "Epoch 63/100\n",
      "\u001b[1m295/295\u001b[0m \u001b[32m━━━━━━━━━━━━━━━━━━━━\u001b[0m\u001b[37m\u001b[0m \u001b[1m5s\u001b[0m 16ms/step - loss: 0.0051 - rmse: 0.0584 - val_loss: 0.1453 - val_rmse: 0.3790\n",
      "Epoch 64/100\n",
      "\u001b[1m295/295\u001b[0m \u001b[32m━━━━━━━━━━━━━━━━━━━━\u001b[0m\u001b[37m\u001b[0m \u001b[1m5s\u001b[0m 16ms/step - loss: 0.0051 - rmse: 0.0586 - val_loss: 0.1461 - val_rmse: 0.3800\n",
      "Epoch 65/100\n",
      "\u001b[1m295/295\u001b[0m \u001b[32m━━━━━━━━━━━━━━━━━━━━\u001b[0m\u001b[37m\u001b[0m \u001b[1m5s\u001b[0m 16ms/step - loss: 0.0051 - rmse: 0.0582 - val_loss: 0.1457 - val_rmse: 0.3795\n",
      "Epoch 66/100\n",
      "\u001b[1m295/295\u001b[0m \u001b[32m━━━━━━━━━━━━━━━━━━━━\u001b[0m\u001b[37m\u001b[0m \u001b[1m5s\u001b[0m 16ms/step - loss: 0.0050 - rmse: 0.0577 - val_loss: 0.1453 - val_rmse: 0.3790\n",
      "Epoch 67/100\n",
      "\u001b[1m295/295\u001b[0m \u001b[32m━━━━━━━━━━━━━━━━━━━━\u001b[0m\u001b[37m\u001b[0m \u001b[1m5s\u001b[0m 16ms/step - loss: 0.0049 - rmse: 0.0572 - val_loss: 0.1456 - val_rmse: 0.3794\n",
      "Epoch 68/100\n",
      "\u001b[1m295/295\u001b[0m \u001b[32m━━━━━━━━━━━━━━━━━━━━\u001b[0m\u001b[37m\u001b[0m \u001b[1m5s\u001b[0m 16ms/step - loss: 0.0049 - rmse: 0.0570 - val_loss: 0.1452 - val_rmse: 0.3789\n",
      "Epoch 69/100\n",
      "\u001b[1m295/295\u001b[0m \u001b[32m━━━━━━━━━━━━━━━━━━━━\u001b[0m\u001b[37m\u001b[0m \u001b[1m5s\u001b[0m 16ms/step - loss: 0.0049 - rmse: 0.0571 - val_loss: 0.1454 - val_rmse: 0.3791\n",
      "Epoch 70/100\n",
      "\u001b[1m295/295\u001b[0m \u001b[32m━━━━━━━━━━━━━━━━━━━━\u001b[0m\u001b[37m\u001b[0m \u001b[1m5s\u001b[0m 16ms/step - loss: 0.0050 - rmse: 0.0576 - val_loss: 0.1455 - val_rmse: 0.3793\n",
      "Epoch 71/100\n",
      "\u001b[1m295/295\u001b[0m \u001b[32m━━━━━━━━━━━━━━━━━━━━\u001b[0m\u001b[37m\u001b[0m \u001b[1m5s\u001b[0m 16ms/step - loss: 0.0049 - rmse: 0.0569 - val_loss: 0.1461 - val_rmse: 0.3801\n",
      "Epoch 72/100\n",
      "\u001b[1m295/295\u001b[0m \u001b[32m━━━━━━━━━━━━━━━━━━━━\u001b[0m\u001b[37m\u001b[0m \u001b[1m5s\u001b[0m 16ms/step - loss: 0.0049 - rmse: 0.0569 - val_loss: 0.1464 - val_rmse: 0.3804\n",
      "Epoch 73/100\n",
      "\u001b[1m295/295\u001b[0m \u001b[32m━━━━━━━━━━━━━━━━━━━━\u001b[0m\u001b[37m\u001b[0m \u001b[1m5s\u001b[0m 16ms/step - loss: 0.0049 - rmse: 0.0574 - val_loss: 0.1456 - val_rmse: 0.3794\n",
      "Epoch 74/100\n",
      "\u001b[1m295/295\u001b[0m \u001b[32m━━━━━━━━━━━━━━━━━━━━\u001b[0m\u001b[37m\u001b[0m \u001b[1m5s\u001b[0m 16ms/step - loss: 0.0050 - rmse: 0.0579 - val_loss: 0.1455 - val_rmse: 0.3794\n",
      "Epoch 75/100\n",
      "\u001b[1m295/295\u001b[0m \u001b[32m━━━━━━━━━━━━━━━━━━━━\u001b[0m\u001b[37m\u001b[0m \u001b[1m5s\u001b[0m 16ms/step - loss: 0.0050 - rmse: 0.0581 - val_loss: 0.1462 - val_rmse: 0.3803\n",
      "Epoch 76/100\n",
      "\u001b[1m295/295\u001b[0m \u001b[32m━━━━━━━━━━━━━━━━━━━━\u001b[0m\u001b[37m\u001b[0m \u001b[1m5s\u001b[0m 16ms/step - loss: 0.0051 - rmse: 0.0587 - val_loss: 0.1458 - val_rmse: 0.3797\n",
      "Epoch 77/100\n",
      "\u001b[1m295/295\u001b[0m \u001b[32m━━━━━━━━━━━━━━━━━━━━\u001b[0m\u001b[37m\u001b[0m \u001b[1m5s\u001b[0m 16ms/step - loss: 0.0050 - rmse: 0.0581 - val_loss: 0.1460 - val_rmse: 0.3800\n",
      "Epoch 78/100\n",
      "\u001b[1m295/295\u001b[0m \u001b[32m━━━━━━━━━━━━━━━━━━━━\u001b[0m\u001b[37m\u001b[0m \u001b[1m5s\u001b[0m 16ms/step - loss: 0.0050 - rmse: 0.0586 - val_loss: 0.1464 - val_rmse: 0.3805\n",
      "Epoch 79/100\n",
      "\u001b[1m295/295\u001b[0m \u001b[32m━━━━━━━━━━━━━━━━━━━━\u001b[0m\u001b[37m\u001b[0m \u001b[1m5s\u001b[0m 16ms/step - loss: 0.0051 - rmse: 0.0593 - val_loss: 0.1464 - val_rmse: 0.3806\n",
      "Epoch 80/100\n",
      "\u001b[1m295/295\u001b[0m \u001b[32m━━━━━━━━━━━━━━━━━━━━\u001b[0m\u001b[37m\u001b[0m \u001b[1m5s\u001b[0m 16ms/step - loss: 0.0051 - rmse: 0.0589 - val_loss: 0.1454 - val_rmse: 0.3793\n",
      "Epoch 81/100\n",
      "\u001b[1m295/295\u001b[0m \u001b[32m━━━━━━━━━━━━━━━━━━━━\u001b[0m\u001b[37m\u001b[0m \u001b[1m5s\u001b[0m 16ms/step - loss: 0.0051 - rmse: 0.0590 - val_loss: 0.1462 - val_rmse: 0.3802\n",
      "Epoch 82/100\n",
      "\u001b[1m295/295\u001b[0m \u001b[32m━━━━━━━━━━━━━━━━━━━━\u001b[0m\u001b[37m\u001b[0m \u001b[1m5s\u001b[0m 16ms/step - loss: 0.0051 - rmse: 0.0590 - val_loss: 0.1457 - val_rmse: 0.3796\n",
      "Epoch 83/100\n",
      "\u001b[1m295/295\u001b[0m \u001b[32m━━━━━━━━━━━━━━━━━━━━\u001b[0m\u001b[37m\u001b[0m \u001b[1m5s\u001b[0m 16ms/step - loss: 0.0051 - rmse: 0.0591 - val_loss: 0.1454 - val_rmse: 0.3793\n",
      "Epoch 84/100\n",
      "\u001b[1m295/295\u001b[0m \u001b[32m━━━━━━━━━━━━━━━━━━━━\u001b[0m\u001b[37m\u001b[0m \u001b[1m5s\u001b[0m 16ms/step - loss: 0.0050 - rmse: 0.0588 - val_loss: 0.1454 - val_rmse: 0.3792\n",
      "Epoch 85/100\n",
      "\u001b[1m295/295\u001b[0m \u001b[32m━━━━━━━━━━━━━━━━━━━━\u001b[0m\u001b[37m\u001b[0m \u001b[1m5s\u001b[0m 16ms/step - loss: 0.0051 - rmse: 0.0590 - val_loss: 0.1462 - val_rmse: 0.3803\n",
      "Epoch 86/100\n",
      "\u001b[1m295/295\u001b[0m \u001b[32m━━━━━━━━━━━━━━━━━━━━\u001b[0m\u001b[37m\u001b[0m \u001b[1m5s\u001b[0m 16ms/step - loss: 0.0051 - rmse: 0.0596 - val_loss: 0.1459 - val_rmse: 0.3799\n",
      "Epoch 87/100\n",
      "\u001b[1m295/295\u001b[0m \u001b[32m━━━━━━━━━━━━━━━━━━━━\u001b[0m\u001b[37m\u001b[0m \u001b[1m5s\u001b[0m 16ms/step - loss: 0.0051 - rmse: 0.0595 - val_loss: 0.1446 - val_rmse: 0.3782\n",
      "Epoch 88/100\n",
      "\u001b[1m295/295\u001b[0m \u001b[32m━━━━━━━━━━━━━━━━━━━━\u001b[0m\u001b[37m\u001b[0m \u001b[1m5s\u001b[0m 17ms/step - loss: 0.0051 - rmse: 0.0594 - val_loss: 0.1442 - val_rmse: 0.3776\n",
      "Epoch 89/100\n",
      "\u001b[1m295/295\u001b[0m \u001b[32m━━━━━━━━━━━━━━━━━━━━\u001b[0m\u001b[37m\u001b[0m \u001b[1m5s\u001b[0m 16ms/step - loss: 0.0051 - rmse: 0.0597 - val_loss: 0.1453 - val_rmse: 0.3791\n",
      "Epoch 90/100\n",
      "\u001b[1m295/295\u001b[0m \u001b[32m━━━━━━━━━━━━━━━━━━━━\u001b[0m\u001b[37m\u001b[0m \u001b[1m5s\u001b[0m 16ms/step - loss: 0.0052 - rmse: 0.0602 - val_loss: 0.1451 - val_rmse: 0.3788\n",
      "Epoch 91/100\n",
      "\u001b[1m295/295\u001b[0m \u001b[32m━━━━━━━━━━━━━━━━━━━━\u001b[0m\u001b[37m\u001b[0m \u001b[1m5s\u001b[0m 16ms/step - loss: 0.0052 - rmse: 0.0600 - val_loss: 0.1447 - val_rmse: 0.3783\n",
      "Epoch 92/100\n",
      "\u001b[1m295/295\u001b[0m \u001b[32m━━━━━━━━━━━━━━━━━━━━\u001b[0m\u001b[37m\u001b[0m \u001b[1m5s\u001b[0m 16ms/step - loss: 0.0052 - rmse: 0.0604 - val_loss: 0.1437 - val_rmse: 0.3770\n",
      "Epoch 93/100\n",
      "\u001b[1m295/295\u001b[0m \u001b[32m━━━━━━━━━━━━━━━━━━━━\u001b[0m\u001b[37m\u001b[0m \u001b[1m5s\u001b[0m 16ms/step - loss: 0.0051 - rmse: 0.0599 - val_loss: 0.1453 - val_rmse: 0.3791\n",
      "Epoch 94/100\n",
      "\u001b[1m295/295\u001b[0m \u001b[32m━━━━━━━━━━━━━━━━━━━━\u001b[0m\u001b[37m\u001b[0m \u001b[1m5s\u001b[0m 16ms/step - loss: 0.0052 - rmse: 0.0600 - val_loss: 0.1435 - val_rmse: 0.3767\n",
      "Epoch 95/100\n",
      "\u001b[1m295/295\u001b[0m \u001b[32m━━━━━━━━━━━━━━━━━━━━\u001b[0m\u001b[37m\u001b[0m \u001b[1m5s\u001b[0m 16ms/step - loss: 0.0052 - rmse: 0.0601 - val_loss: 0.1437 - val_rmse: 0.3770\n",
      "Epoch 96/100\n",
      "\u001b[1m295/295\u001b[0m \u001b[32m━━━━━━━━━━━━━━━━━━━━\u001b[0m\u001b[37m\u001b[0m \u001b[1m5s\u001b[0m 16ms/step - loss: 0.0051 - rmse: 0.0599 - val_loss: 0.1441 - val_rmse: 0.3776\n",
      "Epoch 97/100\n",
      "\u001b[1m295/295\u001b[0m \u001b[32m━━━━━━━━━━━━━━━━━━━━\u001b[0m\u001b[37m\u001b[0m \u001b[1m5s\u001b[0m 16ms/step - loss: 0.0052 - rmse: 0.0602 - val_loss: 0.1435 - val_rmse: 0.3768\n",
      "Epoch 98/100\n",
      "\u001b[1m295/295\u001b[0m \u001b[32m━━━━━━━━━━━━━━━━━━━━\u001b[0m\u001b[37m\u001b[0m \u001b[1m5s\u001b[0m 16ms/step - loss: 0.0052 - rmse: 0.0601 - val_loss: 0.1437 - val_rmse: 0.3770\n",
      "Epoch 99/100\n",
      "\u001b[1m295/295\u001b[0m \u001b[32m━━━━━━━━━━━━━━━━━━━━\u001b[0m\u001b[37m\u001b[0m \u001b[1m5s\u001b[0m 16ms/step - loss: 0.0052 - rmse: 0.0607 - val_loss: 0.1438 - val_rmse: 0.3772\n",
      "Epoch 100/100\n",
      "\u001b[1m295/295\u001b[0m \u001b[32m━━━━━━━━━━━━━━━━━━━━\u001b[0m\u001b[37m\u001b[0m \u001b[1m5s\u001b[0m 16ms/step - loss: 0.0052 - rmse: 0.0607 - val_loss: 0.1449 - val_rmse: 0.3786\n"
     ]
    }
   ],
   "source": [
    "# Memulai training\n",
    " \n",
    "history = model.fit(\n",
    "    x = x_train,\n",
    "    y = y_train,\n",
    "    batch_size = 2048,\n",
    "    epochs = 100,\n",
    "    validation_data = (x_val, y_val)\n",
    ")"
   ]
  },
  {
   "cell_type": "markdown",
   "id": "991053f0",
   "metadata": {
    "papermill": {
     "duration": 0.326412,
     "end_time": "2025-05-18T14:09:34.616909",
     "exception": false,
     "start_time": "2025-05-18T14:09:34.290497",
     "status": "completed"
    },
    "tags": []
   },
   "source": [
    "### 4.2.3 Visualisasi Hasil Pelatihan"
   ]
  },
  {
   "cell_type": "code",
   "execution_count": 23,
   "id": "d5ccd4c6",
   "metadata": {
    "execution": {
     "iopub.execute_input": "2025-05-18T14:09:35.335081Z",
     "iopub.status.busy": "2025-05-18T14:09:35.334783Z",
     "iopub.status.idle": "2025-05-18T14:09:35.623911Z",
     "shell.execute_reply": "2025-05-18T14:09:35.622879Z"
    },
    "papermill": {
     "duration": 0.625489,
     "end_time": "2025-05-18T14:09:35.625152",
     "exception": true,
     "start_time": "2025-05-18T14:09:34.999663",
     "status": "failed"
    },
    "tags": []
   },
   "outputs": [
    {
     "ename": "KeyError",
     "evalue": "'accuracy'",
     "output_type": "error",
     "traceback": [
      "\u001b[0;31m---------------------------------------------------------------------------\u001b[0m",
      "\u001b[0;31mKeyError\u001b[0m                                  Traceback (most recent call last)",
      "\u001b[0;32m/tmp/ipykernel_19/2514367876.py\u001b[0m in \u001b[0;36m<cell line: 0>\u001b[0;34m()\u001b[0m\n\u001b[0;32m----> 1\u001b[0;31m \u001b[0mplt\u001b[0m\u001b[0;34m.\u001b[0m\u001b[0mplot\u001b[0m\u001b[0;34m(\u001b[0m\u001b[0mhistory\u001b[0m\u001b[0;34m.\u001b[0m\u001b[0mhistory\u001b[0m\u001b[0;34m[\u001b[0m\u001b[0;34m'accuracy'\u001b[0m\u001b[0;34m]\u001b[0m\u001b[0;34m)\u001b[0m\u001b[0;34m\u001b[0m\u001b[0;34m\u001b[0m\u001b[0m\n\u001b[0m\u001b[1;32m      2\u001b[0m \u001b[0mplt\u001b[0m\u001b[0;34m.\u001b[0m\u001b[0mplot\u001b[0m\u001b[0;34m(\u001b[0m\u001b[0mhistory\u001b[0m\u001b[0;34m.\u001b[0m\u001b[0mhistory\u001b[0m\u001b[0;34m[\u001b[0m\u001b[0;34m'val_accuracy'\u001b[0m\u001b[0;34m]\u001b[0m\u001b[0;34m)\u001b[0m\u001b[0;34m\u001b[0m\u001b[0;34m\u001b[0m\u001b[0m\n\u001b[1;32m      3\u001b[0m \u001b[0mplt\u001b[0m\u001b[0;34m.\u001b[0m\u001b[0mtitle\u001b[0m\u001b[0;34m(\u001b[0m\u001b[0;34m'model_metrics'\u001b[0m\u001b[0;34m)\u001b[0m\u001b[0;34m\u001b[0m\u001b[0;34m\u001b[0m\u001b[0m\n\u001b[1;32m      4\u001b[0m \u001b[0mplt\u001b[0m\u001b[0;34m.\u001b[0m\u001b[0mylabel\u001b[0m\u001b[0;34m(\u001b[0m\u001b[0;34m'Akurasi'\u001b[0m\u001b[0;34m)\u001b[0m\u001b[0;34m\u001b[0m\u001b[0;34m\u001b[0m\u001b[0m\n\u001b[1;32m      5\u001b[0m \u001b[0mplt\u001b[0m\u001b[0;34m.\u001b[0m\u001b[0mxlabel\u001b[0m\u001b[0;34m(\u001b[0m\u001b[0;34m'epoch'\u001b[0m\u001b[0;34m)\u001b[0m\u001b[0;34m\u001b[0m\u001b[0;34m\u001b[0m\u001b[0m\n",
      "\u001b[0;31mKeyError\u001b[0m: 'accuracy'"
     ]
    }
   ],
   "source": [
    "plt.plot(history.history['accuracy'])\n",
    "plt.plot(history.history['val_accuracy'])\n",
    "plt.title('model_metrics')\n",
    "plt.ylabel('Akurasi')\n",
    "plt.xlabel('epoch')\n",
    "plt.legend(['train', 'test'], loc='upper left')\n",
    "plt.show()"
   ]
  },
  {
   "cell_type": "markdown",
   "id": "e647b0ce",
   "metadata": {
    "papermill": {
     "duration": null,
     "end_time": null,
     "exception": null,
     "start_time": null,
     "status": "pending"
    },
    "tags": []
   },
   "source": [
    "### 4.2.4 Merekomendasikan Buku"
   ]
  },
  {
   "cell_type": "code",
   "execution_count": null,
   "id": "32190e9d",
   "metadata": {
    "execution": {
     "iopub.status.busy": "2025-05-18T13:49:42.344064Z",
     "iopub.status.idle": "2025-05-18T13:49:42.344283Z",
     "shell.execute_reply": "2025-05-18T13:49:42.344190Z",
     "shell.execute_reply.started": "2025-05-18T13:49:42.344181Z"
    },
    "papermill": {
     "duration": null,
     "end_time": null,
     "exception": null,
     "start_time": null,
     "status": "pending"
    },
    "tags": []
   },
   "outputs": [],
   "source": [
    "def recommend_books_for_user(model, user_id_asli, data, buku_df, user_to_user_encoded, buku_to_ids_encoded, ids_to_buku_encoded, top_n=10):\n",
    "    # Cek apakah user_id valid\n",
    "    if user_id_asli not in user_to_user_encoded:\n",
    "        print(\"User ID tidak ditemukan.\")\n",
    "        return []\n",
    "\n",
    "    user_encoded = user_to_user_encoded[user_id_asli]\n",
    "    buku_user_sudah_rating = data[data['userID'] == user_id_asli]['ISBN'].tolist()\n",
    "    buku_user_sudah_encoded = [buku_to_ids_encoded[buku] for buku in buku_user_sudah_rating]\n",
    "\n",
    "    # Semua buku yang belum diberi rating oleh user\n",
    "    buku_tidak_dirating = list(set(buku_to_ids_encoded.values()) - set(buku_user_sudah_encoded))\n",
    "    user_encoded_array = np.full(len(buku_tidak_dirating), user_encoded)\n",
    "    \n",
    "    # Membuat data pasangan user-buku\n",
    "    input_pairs = np.array(list(zip(user_encoded_array, buku_tidak_dirating)))\n",
    "\n",
    "    # Prediksi skor\n",
    "    ratings = model.predict(input_pairs).flatten()\n",
    "    \n",
    "    # Ambil top-N\n",
    "    top_indices = ratings.argsort()[-top_n:][::-1]\n",
    "    top_buku_encoded = [buku_tidak_dirating[i] for i in top_indices]\n",
    "    top_buku_isbn = [ids_to_buku_encoded[i] for i in top_buku_encoded]\n",
    "\n",
    "    # Gabungkan dengan info buku (jika ada dataframe buku_df)\n",
    "    rekomendasi = buku_df[buku_df['ISBN'].isin(top_buku_isbn)].copy() if buku_df is not None else pd.DataFrame({'ISBN': top_buku_isbn})\n",
    "    rekomendasi['Predicted_Score'] = ratings[top_indices]\n",
    "    \n",
    "    return rekomendasi.sort_values(by='Predicted_Score', ascending=False)\n",
    "\n",
    "# Menampilkan 5 userID unik pertama dari data\n",
    "sample_user_ids = dataFinal['userID'].unique()[:5]\n",
    "user_id_sample = sample_user_ids[0]  # atau pilih indeks lain\n",
    "\n",
    "# Contoh penggunaan:\n",
    "rekomendasi_df = recommend_books_for_user(model, user_id_asli=user_id_sample, data=dataFinal, buku_df=dataBuku,\n",
    "    user_to_user_encoded=user_to_user_encoded,\n",
    "    buku_to_ids_encoded=buku_to_ids_encoded,\n",
    "    ids_to_buku_encoded=ids_to_buku_encoded,\n",
    "    top_n=5)\n",
    "\n",
    "# Tampilkan hasil\n",
    "display(rekomendasi_df)\n"
   ]
  },
  {
   "cell_type": "markdown",
   "id": "f51439c6",
   "metadata": {
    "papermill": {
     "duration": null,
     "end_time": null,
     "exception": null,
     "start_time": null,
     "status": "pending"
    },
    "tags": []
   },
   "source": [
    "# 5. Evaluasi"
   ]
  },
  {
   "cell_type": "markdown",
   "id": "ef86837f",
   "metadata": {
    "papermill": {
     "duration": null,
     "end_time": null,
     "exception": null,
     "start_time": null,
     "status": "pending"
    },
    "tags": []
   },
   "source": [
    "## 5.1 Evaluasi Content Based Filtering : Cosine Similarity"
   ]
  },
  {
   "cell_type": "code",
   "execution_count": null,
   "id": "bc4c61ea",
   "metadata": {
    "execution": {
     "iopub.status.busy": "2025-05-18T13:49:42.344806Z",
     "iopub.status.idle": "2025-05-18T13:49:42.345061Z",
     "shell.execute_reply": "2025-05-18T13:49:42.344967Z",
     "shell.execute_reply.started": "2025-05-18T13:49:42.344956Z"
    },
    "papermill": {
     "duration": null,
     "end_time": null,
     "exception": null,
     "start_time": null,
     "status": "pending"
    },
    "tags": []
   },
   "outputs": [],
   "source": [
    "def evaluate_cbf_recommender(dataBaru, recommend_fn, users_to_evaluate, k=5):\n",
    "    results = []\n",
    "    user_books = dataBaru.groupby(\"userID\")[\"Book-Title\"].apply(set).to_dict()\n",
    "\n",
    "    for user in users_to_evaluate:\n",
    "        books_read = list(user_books.get(user, []))\n",
    "        if not books_read:\n",
    "            continue\n",
    "        seed_book = pd.Series(books_read).dropna().sample(1).iloc[0]\n",
    "        try:\n",
    "            rec_df = recommend_fn(seed_book, cosine_sim, len(books_read))\n",
    "        except:\n",
    "            continue\n",
    "        rec_books = rec_df[\"Book-Title\"].tolist()[:k]\n",
    "        actual_books = set(books_read)\n",
    "        relevance_vector = [1 if book in actual_books else 0 for book in rec_books]\n",
    "        true_positives = sum(relevance_vector)\n",
    "\n",
    "        precision = true_positives / k if k > 0 else 0\n",
    "        recall = true_positives / len(actual_books) if actual_books else 0\n",
    "        f1_score = (2 * precision * recall) / (precision + recall) if (precision + recall) > 0 else 0\n",
    "        hit_rate = 1 if true_positives > 0 else 0\n",
    "\n",
    "        results.append({\n",
    "            \"userID\": user,\n",
    "            \"seed_book\": seed_book,\n",
    "            \"recommended\": rec_books,\n",
    "            \"actual\": list(actual_books),\n",
    "            \"relevance_vector\": relevance_vector,\n",
    "            \"precision@k\": precision,\n",
    "            \"recall@k\": recall,\n",
    "            \"f1_score@k\": f1_score,\n",
    "            \"hit_rate@k\": hit_rate\n",
    "        })\n",
    "\n",
    "    results_df = pd.DataFrame(results)\n",
    "    avg_precision = results_df[\"precision@k\"].mean()\n",
    "    avg_recall = results_df[\"recall@k\"].mean()\n",
    "    avg_f1 = results_df[\"f1_score@k\"].mean()\n",
    "    avg_hit_rate = results_df[\"hit_rate@k\"].mean()\n",
    "\n",
    "    return results_df, avg_precision, avg_recall, avg_f1, avg_hit_rate\n",
    "\n",
    "import random\n",
    "\n",
    "# Hitung jumlah buku per user\n",
    "user_book_counts = dataBaru.groupby(\"userID\")[\"Book-Title\"].nunique()\n",
    "\n",
    "# Filter user dengan minimal 5 buku\n",
    "eligible_users = user_book_counts[user_book_counts >= 5].index.tolist()\n",
    "\n",
    "# Ambil sample user dari yang eligible\n",
    "sample_users = random.sample(eligible_users, 10)\n",
    "\n",
    "# Jalankan evaluasi\n",
    "results_df, avg_prec, avg_rec, avg_f1, avg_hr = evaluate_cbf_recommender(dataBaru, recommend, sample_users, k=5)\n",
    "\n",
    "print(f\"Avg Precision@5: {avg_prec:.4f}\")\n",
    "print(f\"Avg Recall@5: {avg_rec:.4f}\")\n",
    "print(f\"Avg F1-Score@5: {avg_f1:.4f}\")\n",
    "print(f\"Avg Hit Rate@5: {avg_hr:.4f}\")\n",
    "\n",
    "results_df.head()\n"
   ]
  },
  {
   "cell_type": "markdown",
   "id": "897f5e14",
   "metadata": {
    "papermill": {
     "duration": null,
     "end_time": null,
     "exception": null,
     "start_time": null,
     "status": "pending"
    },
    "tags": []
   },
   "source": [
    "## 5.2 Evaluasi Colaborative Filtering"
   ]
  },
  {
   "cell_type": "code",
   "execution_count": null,
   "id": "2bcff2da",
   "metadata": {
    "execution": {
     "iopub.status.busy": "2025-05-18T13:49:42.345743Z",
     "iopub.status.idle": "2025-05-18T13:49:42.345994Z",
     "shell.execute_reply": "2025-05-18T13:49:42.345892Z",
     "shell.execute_reply.started": "2025-05-18T13:49:42.345879Z"
    },
    "papermill": {
     "duration": null,
     "end_time": null,
     "exception": null,
     "start_time": null,
     "status": "pending"
    },
    "tags": []
   },
   "outputs": [],
   "source": [
    "from sklearn.metrics import mean_squared_error\n",
    "import numpy as np\n",
    "\n",
    "def evaluate_cf_model(\n",
    "    model, \n",
    "    x_val, \n",
    "    y_val, \n",
    "    dataFinal, \n",
    "    buku_df,\n",
    "    user_to_user_encoded, \n",
    "    buku_to_ids_encoded, \n",
    "    ids_to_buku_encoded, \n",
    "    k=5\n",
    "):\n",
    "    # Buat DataFrame val dari x_val dan y_val\n",
    "    val_df = pd.DataFrame({\n",
    "        \"user_encoded\": x_val[:, 0],\n",
    "        \"buku_encoded\": x_val[:, 1],\n",
    "        \"interaction\": y_val\n",
    "    })\n",
    "\n",
    "    # Filter interaksi positif\n",
    "    val_pos_df = val_df[val_df[\"interaction\"] > 0]\n",
    "\n",
    "    # Mapping user_encoded -> set buku_encoded\n",
    "    user_items_val = val_pos_df.groupby(\"user_encoded\")[\"buku_encoded\"].apply(set).to_dict()\n",
    "\n",
    "    # Ambil 10 user secara acak\n",
    "    users_to_eval = list(user_items_val.keys())\n",
    "    if len(users_to_eval) > 10:\n",
    "        users_to_eval = random.sample(users_to_eval, 10)\n",
    "\n",
    "    results = []\n",
    "\n",
    "    for user_encoded in users_to_eval:\n",
    "        user_id_asli = next((k_ for k_, v_ in user_to_user_encoded.items() if v_ == user_encoded), None)\n",
    "        if user_id_asli is None:\n",
    "            continue\n",
    "\n",
    "        actual_items = user_items_val[user_encoded]\n",
    "\n",
    "        rekomendasi_df = recommend_books_for_user(\n",
    "            model=model,\n",
    "            user_id_asli=user_id_asli,\n",
    "            data=dataFinal,\n",
    "            buku_df=buku_df,\n",
    "            user_to_user_encoded=user_to_user_encoded,\n",
    "            buku_to_ids_encoded=buku_to_ids_encoded,\n",
    "            ids_to_buku_encoded=ids_to_buku_encoded,\n",
    "            top_n=k\n",
    "        )\n",
    "\n",
    "        rec_books_encoded = [\n",
    "            buku_to_ids_encoded[isbn] for isbn in rekomendasi_df['ISBN'] if isbn in buku_to_ids_encoded\n",
    "        ] if not rekomendasi_df.empty else []\n",
    "\n",
    "        relevance_vector = [1 if book in actual_items else 0 for book in rec_books_encoded]\n",
    "        true_positives = sum(relevance_vector)\n",
    "\n",
    "        precision = true_positives / k if k > 0 else 0\n",
    "        recall = true_positives / len(actual_items) if actual_items else 0\n",
    "        f1_score = (2 * precision * recall) / (precision + recall) if (precision + recall) > 0 else 0\n",
    "        hit_rate = 1 if true_positives > 0 else 0\n",
    "\n",
    "        results.append({\n",
    "            \"user_encoded\": user_encoded,\n",
    "            \"user_id_asli\": user_id_asli,\n",
    "            \"recommended_encoded\": rec_books_encoded,\n",
    "            \"actual_encoded\": list(actual_items),\n",
    "            \"relevance_vector\": relevance_vector,\n",
    "            \"precision@k\": precision,\n",
    "            \"recall@k\": recall,\n",
    "            \"f1_score@k\": f1_score,\n",
    "            \"hit_rate@k\": hit_rate\n",
    "        })\n",
    "\n",
    "    results_df = pd.DataFrame(results)\n",
    "    avg_precision = results_df[\"precision@k\"].mean()\n",
    "    avg_recall = results_df[\"recall@k\"].mean()\n",
    "    avg_f1 = results_df[\"f1_score@k\"].mean()\n",
    "    avg_hit_rate = results_df[\"hit_rate@k\"].mean()\n",
    "\n",
    "    # Hitung RMSE pada seluruh validation set\n",
    "    y_pred = model.predict(x_val).flatten()\n",
    "    rmse = np.sqrt(mean_squared_error(y_val, y_pred))\n",
    "\n",
    "    return results_df, avg_precision, avg_recall, avg_f1, avg_hit_rate, rmse"
   ]
  },
  {
   "cell_type": "code",
   "execution_count": null,
   "id": "a43fe8bd",
   "metadata": {
    "execution": {
     "iopub.status.busy": "2025-05-18T13:49:42.346872Z",
     "iopub.status.idle": "2025-05-18T13:49:42.347167Z",
     "shell.execute_reply": "2025-05-18T13:49:42.347022Z",
     "shell.execute_reply.started": "2025-05-18T13:49:42.347007Z"
    },
    "papermill": {
     "duration": null,
     "end_time": null,
     "exception": null,
     "start_time": null,
     "status": "pending"
    },
    "tags": []
   },
   "outputs": [],
   "source": [
    "results_df, avg_prec, avg_rec, avg_f1, avg_hr, rmse = evaluate_cf_model(\n",
    "    model, x_val, y_val, dataFinal, dataBuku,\n",
    "    user_to_user_encoded, buku_to_ids_encoded, ids_to_buku_encoded,\n",
    "    k=5\n",
    ")\n",
    "\n",
    "print(f\"Avg Precision@5: {avg_prec:.4f}\")\n",
    "print(f\"Avg Recall@5: {avg_rec:.4f}\")\n",
    "print(f\"Avg F1-Score@5: {avg_f1:.4f}\")\n",
    "print(f\"Avg Hit Rate@5: {avg_hr:.4f}\")\n",
    "print(f\"RMSE: {rmse:.4f}\")\n"
   ]
  }
 ],
 "metadata": {
  "kaggle": {
   "accelerator": "gpu",
   "dataSources": [
    {
     "datasetId": 7452237,
     "sourceId": 11859700,
     "sourceType": "datasetVersion"
    }
   ],
   "dockerImageVersionId": 31041,
   "isGpuEnabled": true,
   "isInternetEnabled": true,
   "language": "python",
   "sourceType": "notebook"
  },
  "kernelspec": {
   "display_name": "Python 3",
   "language": "python",
   "name": "python3"
  },
  "language_info": {
   "codemirror_mode": {
    "name": "ipython",
    "version": 3
   },
   "file_extension": ".py",
   "mimetype": "text/x-python",
   "name": "python",
   "nbconvert_exporter": "python",
   "pygments_lexer": "ipython3",
   "version": "3.10.12"
  },
  "papermill": {
   "default_parameters": {},
   "duration": 536.574637,
   "end_time": "2025-05-18T14:09:39.872889",
   "environment_variables": {},
   "exception": true,
   "input_path": "__notebook__.ipynb",
   "output_path": "__notebook__.ipynb",
   "parameters": {},
   "start_time": "2025-05-18T14:00:43.298252",
   "version": "2.6.0"
  }
 },
 "nbformat": 4,
 "nbformat_minor": 5
}
